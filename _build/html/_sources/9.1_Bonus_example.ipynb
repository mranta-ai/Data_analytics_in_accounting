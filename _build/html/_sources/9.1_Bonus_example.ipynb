{
 "cells": [
  {
   "cell_type": "markdown",
   "id": "foster-place",
   "metadata": {},
   "source": [
    "## Bonus example - starting from scratch\n",
    "When we are doing real deep learning tasks, the analysed data is not neatly included in the libraries we are using for the analysis (like Keras Datasets). In these real tasks we need to collect the data by ourselves. Organising and preprocessing these real datasets to a suitable form for the analysis can be sometimes challenging.\n",
    "\n",
    "The purpose of this example is to introduce you to the (possible) steps needed, when you are preparing your data for a deep learning model."
   ]
  },
  {
   "cell_type": "markdown",
   "id": "protective-carter",
   "metadata": {},
   "source": [
    "For this example, we need to load the data ourselves that is somewhat laborious. We use image classification data from [www.kaggle.com/c/dogs-vs-cats](https://www.kaggle.com/c/dogs-vs-cats). Kaggle organises ML-competitions, and in this competition, the task is to distinguish dogs from cats in images.\n",
    "\n",
    "![Pinto](./images/pinto.png)\n",
    "\n",
    "First, we load some libraries that are needed to manipulate the image files."
   ]
  },
  {
   "cell_type": "code",
   "execution_count": null,
   "id": "universal-blocking",
   "metadata": {},
   "outputs": [],
   "source": [
    "import os,shutil"
   ]
  },
  {
   "cell_type": "markdown",
   "id": "intelligent-whole",
   "metadata": {},
   "source": [
    "I have the original training data in the \"original_data\" folder (under the work folder). You can download the original data from [www.kaggle.com/c/dogs-vs-cats](https://www.kaggle.com/c/dogs-vs-cats)."
   ]
  },
  {
   "cell_type": "code",
   "execution_count": null,
   "id": "shared-martin",
   "metadata": {},
   "outputs": [],
   "source": [
    "files = os.listdir('./original_data')"
   ]
  },
  {
   "cell_type": "markdown",
   "id": "conditional-hormone",
   "metadata": {},
   "source": [
    "The total number of dog and cat images is 25 000."
   ]
  },
  {
   "cell_type": "code",
   "execution_count": null,
   "id": "incorrect-graham",
   "metadata": {},
   "outputs": [],
   "source": [
    "len(files)"
   ]
  },
  {
   "cell_type": "markdown",
   "id": "experimental-parks",
   "metadata": {},
   "source": [
    "We do this training \"by-the-book\" by dividing the data to train, validation and test parts. The validation data is used to finetune the hyperparameters of a model. With separate validation data, we avoid using the hyperparameter optimisation wrongly to optimise the test data performance. Below is an example of a dataset-split that uses 3-fold cross-validation.\n",
    "![Validation](./images/Train-Test-Validation.png)"
   ]
  },
  {
   "cell_type": "markdown",
   "id": "computational-rough",
   "metadata": {},
   "source": [
    "The following commands build different folders for the training, validation and test data."
   ]
  },
  {
   "cell_type": "code",
   "execution_count": null,
   "id": "united-automation",
   "metadata": {},
   "outputs": [],
   "source": [
    "os.mkdir('train')\n",
    "os.mkdir('validation')\n",
    "os.mkdir('test')"
   ]
  },
  {
   "cell_type": "markdown",
   "id": "framed-sword",
   "metadata": {},
   "source": [
    "Under the training, validation and test -folders we make separate folders for the dog and cat pictures. This makes it much easier to use Keras data-generation function as it can automatically collect observations of different classes from different folders. **os.path.join()** -function makes it easy to build directory structures. You add the \"parts\" of the directory structure, and it will add automatically slashes when needed."
   ]
  },
  {
   "cell_type": "code",
   "execution_count": null,
   "id": "urban-inspiration",
   "metadata": {},
   "outputs": [],
   "source": [
    "# Get the current work directory\n",
    "base_dir = os.getcwd()"
   ]
  },
  {
   "cell_type": "code",
   "execution_count": null,
   "id": "julian-roman",
   "metadata": {},
   "outputs": [],
   "source": [
    "# Dogs\n",
    "os.mkdir(os.path.join(base_dir,'train','dogs'))\n",
    "os.mkdir(os.path.join(base_dir,'validation','dogs'))\n",
    "os.mkdir(os.path.join(base_dir,'test','dogs'))\n",
    "# Cats\n",
    "os.mkdir(os.path.join(base_dir,'train','cats'))\n",
    "os.mkdir(os.path.join(base_dir,'validation','cats'))\n",
    "os.mkdir(os.path.join(base_dir,'test','cats'))"
   ]
  },
  {
   "cell_type": "markdown",
   "id": "gentle-journalist",
   "metadata": {},
   "source": [
    "Next, we copy the files to correct folders. We use only part of the data to speed up calculations: 3000 images for the training, 1000 images for the validation and 1000 images for the testing. The first command in each cell constructs a list of correct filenames. It uses Python's list comprehension, that is a great feature in Python.\n",
    "\n",
    "Let's analyse the first one (**fnames = ['dog.{}.jpg'.format(i) for i in range(1500)]**):\n",
    "\n",
    "When we put a for loop inside square brackets, Python will generate a list that has the \"rounds\" of a loop as values in the list.\n",
    "\n",
    "**'dog.{}.jpg'.format(i)** - This is the part that will be repeated in the list so that the curly brackets are replaced by the value of **i**.\n",
    "\n",
    "**for i in range(1500)** - This will tell what values are inserted in **i**. **range(1500)** just means values from 0 to 1500.\n",
    "\n",
    "More information about list comprehension can be found from https://docs.python.org/3/tutorial/datastructures.html (section 5.1.3)"
   ]
  },
  {
   "cell_type": "code",
   "execution_count": null,
   "id": "median-forge",
   "metadata": {},
   "outputs": [],
   "source": [
    "# Train dogs\n",
    "fnames = ['dog.{}.jpg'.format(i) for i in range(1500)]\n",
    "for file in fnames:\n",
    "    src = os.path.join(base_dir,'original_data',file)\n",
    "    dst = os.path.join(base_dir,'train','dogs',file)\n",
    "    shutil.copyfile(src,dst)"
   ]
  },
  {
   "cell_type": "code",
   "execution_count": null,
   "id": "turkish-letter",
   "metadata": {},
   "outputs": [],
   "source": [
    "# Validation dogs\n",
    "fnames = ['dog.{}.jpg'.format(i) for i in range(1500,2000)]\n",
    "for file in fnames:\n",
    "    src = os.path.join(base_dir,'original_data',file)\n",
    "    dst = os.path.join(base_dir,'validation','dogs',file)\n",
    "    shutil.copyfile(src,dst)"
   ]
  },
  {
   "cell_type": "code",
   "execution_count": null,
   "id": "confirmed-furniture",
   "metadata": {},
   "outputs": [],
   "source": [
    "# Test dogs\n",
    "fnames = ['dog.{}.jpg'.format(i) for i in range(2000,2500)]\n",
    "for file in fnames:\n",
    "    src = os.path.join(base_dir,'original_data',file)\n",
    "    dst = os.path.join(base_dir,'test','dogs',file)\n",
    "    shutil.copyfile(src,dst)"
   ]
  },
  {
   "cell_type": "code",
   "execution_count": null,
   "id": "nasty-grave",
   "metadata": {},
   "outputs": [],
   "source": [
    "# Train cats\n",
    "fnames = ['cat.{}.jpg'.format(i) for i in range(1500)]\n",
    "for file in fnames:\n",
    "    src = os.path.join(base_dir,'original_data',file)\n",
    "    dst = os.path.join(base_dir,'train','cats',file)\n",
    "    shutil.copyfile(src,dst)"
   ]
  },
  {
   "cell_type": "code",
   "execution_count": null,
   "id": "confidential-meeting",
   "metadata": {},
   "outputs": [],
   "source": [
    "# Validation cats\n",
    "fnames = ['cat.{}.jpg'.format(i) for i in range(1500,2000)]\n",
    "for file in fnames:\n",
    "    src = os.path.join(base_dir,'original_data',file)\n",
    "    dst = os.path.join(base_dir,'validation','cats',file)\n",
    "    shutil.copyfile(src,dst)"
   ]
  },
  {
   "cell_type": "code",
   "execution_count": null,
   "id": "continent-florist",
   "metadata": {},
   "outputs": [],
   "source": [
    "# Test cats\n",
    "fnames = ['cat.{}.jpg'.format(i) for i in range(1500,2000)]\n",
    "for file in fnames:\n",
    "    src = os.path.join(base_dir,'original_data',file)\n",
    "    dst = os.path.join(base_dir,'test','cats',file)\n",
    "    shutil.copyfile(src,dst)"
   ]
  },
  {
   "cell_type": "markdown",
   "id": "different-tennessee",
   "metadata": {},
   "source": [
    "Next, we check that everything went as planned. The dog folders should have 1500,500 and 500 images and similarly to the cat folders."
   ]
  },
  {
   "cell_type": "code",
   "execution_count": null,
   "id": "completed-avenue",
   "metadata": {},
   "outputs": [],
   "source": [
    "# Check the dog directories\n",
    "print(len(os.listdir(os.path.join(base_dir,'train','dogs'))))\n",
    "print(len(os.listdir(os.path.join(base_dir,'validation','dogs'))))\n",
    "print(len(os.listdir(os.path.join(base_dir,'test','dogs'))))"
   ]
  },
  {
   "cell_type": "code",
   "execution_count": null,
   "id": "accompanied-spare",
   "metadata": {},
   "outputs": [],
   "source": [
    "# Check the cat directories\n",
    "print(len(os.listdir(os.path.join(base_dir,'train','cats'))))\n",
    "print(len(os.listdir(os.path.join(base_dir,'validation','cats'))))\n",
    "print(len(os.listdir(os.path.join(base_dir,'test','cats'))))"
   ]
  },
  {
   "cell_type": "markdown",
   "id": "younger-egyptian",
   "metadata": {},
   "source": [
    "#### Simple CNN model"
   ]
  },
  {
   "cell_type": "markdown",
   "id": "medieval-necklace",
   "metadata": {},
   "source": [
    "As our preliminary model, we test a basic CNN model with four convolutional layers and four max-pooling layers followed by two dense layers with 12544 (flatten) and 512 neurons. The output layer has one neuron with a sigmoid activation function. So, the output is a prediction for one of the two classes.\n",
    "\n",
    "First, we need the **layers** and **models** -modules from Keras."
   ]
  },
  {
   "cell_type": "code",
   "execution_count": null,
   "id": "technical-foundation",
   "metadata": {},
   "outputs": [],
   "source": [
    "from tensorflow.keras import layers\n",
    "from tensorflow.keras import models"
   ]
  },
  {
   "cell_type": "markdown",
   "id": "accessible-motion",
   "metadata": {},
   "source": [
    "Next, we define a sequential model and add layers using the **add()**-function."
   ]
  },
  {
   "cell_type": "code",
   "execution_count": null,
   "id": "accessible-terrace",
   "metadata": {},
   "outputs": [],
   "source": [
    "model = models.Sequential()"
   ]
  },
  {
   "cell_type": "markdown",
   "id": "thorough-exclusion",
   "metadata": {},
   "source": [
    "The input images to the network are 150x150 pixel RGB images. The size of the convolution-filter is 3x3, and the layer produces 32 feature maps. The ReLU activation function is the common choice with CNNs (and many other neural network types)."
   ]
  },
  {
   "cell_type": "code",
   "execution_count": null,
   "id": "composite-algeria",
   "metadata": {},
   "outputs": [],
   "source": [
    "model.add(layers.Conv2D(32, (3, 3), activation='relu',input_shape=(150, 150, 3)))"
   ]
  },
  {
   "cell_type": "markdown",
   "id": "adaptive-telephone",
   "metadata": {},
   "source": [
    "A max-pooling layer with a 2x2 window."
   ]
  },
  {
   "cell_type": "code",
   "execution_count": null,
   "id": "social-crowd",
   "metadata": {},
   "outputs": [],
   "source": [
    "model.add(layers.MaxPooling2D((2, 2)))"
   ]
  },
  {
   "cell_type": "markdown",
   "id": "dramatic-rocket",
   "metadata": {},
   "source": [
    "Notice how the number of feature maps is increasing."
   ]
  },
  {
   "cell_type": "code",
   "execution_count": null,
   "id": "noticed-processing",
   "metadata": {},
   "outputs": [],
   "source": [
    "model.add(layers.Conv2D(64, (3, 3), activation='relu'))"
   ]
  },
  {
   "cell_type": "code",
   "execution_count": null,
   "id": "neutral-document",
   "metadata": {},
   "outputs": [],
   "source": [
    "model.add(layers.MaxPooling2D((2, 2)))"
   ]
  },
  {
   "cell_type": "code",
   "execution_count": null,
   "id": "alternative-harassment",
   "metadata": {},
   "outputs": [],
   "source": [
    "model.add(layers.Conv2D(128, (3, 3), activation='relu'))"
   ]
  },
  {
   "cell_type": "code",
   "execution_count": null,
   "id": "familiar-compensation",
   "metadata": {},
   "outputs": [],
   "source": [
    "model.add(layers.MaxPooling2D((2, 2)))"
   ]
  },
  {
   "cell_type": "code",
   "execution_count": null,
   "id": "appreciated-screw",
   "metadata": {},
   "outputs": [],
   "source": [
    "model.add(layers.Conv2D(256, (3, 3), activation='relu'))"
   ]
  },
  {
   "cell_type": "code",
   "execution_count": null,
   "id": "unusual-trouble",
   "metadata": {},
   "outputs": [],
   "source": [
    "model.add(layers.MaxPooling2D((2, 2)))"
   ]
  },
  {
   "cell_type": "code",
   "execution_count": null,
   "id": "conscious-lounge",
   "metadata": {},
   "outputs": [],
   "source": [
    "model.add(layers.Flatten())"
   ]
  },
  {
   "cell_type": "code",
   "execution_count": null,
   "id": "offensive-gross",
   "metadata": {},
   "outputs": [],
   "source": [
    "model.add(layers.Dense(512, activation='relu'))"
   ]
  },
  {
   "cell_type": "code",
   "execution_count": null,
   "id": "joint-staff",
   "metadata": {},
   "outputs": [],
   "source": [
    "model.add(layers.Dense(1, activation='sigmoid'))"
   ]
  },
  {
   "cell_type": "markdown",
   "id": "boring-newman",
   "metadata": {},
   "source": [
    "Overall, we have almost 7 million parameters in our model, which is way too much for a training set with 3000 images. The model will overfit as we will soon see from the results.\n",
    "![First_CNN](./images/nn.png)"
   ]
  },
  {
   "cell_type": "code",
   "execution_count": null,
   "id": "placed-class",
   "metadata": {},
   "outputs": [],
   "source": [
    "model.summary()"
   ]
  },
  {
   "cell_type": "code",
   "execution_count": null,
   "id": "senior-requirement",
   "metadata": {},
   "outputs": [],
   "source": [
    "from tensorflow.keras import optimizers"
   ]
  },
  {
   "cell_type": "markdown",
   "id": "radical-numbers",
   "metadata": {},
   "source": [
    "Next, we compile the model. Because we have now two classes, \"binary_crossentropy\" is the correct loss_function. There are many gradient descent optimisers available, but usually, RMSprop works very well. More information about RMSprop can be found here: https://keras.io/api/optimizers/rmsprop/.\n",
    "\n",
    "![grad_desc](./images/Gradient_descent.gif)\n",
    "\n",
    "We measure performance with the accuracy metric."
   ]
  },
  {
   "cell_type": "code",
   "execution_count": null,
   "id": "scientific-vietnam",
   "metadata": {},
   "outputs": [],
   "source": [
    "model.compile(loss='binary_crossentropy',optimizer=optimizers.RMSprop(),metrics=['acc'])"
   ]
  },
  {
   "cell_type": "markdown",
   "id": "atmospheric-dairy",
   "metadata": {},
   "source": [
    "To get images from a folder to a CNN model can be a very tedious task. Luckily, Keras has functions that make our job much more straightforward.\n",
    "\n",
    "**ImageDataGenerator** is a Python generator that can be used to transform images from a folder to tensors that can be fed to a neural network model."
   ]
  },
  {
   "cell_type": "code",
   "execution_count": null,
   "id": "aggregate-chemistry",
   "metadata": {},
   "outputs": [],
   "source": [
    "from tensorflow.keras.preprocessing.image import ImageDataGenerator"
   ]
  },
  {
   "cell_type": "markdown",
   "id": "elegant-wichita",
   "metadata": {},
   "source": [
    "We scale the pixel values from 0-255 to 0-1. Remember: neural networks like small values."
   ]
  },
  {
   "cell_type": "code",
   "execution_count": null,
   "id": "cosmetic-submission",
   "metadata": {},
   "outputs": [],
   "source": [
    "train_datagen = ImageDataGenerator(rescale=1./255)\n",
    "validation_datagen = ImageDataGenerator(rescale=1./255)"
   ]
  },
  {
   "cell_type": "markdown",
   "id": "every-blink",
   "metadata": {},
   "source": [
    "We change the size of the images to 150 x 150 and collect them in 25 batches. Basically, we feed (25,150,150,3)-tensors to the model. As you can see, the function automatically recognises two different classes. It is because we placed the cat and dog images to two different folders. We have to make separate generators for the training data and the validation data."
   ]
  },
  {
   "cell_type": "code",
   "execution_count": null,
   "id": "loved-butterfly",
   "metadata": {},
   "outputs": [],
   "source": [
    "train_generator = train_datagen.flow_from_directory(os.path.join(base_dir,'train'),\n",
    "                                                    target_size=(150, 150),\n",
    "                                                    batch_size=25,\n",
    "                                                    class_mode='binary')"
   ]
  },
  {
   "cell_type": "code",
   "execution_count": null,
   "id": "instant-forum",
   "metadata": {},
   "outputs": [],
   "source": [
    "validation_generator = train_datagen.flow_from_directory(os.path.join(base_dir,'validation'),\n",
    "                                                    target_size=(150, 150),\n",
    "                                                    batch_size=25,\n",
    "                                                    class_mode='binary')"
   ]
  },
  {
   "cell_type": "markdown",
   "id": "utility-cannon",
   "metadata": {},
   "source": [
    "We use a little bit longer training with 30 epochs. Instead of input data, we now give the generators to the model. Also, we separately define the validation generator and validation testing steps. With 25 image batches and 120 steps per epoch, we go through all the 3000 images. To **history**, we save the training progress details."
   ]
  },
  {
   "cell_type": "code",
   "execution_count": null,
   "id": "exposed-tunisia",
   "metadata": {},
   "outputs": [],
   "source": [
    "history = model.fit(train_generator,\n",
    "                              steps_per_epoch=120,\n",
    "                              epochs=30,\n",
    "                              validation_data=validation_generator,\n",
    "                              validation_steps=40)"
   ]
  },
  {
   "cell_type": "markdown",
   "id": "intensive-locking",
   "metadata": {},
   "source": [
    "Let's check how did it go. In a typical overfitting situation, training accuracy quickly rises to almost 1.0 and validation accuracy stalls to a much lower level. This is also the case here. The training accuracy is 0.984, and the validation accuracy is around 0.72.\n",
    "But still, not that bad! The model recognises cats and dogs correctly from the images 72 % of the time.\n",
    "\n",
    "![Overfitting](./images/Overfitting.svg)"
   ]
  },
  {
   "cell_type": "code",
   "execution_count": null,
   "id": "intellectual-innocent",
   "metadata": {},
   "outputs": [],
   "source": [
    "import matplotlib.pyplot as plt # Load plotting libraries\n",
    "plt.style.use('bmh') # bmh-style is usually nice\n",
    "acc = history.history['acc']\n",
    "val_acc = history.history['val_acc']\n",
    "loss = history.history['loss']\n",
    "val_loss = history.history['val_loss']\n",
    "epochs = range(1, len(acc) + 1)\n",
    "plt.plot(epochs, acc, 'r--', label='Training accuracy')\n",
    "plt.plot(epochs, val_acc, 'b--', label='Validation accuracy')\n",
    "plt.legend() # Matplotlib will automatically position the legend in a best possible way.\n",
    "plt.figure() # This is needed to make two separate figures for loss and accuracy.\n",
    "plt.plot(epochs, loss, 'r--', label='Training loss')\n",
    "plt.plot(epochs, val_loss, 'b--', label='Validation loss')\n",
    "plt.legend()\n",
    "plt.show()"
   ]
  },
  {
   "cell_type": "markdown",
   "id": "twelve-mitchell",
   "metadata": {},
   "source": [
    "#### Augmentation and regularisation"
   ]
  },
  {
   "cell_type": "markdown",
   "id": "soviet-fantasy",
   "metadata": {},
   "source": [
    "Let's try to improve our model. Augmentation is a common approach to \"increase\" the amount of data. The idea of augmentation is to transform images slightly every time they are fed to the model. Thus, we are trying to create new information to the model to train on. However, we are not truly creating new information. Nevertheless, augmentation has proven to be an efficient way to improve results.\n",
    "\n",
    "Image transformation can be implemented to the **ImageDataGenerator()**-function. There are many parameters that can be used to transform images. More information: [keras.io/api/preprocessing/image/](https://keras.io/api/preprocessing/image/)"
   ]
  },
  {
   "cell_type": "code",
   "execution_count": null,
   "id": "rising-attention",
   "metadata": {},
   "outputs": [],
   "source": [
    "datagen = ImageDataGenerator(rotation_range=40,\n",
    "                             width_shift_range=0.2,\n",
    "                             height_shift_range=0.2,\n",
    "                             shear_range=0.2,\n",
    "                             zoom_range=0.2,\n",
    "                             horizontal_flip=True,\n",
    "                             fill_mode='nearest')"
   ]
  },
  {
   "cell_type": "markdown",
   "id": "visible-danger",
   "metadata": {},
   "source": [
    "Let's check what kind of images we are analysing."
   ]
  },
  {
   "cell_type": "code",
   "execution_count": null,
   "id": "fifth-fancy",
   "metadata": {},
   "outputs": [],
   "source": [
    "# Image -module to view images\n",
    "from tensorflow.keras.preprocessing import image"
   ]
  },
  {
   "cell_type": "code",
   "execution_count": null,
   "id": "legislative-garden",
   "metadata": {},
   "outputs": [],
   "source": [
    "# We pick the 16th image from the train/dogs -folder.\n",
    "img_path = os.path.join(base_dir,'train','dogs',os.listdir(os.path.join(base_dir,'train','dogs'))[16])"
   ]
  },
  {
   "cell_type": "code",
   "execution_count": null,
   "id": "geological-wrist",
   "metadata": {},
   "outputs": [],
   "source": [
    "sample_image = image.load_img(img_path, target_size=(150, 150))"
   ]
  },
  {
   "cell_type": "markdown",
   "id": "desperate-surgery",
   "metadata": {},
   "source": [
    "Below is an example image from the original dataset. The sixteenth image in our list."
   ]
  },
  {
   "cell_type": "code",
   "execution_count": null,
   "id": "appropriate-squad",
   "metadata": {},
   "outputs": [],
   "source": [
    "sample_image"
   ]
  },
  {
   "cell_type": "markdown",
   "id": "pending-jerusalem",
   "metadata": {},
   "source": [
    "To use the Imagedatagenerator's **flow()**-function, we need to transform our image to a numpy-array."
   ]
  },
  {
   "cell_type": "code",
   "execution_count": null,
   "id": "available-disposition",
   "metadata": {},
   "outputs": [],
   "source": [
    "sample_image_np = image.img_to_array(sample_image)\n",
    "sample_image_np = sample_image_np.reshape((1,) + sample_image_np.shape)"
   ]
  },
  {
   "cell_type": "markdown",
   "id": "billion-ancient",
   "metadata": {},
   "source": [
    "The following code transforms images using *ImageDataGenerator()* and plots eight examples. As you can see, they are slightly altered images that are very close to the original image."
   ]
  },
  {
   "cell_type": "code",
   "execution_count": null,
   "id": "extraordinary-intervention",
   "metadata": {},
   "outputs": [],
   "source": [
    "fig, axs = plt.subplots(2,4,figsize=(14,6),squeeze=True)\n",
    "i=0\n",
    "for ax,transform in zip(axs.flat,datagen.flow(sample_image_np, batch_size=1)):\n",
    "    ax.imshow(image.array_to_img(transform[0]))\n",
    "    i+=1\n",
    "    if i%8==0:\n",
    "        break"
   ]
  },
  {
   "cell_type": "markdown",
   "id": "reverse-chair",
   "metadata": {},
   "source": [
    "Next, we define the model. Alongside augmentation, we add regularisation to the model with a dropout-layer. The Dropout layer randomly sets input units to 0 with a frequency of **rate** (0.5 below) at each step during training time, which helps prevent overfitting. Inputs not set to 0 are scaled up by 1/(1 - rate) such that the sum over all inputs is unchanged.\n",
    "\n",
    "We build our sequential model using **add()**-functions. The only difference, when compared to the previous model, is the dropout-layer after the flatten-layer (and the augmentation)."
   ]
  },
  {
   "cell_type": "code",
   "execution_count": null,
   "id": "silver-fleet",
   "metadata": {},
   "outputs": [],
   "source": [
    "model = models.Sequential()"
   ]
  },
  {
   "cell_type": "code",
   "execution_count": null,
   "id": "sudden-azerbaijan",
   "metadata": {},
   "outputs": [],
   "source": [
    "model.add(layers.Conv2D(32, (3, 3), activation='relu',input_shape=(150, 150, 3)))\n",
    "model.add(layers.MaxPooling2D((2, 2)))\n",
    "model.add(layers.Conv2D(64, (3, 3), activation='relu'))\n",
    "model.add(layers.MaxPooling2D((2, 2)))\n",
    "model.add(layers.Conv2D(128, (3, 3), activation='relu'))\n",
    "model.add(layers.MaxPooling2D((2, 2)))\n",
    "model.add(layers.Conv2D(256, (3, 3), activation='relu'))\n",
    "model.add(layers.MaxPooling2D((2, 2)))\n",
    "model.add(layers.Flatten())\n",
    "model.add(layers.Dropout(0.5))\n",
    "model.add(layers.Dense(512, activation='relu'))\n",
    "model.add(layers.Dense(1, activation='sigmoid'))"
   ]
  },
  {
   "cell_type": "markdown",
   "id": "muslim-columbus",
   "metadata": {},
   "source": [
    "The dropout layer does not change the number of parameters. It is exactly the same as in the previous model."
   ]
  },
  {
   "cell_type": "code",
   "execution_count": null,
   "id": "handmade-intake",
   "metadata": {},
   "outputs": [],
   "source": [
    "model.summary()"
   ]
  },
  {
   "cell_type": "markdown",
   "id": "pregnant-demographic",
   "metadata": {},
   "source": [
    "The compile-step is not changed."
   ]
  },
  {
   "cell_type": "code",
   "execution_count": null,
   "id": "cross-happening",
   "metadata": {},
   "outputs": [],
   "source": [
    "model.compile(loss='binary_crossentropy',optimizer=optimizers.RMSprop(),metrics=['acc'])"
   ]
  },
  {
   "cell_type": "markdown",
   "id": "given-luxembourg",
   "metadata": {},
   "source": [
    "We create the augmentation-enabled generators. Remember that the validation dataset should not be augmented!"
   ]
  },
  {
   "cell_type": "code",
   "execution_count": null,
   "id": "novel-cabinet",
   "metadata": {},
   "outputs": [],
   "source": [
    "train_datagen = ImageDataGenerator(rescale=1./255,\n",
    "                                   rotation_range=40,\n",
    "                                   width_shift_range=0.2,\n",
    "                                   height_shift_range=0.2,\n",
    "                                   shear_range=0.2,\n",
    "                                   zoom_range=0.2,\n",
    "                                   horizontal_flip=True)"
   ]
  },
  {
   "cell_type": "code",
   "execution_count": null,
   "id": "animated-anime",
   "metadata": {},
   "outputs": [],
   "source": [
    "validation_datagen = ImageDataGenerator(rescale=1./255)"
   ]
  },
  {
   "cell_type": "markdown",
   "id": "ongoing-concord",
   "metadata": {},
   "source": [
    "The same dataset of 3000 training images and 1000 validation images."
   ]
  },
  {
   "cell_type": "code",
   "execution_count": null,
   "id": "virgin-zoning",
   "metadata": {},
   "outputs": [],
   "source": [
    "train_generator = train_datagen.flow_from_directory(os.path.join(base_dir,'train'),\n",
    "                                                    target_size=(150, 150),\n",
    "                                                    batch_size=25,\n",
    "                                                    class_mode='binary')"
   ]
  },
  {
   "cell_type": "code",
   "execution_count": null,
   "id": "centered-tuner",
   "metadata": {},
   "outputs": [],
   "source": [
    "validation_generator = validation_datagen.flow_from_directory(os.path.join(base_dir,'validation'),\n",
    "                                                    target_size=(150, 150),\n",
    "                                                    batch_size=25,\n",
    "                                                    class_mode='binary')"
   ]
  },
  {
   "cell_type": "markdown",
   "id": "outstanding-telescope",
   "metadata": {},
   "source": [
    "Otherwise, the parameters to the **model.fit()** are the same as in the previous model, but we train the model a little bit longer. This is because regularisation slows down training."
   ]
  },
  {
   "cell_type": "code",
   "execution_count": null,
   "id": "south-opportunity",
   "metadata": {},
   "outputs": [],
   "source": [
    "history = model.fit(train_generator,\n",
    "                              steps_per_epoch=120,\n",
    "                              epochs=50,\n",
    "                              validation_data=validation_generator,\n",
    "                              validation_steps=40)"
   ]
  },
  {
   "cell_type": "markdown",
   "id": "classical-deviation",
   "metadata": {},
   "source": [
    "As you can see from the following figure, overfitting has almost disappeared. The training and validation accuracy stay approximately at the same level through the training. The performance is also somewhat better. Now we achieve a validation accuracy of 0.77."
   ]
  },
  {
   "cell_type": "code",
   "execution_count": null,
   "id": "unavailable-blend",
   "metadata": {},
   "outputs": [],
   "source": [
    "plt.style.use('bmh')\n",
    "acc = history.history['acc']\n",
    "val_acc = history.history['val_acc']\n",
    "loss = history.history['loss']\n",
    "val_loss = history.history['val_loss']\n",
    "epochs = range(1, len(acc) + 1)\n",
    "plt.plot(epochs, acc, 'r--', label='Training acc')\n",
    "plt.plot(epochs, val_acc, 'b--', label='Validation acc')\n",
    "plt.legend()\n",
    "plt.figure()\n",
    "plt.plot(epochs, loss, 'r--', label='Training loss')\n",
    "plt.plot(epochs, val_loss, 'b--', label='Validation loss')\n",
    "plt.legend()\n",
    "plt.show()"
   ]
  },
  {
   "cell_type": "markdown",
   "id": "italic-israeli",
   "metadata": {},
   "source": [
    "#### Pre-trained model"
   ]
  },
  {
   "cell_type": "markdown",
   "id": "coral-innocent",
   "metadata": {},
   "source": [
    "Next thing that we could try is to use a pre-trained model that has its parameters already optimised using some other dataset. Usually, CNNs related to computer vision are pre-trained using Imagenet data (http://www.image-net.org/). It is a vast collection of labelled images.\n",
    "\n",
    "We add our own layers after the pre-trained architecture. As our pre-trained model, we use VGG16\n",
    "\n",
    "![VGG16](./images/vgg.png)\n",
    "\n",
    "VGG16 is included in the **keras.applications** -module"
   ]
  },
  {
   "cell_type": "code",
   "execution_count": null,
   "id": "competent-textbook",
   "metadata": {},
   "outputs": [],
   "source": [
    "from tensorflow.keras.applications import VGG16"
   ]
  },
  {
   "cell_type": "markdown",
   "id": "atomic-mambo",
   "metadata": {},
   "source": [
    "When we load the VGG16 model, we need to set **weights=imagenet** to get pre-trained parameter weights. **include_top=False** removes the output layer with 1000 neurons. We want our output layer to have only one neuron (prediction for dog/cat)."
   ]
  },
  {
   "cell_type": "code",
   "execution_count": null,
   "id": "vietnamese-institute",
   "metadata": {},
   "outputs": [],
   "source": [
    "pretrained_base = VGG16(weights='imagenet',include_top=False,input_shape=(150, 150, 3))"
   ]
  },
  {
   "cell_type": "markdown",
   "id": "light-failure",
   "metadata": {},
   "source": [
    "VGG16 has 14.7 million parameters without the last layer. It also has two or three convolutional layers in a row. Our previous models were switching between a convolutional layer and a max-pooling layer."
   ]
  },
  {
   "cell_type": "code",
   "execution_count": null,
   "id": "demographic-yield",
   "metadata": {},
   "outputs": [],
   "source": [
    "pretrained_base.summary()"
   ]
  },
  {
   "cell_type": "code",
   "execution_count": null,
   "id": "correct-coating",
   "metadata": {},
   "outputs": [],
   "source": [
    "model = models.Sequential()"
   ]
  },
  {
   "cell_type": "markdown",
   "id": "completed-profession",
   "metadata": {},
   "source": [
    "When we construct the model, we add the pre-trained VGG16-base first. Then follows a 256-neuron Dense-layer and a one-neuron output layer."
   ]
  },
  {
   "cell_type": "code",
   "execution_count": null,
   "id": "wanted-diamond",
   "metadata": {},
   "outputs": [],
   "source": [
    "model.add(pretrained_base)\n",
    "model.add(layers.Flatten())\n",
    "model.add(layers.Dense(256, activation='relu'))\n",
    "model.add(layers.Dense(1, activation='sigmoid'))"
   ]
  },
  {
   "cell_type": "markdown",
   "id": "retained-natural",
   "metadata": {},
   "source": [
    "Overall, our model has almost 17 million parameters. However, we will lock the pre-trained VGG16 base, which will decrease the number of trainable parameters significantly."
   ]
  },
  {
   "cell_type": "code",
   "execution_count": null,
   "id": "current-mexico",
   "metadata": {},
   "outputs": [],
   "source": [
    "model.summary()"
   ]
  },
  {
   "cell_type": "markdown",
   "id": "average-tunnel",
   "metadata": {},
   "source": [
    "We want to use the pretrained Imagenet-weights, so, we lock the weights of the VGG16 -part."
   ]
  },
  {
   "cell_type": "code",
   "execution_count": null,
   "id": "pleasant-kinase",
   "metadata": {},
   "outputs": [],
   "source": [
    "pretrained_base.trainable = False"
   ]
  },
  {
   "cell_type": "markdown",
   "id": "arabic-malta",
   "metadata": {},
   "source": [
    "Now there is \"only\" two million trainable parameters."
   ]
  },
  {
   "cell_type": "code",
   "execution_count": null,
   "id": "serious-recording",
   "metadata": {},
   "outputs": [],
   "source": [
    "model.summary()"
   ]
  },
  {
   "cell_type": "markdown",
   "id": "accepted-statement",
   "metadata": {},
   "source": [
    "Again, we use the augmentation of the training dataset."
   ]
  },
  {
   "cell_type": "code",
   "execution_count": null,
   "id": "painted-therapist",
   "metadata": {},
   "outputs": [],
   "source": [
    "train_datagen = ImageDataGenerator(rescale=1./255,\n",
    "                                   rotation_range=40,\n",
    "                                   width_shift_range=0.2,\n",
    "                                   height_shift_range=0.2,\n",
    "                                   shear_range=0.2,\n",
    "                                   zoom_range=0.2,\n",
    "                                   horizontal_flip=True)"
   ]
  },
  {
   "cell_type": "code",
   "execution_count": null,
   "id": "talented-classic",
   "metadata": {},
   "outputs": [],
   "source": [
    "validation_datagen = ImageDataGenerator(rescale=1./255)"
   ]
  },
  {
   "cell_type": "code",
   "execution_count": null,
   "id": "portable-philadelphia",
   "metadata": {},
   "outputs": [],
   "source": [
    "train_generator = train_datagen.flow_from_directory(os.path.join(base_dir,'train'),\n",
    "                                                    target_size=(150, 150),\n",
    "                                                    batch_size=25,\n",
    "                                                    class_mode='binary')"
   ]
  },
  {
   "cell_type": "code",
   "execution_count": null,
   "id": "elder-rogers",
   "metadata": {},
   "outputs": [],
   "source": [
    "validation_generator = validation_datagen.flow_from_directory(os.path.join(base_dir,'validation'),\n",
    "                                                    target_size=(150, 150),\n",
    "                                                    batch_size=25,\n",
    "                                                    class_mode='binary')"
   ]
  },
  {
   "cell_type": "markdown",
   "id": "operating-tourist",
   "metadata": {},
   "source": [
    "Compile- and fit-steps do not have anything new."
   ]
  },
  {
   "cell_type": "code",
   "execution_count": null,
   "id": "radical-alaska",
   "metadata": {},
   "outputs": [],
   "source": [
    "model.compile(loss='binary_crossentropy',optimizer=optimizers.RMSprop(),metrics=['acc'])"
   ]
  },
  {
   "cell_type": "code",
   "execution_count": null,
   "id": "little-capability",
   "metadata": {},
   "outputs": [],
   "source": [
    "history = model.fit(train_generator,\n",
    "                              steps_per_epoch=120,\n",
    "                              epochs=30,\n",
    "                              validation_data=validation_generator,\n",
    "                              validation_steps=40)"
   ]
  },
  {
   "cell_type": "markdown",
   "id": "confused-physiology",
   "metadata": {},
   "source": [
    "As you can see from the plots below, there is a small overfitting issue. The difference between the training accuracy and the validation accuracy increases slowly. However, the performance is excellent! Now our model can separate dogs from cats correctly 85 % of the time."
   ]
  },
  {
   "cell_type": "code",
   "execution_count": null,
   "id": "opposed-professional",
   "metadata": {},
   "outputs": [],
   "source": [
    "plt.style.use('bmh')\n",
    "acc = history.history['acc']\n",
    "val_acc = history.history['val_acc']\n",
    "loss = history.history['loss']\n",
    "val_loss = history.history['val_loss']\n",
    "epochs = range(1, len(acc) + 1)\n",
    "plt.plot(epochs, acc, 'r--', label='Training acc')\n",
    "plt.plot(epochs, val_acc, 'b--', label='Validation acc')\n",
    "plt.legend()\n",
    "plt.figure()\n",
    "plt.plot(epochs, loss, 'r--', label='Training loss')\n",
    "plt.plot(epochs, val_loss, 'b--', label='Validation loss')\n",
    "plt.legend()\n",
    "plt.show()"
   ]
  },
  {
   "cell_type": "markdown",
   "id": "comparable-weight",
   "metadata": {},
   "source": [
    "#### Fine tuning"
   ]
  },
  {
   "cell_type": "markdown",
   "id": "present-strike",
   "metadata": {},
   "source": [
    "There is still (at least) one thing that we can do to improve our model. We can finetune our pre-trained VGG16 model by opening part of its' weights. As our VGG16 is now optimised for Imagenet data, the weights have information about features that are useful for many different types of images. By opening the last few layers of the model, we allow it to finetune those weights to features that are useful in separating dogs from cats in images.\n",
    "\n",
    "First, we need to make our VGG16 model trainable again."
   ]
  },
  {
   "cell_type": "code",
   "execution_count": null,
   "id": "proprietary-immune",
   "metadata": {},
   "outputs": [],
   "source": [
    "pretrained_base.trainable = True"
   ]
  },
  {
   "cell_type": "markdown",
   "id": "generic-broadcast",
   "metadata": {},
   "source": [
    "Here is the summary of the VGG16 model again."
   ]
  },
  {
   "cell_type": "code",
   "execution_count": null,
   "id": "appointed-utility",
   "metadata": {},
   "outputs": [],
   "source": [
    "pretrained_base.summary()"
   ]
  },
  {
   "cell_type": "markdown",
   "id": "pleased-creativity",
   "metadata": {},
   "source": [
    "Let' lock everything else, but leave the layers of **block5** to be finetuned by our dogs/cats images. The following code will go through the VGG16 structure, lock everything until 'block4_pool' and leave layers after that trainable."
   ]
  },
  {
   "cell_type": "code",
   "execution_count": null,
   "id": "atmospheric-shopper",
   "metadata": {},
   "outputs": [],
   "source": [
    "set_trainable = False\n",
    "for layer in pretrained_base.layers:\n",
    "    if layer.name == 'block5_conv1':\n",
    "        set_trainable = True\n",
    "    if set_trainable:\n",
    "        layer.trainable = True\n",
    "    else:\n",
    "        layer.trainable = False"
   ]
  },
  {
   "cell_type": "markdown",
   "id": "determined-rachel",
   "metadata": {},
   "source": [
    "There are over 9 million trainable parameters, which can probably cause overfitting, but let's see."
   ]
  },
  {
   "cell_type": "code",
   "execution_count": null,
   "id": "flush-incidence",
   "metadata": {},
   "outputs": [],
   "source": [
    "model.summary()"
   ]
  },
  {
   "cell_type": "code",
   "execution_count": null,
   "id": "civilian-updating",
   "metadata": {},
   "outputs": [],
   "source": [
    "model.compile(loss='binary_crossentropy',optimizer=optimizers.RMSprop(),metrics=['acc'])"
   ]
  },
  {
   "cell_type": "code",
   "execution_count": null,
   "id": "intended-seattle",
   "metadata": {},
   "outputs": [],
   "source": [
    "history = model.fit(train_generator,\n",
    "                              steps_per_epoch=120,\n",
    "                              epochs=30,\n",
    "                              validation_data=validation_generator,\n",
    "                              validation_steps=40)"
   ]
  },
  {
   "cell_type": "markdown",
   "id": "impressive-three",
   "metadata": {},
   "source": [
    "As you can see, overfitting starts to be an issue again. But our validation performance is outstanding! The model is correct 90 % of the time."
   ]
  },
  {
   "cell_type": "code",
   "execution_count": null,
   "id": "floral-reservation",
   "metadata": {},
   "outputs": [],
   "source": [
    "plt.style.use('bmh')\n",
    "acc = history.history['acc']\n",
    "val_acc = history.history['val_acc']\n",
    "loss = history.history['loss']\n",
    "val_loss = history.history['val_loss']\n",
    "epochs = range(1, len(acc) + 1)\n",
    "plt.plot(epochs, acc, 'r--', label='Training acc')\n",
    "plt.plot(epochs, val_acc, 'b--', label='Validation acc')\n",
    "plt.legend()\n",
    "plt.figure()\n",
    "plt.plot(epochs, loss, 'r--', label='Training loss')\n",
    "plt.plot(epochs, val_loss, 'b--', label='Validation loss')\n",
    "plt.legend()\n",
    "plt.show()"
   ]
  },
  {
   "cell_type": "markdown",
   "id": "blank-simon",
   "metadata": {},
   "source": [
    "As the last step, let's check the model's performance with the test set."
   ]
  },
  {
   "cell_type": "code",
   "execution_count": null,
   "id": "terminal-cassette",
   "metadata": {},
   "outputs": [],
   "source": [
    "test_datagen = ImageDataGenerator(rescale=1./255)"
   ]
  },
  {
   "cell_type": "code",
   "execution_count": null,
   "id": "resistant-binding",
   "metadata": {},
   "outputs": [],
   "source": [
    "test_generator = test_datagen.flow_from_directory(os.path.join(base_dir,'test'),\n",
    "                                                    target_size=(150, 150),\n",
    "                                                    batch_size=25,\n",
    "                                                    class_mode='binary')"
   ]
  },
  {
   "cell_type": "code",
   "execution_count": null,
   "id": "harmful-uzbekistan",
   "metadata": {},
   "outputs": [],
   "source": [
    "model.evaluate(test_generator)"
   ]
  },
  {
   "cell_type": "markdown",
   "id": "agreed-establishment",
   "metadata": {},
   "source": [
    "Our model is correct 90 % of the time!\n",
    "\n",
    "![thumbs](./images/thumbs.jpeg)"
   ]
  },
  {
   "cell_type": "code",
   "execution_count": null,
   "id": "limited-robert",
   "metadata": {},
   "outputs": [],
   "source": []
  }
 ],
 "metadata": {
  "kernelspec": {
   "display_name": "Python 3",
   "language": "python",
   "name": "python3"
  },
  "language_info": {
   "codemirror_mode": {
    "name": "ipython",
    "version": 3
   },
   "file_extension": ".py",
   "mimetype": "text/x-python",
   "name": "python",
   "nbconvert_exporter": "python",
   "pygments_lexer": "ipython3",
   "version": "3.8.7"
  }
 },
 "nbformat": 4,
 "nbformat_minor": 5
}
