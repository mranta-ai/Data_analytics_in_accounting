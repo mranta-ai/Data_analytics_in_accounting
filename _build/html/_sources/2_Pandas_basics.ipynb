{
 "cells": [
  {
   "cell_type": "markdown",
   "metadata": {},
   "source": [
    "## Pandas data basics\n",
    "\n",
    "We will mostly use Pandas dataframe as our data type. This and the next chapter will introduce the dataframe in detail. Pandas tries to pick up the best features of Numpy, spreadsheets and relational databases, and actually succeeds mostly in it. Pandas is an unbelievably powerful data manipulation tool.\n",
    "\n",
    "Before we start exploring Pandas, it is good to understand how the standard data types in Python work. So, let's begin with them.\n",
    "\n",
    "### Standard data types\n",
    "\n",
    "#### List\n",
    "A list is probably the most used data type in Python. It is a variable-length collection of items. A list can be defined in Python using either square brackets or the **list** function. Lists in Python are mutable. You can change the values of a list afterwards."
   ]
  },
  {
   "cell_type": "code",
   "execution_count": 1,
   "metadata": {},
   "outputs": [],
   "source": [
    "example_list = [1,2,'three',4]"
   ]
  },
  {
   "cell_type": "code",
   "execution_count": 2,
   "metadata": {},
   "outputs": [
    {
     "data": {
      "text/plain": [
       "'three'"
      ]
     },
     "execution_count": 2,
     "metadata": {},
     "output_type": "execute_result"
    }
   ],
   "source": [
    "example_list[2]"
   ]
  },
  {
   "cell_type": "code",
   "execution_count": 3,
   "metadata": {},
   "outputs": [],
   "source": [
    "example_list[2] = 3"
   ]
  },
  {
   "cell_type": "code",
   "execution_count": 4,
   "metadata": {},
   "outputs": [
    {
     "data": {
      "text/plain": [
       "[1, 2, 3, 4]"
      ]
     },
     "execution_count": 4,
     "metadata": {},
     "output_type": "execute_result"
    }
   ],
   "source": [
    "example_list"
   ]
  },
  {
   "cell_type": "markdown",
   "metadata": {},
   "source": [
    "You can add a new element to the end of the list with **append()**."
   ]
  },
  {
   "cell_type": "code",
   "execution_count": 5,
   "metadata": {},
   "outputs": [],
   "source": [
    "example_list.append(5)"
   ]
  },
  {
   "cell_type": "code",
   "execution_count": 6,
   "metadata": {},
   "outputs": [
    {
     "data": {
      "text/plain": [
       "[1, 2, 3, 4, 5]"
      ]
     },
     "execution_count": 6,
     "metadata": {},
     "output_type": "execute_result"
    }
   ],
   "source": [
    "example_list"
   ]
  },
  {
   "cell_type": "markdown",
   "metadata": {},
   "source": [
    "You can also add an item to a specific location in the list using **insert()**."
   ]
  },
  {
   "cell_type": "code",
   "execution_count": 7,
   "metadata": {},
   "outputs": [],
   "source": [
    "example_list.insert(3,3.5)"
   ]
  },
  {
   "cell_type": "code",
   "execution_count": 8,
   "metadata": {},
   "outputs": [
    {
     "data": {
      "text/plain": [
       "[1, 2, 3, 3.5, 4, 5]"
      ]
     },
     "execution_count": 8,
     "metadata": {},
     "output_type": "execute_result"
    }
   ],
   "source": [
    "example_list"
   ]
  },
  {
   "cell_type": "markdown",
   "metadata": {},
   "source": [
    "With **pop()** you can remove items from the list."
   ]
  },
  {
   "cell_type": "code",
   "execution_count": 9,
   "metadata": {},
   "outputs": [
    {
     "data": {
      "text/plain": [
       "3.5"
      ]
     },
     "execution_count": 9,
     "metadata": {},
     "output_type": "execute_result"
    }
   ],
   "source": [
    "example_list.pop(3)"
   ]
  },
  {
   "cell_type": "code",
   "execution_count": 10,
   "metadata": {},
   "outputs": [
    {
     "data": {
      "text/plain": [
       "[1, 2, 3, 4, 5]"
      ]
     },
     "execution_count": 10,
     "metadata": {},
     "output_type": "execute_result"
    }
   ],
   "source": [
    "example_list"
   ]
  },
  {
   "cell_type": "markdown",
   "metadata": {},
   "source": [
    "You can remove a specific item from the list using **remove()**."
   ]
  },
  {
   "cell_type": "code",
   "execution_count": 11,
   "metadata": {},
   "outputs": [],
   "source": [
    "example_list.remove(3)"
   ]
  },
  {
   "cell_type": "code",
   "execution_count": 12,
   "metadata": {},
   "outputs": [
    {
     "data": {
      "text/plain": [
       "[1, 2, 4, 5]"
      ]
     },
     "execution_count": 12,
     "metadata": {},
     "output_type": "execute_result"
    }
   ],
   "source": [
    "example_list"
   ]
  },
  {
   "cell_type": "markdown",
   "metadata": {},
   "source": [
    "Lists are commonly used to acquire items from generators. Here is an example:"
   ]
  },
  {
   "cell_type": "code",
   "execution_count": 13,
   "metadata": {},
   "outputs": [],
   "source": [
    "small_gen = (x**2 for x in range(10)) # a generator\n",
    "list_of_gen = [item for item in small_gen]"
   ]
  },
  {
   "cell_type": "code",
   "execution_count": 14,
   "metadata": {},
   "outputs": [
    {
     "data": {
      "text/plain": [
       "[0, 1, 4, 9, 16, 25, 36, 49, 64, 81]"
      ]
     },
     "execution_count": 14,
     "metadata": {},
     "output_type": "execute_result"
    }
   ],
   "source": [
    "list_of_gen"
   ]
  },
  {
   "cell_type": "markdown",
   "metadata": {},
   "source": [
    "You can check if an item is or is not in the list with **in** and **is not**."
   ]
  },
  {
   "cell_type": "code",
   "execution_count": 15,
   "metadata": {},
   "outputs": [
    {
     "data": {
      "text/plain": [
       "True"
      ]
     },
     "execution_count": 15,
     "metadata": {},
     "output_type": "execute_result"
    }
   ],
   "source": [
    "16 in list_of_gen"
   ]
  },
  {
   "cell_type": "code",
   "execution_count": 16,
   "metadata": {},
   "outputs": [
    {
     "data": {
      "text/plain": [
       "False"
      ]
     },
     "execution_count": 16,
     "metadata": {},
     "output_type": "execute_result"
    }
   ],
   "source": [
    "17 in list_of_gen"
   ]
  },
  {
   "cell_type": "markdown",
   "metadata": {},
   "source": [
    "With **+** you can combine lists."
   ]
  },
  {
   "cell_type": "code",
   "execution_count": 17,
   "metadata": {},
   "outputs": [
    {
     "data": {
      "text/plain": [
       "[1, 2, 4, 5, 1, 2, 4, 5]"
      ]
     },
     "execution_count": 17,
     "metadata": {},
     "output_type": "execute_result"
    }
   ],
   "source": [
    "example_list + example_list"
   ]
  },
  {
   "cell_type": "markdown",
   "metadata": {},
   "source": [
    "You can extend a list with multiple elements with **extend**."
   ]
  },
  {
   "cell_type": "code",
   "execution_count": 18,
   "metadata": {},
   "outputs": [],
   "source": [
    "example_list.extend([6,7,8])"
   ]
  },
  {
   "cell_type": "code",
   "execution_count": 19,
   "metadata": {},
   "outputs": [
    {
     "data": {
      "text/plain": [
       "[1, 2, 4, 5, 6, 7, 8]"
      ]
     },
     "execution_count": 19,
     "metadata": {},
     "output_type": "execute_result"
    }
   ],
   "source": [
    "example_list"
   ]
  },
  {
   "cell_type": "markdown",
   "metadata": {},
   "source": [
    "You can use **sort()** to sort a list. It organises the original list. Pandas, in contrary, creates a new object in this kind of operations."
   ]
  },
  {
   "cell_type": "code",
   "execution_count": 20,
   "metadata": {},
   "outputs": [],
   "source": [
    "unsorted_list = [7,3,6,4,8,2]"
   ]
  },
  {
   "cell_type": "code",
   "execution_count": 21,
   "metadata": {},
   "outputs": [],
   "source": [
    "unsorted_list.sort()"
   ]
  },
  {
   "cell_type": "code",
   "execution_count": 22,
   "metadata": {},
   "outputs": [
    {
     "data": {
      "text/plain": [
       "[2, 3, 4, 6, 7, 8]"
      ]
     },
     "execution_count": 22,
     "metadata": {},
     "output_type": "execute_result"
    }
   ],
   "source": [
    "unsorted_list"
   ]
  },
  {
   "cell_type": "markdown",
   "metadata": {},
   "source": [
    "Slicing is an important concept in Python. The sections of most sequency types can be selected with slice notation."
   ]
  },
  {
   "cell_type": "code",
   "execution_count": 23,
   "metadata": {},
   "outputs": [],
   "source": [
    "small_list = list(range(10))"
   ]
  },
  {
   "cell_type": "code",
   "execution_count": 24,
   "metadata": {},
   "outputs": [
    {
     "data": {
      "text/plain": [
       "[1, 2]"
      ]
     },
     "execution_count": 24,
     "metadata": {},
     "output_type": "execute_result"
    }
   ],
   "source": [
    "small_list[1:3]"
   ]
  },
  {
   "cell_type": "code",
   "execution_count": 25,
   "metadata": {},
   "outputs": [
    {
     "data": {
      "text/plain": [
       "[0, 1, 2]"
      ]
     },
     "execution_count": 25,
     "metadata": {},
     "output_type": "execute_result"
    }
   ],
   "source": [
    "small_list[0:3]"
   ]
  },
  {
   "cell_type": "code",
   "execution_count": 26,
   "metadata": {},
   "outputs": [
    {
     "data": {
      "text/plain": [
       "[0, 1, 2]"
      ]
     },
     "execution_count": 26,
     "metadata": {},
     "output_type": "execute_result"
    }
   ],
   "source": [
    "small_list[:3]"
   ]
  },
  {
   "cell_type": "code",
   "execution_count": 27,
   "metadata": {},
   "outputs": [
    {
     "data": {
      "text/plain": [
       "[3, 4, 5, 6, 7, 8, 9]"
      ]
     },
     "execution_count": 27,
     "metadata": {},
     "output_type": "execute_result"
    }
   ],
   "source": [
    "small_list[3:]"
   ]
  },
  {
   "cell_type": "code",
   "execution_count": 28,
   "metadata": {},
   "outputs": [
    {
     "data": {
      "text/plain": [
       "[7, 8, 9]"
      ]
     },
     "execution_count": 28,
     "metadata": {},
     "output_type": "execute_result"
    }
   ],
   "source": [
    "small_list[-3:]"
   ]
  },
  {
   "cell_type": "code",
   "execution_count": 29,
   "metadata": {},
   "outputs": [
    {
     "data": {
      "text/plain": [
       "[5, 6]"
      ]
     },
     "execution_count": 29,
     "metadata": {},
     "output_type": "execute_result"
    }
   ],
   "source": [
    "small_list[-5:-3]"
   ]
  },
  {
   "cell_type": "markdown",
   "metadata": {},
   "source": [
    "**Step** can be used to define the frequency of slicing."
   ]
  },
  {
   "cell_type": "code",
   "execution_count": 30,
   "metadata": {},
   "outputs": [
    {
     "data": {
      "text/plain": [
       "[0, 2, 4, 6, 8]"
      ]
     },
     "execution_count": 30,
     "metadata": {},
     "output_type": "execute_result"
    }
   ],
   "source": [
    "small_list[::2]"
   ]
  },
  {
   "cell_type": "code",
   "execution_count": 31,
   "metadata": {},
   "outputs": [
    {
     "data": {
      "text/plain": [
       "[1, 3, 5, 7]"
      ]
     },
     "execution_count": 31,
     "metadata": {},
     "output_type": "execute_result"
    }
   ],
   "source": [
    "small_list[1:8:2]"
   ]
  },
  {
   "cell_type": "code",
   "execution_count": 32,
   "metadata": {},
   "outputs": [
    {
     "data": {
      "text/plain": [
       "[9, 8, 7, 6, 5, 4, 3, 2, 1, 0]"
      ]
     },
     "execution_count": 32,
     "metadata": {},
     "output_type": "execute_result"
    }
   ],
   "source": [
    "small_list[::-1]"
   ]
  },
  {
   "cell_type": "markdown",
   "metadata": {},
   "source": [
    "#### Tuple"
   ]
  },
  {
   "cell_type": "markdown",
   "metadata": {},
   "source": [
    "A tuple is an immutable sequence of Python objects. Because it is immutable, it has also a fixed length. You can create tuples using parantheses."
   ]
  },
  {
   "cell_type": "code",
   "execution_count": 33,
   "metadata": {},
   "outputs": [],
   "source": [
    "small_tuple = (10,20,30,40)"
   ]
  },
  {
   "cell_type": "code",
   "execution_count": 34,
   "metadata": {},
   "outputs": [
    {
     "data": {
      "text/plain": [
       "(10, 20, 30, 40)"
      ]
     },
     "execution_count": 34,
     "metadata": {},
     "output_type": "execute_result"
    }
   ],
   "source": [
    "small_tuple"
   ]
  },
  {
   "cell_type": "markdown",
   "metadata": {},
   "source": [
    "Otherwise, tuples are very similar to lists in Python. For example, you can access elements with square brackets."
   ]
  },
  {
   "cell_type": "code",
   "execution_count": 35,
   "metadata": {},
   "outputs": [
    {
     "data": {
      "text/plain": [
       "30"
      ]
     },
     "execution_count": 35,
     "metadata": {},
     "output_type": "execute_result"
    }
   ],
   "source": [
    "small_tuple[2]"
   ]
  },
  {
   "cell_type": "markdown",
   "metadata": {},
   "source": [
    "And you can concatenate them using **+**."
   ]
  },
  {
   "cell_type": "code",
   "execution_count": 36,
   "metadata": {},
   "outputs": [
    {
     "data": {
      "text/plain": [
       "(10, 20, 30, 40, 10, 20, 30, 40)"
      ]
     },
     "execution_count": 36,
     "metadata": {},
     "output_type": "execute_result"
    }
   ],
   "source": [
    "small_tuple + small_tuple"
   ]
  },
  {
   "cell_type": "markdown",
   "metadata": {},
   "source": [
    "But, they are immutable. You can not change values in them."
   ]
  },
  {
   "cell_type": "code",
   "execution_count": 37,
   "metadata": {},
   "outputs": [
    {
     "ename": "TypeError",
     "evalue": "'tuple' object does not support item assignment",
     "output_type": "error",
     "traceback": [
      "\u001b[1;31m---------------------------------------------------------------------------\u001b[0m",
      "\u001b[1;31mTypeError\u001b[0m                                 Traceback (most recent call last)",
      "\u001b[1;32m<ipython-input-37-19b2de519515>\u001b[0m in \u001b[0;36m<module>\u001b[1;34m\u001b[0m\n\u001b[1;32m----> 1\u001b[1;33m \u001b[0msmall_tuple\u001b[0m\u001b[1;33m[\u001b[0m\u001b[1;36m2\u001b[0m\u001b[1;33m]\u001b[0m \u001b[1;33m=\u001b[0m \u001b[1;36m35\u001b[0m\u001b[1;33m\u001b[0m\u001b[1;33m\u001b[0m\u001b[0m\n\u001b[0m",
      "\u001b[1;31mTypeError\u001b[0m: 'tuple' object does not support item assignment"
     ]
    }
   ],
   "source": [
    "small_tuple[2] = 35"
   ]
  },
  {
   "cell_type": "markdown",
   "metadata": {},
   "source": [
    "Python will automatically unpack the tuple, if it is fed to a collection of variables (remember how a function returns a tuple)."
   ]
  },
  {
   "cell_type": "code",
   "execution_count": 38,
   "metadata": {},
   "outputs": [],
   "source": [
    "a,b,c,d = small_tuple"
   ]
  },
  {
   "cell_type": "code",
   "execution_count": 39,
   "metadata": {},
   "outputs": [
    {
     "data": {
      "text/plain": [
       "10"
      ]
     },
     "execution_count": 39,
     "metadata": {},
     "output_type": "execute_result"
    }
   ],
   "source": [
    "a"
   ]
  },
  {
   "cell_type": "code",
   "execution_count": 40,
   "metadata": {},
   "outputs": [
    {
     "data": {
      "text/plain": [
       "20"
      ]
     },
     "execution_count": 40,
     "metadata": {},
     "output_type": "execute_result"
    }
   ],
   "source": [
    "b"
   ]
  },
  {
   "cell_type": "markdown",
   "metadata": {},
   "source": [
    "Because a tuple is immutable, there are not many tuple methods. One useful is **count**, which counts the occurrences of a value."
   ]
  },
  {
   "cell_type": "code",
   "execution_count": 41,
   "metadata": {},
   "outputs": [
    {
     "data": {
      "text/plain": [
       "1"
      ]
     },
     "execution_count": 41,
     "metadata": {},
     "output_type": "execute_result"
    }
   ],
   "source": [
    "small_tuple.count(40)"
   ]
  },
  {
   "cell_type": "markdown",
   "metadata": {},
   "source": [
    "#### Dict"
   ]
  },
  {
   "cell_type": "markdown",
   "metadata": {},
   "source": [
    "**Dict** is the most complicated built-in data type in Python. It is a mutable collection of key-value pairs of Python objects. Dicts are created using curly braces."
   ]
  },
  {
   "cell_type": "code",
   "execution_count": 42,
   "metadata": {},
   "outputs": [],
   "source": [
    "sample_dict = {'a': 500, 'b' : 1000, 'c' : 1500, 'd': 2000}"
   ]
  },
  {
   "cell_type": "markdown",
   "metadata": {},
   "source": [
    "You can access and add elements of a dict using brackes with a key inside them."
   ]
  },
  {
   "cell_type": "code",
   "execution_count": 43,
   "metadata": {},
   "outputs": [
    {
     "data": {
      "text/plain": [
       "500"
      ]
     },
     "execution_count": 43,
     "metadata": {},
     "output_type": "execute_result"
    }
   ],
   "source": [
    "sample_dict['a']"
   ]
  },
  {
   "cell_type": "code",
   "execution_count": 44,
   "metadata": {},
   "outputs": [],
   "source": [
    "sample_dict['e'] = 2500"
   ]
  },
  {
   "cell_type": "code",
   "execution_count": 45,
   "metadata": {},
   "outputs": [
    {
     "data": {
      "text/plain": [
       "{'a': 500, 'b': 1000, 'c': 1500, 'd': 2000, 'e': 2500}"
      ]
     },
     "execution_count": 45,
     "metadata": {},
     "output_type": "execute_result"
    }
   ],
   "source": [
    "sample_dict"
   ]
  },
  {
   "cell_type": "markdown",
   "metadata": {},
   "source": [
    "There is no restrction that the keys should be strings and the values should be numbers."
   ]
  },
  {
   "cell_type": "code",
   "execution_count": 46,
   "metadata": {},
   "outputs": [],
   "source": [
    "sample_dict[6] = 'some_text'"
   ]
  },
  {
   "cell_type": "code",
   "execution_count": 47,
   "metadata": {},
   "outputs": [
    {
     "data": {
      "text/plain": [
       "{'a': 500, 'b': 1000, 'c': 1500, 'd': 2000, 'e': 2500, 6: 'some_text'}"
      ]
     },
     "execution_count": 47,
     "metadata": {},
     "output_type": "execute_result"
    }
   ],
   "source": [
    "sample_dict"
   ]
  },
  {
   "cell_type": "markdown",
   "metadata": {},
   "source": [
    "You can delete an item from a dict using **del**."
   ]
  },
  {
   "cell_type": "code",
   "execution_count": 48,
   "metadata": {},
   "outputs": [],
   "source": [
    "del sample_dict[6]"
   ]
  },
  {
   "cell_type": "code",
   "execution_count": 49,
   "metadata": {},
   "outputs": [
    {
     "data": {
      "text/plain": [
       "{'a': 500, 'b': 1000, 'c': 1500, 'd': 2000, 'e': 2500}"
      ]
     },
     "execution_count": 49,
     "metadata": {},
     "output_type": "execute_result"
    }
   ],
   "source": [
    "sample_dict"
   ]
  },
  {
   "cell_type": "markdown",
   "metadata": {},
   "source": [
    "The **keys** and **values** methods can be used to get iterators of the dict's keys and values. (Remember that the list method was commonly used to extract the contents of an iterator.)"
   ]
  },
  {
   "cell_type": "code",
   "execution_count": 50,
   "metadata": {},
   "outputs": [
    {
     "data": {
      "text/plain": [
       "['a', 'b', 'c', 'd', 'e']"
      ]
     },
     "execution_count": 50,
     "metadata": {},
     "output_type": "execute_result"
    }
   ],
   "source": [
    "list(sample_dict.keys())"
   ]
  },
  {
   "cell_type": "code",
   "execution_count": 51,
   "metadata": {},
   "outputs": [
    {
     "data": {
      "text/plain": [
       "[500, 1000, 1500, 2000, 2500]"
      ]
     },
     "execution_count": 51,
     "metadata": {},
     "output_type": "execute_result"
    }
   ],
   "source": [
    "list(sample_dict.values())"
   ]
  },
  {
   "cell_type": "markdown",
   "metadata": {},
   "source": [
    "You can merge two dictionaries with **update**."
   ]
  },
  {
   "cell_type": "code",
   "execution_count": 52,
   "metadata": {},
   "outputs": [],
   "source": [
    "sample_dict.update({'f':3000,'g':3500})"
   ]
  },
  {
   "cell_type": "code",
   "execution_count": 53,
   "metadata": {},
   "outputs": [
    {
     "data": {
      "text/plain": [
       "{'a': 500, 'b': 1000, 'c': 1500, 'd': 2000, 'e': 2500, 'f': 3000, 'g': 3500}"
      ]
     },
     "execution_count": 53,
     "metadata": {},
     "output_type": "execute_result"
    }
   ],
   "source": [
    "sample_dict"
   ]
  },
  {
   "cell_type": "markdown",
   "metadata": {},
   "source": [
    "#### Set"
   ]
  },
  {
   "cell_type": "markdown",
   "metadata": {},
   "source": [
    "A set in Python is a collection of unique elements. They can be created with **set** or with curly braces."
   ]
  },
  {
   "cell_type": "code",
   "execution_count": 54,
   "metadata": {},
   "outputs": [
    {
     "data": {
      "text/plain": [
       "{5, 6, 7, 8}"
      ]
     },
     "execution_count": 54,
     "metadata": {},
     "output_type": "execute_result"
    }
   ],
   "source": [
    "set([5,5,5,6,6,6,7,7,7,8,8,8])"
   ]
  },
  {
   "cell_type": "code",
   "execution_count": 55,
   "metadata": {},
   "outputs": [
    {
     "data": {
      "text/plain": [
       "{4, 5, 6, 7}"
      ]
     },
     "execution_count": 55,
     "metadata": {},
     "output_type": "execute_result"
    }
   ],
   "source": [
    "{4,4,4,5,5,5,6,6,6,7,7,7}"
   ]
  },
  {
   "cell_type": "markdown",
   "metadata": {},
   "source": [
    "A Python set is very similar to a mathematical set, so it has methods for mathematical set operations."
   ]
  },
  {
   "cell_type": "code",
   "execution_count": 56,
   "metadata": {},
   "outputs": [],
   "source": [
    "x = {3,4,5,6,7,8}\n",
    "y = {6,7,8,9,10}"
   ]
  },
  {
   "cell_type": "code",
   "execution_count": 57,
   "metadata": {},
   "outputs": [
    {
     "data": {
      "text/plain": [
       "{3, 4, 5, 6, 7, 8, 9, 10}"
      ]
     },
     "execution_count": 57,
     "metadata": {},
     "output_type": "execute_result"
    }
   ],
   "source": [
    "x.union(y)"
   ]
  },
  {
   "cell_type": "code",
   "execution_count": 58,
   "metadata": {},
   "outputs": [
    {
     "data": {
      "text/plain": [
       "{6, 7, 8}"
      ]
     },
     "execution_count": 58,
     "metadata": {},
     "output_type": "execute_result"
    }
   ],
   "source": [
    "x.intersection(y)"
   ]
  },
  {
   "cell_type": "code",
   "execution_count": 59,
   "metadata": {},
   "outputs": [
    {
     "data": {
      "text/plain": [
       "{3, 4, 5}"
      ]
     },
     "execution_count": 59,
     "metadata": {},
     "output_type": "execute_result"
    }
   ],
   "source": [
    "x.difference(y)"
   ]
  },
  {
   "cell_type": "code",
   "execution_count": 60,
   "metadata": {},
   "outputs": [
    {
     "data": {
      "text/plain": [
       "{3, 4, 5, 9, 10}"
      ]
     },
     "execution_count": 60,
     "metadata": {},
     "output_type": "execute_result"
    }
   ],
   "source": [
    "x.symmetric_difference(y)"
   ]
  },
  {
   "cell_type": "markdown",
   "metadata": {},
   "source": [
    "#### Comprehensions"
   ]
  },
  {
   "cell_type": "markdown",
   "metadata": {},
   "source": [
    "Comprehensions, especially the list ones, are a great feature in Python. With them, you can efficiently create collections with a single statement. Let's look some examples. (**%** is the module operator)"
   ]
  },
  {
   "cell_type": "code",
   "execution_count": 61,
   "metadata": {},
   "outputs": [],
   "source": [
    "squares = [x**2 for x in range(10) if x%2==0]"
   ]
  },
  {
   "cell_type": "code",
   "execution_count": 62,
   "metadata": {},
   "outputs": [
    {
     "data": {
      "text/plain": [
       "[0, 4, 16, 36, 64]"
      ]
     },
     "execution_count": 62,
     "metadata": {},
     "output_type": "execute_result"
    }
   ],
   "source": [
    "squares"
   ]
  },
  {
   "cell_type": "markdown",
   "metadata": {},
   "source": [
    "You could do exactly the same with a much longer for loop."
   ]
  },
  {
   "cell_type": "code",
   "execution_count": 63,
   "metadata": {},
   "outputs": [],
   "source": [
    "squares = []\n",
    "for x in range(10):\n",
    "    if x%2==0:\n",
    "        squares.append(x**2)"
   ]
  },
  {
   "cell_type": "code",
   "execution_count": 64,
   "metadata": {},
   "outputs": [
    {
     "data": {
      "text/plain": [
       "[0, 4, 16, 36, 64]"
      ]
     },
     "execution_count": 64,
     "metadata": {},
     "output_type": "execute_result"
    }
   ],
   "source": [
    "squares"
   ]
  },
  {
   "cell_type": "markdown",
   "metadata": {},
   "source": [
    "Here is another example:"
   ]
  },
  {
   "cell_type": "code",
   "execution_count": 65,
   "metadata": {},
   "outputs": [],
   "source": [
    "fd = open('quotes.txt',encoding='utf-8')"
   ]
  },
  {
   "cell_type": "code",
   "execution_count": 66,
   "metadata": {},
   "outputs": [
    {
     "data": {
      "text/plain": [
       "['“JAVA IS, IN MANY WAYS, C++–.”(MICHAEL FELDMAN)',\n",
       " 'EVERYTHING CAN BE IMPROVED.  ~CLARENCE W. BARRON',\n",
       " \"DON'T WATER YOUR WEEDS.  ~HARVEY MACKAY\",\n",
       " '\"NECESSITY IS THE MOTHER OF INVENTION\" - PLATO',\n",
       " '\"INFORMATION IS NOT KNOWLEDGE.\" ALBERT EINSTEIN',\n",
       " 'DELETED CODE IS DEBUGGED CODE.  — JEFF SICKEL',\n",
       " 'THE BEST CODE IS NO CODE AT ALL.',\n",
       " 'NO CODE IS FASTER THAN NO CODE.  — MERB MOTTO']"
      ]
     },
     "execution_count": 66,
     "metadata": {},
     "output_type": "execute_result"
    }
   ],
   "source": [
    "[text.upper().rstrip() for text in fd if len(text) < 50]"
   ]
  },
  {
   "cell_type": "markdown",
   "metadata": {},
   "source": [
    "Python also has set and dict comprehensions that work similarly. Here is an example. First, we set our stream position to the beginning"
   ]
  },
  {
   "cell_type": "code",
   "execution_count": 67,
   "metadata": {},
   "outputs": [
    {
     "data": {
      "text/plain": [
       "0"
      ]
     },
     "execution_count": 67,
     "metadata": {},
     "output_type": "execute_result"
    }
   ],
   "source": [
    "fd.seek(0)"
   ]
  },
  {
   "cell_type": "markdown",
   "metadata": {},
   "source": [
    "The following command creates a dict where the keys are the first five letters of each quote and the values are the lengths of the quotes (if the quote is less than 50 characters long)."
   ]
  },
  {
   "cell_type": "code",
   "execution_count": 68,
   "metadata": {},
   "outputs": [
    {
     "data": {
      "text/plain": [
       "{'“Java': 48,\n",
       " 'Every': 49,\n",
       " \"Don't\": 40,\n",
       " '\"Nece': 47,\n",
       " '\"Info': 48,\n",
       " 'Delet': 46,\n",
       " 'The b': 33,\n",
       " 'No co': 46}"
      ]
     },
     "execution_count": 68,
     "metadata": {},
     "output_type": "execute_result"
    }
   ],
   "source": [
    "{item[0:5] : len(item) for item in fd if len(item) < 50}"
   ]
  },
  {
   "cell_type": "markdown",
   "metadata": {},
   "source": [
    "Nested list comprehensions are useful, but somewhat difficult to grasp. Let's look some examples."
   ]
  },
  {
   "cell_type": "code",
   "execution_count": 80,
   "metadata": {},
   "outputs": [
    {
     "data": {
      "text/plain": [
       "0"
      ]
     },
     "execution_count": 80,
     "metadata": {},
     "output_type": "execute_result"
    }
   ],
   "source": [
    "fd.seek(0)"
   ]
  },
  {
   "cell_type": "markdown",
   "metadata": {},
   "source": [
    "In the following, we split the quotes to a list of words, creating a list of lists"
   ]
  },
  {
   "cell_type": "code",
   "execution_count": 81,
   "metadata": {},
   "outputs": [],
   "source": [
    "quotes = [quote.rstrip().split(\" \") for quote in fd if len(quote) < 45]"
   ]
  },
  {
   "cell_type": "code",
   "execution_count": 82,
   "metadata": {},
   "outputs": [
    {
     "data": {
      "text/plain": [
       "[[\"Don't\", 'water', 'your', 'weeds.', '', '~Harvey', 'MacKay'],\n",
       " ['The', 'best', 'code', 'is', 'no', 'code', 'at', 'all.']]"
      ]
     },
     "execution_count": 82,
     "metadata": {},
     "output_type": "execute_result"
    }
   ],
   "source": [
    "quotes"
   ]
  },
  {
   "cell_type": "markdown",
   "metadata": {},
   "source": [
    "Using a nested list comprehension, we can now collect individual words to a list."
   ]
  },
  {
   "cell_type": "code",
   "execution_count": 83,
   "metadata": {},
   "outputs": [
    {
     "data": {
      "text/plain": [
       "[\"Don't\",\n",
       " 'water',\n",
       " 'your',\n",
       " 'weeds.',\n",
       " '',\n",
       " '~Harvey',\n",
       " 'MacKay',\n",
       " 'The',\n",
       " 'best',\n",
       " 'code',\n",
       " 'is',\n",
       " 'no',\n",
       " 'code',\n",
       " 'at',\n",
       " 'all.']"
      ]
     },
     "execution_count": 83,
     "metadata": {},
     "output_type": "execute_result"
    }
   ],
   "source": [
    "[word for quote in quotes for word in quote]"
   ]
  },
  {
   "cell_type": "markdown",
   "metadata": {},
   "source": [
    "Always remember to close the file."
   ]
  },
  {
   "cell_type": "code",
   "execution_count": 84,
   "metadata": {},
   "outputs": [],
   "source": [
    "fd.close()"
   ]
  },
  {
   "cell_type": "markdown",
   "metadata": {},
   "source": [
    "### Pandas data structures"
   ]
  },
  {
   "cell_type": "markdown",
   "metadata": {},
   "source": [
    "Two main data structures of Pandas are **Series** and **Dataframe**. Let's analys both of them."
   ]
  },
  {
   "cell_type": "markdown",
   "metadata": {},
   "source": [
    "#### Pandas series"
   ]
  },
  {
   "cell_type": "markdown",
   "metadata": {},
   "source": [
    "Let's start by importing Pandas."
   ]
  },
  {
   "cell_type": "code",
   "execution_count": 1,
   "metadata": {},
   "outputs": [],
   "source": [
    "import pandas as pd"
   ]
  },
  {
   "cell_type": "markdown",
   "metadata": {},
   "source": [
    "A pandas series is a one-dimensional array of Numpy-type objects, and an associated array of labels, called **index**."
   ]
  },
  {
   "cell_type": "code",
   "execution_count": 86,
   "metadata": {},
   "outputs": [],
   "source": [
    "first_pandas = pd.Series([5,3,7,3,7,1])"
   ]
  },
  {
   "cell_type": "code",
   "execution_count": 87,
   "metadata": {},
   "outputs": [
    {
     "data": {
      "text/plain": [
       "0    5\n",
       "1    3\n",
       "2    7\n",
       "3    3\n",
       "4    7\n",
       "5    1\n",
       "dtype: int64"
      ]
     },
     "execution_count": 87,
     "metadata": {},
     "output_type": "execute_result"
    }
   ],
   "source": [
    "first_pandas"
   ]
  },
  {
   "cell_type": "markdown",
   "metadata": {},
   "source": [
    "If we do not pass an index when defining a series, it will be given the default index of sequential values."
   ]
  },
  {
   "cell_type": "code",
   "execution_count": 88,
   "metadata": {},
   "outputs": [
    {
     "data": {
      "text/plain": [
       "RangeIndex(start=0, stop=6, step=1)"
      ]
     },
     "execution_count": 88,
     "metadata": {},
     "output_type": "execute_result"
    }
   ],
   "source": [
    "first_pandas.index"
   ]
  },
  {
   "cell_type": "markdown",
   "metadata": {},
   "source": [
    "You can define a custom index when creating a series."
   ]
  },
  {
   "cell_type": "code",
   "execution_count": 89,
   "metadata": {},
   "outputs": [],
   "source": [
    "second_pandas = pd.Series([1,2,3], index=['first','second','third'])"
   ]
  },
  {
   "cell_type": "code",
   "execution_count": 90,
   "metadata": {},
   "outputs": [
    {
     "data": {
      "text/plain": [
       "first     1\n",
       "second    2\n",
       "third     3\n",
       "dtype: int64"
      ]
     },
     "execution_count": 90,
     "metadata": {},
     "output_type": "execute_result"
    }
   ],
   "source": [
    "second_pandas"
   ]
  },
  {
   "cell_type": "markdown",
   "metadata": {},
   "source": [
    "A pandas series works like a dict. You can use the index value to pick up a single item."
   ]
  },
  {
   "cell_type": "code",
   "execution_count": 91,
   "metadata": {},
   "outputs": [
    {
     "data": {
      "text/plain": [
       "2"
      ]
     },
     "execution_count": 91,
     "metadata": {},
     "output_type": "execute_result"
    }
   ],
   "source": [
    "second_pandas['second']"
   ]
  },
  {
   "cell_type": "markdown",
   "metadata": {},
   "source": [
    "You can also use boolean indexing. Notice how the following command picks up the values on index locations 0, 2 and 4."
   ]
  },
  {
   "cell_type": "code",
   "execution_count": 92,
   "metadata": {},
   "outputs": [
    {
     "data": {
      "text/plain": [
       "0    5\n",
       "2    7\n",
       "4    7\n",
       "dtype: int64"
      ]
     },
     "execution_count": 92,
     "metadata": {},
     "output_type": "execute_result"
    }
   ],
   "source": [
    "first_pandas[first_pandas > 4]"
   ]
  },
  {
   "cell_type": "markdown",
   "metadata": {},
   "source": [
    "You can use Numpy operations to your Pandas series."
   ]
  },
  {
   "cell_type": "code",
   "execution_count": 93,
   "metadata": {},
   "outputs": [],
   "source": [
    "import numpy as np"
   ]
  },
  {
   "cell_type": "code",
   "execution_count": 94,
   "metadata": {},
   "outputs": [
    {
     "data": {
      "text/plain": [
       "0    10\n",
       "1     6\n",
       "2    14\n",
       "3     6\n",
       "4    14\n",
       "5     2\n",
       "dtype: int64"
      ]
     },
     "execution_count": 94,
     "metadata": {},
     "output_type": "execute_result"
    }
   ],
   "source": [
    "first_pandas*2"
   ]
  },
  {
   "cell_type": "code",
   "execution_count": 95,
   "metadata": {},
   "outputs": [
    {
     "data": {
      "text/plain": [
       "0    1.609438\n",
       "1    1.098612\n",
       "2    1.945910\n",
       "3    1.098612\n",
       "4    1.945910\n",
       "5    0.000000\n",
       "dtype: float64"
      ]
     },
     "execution_count": 95,
     "metadata": {},
     "output_type": "execute_result"
    }
   ],
   "source": [
    "np.log(first_pandas)"
   ]
  },
  {
   "cell_type": "markdown",
   "metadata": {},
   "source": [
    "As you have noticed, Pandas Series is very similar to a Python dict. Actually, you can very easily create a Pandas series from a dict."
   ]
  },
  {
   "cell_type": "code",
   "execution_count": 96,
   "metadata": {},
   "outputs": [],
   "source": [
    "sample_dict = {'a': 500, 'b' : 1000, 'c' : 1500, 'd': 2000}"
   ]
  },
  {
   "cell_type": "code",
   "execution_count": 97,
   "metadata": {},
   "outputs": [],
   "source": [
    "sample_series = pd.Series(sample_dict)"
   ]
  },
  {
   "cell_type": "code",
   "execution_count": 98,
   "metadata": {},
   "outputs": [
    {
     "data": {
      "text/plain": [
       "a     500\n",
       "b    1000\n",
       "c    1500\n",
       "d    2000\n",
       "dtype: int64"
      ]
     },
     "execution_count": 98,
     "metadata": {},
     "output_type": "execute_result"
    }
   ],
   "source": [
    "sample_series"
   ]
  },
  {
   "cell_type": "markdown",
   "metadata": {},
   "source": [
    "Important feature in Pandas is that everything is aligned by the index."
   ]
  },
  {
   "cell_type": "code",
   "execution_count": 99,
   "metadata": {},
   "outputs": [],
   "source": [
    "sample_series2 = pd.Series([100,200,300,400], index=['c','a','d','b'])"
   ]
  },
  {
   "cell_type": "code",
   "execution_count": 100,
   "metadata": {},
   "outputs": [
    {
     "data": {
      "text/plain": [
       "a     700\n",
       "b    1400\n",
       "c    1600\n",
       "d    2300\n",
       "dtype: int64"
      ]
     },
     "execution_count": 100,
     "metadata": {},
     "output_type": "execute_result"
    }
   ],
   "source": [
    "sample_series + sample_series2"
   ]
  },
  {
   "cell_type": "markdown",
   "metadata": {},
   "source": [
    "If you look carefully, you can see that the summing was done \"index-wise\"."
   ]
  },
  {
   "cell_type": "markdown",
   "metadata": {},
   "source": [
    "You can give a name to the values and index of your Series."
   ]
  },
  {
   "cell_type": "code",
   "execution_count": 101,
   "metadata": {},
   "outputs": [],
   "source": [
    "sample_series.name = 'some_values'\n",
    "sample_series.index.name = 'some_letters'"
   ]
  },
  {
   "cell_type": "code",
   "execution_count": 102,
   "metadata": {},
   "outputs": [
    {
     "data": {
      "text/plain": [
       "some_letters\n",
       "a     500\n",
       "b    1000\n",
       "c    1500\n",
       "d    2000\n",
       "Name: some_values, dtype: int64"
      ]
     },
     "execution_count": 102,
     "metadata": {},
     "output_type": "execute_result"
    }
   ],
   "source": [
    "sample_series"
   ]
  },
  {
   "cell_type": "markdown",
   "metadata": {},
   "source": [
    "You can also change your index values very easily."
   ]
  },
  {
   "cell_type": "code",
   "execution_count": 103,
   "metadata": {},
   "outputs": [],
   "source": [
    "sample_series.index = ['aa','bb','cc','dd']"
   ]
  },
  {
   "cell_type": "code",
   "execution_count": 104,
   "metadata": {},
   "outputs": [
    {
     "data": {
      "text/plain": [
       "aa     500\n",
       "bb    1000\n",
       "cc    1500\n",
       "dd    2000\n",
       "Name: some_values, dtype: int64"
      ]
     },
     "execution_count": 104,
     "metadata": {},
     "output_type": "execute_result"
    }
   ],
   "source": [
    "sample_series"
   ]
  },
  {
   "cell_type": "markdown",
   "metadata": {},
   "source": [
    "#### Dataframe"
   ]
  },
  {
   "cell_type": "markdown",
   "metadata": {},
   "source": [
    "Pandas Dataframe is a rectangular table of objects with similar features as Pandas Series. Each column can have different type of values. In a way, it is a 2-dimensional extension of Pandas Series. For example, it has both a row and a column index."
   ]
  },
  {
   "cell_type": "markdown",
   "metadata": {},
   "source": [
    "A dataframe can be constucted in many ways. One popular option is to use a dict of equal-length lists."
   ]
  },
  {
   "cell_type": "code",
   "execution_count": 108,
   "metadata": {},
   "outputs": [],
   "source": [
    "company_data = {'year': ['2015','2016','2017','2018','2019','2020'],\n",
    "                'sales': [102000, 101000, 105000, 115000, 111000, 109000],\n",
    "               'profit': [5000, 6000, 8000, 7000, 9000, 3000]}"
   ]
  },
  {
   "cell_type": "code",
   "execution_count": 109,
   "metadata": {},
   "outputs": [],
   "source": [
    "company_df = pd.DataFrame(company_data)"
   ]
  },
  {
   "cell_type": "code",
   "execution_count": 110,
   "metadata": {},
   "outputs": [
    {
     "data": {
      "text/html": [
       "<div>\n",
       "<style scoped>\n",
       "    .dataframe tbody tr th:only-of-type {\n",
       "        vertical-align: middle;\n",
       "    }\n",
       "\n",
       "    .dataframe tbody tr th {\n",
       "        vertical-align: top;\n",
       "    }\n",
       "\n",
       "    .dataframe thead th {\n",
       "        text-align: right;\n",
       "    }\n",
       "</style>\n",
       "<table border=\"1\" class=\"dataframe\">\n",
       "  <thead>\n",
       "    <tr style=\"text-align: right;\">\n",
       "      <th></th>\n",
       "      <th>year</th>\n",
       "      <th>sales</th>\n",
       "      <th>profit</th>\n",
       "    </tr>\n",
       "  </thead>\n",
       "  <tbody>\n",
       "    <tr>\n",
       "      <th>0</th>\n",
       "      <td>2015</td>\n",
       "      <td>102000</td>\n",
       "      <td>5000</td>\n",
       "    </tr>\n",
       "    <tr>\n",
       "      <th>1</th>\n",
       "      <td>2016</td>\n",
       "      <td>101000</td>\n",
       "      <td>6000</td>\n",
       "    </tr>\n",
       "    <tr>\n",
       "      <th>2</th>\n",
       "      <td>2017</td>\n",
       "      <td>105000</td>\n",
       "      <td>8000</td>\n",
       "    </tr>\n",
       "    <tr>\n",
       "      <th>3</th>\n",
       "      <td>2018</td>\n",
       "      <td>115000</td>\n",
       "      <td>7000</td>\n",
       "    </tr>\n",
       "    <tr>\n",
       "      <th>4</th>\n",
       "      <td>2019</td>\n",
       "      <td>111000</td>\n",
       "      <td>9000</td>\n",
       "    </tr>\n",
       "    <tr>\n",
       "      <th>5</th>\n",
       "      <td>2020</td>\n",
       "      <td>109000</td>\n",
       "      <td>3000</td>\n",
       "    </tr>\n",
       "  </tbody>\n",
       "</table>\n",
       "</div>"
      ],
      "text/plain": [
       "   year   sales  profit\n",
       "0  2015  102000    5000\n",
       "1  2016  101000    6000\n",
       "2  2017  105000    8000\n",
       "3  2018  115000    7000\n",
       "4  2019  111000    9000\n",
       "5  2020  109000    3000"
      ]
     },
     "execution_count": 110,
     "metadata": {},
     "output_type": "execute_result"
    }
   ],
   "source": [
    "company_df"
   ]
  },
  {
   "cell_type": "markdown",
   "metadata": {},
   "source": [
    "You can define the order of columns when creating a dataframe."
   ]
  },
  {
   "cell_type": "code",
   "execution_count": 111,
   "metadata": {},
   "outputs": [
    {
     "data": {
      "text/html": [
       "<div>\n",
       "<style scoped>\n",
       "    .dataframe tbody tr th:only-of-type {\n",
       "        vertical-align: middle;\n",
       "    }\n",
       "\n",
       "    .dataframe tbody tr th {\n",
       "        vertical-align: top;\n",
       "    }\n",
       "\n",
       "    .dataframe thead th {\n",
       "        text-align: right;\n",
       "    }\n",
       "</style>\n",
       "<table border=\"1\" class=\"dataframe\">\n",
       "  <thead>\n",
       "    <tr style=\"text-align: right;\">\n",
       "      <th></th>\n",
       "      <th>year</th>\n",
       "      <th>profit</th>\n",
       "      <th>sales</th>\n",
       "    </tr>\n",
       "  </thead>\n",
       "  <tbody>\n",
       "    <tr>\n",
       "      <th>0</th>\n",
       "      <td>2015</td>\n",
       "      <td>5000</td>\n",
       "      <td>102000</td>\n",
       "    </tr>\n",
       "    <tr>\n",
       "      <th>1</th>\n",
       "      <td>2016</td>\n",
       "      <td>6000</td>\n",
       "      <td>101000</td>\n",
       "    </tr>\n",
       "    <tr>\n",
       "      <th>2</th>\n",
       "      <td>2017</td>\n",
       "      <td>8000</td>\n",
       "      <td>105000</td>\n",
       "    </tr>\n",
       "    <tr>\n",
       "      <th>3</th>\n",
       "      <td>2018</td>\n",
       "      <td>7000</td>\n",
       "      <td>115000</td>\n",
       "    </tr>\n",
       "    <tr>\n",
       "      <th>4</th>\n",
       "      <td>2019</td>\n",
       "      <td>9000</td>\n",
       "      <td>111000</td>\n",
       "    </tr>\n",
       "    <tr>\n",
       "      <th>5</th>\n",
       "      <td>2020</td>\n",
       "      <td>3000</td>\n",
       "      <td>109000</td>\n",
       "    </tr>\n",
       "  </tbody>\n",
       "</table>\n",
       "</div>"
      ],
      "text/plain": [
       "   year  profit   sales\n",
       "0  2015    5000  102000\n",
       "1  2016    6000  101000\n",
       "2  2017    8000  105000\n",
       "3  2018    7000  115000\n",
       "4  2019    9000  111000\n",
       "5  2020    3000  109000"
      ]
     },
     "execution_count": 111,
     "metadata": {},
     "output_type": "execute_result"
    }
   ],
   "source": [
    "pd.DataFrame(company_data, columns = ['year','profit','sales'])"
   ]
  },
  {
   "cell_type": "markdown",
   "metadata": {},
   "source": [
    "If you add a column to the list that is not included in the dict, it will be added to the dataframe with missing values."
   ]
  },
  {
   "cell_type": "code",
   "execution_count": 114,
   "metadata": {},
   "outputs": [],
   "source": [
    "company_df = pd.DataFrame(company_data, columns = ['year','sales','profit','total_assets'])"
   ]
  },
  {
   "cell_type": "code",
   "execution_count": 115,
   "metadata": {},
   "outputs": [
    {
     "data": {
      "text/html": [
       "<div>\n",
       "<style scoped>\n",
       "    .dataframe tbody tr th:only-of-type {\n",
       "        vertical-align: middle;\n",
       "    }\n",
       "\n",
       "    .dataframe tbody tr th {\n",
       "        vertical-align: top;\n",
       "    }\n",
       "\n",
       "    .dataframe thead th {\n",
       "        text-align: right;\n",
       "    }\n",
       "</style>\n",
       "<table border=\"1\" class=\"dataframe\">\n",
       "  <thead>\n",
       "    <tr style=\"text-align: right;\">\n",
       "      <th></th>\n",
       "      <th>year</th>\n",
       "      <th>sales</th>\n",
       "      <th>profit</th>\n",
       "      <th>total_assets</th>\n",
       "    </tr>\n",
       "  </thead>\n",
       "  <tbody>\n",
       "    <tr>\n",
       "      <th>0</th>\n",
       "      <td>2015</td>\n",
       "      <td>102000</td>\n",
       "      <td>5000</td>\n",
       "      <td>NaN</td>\n",
       "    </tr>\n",
       "    <tr>\n",
       "      <th>1</th>\n",
       "      <td>2016</td>\n",
       "      <td>101000</td>\n",
       "      <td>6000</td>\n",
       "      <td>NaN</td>\n",
       "    </tr>\n",
       "    <tr>\n",
       "      <th>2</th>\n",
       "      <td>2017</td>\n",
       "      <td>105000</td>\n",
       "      <td>8000</td>\n",
       "      <td>NaN</td>\n",
       "    </tr>\n",
       "    <tr>\n",
       "      <th>3</th>\n",
       "      <td>2018</td>\n",
       "      <td>115000</td>\n",
       "      <td>7000</td>\n",
       "      <td>NaN</td>\n",
       "    </tr>\n",
       "    <tr>\n",
       "      <th>4</th>\n",
       "      <td>2019</td>\n",
       "      <td>111000</td>\n",
       "      <td>9000</td>\n",
       "      <td>NaN</td>\n",
       "    </tr>\n",
       "    <tr>\n",
       "      <th>5</th>\n",
       "      <td>2020</td>\n",
       "      <td>109000</td>\n",
       "      <td>3000</td>\n",
       "      <td>NaN</td>\n",
       "    </tr>\n",
       "  </tbody>\n",
       "</table>\n",
       "</div>"
      ],
      "text/plain": [
       "   year   sales  profit total_assets\n",
       "0  2015  102000    5000          NaN\n",
       "1  2016  101000    6000          NaN\n",
       "2  2017  105000    8000          NaN\n",
       "3  2018  115000    7000          NaN\n",
       "4  2019  111000    9000          NaN\n",
       "5  2020  109000    3000          NaN"
      ]
     },
     "execution_count": 115,
     "metadata": {},
     "output_type": "execute_result"
    }
   ],
   "source": [
    "company_df"
   ]
  },
  {
   "cell_type": "markdown",
   "metadata": {},
   "source": [
    "You can pick up one column from a dataframe using the usual bracket-notation. It will return the column as a Pandas series."
   ]
  },
  {
   "cell_type": "code",
   "execution_count": 113,
   "metadata": {},
   "outputs": [
    {
     "data": {
      "text/plain": [
       "0    5000\n",
       "1    6000\n",
       "2    8000\n",
       "3    7000\n",
       "4    9000\n",
       "5    3000\n",
       "Name: profit, dtype: int64"
      ]
     },
     "execution_count": 113,
     "metadata": {},
     "output_type": "execute_result"
    }
   ],
   "source": [
    "company_df['profit']"
   ]
  },
  {
   "cell_type": "markdown",
   "metadata": {},
   "source": [
    "Value assignment to a dataframe is easy. You can either add one value that is repeated in every instance of a column."
   ]
  },
  {
   "cell_type": "code",
   "execution_count": 116,
   "metadata": {},
   "outputs": [],
   "source": [
    "company_df['total_assets'] = 105000"
   ]
  },
  {
   "cell_type": "code",
   "execution_count": 117,
   "metadata": {},
   "outputs": [
    {
     "data": {
      "text/html": [
       "<div>\n",
       "<style scoped>\n",
       "    .dataframe tbody tr th:only-of-type {\n",
       "        vertical-align: middle;\n",
       "    }\n",
       "\n",
       "    .dataframe tbody tr th {\n",
       "        vertical-align: top;\n",
       "    }\n",
       "\n",
       "    .dataframe thead th {\n",
       "        text-align: right;\n",
       "    }\n",
       "</style>\n",
       "<table border=\"1\" class=\"dataframe\">\n",
       "  <thead>\n",
       "    <tr style=\"text-align: right;\">\n",
       "      <th></th>\n",
       "      <th>year</th>\n",
       "      <th>sales</th>\n",
       "      <th>profit</th>\n",
       "      <th>total_assets</th>\n",
       "    </tr>\n",
       "  </thead>\n",
       "  <tbody>\n",
       "    <tr>\n",
       "      <th>0</th>\n",
       "      <td>2015</td>\n",
       "      <td>102000</td>\n",
       "      <td>5000</td>\n",
       "      <td>105000</td>\n",
       "    </tr>\n",
       "    <tr>\n",
       "      <th>1</th>\n",
       "      <td>2016</td>\n",
       "      <td>101000</td>\n",
       "      <td>6000</td>\n",
       "      <td>105000</td>\n",
       "    </tr>\n",
       "    <tr>\n",
       "      <th>2</th>\n",
       "      <td>2017</td>\n",
       "      <td>105000</td>\n",
       "      <td>8000</td>\n",
       "      <td>105000</td>\n",
       "    </tr>\n",
       "    <tr>\n",
       "      <th>3</th>\n",
       "      <td>2018</td>\n",
       "      <td>115000</td>\n",
       "      <td>7000</td>\n",
       "      <td>105000</td>\n",
       "    </tr>\n",
       "    <tr>\n",
       "      <th>4</th>\n",
       "      <td>2019</td>\n",
       "      <td>111000</td>\n",
       "      <td>9000</td>\n",
       "      <td>105000</td>\n",
       "    </tr>\n",
       "    <tr>\n",
       "      <th>5</th>\n",
       "      <td>2020</td>\n",
       "      <td>109000</td>\n",
       "      <td>3000</td>\n",
       "      <td>105000</td>\n",
       "    </tr>\n",
       "  </tbody>\n",
       "</table>\n",
       "</div>"
      ],
      "text/plain": [
       "   year   sales  profit  total_assets\n",
       "0  2015  102000    5000        105000\n",
       "1  2016  101000    6000        105000\n",
       "2  2017  105000    8000        105000\n",
       "3  2018  115000    7000        105000\n",
       "4  2019  111000    9000        105000\n",
       "5  2020  109000    3000        105000"
      ]
     },
     "execution_count": 117,
     "metadata": {},
     "output_type": "execute_result"
    }
   ],
   "source": [
    "company_df"
   ]
  },
  {
   "cell_type": "markdown",
   "metadata": {},
   "source": [
    "Or you can add a full list of values."
   ]
  },
  {
   "cell_type": "code",
   "execution_count": 118,
   "metadata": {},
   "outputs": [],
   "source": [
    "company_df['total_assets'] = np.random.randint(105000,120000,6)"
   ]
  },
  {
   "cell_type": "code",
   "execution_count": 119,
   "metadata": {},
   "outputs": [
    {
     "data": {
      "text/html": [
       "<div>\n",
       "<style scoped>\n",
       "    .dataframe tbody tr th:only-of-type {\n",
       "        vertical-align: middle;\n",
       "    }\n",
       "\n",
       "    .dataframe tbody tr th {\n",
       "        vertical-align: top;\n",
       "    }\n",
       "\n",
       "    .dataframe thead th {\n",
       "        text-align: right;\n",
       "    }\n",
       "</style>\n",
       "<table border=\"1\" class=\"dataframe\">\n",
       "  <thead>\n",
       "    <tr style=\"text-align: right;\">\n",
       "      <th></th>\n",
       "      <th>year</th>\n",
       "      <th>sales</th>\n",
       "      <th>profit</th>\n",
       "      <th>total_assets</th>\n",
       "    </tr>\n",
       "  </thead>\n",
       "  <tbody>\n",
       "    <tr>\n",
       "      <th>0</th>\n",
       "      <td>2015</td>\n",
       "      <td>102000</td>\n",
       "      <td>5000</td>\n",
       "      <td>109004</td>\n",
       "    </tr>\n",
       "    <tr>\n",
       "      <th>1</th>\n",
       "      <td>2016</td>\n",
       "      <td>101000</td>\n",
       "      <td>6000</td>\n",
       "      <td>109098</td>\n",
       "    </tr>\n",
       "    <tr>\n",
       "      <th>2</th>\n",
       "      <td>2017</td>\n",
       "      <td>105000</td>\n",
       "      <td>8000</td>\n",
       "      <td>108761</td>\n",
       "    </tr>\n",
       "    <tr>\n",
       "      <th>3</th>\n",
       "      <td>2018</td>\n",
       "      <td>115000</td>\n",
       "      <td>7000</td>\n",
       "      <td>113786</td>\n",
       "    </tr>\n",
       "    <tr>\n",
       "      <th>4</th>\n",
       "      <td>2019</td>\n",
       "      <td>111000</td>\n",
       "      <td>9000</td>\n",
       "      <td>108386</td>\n",
       "    </tr>\n",
       "    <tr>\n",
       "      <th>5</th>\n",
       "      <td>2020</td>\n",
       "      <td>109000</td>\n",
       "      <td>3000</td>\n",
       "      <td>112777</td>\n",
       "    </tr>\n",
       "  </tbody>\n",
       "</table>\n",
       "</div>"
      ],
      "text/plain": [
       "   year   sales  profit  total_assets\n",
       "0  2015  102000    5000        109004\n",
       "1  2016  101000    6000        109098\n",
       "2  2017  105000    8000        108761\n",
       "3  2018  115000    7000        113786\n",
       "4  2019  111000    9000        108386\n",
       "5  2020  109000    3000        112777"
      ]
     },
     "execution_count": 119,
     "metadata": {},
     "output_type": "execute_result"
    }
   ],
   "source": [
    "company_df"
   ]
  },
  {
   "cell_type": "markdown",
   "metadata": {},
   "source": [
    "Remember that if you add a Pandas series to a datarame, the values will be matched according to their index values!  For missing index values, a NaN-value will be added."
   ]
  },
  {
   "cell_type": "code",
   "execution_count": 125,
   "metadata": {},
   "outputs": [],
   "source": [
    "debt_sr = pd.Series([9000,6000,8000,10000],index=[2,0,5,3])"
   ]
  },
  {
   "cell_type": "code",
   "execution_count": 126,
   "metadata": {},
   "outputs": [
    {
     "data": {
      "text/plain": [
       "2     9000\n",
       "0     6000\n",
       "5     8000\n",
       "3    10000\n",
       "dtype: int64"
      ]
     },
     "execution_count": 126,
     "metadata": {},
     "output_type": "execute_result"
    }
   ],
   "source": [
    "debt_sr"
   ]
  },
  {
   "cell_type": "code",
   "execution_count": 127,
   "metadata": {},
   "outputs": [],
   "source": [
    "company_df['debt']  = debt_sr"
   ]
  },
  {
   "cell_type": "code",
   "execution_count": 128,
   "metadata": {},
   "outputs": [
    {
     "data": {
      "text/html": [
       "<div>\n",
       "<style scoped>\n",
       "    .dataframe tbody tr th:only-of-type {\n",
       "        vertical-align: middle;\n",
       "    }\n",
       "\n",
       "    .dataframe tbody tr th {\n",
       "        vertical-align: top;\n",
       "    }\n",
       "\n",
       "    .dataframe thead th {\n",
       "        text-align: right;\n",
       "    }\n",
       "</style>\n",
       "<table border=\"1\" class=\"dataframe\">\n",
       "  <thead>\n",
       "    <tr style=\"text-align: right;\">\n",
       "      <th></th>\n",
       "      <th>year</th>\n",
       "      <th>sales</th>\n",
       "      <th>profit</th>\n",
       "      <th>total_assets</th>\n",
       "      <th>debt</th>\n",
       "    </tr>\n",
       "  </thead>\n",
       "  <tbody>\n",
       "    <tr>\n",
       "      <th>0</th>\n",
       "      <td>2015</td>\n",
       "      <td>102000</td>\n",
       "      <td>5000</td>\n",
       "      <td>109004</td>\n",
       "      <td>6000.0</td>\n",
       "    </tr>\n",
       "    <tr>\n",
       "      <th>1</th>\n",
       "      <td>2016</td>\n",
       "      <td>101000</td>\n",
       "      <td>6000</td>\n",
       "      <td>109098</td>\n",
       "      <td>NaN</td>\n",
       "    </tr>\n",
       "    <tr>\n",
       "      <th>2</th>\n",
       "      <td>2017</td>\n",
       "      <td>105000</td>\n",
       "      <td>8000</td>\n",
       "      <td>108761</td>\n",
       "      <td>9000.0</td>\n",
       "    </tr>\n",
       "    <tr>\n",
       "      <th>3</th>\n",
       "      <td>2018</td>\n",
       "      <td>115000</td>\n",
       "      <td>7000</td>\n",
       "      <td>113786</td>\n",
       "      <td>10000.0</td>\n",
       "    </tr>\n",
       "    <tr>\n",
       "      <th>4</th>\n",
       "      <td>2019</td>\n",
       "      <td>111000</td>\n",
       "      <td>9000</td>\n",
       "      <td>108386</td>\n",
       "      <td>NaN</td>\n",
       "    </tr>\n",
       "    <tr>\n",
       "      <th>5</th>\n",
       "      <td>2020</td>\n",
       "      <td>109000</td>\n",
       "      <td>3000</td>\n",
       "      <td>112777</td>\n",
       "      <td>8000.0</td>\n",
       "    </tr>\n",
       "  </tbody>\n",
       "</table>\n",
       "</div>"
      ],
      "text/plain": [
       "   year   sales  profit  total_assets     debt\n",
       "0  2015  102000    5000        109004   6000.0\n",
       "1  2016  101000    6000        109098      NaN\n",
       "2  2017  105000    8000        108761   9000.0\n",
       "3  2018  115000    7000        113786  10000.0\n",
       "4  2019  111000    9000        108386      NaN\n",
       "5  2020  109000    3000        112777   8000.0"
      ]
     },
     "execution_count": 128,
     "metadata": {},
     "output_type": "execute_result"
    }
   ],
   "source": [
    "company_df"
   ]
  },
  {
   "cell_type": "markdown",
   "metadata": {},
   "source": [
    "There are many ways to remove columns. One option is to use **del** that works also with other Python data types."
   ]
  },
  {
   "cell_type": "code",
   "execution_count": 129,
   "metadata": {},
   "outputs": [],
   "source": [
    "del company_df['debt']"
   ]
  },
  {
   "cell_type": "code",
   "execution_count": 130,
   "metadata": {},
   "outputs": [
    {
     "data": {
      "text/html": [
       "<div>\n",
       "<style scoped>\n",
       "    .dataframe tbody tr th:only-of-type {\n",
       "        vertical-align: middle;\n",
       "    }\n",
       "\n",
       "    .dataframe tbody tr th {\n",
       "        vertical-align: top;\n",
       "    }\n",
       "\n",
       "    .dataframe thead th {\n",
       "        text-align: right;\n",
       "    }\n",
       "</style>\n",
       "<table border=\"1\" class=\"dataframe\">\n",
       "  <thead>\n",
       "    <tr style=\"text-align: right;\">\n",
       "      <th></th>\n",
       "      <th>year</th>\n",
       "      <th>sales</th>\n",
       "      <th>profit</th>\n",
       "      <th>total_assets</th>\n",
       "    </tr>\n",
       "  </thead>\n",
       "  <tbody>\n",
       "    <tr>\n",
       "      <th>0</th>\n",
       "      <td>2015</td>\n",
       "      <td>102000</td>\n",
       "      <td>5000</td>\n",
       "      <td>109004</td>\n",
       "    </tr>\n",
       "    <tr>\n",
       "      <th>1</th>\n",
       "      <td>2016</td>\n",
       "      <td>101000</td>\n",
       "      <td>6000</td>\n",
       "      <td>109098</td>\n",
       "    </tr>\n",
       "    <tr>\n",
       "      <th>2</th>\n",
       "      <td>2017</td>\n",
       "      <td>105000</td>\n",
       "      <td>8000</td>\n",
       "      <td>108761</td>\n",
       "    </tr>\n",
       "    <tr>\n",
       "      <th>3</th>\n",
       "      <td>2018</td>\n",
       "      <td>115000</td>\n",
       "      <td>7000</td>\n",
       "      <td>113786</td>\n",
       "    </tr>\n",
       "    <tr>\n",
       "      <th>4</th>\n",
       "      <td>2019</td>\n",
       "      <td>111000</td>\n",
       "      <td>9000</td>\n",
       "      <td>108386</td>\n",
       "    </tr>\n",
       "    <tr>\n",
       "      <th>5</th>\n",
       "      <td>2020</td>\n",
       "      <td>109000</td>\n",
       "      <td>3000</td>\n",
       "      <td>112777</td>\n",
       "    </tr>\n",
       "  </tbody>\n",
       "</table>\n",
       "</div>"
      ],
      "text/plain": [
       "   year   sales  profit  total_assets\n",
       "0  2015  102000    5000        109004\n",
       "1  2016  101000    6000        109098\n",
       "2  2017  105000    8000        108761\n",
       "3  2018  115000    7000        113786\n",
       "4  2019  111000    9000        108386\n",
       "5  2020  109000    3000        112777"
      ]
     },
     "execution_count": 130,
     "metadata": {},
     "output_type": "execute_result"
    }
   ],
   "source": [
    "company_df"
   ]
  },
  {
   "cell_type": "markdown",
   "metadata": {},
   "source": [
    "A dict of dicts can also by used to create a dataframe. The keys of the outer dict are the columns and the keys of the inner dict are the index values. (Btw., In real applications we are not \"writing\" our data. Almost always we load the data from a file, using for example, Pandas **read_csv()**. So, do not worry.) "
   ]
  },
  {
   "cell_type": "code",
   "execution_count": 131,
   "metadata": {},
   "outputs": [],
   "source": [
    "company_dict = {'company a': {2010: 10.9, 2011: 8.7, 2012: 9.5},'company b': {2010: 11.2, 2011: 9.6, 2012: 8.8}}"
   ]
  },
  {
   "cell_type": "code",
   "execution_count": 132,
   "metadata": {},
   "outputs": [],
   "source": [
    "new_df = pd.DataFrame(company_dict)"
   ]
  },
  {
   "cell_type": "code",
   "execution_count": 133,
   "metadata": {},
   "outputs": [
    {
     "data": {
      "text/html": [
       "<div>\n",
       "<style scoped>\n",
       "    .dataframe tbody tr th:only-of-type {\n",
       "        vertical-align: middle;\n",
       "    }\n",
       "\n",
       "    .dataframe tbody tr th {\n",
       "        vertical-align: top;\n",
       "    }\n",
       "\n",
       "    .dataframe thead th {\n",
       "        text-align: right;\n",
       "    }\n",
       "</style>\n",
       "<table border=\"1\" class=\"dataframe\">\n",
       "  <thead>\n",
       "    <tr style=\"text-align: right;\">\n",
       "      <th></th>\n",
       "      <th>company a</th>\n",
       "      <th>company b</th>\n",
       "    </tr>\n",
       "  </thead>\n",
       "  <tbody>\n",
       "    <tr>\n",
       "      <th>2010</th>\n",
       "      <td>10.9</td>\n",
       "      <td>11.2</td>\n",
       "    </tr>\n",
       "    <tr>\n",
       "      <th>2011</th>\n",
       "      <td>8.7</td>\n",
       "      <td>9.6</td>\n",
       "    </tr>\n",
       "    <tr>\n",
       "      <th>2012</th>\n",
       "      <td>9.5</td>\n",
       "      <td>8.8</td>\n",
       "    </tr>\n",
       "  </tbody>\n",
       "</table>\n",
       "</div>"
      ],
      "text/plain": [
       "      company a  company b\n",
       "2010       10.9       11.2\n",
       "2011        8.7        9.6\n",
       "2012        9.5        8.8"
      ]
     },
     "execution_count": 133,
     "metadata": {},
     "output_type": "execute_result"
    }
   ],
   "source": [
    "new_df"
   ]
  },
  {
   "cell_type": "markdown",
   "metadata": {},
   "source": [
    "Transposing data is done in the same way as in Numpy, just by adding **.T** after the name of the dataframe."
   ]
  },
  {
   "cell_type": "code",
   "execution_count": 135,
   "metadata": {},
   "outputs": [
    {
     "data": {
      "text/html": [
       "<div>\n",
       "<style scoped>\n",
       "    .dataframe tbody tr th:only-of-type {\n",
       "        vertical-align: middle;\n",
       "    }\n",
       "\n",
       "    .dataframe tbody tr th {\n",
       "        vertical-align: top;\n",
       "    }\n",
       "\n",
       "    .dataframe thead th {\n",
       "        text-align: right;\n",
       "    }\n",
       "</style>\n",
       "<table border=\"1\" class=\"dataframe\">\n",
       "  <thead>\n",
       "    <tr style=\"text-align: right;\">\n",
       "      <th></th>\n",
       "      <th>2010</th>\n",
       "      <th>2011</th>\n",
       "      <th>2012</th>\n",
       "    </tr>\n",
       "  </thead>\n",
       "  <tbody>\n",
       "    <tr>\n",
       "      <th>company a</th>\n",
       "      <td>10.9</td>\n",
       "      <td>8.7</td>\n",
       "      <td>9.5</td>\n",
       "    </tr>\n",
       "    <tr>\n",
       "      <th>company b</th>\n",
       "      <td>11.2</td>\n",
       "      <td>9.6</td>\n",
       "      <td>8.8</td>\n",
       "    </tr>\n",
       "  </tbody>\n",
       "</table>\n",
       "</div>"
      ],
      "text/plain": [
       "           2010  2011  2012\n",
       "company a  10.9   8.7   9.5\n",
       "company b  11.2   9.6   8.8"
      ]
     },
     "execution_count": 135,
     "metadata": {},
     "output_type": "execute_result"
    }
   ],
   "source": [
    "new_df.T"
   ]
  },
  {
   "cell_type": "markdown",
   "metadata": {},
   "source": [
    "There are still many other ways to construct a dataframe, and we will use some of them in the following chapters. A detailed introduction to constructing a dataframe can be found here: [pandas.pydata.org/pandas-docs/stable/user_guide/dsintro.html](https://pandas.pydata.org/pandas-docs/stable/user_guide/dsintro.html)"
   ]
  },
  {
   "cell_type": "markdown",
   "metadata": {},
   "source": [
    "There is actually a third data type in Pandas, **Index objects**. They are used to hold the labels of columns and index of a dataframe or series. A Pandas **index** is immutable and has similiraties with Python sets. However, the Pandas **index** can contain duplicate items."
   ]
  },
  {
   "cell_type": "code",
   "execution_count": 136,
   "metadata": {},
   "outputs": [
    {
     "data": {
      "text/plain": [
       "Int64Index([2010, 2011, 2012], dtype='int64')"
      ]
     },
     "execution_count": 136,
     "metadata": {},
     "output_type": "execute_result"
    }
   ],
   "source": [
    "new_df.index"
   ]
  },
  {
   "cell_type": "markdown",
   "metadata": {},
   "source": [
    "### Basic Pandas functions"
   ]
  },
  {
   "cell_type": "markdown",
   "metadata": {},
   "source": [
    "Let's use a more realistic data for the following examples.( More about **read_csv()** in the later chapters.)"
   ]
  },
  {
   "cell_type": "code",
   "execution_count": 2,
   "metadata": {},
   "outputs": [],
   "source": [
    "big_companies_df = pd.read_csv('big_companies.csv',index_col='NAME',delimiter=';')"
   ]
  },
  {
   "cell_type": "code",
   "execution_count": 3,
   "metadata": {},
   "outputs": [
    {
     "data": {
      "text/html": [
       "<div>\n",
       "<style scoped>\n",
       "    .dataframe tbody tr th:only-of-type {\n",
       "        vertical-align: middle;\n",
       "    }\n",
       "\n",
       "    .dataframe tbody tr th {\n",
       "        vertical-align: top;\n",
       "    }\n",
       "\n",
       "    .dataframe thead th {\n",
       "        text-align: right;\n",
       "    }\n",
       "</style>\n",
       "<table border=\"1\" class=\"dataframe\">\n",
       "  <thead>\n",
       "    <tr style=\"text-align: right;\">\n",
       "      <th></th>\n",
       "      <th>DIVIDEND YIELD</th>\n",
       "      <th>CASH FLOW/SALES</th>\n",
       "      <th>RETURN ON EQUITY - TOTAL (%)</th>\n",
       "      <th>RETURN ON INVESTED CAPITAL</th>\n",
       "      <th>P/E - RATIO</th>\n",
       "      <th>TOTAL DEBT % COMMON EQUITY</th>\n",
       "    </tr>\n",
       "    <tr>\n",
       "      <th>NAME</th>\n",
       "      <th></th>\n",
       "      <th></th>\n",
       "      <th></th>\n",
       "      <th></th>\n",
       "      <th></th>\n",
       "      <th></th>\n",
       "    </tr>\n",
       "  </thead>\n",
       "  <tbody>\n",
       "    <tr>\n",
       "      <th>APPLE</th>\n",
       "      <td>0.71</td>\n",
       "      <td>28.01</td>\n",
       "      <td>55.92</td>\n",
       "      <td>27.65</td>\n",
       "      <td>35.4</td>\n",
       "      <td>119.40</td>\n",
       "    </tr>\n",
       "    <tr>\n",
       "      <th>SAUDI ARABIAN OIL</th>\n",
       "      <td>0.21</td>\n",
       "      <td>31.73</td>\n",
       "      <td>32.25</td>\n",
       "      <td>28.34</td>\n",
       "      <td>29.5</td>\n",
       "      <td>16.96</td>\n",
       "    </tr>\n",
       "    <tr>\n",
       "      <th>MICROSOFT</th>\n",
       "      <td>1.06</td>\n",
       "      <td>43.46</td>\n",
       "      <td>40.14</td>\n",
       "      <td>24.89</td>\n",
       "      <td>36.5</td>\n",
       "      <td>61.56</td>\n",
       "    </tr>\n",
       "    <tr>\n",
       "      <th>AMAZON.COM</th>\n",
       "      <td>0.00</td>\n",
       "      <td>14.60</td>\n",
       "      <td>21.95</td>\n",
       "      <td>12.97</td>\n",
       "      <td>121.1</td>\n",
       "      <td>83.31</td>\n",
       "    </tr>\n",
       "    <tr>\n",
       "      <th>ALIBABA GROUP HOLDING ADR 1:8</th>\n",
       "      <td>0.00</td>\n",
       "      <td>31.23</td>\n",
       "      <td>23.77</td>\n",
       "      <td>17.39</td>\n",
       "      <td>31.0</td>\n",
       "      <td>16.60</td>\n",
       "    </tr>\n",
       "    <tr>\n",
       "      <th>FACEBOOK CLASS A</th>\n",
       "      <td>0.00</td>\n",
       "      <td>41.11</td>\n",
       "      <td>19.96</td>\n",
       "      <td>19.94</td>\n",
       "      <td>32.0</td>\n",
       "      <td>0.47</td>\n",
       "    </tr>\n",
       "    <tr>\n",
       "      <th>TENCENT HOLDINGS</th>\n",
       "      <td>0.23</td>\n",
       "      <td>35.55</td>\n",
       "      <td>24.68</td>\n",
       "      <td>15.92</td>\n",
       "      <td>42.6</td>\n",
       "      <td>53.74</td>\n",
       "    </tr>\n",
       "    <tr>\n",
       "      <th>ALPHABET A</th>\n",
       "      <td>0.00</td>\n",
       "      <td>33.18</td>\n",
       "      <td>18.12</td>\n",
       "      <td>17.76</td>\n",
       "      <td>33.2</td>\n",
       "      <td>2.26</td>\n",
       "    </tr>\n",
       "    <tr>\n",
       "      <th>TESLA</th>\n",
       "      <td>0.00</td>\n",
       "      <td>11.21</td>\n",
       "      <td>-14.94</td>\n",
       "      <td>-1.61</td>\n",
       "      <td>1036.3</td>\n",
       "      <td>202.77</td>\n",
       "    </tr>\n",
       "    <tr>\n",
       "      <th>WALMART</th>\n",
       "      <td>1.54</td>\n",
       "      <td>4.88</td>\n",
       "      <td>20.22</td>\n",
       "      <td>12.55</td>\n",
       "      <td>26.6</td>\n",
       "      <td>72.95</td>\n",
       "    </tr>\n",
       "    <tr>\n",
       "      <th>JOHNSON &amp; JOHNSON</th>\n",
       "      <td>2.71</td>\n",
       "      <td>23.83</td>\n",
       "      <td>25.36</td>\n",
       "      <td>17.38</td>\n",
       "      <td>26.7</td>\n",
       "      <td>46.57</td>\n",
       "    </tr>\n",
       "    <tr>\n",
       "      <th>TAIWAN SEMICON.MNFG.</th>\n",
       "      <td>2.31</td>\n",
       "      <td>57.91</td>\n",
       "      <td>20.94</td>\n",
       "      <td>18.96</td>\n",
       "      <td>24.7</td>\n",
       "      <td>11.89</td>\n",
       "    </tr>\n",
       "    <tr>\n",
       "      <th>NESTLE 'N'</th>\n",
       "      <td>2.47</td>\n",
       "      <td>16.85</td>\n",
       "      <td>23.05</td>\n",
       "      <td>14.21</td>\n",
       "      <td>23.3</td>\n",
       "      <td>71.42</td>\n",
       "    </tr>\n",
       "  </tbody>\n",
       "</table>\n",
       "</div>"
      ],
      "text/plain": [
       "                               DIVIDEND YIELD  CASH FLOW/SALES  \\\n",
       "NAME                                                             \n",
       "APPLE                                    0.71            28.01   \n",
       "SAUDI ARABIAN OIL                        0.21            31.73   \n",
       "MICROSOFT                                1.06            43.46   \n",
       "AMAZON.COM                               0.00            14.60   \n",
       "ALIBABA GROUP HOLDING ADR 1:8            0.00            31.23   \n",
       "FACEBOOK CLASS A                         0.00            41.11   \n",
       "TENCENT HOLDINGS                         0.23            35.55   \n",
       "ALPHABET A                               0.00            33.18   \n",
       "TESLA                                    0.00            11.21   \n",
       "WALMART                                  1.54             4.88   \n",
       "JOHNSON & JOHNSON                        2.71            23.83   \n",
       "TAIWAN SEMICON.MNFG.                     2.31            57.91   \n",
       "NESTLE 'N'                               2.47            16.85   \n",
       "\n",
       "                               RETURN ON EQUITY - TOTAL (%)  \\\n",
       "NAME                                                          \n",
       "APPLE                                                 55.92   \n",
       "SAUDI ARABIAN OIL                                     32.25   \n",
       "MICROSOFT                                             40.14   \n",
       "AMAZON.COM                                            21.95   \n",
       "ALIBABA GROUP HOLDING ADR 1:8                         23.77   \n",
       "FACEBOOK CLASS A                                      19.96   \n",
       "TENCENT HOLDINGS                                      24.68   \n",
       "ALPHABET A                                            18.12   \n",
       "TESLA                                                -14.94   \n",
       "WALMART                                               20.22   \n",
       "JOHNSON & JOHNSON                                     25.36   \n",
       "TAIWAN SEMICON.MNFG.                                  20.94   \n",
       "NESTLE 'N'                                            23.05   \n",
       "\n",
       "                               RETURN ON INVESTED CAPITAL  P/E - RATIO  \\\n",
       "NAME                                                                     \n",
       "APPLE                                               27.65         35.4   \n",
       "SAUDI ARABIAN OIL                                   28.34         29.5   \n",
       "MICROSOFT                                           24.89         36.5   \n",
       "AMAZON.COM                                          12.97        121.1   \n",
       "ALIBABA GROUP HOLDING ADR 1:8                       17.39         31.0   \n",
       "FACEBOOK CLASS A                                    19.94         32.0   \n",
       "TENCENT HOLDINGS                                    15.92         42.6   \n",
       "ALPHABET A                                          17.76         33.2   \n",
       "TESLA                                               -1.61       1036.3   \n",
       "WALMART                                             12.55         26.6   \n",
       "JOHNSON & JOHNSON                                   17.38         26.7   \n",
       "TAIWAN SEMICON.MNFG.                                18.96         24.7   \n",
       "NESTLE 'N'                                          14.21         23.3   \n",
       "\n",
       "                               TOTAL DEBT % COMMON EQUITY  \n",
       "NAME                                                       \n",
       "APPLE                                              119.40  \n",
       "SAUDI ARABIAN OIL                                   16.96  \n",
       "MICROSOFT                                           61.56  \n",
       "AMAZON.COM                                          83.31  \n",
       "ALIBABA GROUP HOLDING ADR 1:8                       16.60  \n",
       "FACEBOOK CLASS A                                     0.47  \n",
       "TENCENT HOLDINGS                                    53.74  \n",
       "ALPHABET A                                           2.26  \n",
       "TESLA                                              202.77  \n",
       "WALMART                                             72.95  \n",
       "JOHNSON & JOHNSON                                   46.57  \n",
       "TAIWAN SEMICON.MNFG.                                11.89  \n",
       "NESTLE 'N'                                          71.42  "
      ]
     },
     "execution_count": 3,
     "metadata": {},
     "output_type": "execute_result"
    }
   ],
   "source": [
    "big_companies_df"
   ]
  },
  {
   "cell_type": "markdown",
   "metadata": {},
   "source": [
    "With **reindex()**, you can rearrange the values of the dataframe. Let's load Numpy."
   ]
  },
  {
   "cell_type": "code",
   "execution_count": 4,
   "metadata": {},
   "outputs": [],
   "source": [
    "import numpy as np"
   ]
  },
  {
   "cell_type": "markdown",
   "metadata": {},
   "source": [
    "The following command shuffles the order of the index values (company names)."
   ]
  },
  {
   "cell_type": "code",
   "execution_count": 5,
   "metadata": {},
   "outputs": [],
   "source": [
    "random_order = np.random.permutation(big_companies_df.index)"
   ]
  },
  {
   "cell_type": "code",
   "execution_count": 6,
   "metadata": {},
   "outputs": [
    {
     "data": {
      "text/plain": [
       "array(['MICROSOFT', 'APPLE', 'WALMART', 'ALPHABET A', \"NESTLE 'N'\",\n",
       "       'TESLA', 'SAUDI ARABIAN OIL', 'TAIWAN SEMICON.MNFG.',\n",
       "       'JOHNSON & JOHNSON', 'TENCENT HOLDINGS', 'AMAZON.COM',\n",
       "       'FACEBOOK CLASS A', 'ALIBABA GROUP HOLDING ADR 1:8'], dtype=object)"
      ]
     },
     "execution_count": 6,
     "metadata": {},
     "output_type": "execute_result"
    }
   ],
   "source": [
    "random_order"
   ]
  },
  {
   "cell_type": "code",
   "execution_count": 7,
   "metadata": {},
   "outputs": [
    {
     "data": {
      "text/html": [
       "<div>\n",
       "<style scoped>\n",
       "    .dataframe tbody tr th:only-of-type {\n",
       "        vertical-align: middle;\n",
       "    }\n",
       "\n",
       "    .dataframe tbody tr th {\n",
       "        vertical-align: top;\n",
       "    }\n",
       "\n",
       "    .dataframe thead th {\n",
       "        text-align: right;\n",
       "    }\n",
       "</style>\n",
       "<table border=\"1\" class=\"dataframe\">\n",
       "  <thead>\n",
       "    <tr style=\"text-align: right;\">\n",
       "      <th></th>\n",
       "      <th>DIVIDEND YIELD</th>\n",
       "      <th>CASH FLOW/SALES</th>\n",
       "      <th>RETURN ON EQUITY - TOTAL (%)</th>\n",
       "      <th>RETURN ON INVESTED CAPITAL</th>\n",
       "      <th>P/E - RATIO</th>\n",
       "      <th>TOTAL DEBT % COMMON EQUITY</th>\n",
       "    </tr>\n",
       "    <tr>\n",
       "      <th>NAME</th>\n",
       "      <th></th>\n",
       "      <th></th>\n",
       "      <th></th>\n",
       "      <th></th>\n",
       "      <th></th>\n",
       "      <th></th>\n",
       "    </tr>\n",
       "  </thead>\n",
       "  <tbody>\n",
       "    <tr>\n",
       "      <th>MICROSOFT</th>\n",
       "      <td>1.06</td>\n",
       "      <td>43.46</td>\n",
       "      <td>40.14</td>\n",
       "      <td>24.89</td>\n",
       "      <td>36.5</td>\n",
       "      <td>61.56</td>\n",
       "    </tr>\n",
       "    <tr>\n",
       "      <th>APPLE</th>\n",
       "      <td>0.71</td>\n",
       "      <td>28.01</td>\n",
       "      <td>55.92</td>\n",
       "      <td>27.65</td>\n",
       "      <td>35.4</td>\n",
       "      <td>119.40</td>\n",
       "    </tr>\n",
       "    <tr>\n",
       "      <th>WALMART</th>\n",
       "      <td>1.54</td>\n",
       "      <td>4.88</td>\n",
       "      <td>20.22</td>\n",
       "      <td>12.55</td>\n",
       "      <td>26.6</td>\n",
       "      <td>72.95</td>\n",
       "    </tr>\n",
       "    <tr>\n",
       "      <th>ALPHABET A</th>\n",
       "      <td>0.00</td>\n",
       "      <td>33.18</td>\n",
       "      <td>18.12</td>\n",
       "      <td>17.76</td>\n",
       "      <td>33.2</td>\n",
       "      <td>2.26</td>\n",
       "    </tr>\n",
       "    <tr>\n",
       "      <th>NESTLE 'N'</th>\n",
       "      <td>2.47</td>\n",
       "      <td>16.85</td>\n",
       "      <td>23.05</td>\n",
       "      <td>14.21</td>\n",
       "      <td>23.3</td>\n",
       "      <td>71.42</td>\n",
       "    </tr>\n",
       "    <tr>\n",
       "      <th>TESLA</th>\n",
       "      <td>0.00</td>\n",
       "      <td>11.21</td>\n",
       "      <td>-14.94</td>\n",
       "      <td>-1.61</td>\n",
       "      <td>1036.3</td>\n",
       "      <td>202.77</td>\n",
       "    </tr>\n",
       "    <tr>\n",
       "      <th>SAUDI ARABIAN OIL</th>\n",
       "      <td>0.21</td>\n",
       "      <td>31.73</td>\n",
       "      <td>32.25</td>\n",
       "      <td>28.34</td>\n",
       "      <td>29.5</td>\n",
       "      <td>16.96</td>\n",
       "    </tr>\n",
       "    <tr>\n",
       "      <th>TAIWAN SEMICON.MNFG.</th>\n",
       "      <td>2.31</td>\n",
       "      <td>57.91</td>\n",
       "      <td>20.94</td>\n",
       "      <td>18.96</td>\n",
       "      <td>24.7</td>\n",
       "      <td>11.89</td>\n",
       "    </tr>\n",
       "    <tr>\n",
       "      <th>JOHNSON &amp; JOHNSON</th>\n",
       "      <td>2.71</td>\n",
       "      <td>23.83</td>\n",
       "      <td>25.36</td>\n",
       "      <td>17.38</td>\n",
       "      <td>26.7</td>\n",
       "      <td>46.57</td>\n",
       "    </tr>\n",
       "    <tr>\n",
       "      <th>TENCENT HOLDINGS</th>\n",
       "      <td>0.23</td>\n",
       "      <td>35.55</td>\n",
       "      <td>24.68</td>\n",
       "      <td>15.92</td>\n",
       "      <td>42.6</td>\n",
       "      <td>53.74</td>\n",
       "    </tr>\n",
       "    <tr>\n",
       "      <th>AMAZON.COM</th>\n",
       "      <td>0.00</td>\n",
       "      <td>14.60</td>\n",
       "      <td>21.95</td>\n",
       "      <td>12.97</td>\n",
       "      <td>121.1</td>\n",
       "      <td>83.31</td>\n",
       "    </tr>\n",
       "    <tr>\n",
       "      <th>FACEBOOK CLASS A</th>\n",
       "      <td>0.00</td>\n",
       "      <td>41.11</td>\n",
       "      <td>19.96</td>\n",
       "      <td>19.94</td>\n",
       "      <td>32.0</td>\n",
       "      <td>0.47</td>\n",
       "    </tr>\n",
       "    <tr>\n",
       "      <th>ALIBABA GROUP HOLDING ADR 1:8</th>\n",
       "      <td>0.00</td>\n",
       "      <td>31.23</td>\n",
       "      <td>23.77</td>\n",
       "      <td>17.39</td>\n",
       "      <td>31.0</td>\n",
       "      <td>16.60</td>\n",
       "    </tr>\n",
       "  </tbody>\n",
       "</table>\n",
       "</div>"
      ],
      "text/plain": [
       "                               DIVIDEND YIELD  CASH FLOW/SALES  \\\n",
       "NAME                                                             \n",
       "MICROSOFT                                1.06            43.46   \n",
       "APPLE                                    0.71            28.01   \n",
       "WALMART                                  1.54             4.88   \n",
       "ALPHABET A                               0.00            33.18   \n",
       "NESTLE 'N'                               2.47            16.85   \n",
       "TESLA                                    0.00            11.21   \n",
       "SAUDI ARABIAN OIL                        0.21            31.73   \n",
       "TAIWAN SEMICON.MNFG.                     2.31            57.91   \n",
       "JOHNSON & JOHNSON                        2.71            23.83   \n",
       "TENCENT HOLDINGS                         0.23            35.55   \n",
       "AMAZON.COM                               0.00            14.60   \n",
       "FACEBOOK CLASS A                         0.00            41.11   \n",
       "ALIBABA GROUP HOLDING ADR 1:8            0.00            31.23   \n",
       "\n",
       "                               RETURN ON EQUITY - TOTAL (%)  \\\n",
       "NAME                                                          \n",
       "MICROSOFT                                             40.14   \n",
       "APPLE                                                 55.92   \n",
       "WALMART                                               20.22   \n",
       "ALPHABET A                                            18.12   \n",
       "NESTLE 'N'                                            23.05   \n",
       "TESLA                                                -14.94   \n",
       "SAUDI ARABIAN OIL                                     32.25   \n",
       "TAIWAN SEMICON.MNFG.                                  20.94   \n",
       "JOHNSON & JOHNSON                                     25.36   \n",
       "TENCENT HOLDINGS                                      24.68   \n",
       "AMAZON.COM                                            21.95   \n",
       "FACEBOOK CLASS A                                      19.96   \n",
       "ALIBABA GROUP HOLDING ADR 1:8                         23.77   \n",
       "\n",
       "                               RETURN ON INVESTED CAPITAL  P/E - RATIO  \\\n",
       "NAME                                                                     \n",
       "MICROSOFT                                           24.89         36.5   \n",
       "APPLE                                               27.65         35.4   \n",
       "WALMART                                             12.55         26.6   \n",
       "ALPHABET A                                          17.76         33.2   \n",
       "NESTLE 'N'                                          14.21         23.3   \n",
       "TESLA                                               -1.61       1036.3   \n",
       "SAUDI ARABIAN OIL                                   28.34         29.5   \n",
       "TAIWAN SEMICON.MNFG.                                18.96         24.7   \n",
       "JOHNSON & JOHNSON                                   17.38         26.7   \n",
       "TENCENT HOLDINGS                                    15.92         42.6   \n",
       "AMAZON.COM                                          12.97        121.1   \n",
       "FACEBOOK CLASS A                                    19.94         32.0   \n",
       "ALIBABA GROUP HOLDING ADR 1:8                       17.39         31.0   \n",
       "\n",
       "                               TOTAL DEBT % COMMON EQUITY  \n",
       "NAME                                                       \n",
       "MICROSOFT                                           61.56  \n",
       "APPLE                                              119.40  \n",
       "WALMART                                             72.95  \n",
       "ALPHABET A                                           2.26  \n",
       "NESTLE 'N'                                          71.42  \n",
       "TESLA                                              202.77  \n",
       "SAUDI ARABIAN OIL                                   16.96  \n",
       "TAIWAN SEMICON.MNFG.                                11.89  \n",
       "JOHNSON & JOHNSON                                   46.57  \n",
       "TENCENT HOLDINGS                                    53.74  \n",
       "AMAZON.COM                                          83.31  \n",
       "FACEBOOK CLASS A                                     0.47  \n",
       "ALIBABA GROUP HOLDING ADR 1:8                       16.60  "
      ]
     },
     "execution_count": 7,
     "metadata": {},
     "output_type": "execute_result"
    }
   ],
   "source": [
    "big_companies_df.reindex(index = random_order)"
   ]
  },
  {
   "cell_type": "markdown",
   "metadata": {},
   "source": [
    "You can also rearrange columns with **reindex()**."
   ]
  },
  {
   "cell_type": "code",
   "execution_count": 8,
   "metadata": {},
   "outputs": [],
   "source": [
    "random_columns = np.random.permutation(big_companies_df.columns)"
   ]
  },
  {
   "cell_type": "code",
   "execution_count": 9,
   "metadata": {},
   "outputs": [
    {
     "data": {
      "text/plain": [
       "array(['TOTAL DEBT % COMMON EQUITY', 'RETURN ON EQUITY - TOTAL (%)',\n",
       "       'P/E - RATIO', 'CASH FLOW/SALES', 'RETURN ON INVESTED CAPITAL',\n",
       "       'DIVIDEND YIELD'], dtype=object)"
      ]
     },
     "execution_count": 9,
     "metadata": {},
     "output_type": "execute_result"
    }
   ],
   "source": [
    "random_columns"
   ]
  },
  {
   "cell_type": "code",
   "execution_count": 10,
   "metadata": {},
   "outputs": [
    {
     "data": {
      "text/html": [
       "<div>\n",
       "<style scoped>\n",
       "    .dataframe tbody tr th:only-of-type {\n",
       "        vertical-align: middle;\n",
       "    }\n",
       "\n",
       "    .dataframe tbody tr th {\n",
       "        vertical-align: top;\n",
       "    }\n",
       "\n",
       "    .dataframe thead th {\n",
       "        text-align: right;\n",
       "    }\n",
       "</style>\n",
       "<table border=\"1\" class=\"dataframe\">\n",
       "  <thead>\n",
       "    <tr style=\"text-align: right;\">\n",
       "      <th></th>\n",
       "      <th>TOTAL DEBT % COMMON EQUITY</th>\n",
       "      <th>RETURN ON EQUITY - TOTAL (%)</th>\n",
       "      <th>P/E - RATIO</th>\n",
       "      <th>CASH FLOW/SALES</th>\n",
       "      <th>RETURN ON INVESTED CAPITAL</th>\n",
       "      <th>DIVIDEND YIELD</th>\n",
       "    </tr>\n",
       "    <tr>\n",
       "      <th>NAME</th>\n",
       "      <th></th>\n",
       "      <th></th>\n",
       "      <th></th>\n",
       "      <th></th>\n",
       "      <th></th>\n",
       "      <th></th>\n",
       "    </tr>\n",
       "  </thead>\n",
       "  <tbody>\n",
       "    <tr>\n",
       "      <th>APPLE</th>\n",
       "      <td>119.40</td>\n",
       "      <td>55.92</td>\n",
       "      <td>35.4</td>\n",
       "      <td>28.01</td>\n",
       "      <td>27.65</td>\n",
       "      <td>0.71</td>\n",
       "    </tr>\n",
       "    <tr>\n",
       "      <th>SAUDI ARABIAN OIL</th>\n",
       "      <td>16.96</td>\n",
       "      <td>32.25</td>\n",
       "      <td>29.5</td>\n",
       "      <td>31.73</td>\n",
       "      <td>28.34</td>\n",
       "      <td>0.21</td>\n",
       "    </tr>\n",
       "    <tr>\n",
       "      <th>MICROSOFT</th>\n",
       "      <td>61.56</td>\n",
       "      <td>40.14</td>\n",
       "      <td>36.5</td>\n",
       "      <td>43.46</td>\n",
       "      <td>24.89</td>\n",
       "      <td>1.06</td>\n",
       "    </tr>\n",
       "    <tr>\n",
       "      <th>AMAZON.COM</th>\n",
       "      <td>83.31</td>\n",
       "      <td>21.95</td>\n",
       "      <td>121.1</td>\n",
       "      <td>14.60</td>\n",
       "      <td>12.97</td>\n",
       "      <td>0.00</td>\n",
       "    </tr>\n",
       "    <tr>\n",
       "      <th>ALIBABA GROUP HOLDING ADR 1:8</th>\n",
       "      <td>16.60</td>\n",
       "      <td>23.77</td>\n",
       "      <td>31.0</td>\n",
       "      <td>31.23</td>\n",
       "      <td>17.39</td>\n",
       "      <td>0.00</td>\n",
       "    </tr>\n",
       "    <tr>\n",
       "      <th>FACEBOOK CLASS A</th>\n",
       "      <td>0.47</td>\n",
       "      <td>19.96</td>\n",
       "      <td>32.0</td>\n",
       "      <td>41.11</td>\n",
       "      <td>19.94</td>\n",
       "      <td>0.00</td>\n",
       "    </tr>\n",
       "    <tr>\n",
       "      <th>TENCENT HOLDINGS</th>\n",
       "      <td>53.74</td>\n",
       "      <td>24.68</td>\n",
       "      <td>42.6</td>\n",
       "      <td>35.55</td>\n",
       "      <td>15.92</td>\n",
       "      <td>0.23</td>\n",
       "    </tr>\n",
       "    <tr>\n",
       "      <th>ALPHABET A</th>\n",
       "      <td>2.26</td>\n",
       "      <td>18.12</td>\n",
       "      <td>33.2</td>\n",
       "      <td>33.18</td>\n",
       "      <td>17.76</td>\n",
       "      <td>0.00</td>\n",
       "    </tr>\n",
       "    <tr>\n",
       "      <th>TESLA</th>\n",
       "      <td>202.77</td>\n",
       "      <td>-14.94</td>\n",
       "      <td>1036.3</td>\n",
       "      <td>11.21</td>\n",
       "      <td>-1.61</td>\n",
       "      <td>0.00</td>\n",
       "    </tr>\n",
       "    <tr>\n",
       "      <th>WALMART</th>\n",
       "      <td>72.95</td>\n",
       "      <td>20.22</td>\n",
       "      <td>26.6</td>\n",
       "      <td>4.88</td>\n",
       "      <td>12.55</td>\n",
       "      <td>1.54</td>\n",
       "    </tr>\n",
       "    <tr>\n",
       "      <th>JOHNSON &amp; JOHNSON</th>\n",
       "      <td>46.57</td>\n",
       "      <td>25.36</td>\n",
       "      <td>26.7</td>\n",
       "      <td>23.83</td>\n",
       "      <td>17.38</td>\n",
       "      <td>2.71</td>\n",
       "    </tr>\n",
       "    <tr>\n",
       "      <th>TAIWAN SEMICON.MNFG.</th>\n",
       "      <td>11.89</td>\n",
       "      <td>20.94</td>\n",
       "      <td>24.7</td>\n",
       "      <td>57.91</td>\n",
       "      <td>18.96</td>\n",
       "      <td>2.31</td>\n",
       "    </tr>\n",
       "    <tr>\n",
       "      <th>NESTLE 'N'</th>\n",
       "      <td>71.42</td>\n",
       "      <td>23.05</td>\n",
       "      <td>23.3</td>\n",
       "      <td>16.85</td>\n",
       "      <td>14.21</td>\n",
       "      <td>2.47</td>\n",
       "    </tr>\n",
       "  </tbody>\n",
       "</table>\n",
       "</div>"
      ],
      "text/plain": [
       "                               TOTAL DEBT % COMMON EQUITY  \\\n",
       "NAME                                                        \n",
       "APPLE                                              119.40   \n",
       "SAUDI ARABIAN OIL                                   16.96   \n",
       "MICROSOFT                                           61.56   \n",
       "AMAZON.COM                                          83.31   \n",
       "ALIBABA GROUP HOLDING ADR 1:8                       16.60   \n",
       "FACEBOOK CLASS A                                     0.47   \n",
       "TENCENT HOLDINGS                                    53.74   \n",
       "ALPHABET A                                           2.26   \n",
       "TESLA                                              202.77   \n",
       "WALMART                                             72.95   \n",
       "JOHNSON & JOHNSON                                   46.57   \n",
       "TAIWAN SEMICON.MNFG.                                11.89   \n",
       "NESTLE 'N'                                          71.42   \n",
       "\n",
       "                               RETURN ON EQUITY - TOTAL (%)  P/E - RATIO  \\\n",
       "NAME                                                                       \n",
       "APPLE                                                 55.92         35.4   \n",
       "SAUDI ARABIAN OIL                                     32.25         29.5   \n",
       "MICROSOFT                                             40.14         36.5   \n",
       "AMAZON.COM                                            21.95        121.1   \n",
       "ALIBABA GROUP HOLDING ADR 1:8                         23.77         31.0   \n",
       "FACEBOOK CLASS A                                      19.96         32.0   \n",
       "TENCENT HOLDINGS                                      24.68         42.6   \n",
       "ALPHABET A                                            18.12         33.2   \n",
       "TESLA                                                -14.94       1036.3   \n",
       "WALMART                                               20.22         26.6   \n",
       "JOHNSON & JOHNSON                                     25.36         26.7   \n",
       "TAIWAN SEMICON.MNFG.                                  20.94         24.7   \n",
       "NESTLE 'N'                                            23.05         23.3   \n",
       "\n",
       "                               CASH FLOW/SALES  RETURN ON INVESTED CAPITAL  \\\n",
       "NAME                                                                         \n",
       "APPLE                                    28.01                       27.65   \n",
       "SAUDI ARABIAN OIL                        31.73                       28.34   \n",
       "MICROSOFT                                43.46                       24.89   \n",
       "AMAZON.COM                               14.60                       12.97   \n",
       "ALIBABA GROUP HOLDING ADR 1:8            31.23                       17.39   \n",
       "FACEBOOK CLASS A                         41.11                       19.94   \n",
       "TENCENT HOLDINGS                         35.55                       15.92   \n",
       "ALPHABET A                               33.18                       17.76   \n",
       "TESLA                                    11.21                       -1.61   \n",
       "WALMART                                   4.88                       12.55   \n",
       "JOHNSON & JOHNSON                        23.83                       17.38   \n",
       "TAIWAN SEMICON.MNFG.                     57.91                       18.96   \n",
       "NESTLE 'N'                               16.85                       14.21   \n",
       "\n",
       "                               DIVIDEND YIELD  \n",
       "NAME                                           \n",
       "APPLE                                    0.71  \n",
       "SAUDI ARABIAN OIL                        0.21  \n",
       "MICROSOFT                                1.06  \n",
       "AMAZON.COM                               0.00  \n",
       "ALIBABA GROUP HOLDING ADR 1:8            0.00  \n",
       "FACEBOOK CLASS A                         0.00  \n",
       "TENCENT HOLDINGS                         0.23  \n",
       "ALPHABET A                               0.00  \n",
       "TESLA                                    0.00  \n",
       "WALMART                                  1.54  \n",
       "JOHNSON & JOHNSON                        2.71  \n",
       "TAIWAN SEMICON.MNFG.                     2.31  \n",
       "NESTLE 'N'                               2.47  "
      ]
     },
     "execution_count": 10,
     "metadata": {},
     "output_type": "execute_result"
    }
   ],
   "source": [
    "big_companies_df.reindex(columns = random_columns)"
   ]
  },
  {
   "cell_type": "markdown",
   "metadata": {},
   "source": [
    "If we have names in the reindex list that are not included in the original index/columns, these are added to the dataframe with missing values. You can prevent those missing values, for example, with **ffill** in the parameter **method** (there is also **bfill** and **nearest**)."
   ]
  },
  {
   "cell_type": "code",
   "execution_count": 11,
   "metadata": {},
   "outputs": [],
   "source": [
    "new_df = big_companies_df.reindex(['APPLE','MICROSOFT','TESLA'])"
   ]
  },
  {
   "cell_type": "code",
   "execution_count": 12,
   "metadata": {},
   "outputs": [
    {
     "data": {
      "text/html": [
       "<div>\n",
       "<style scoped>\n",
       "    .dataframe tbody tr th:only-of-type {\n",
       "        vertical-align: middle;\n",
       "    }\n",
       "\n",
       "    .dataframe tbody tr th {\n",
       "        vertical-align: top;\n",
       "    }\n",
       "\n",
       "    .dataframe thead th {\n",
       "        text-align: right;\n",
       "    }\n",
       "</style>\n",
       "<table border=\"1\" class=\"dataframe\">\n",
       "  <thead>\n",
       "    <tr style=\"text-align: right;\">\n",
       "      <th></th>\n",
       "      <th>DIVIDEND YIELD</th>\n",
       "      <th>CASH FLOW/SALES</th>\n",
       "      <th>RETURN ON EQUITY - TOTAL (%)</th>\n",
       "      <th>RETURN ON INVESTED CAPITAL</th>\n",
       "      <th>P/E - RATIO</th>\n",
       "      <th>TOTAL DEBT % COMMON EQUITY</th>\n",
       "    </tr>\n",
       "    <tr>\n",
       "      <th>NAME</th>\n",
       "      <th></th>\n",
       "      <th></th>\n",
       "      <th></th>\n",
       "      <th></th>\n",
       "      <th></th>\n",
       "      <th></th>\n",
       "    </tr>\n",
       "  </thead>\n",
       "  <tbody>\n",
       "    <tr>\n",
       "      <th>APPLE</th>\n",
       "      <td>0.71</td>\n",
       "      <td>28.01</td>\n",
       "      <td>55.92</td>\n",
       "      <td>27.65</td>\n",
       "      <td>35.4</td>\n",
       "      <td>119.40</td>\n",
       "    </tr>\n",
       "    <tr>\n",
       "      <th>MICROSOFT</th>\n",
       "      <td>1.06</td>\n",
       "      <td>43.46</td>\n",
       "      <td>40.14</td>\n",
       "      <td>24.89</td>\n",
       "      <td>36.5</td>\n",
       "      <td>61.56</td>\n",
       "    </tr>\n",
       "    <tr>\n",
       "      <th>TESLA</th>\n",
       "      <td>0.00</td>\n",
       "      <td>11.21</td>\n",
       "      <td>-14.94</td>\n",
       "      <td>-1.61</td>\n",
       "      <td>1036.3</td>\n",
       "      <td>202.77</td>\n",
       "    </tr>\n",
       "  </tbody>\n",
       "</table>\n",
       "</div>"
      ],
      "text/plain": [
       "           DIVIDEND YIELD  CASH FLOW/SALES  RETURN ON EQUITY - TOTAL (%)  \\\n",
       "NAME                                                                       \n",
       "APPLE                0.71            28.01                         55.92   \n",
       "MICROSOFT            1.06            43.46                         40.14   \n",
       "TESLA                0.00            11.21                        -14.94   \n",
       "\n",
       "           RETURN ON INVESTED CAPITAL  P/E - RATIO  TOTAL DEBT % COMMON EQUITY  \n",
       "NAME                                                                            \n",
       "APPLE                           27.65         35.4                      119.40  \n",
       "MICROSOFT                       24.89         36.5                       61.56  \n",
       "TESLA                           -1.61       1036.3                      202.77  "
      ]
     },
     "execution_count": 12,
     "metadata": {},
     "output_type": "execute_result"
    }
   ],
   "source": [
    "new_df"
   ]
  },
  {
   "cell_type": "markdown",
   "metadata": {},
   "source": [
    "**Ffill** is a forward fill. With strings, it adds the values of the original dataframe forward, according to the alphabetical order of the strings. Because **APPLE** is after **AMAZON.COM**, **ALPHABET** and **ALIBABA...** in alphabetical order, NaN values are put to these new rows."
   ]
  },
  {
   "cell_type": "code",
   "execution_count": 13,
   "metadata": {},
   "outputs": [
    {
     "data": {
      "text/html": [
       "<div>\n",
       "<style scoped>\n",
       "    .dataframe tbody tr th:only-of-type {\n",
       "        vertical-align: middle;\n",
       "    }\n",
       "\n",
       "    .dataframe tbody tr th {\n",
       "        vertical-align: top;\n",
       "    }\n",
       "\n",
       "    .dataframe thead th {\n",
       "        text-align: right;\n",
       "    }\n",
       "</style>\n",
       "<table border=\"1\" class=\"dataframe\">\n",
       "  <thead>\n",
       "    <tr style=\"text-align: right;\">\n",
       "      <th></th>\n",
       "      <th>DIVIDEND YIELD</th>\n",
       "      <th>CASH FLOW/SALES</th>\n",
       "      <th>RETURN ON EQUITY - TOTAL (%)</th>\n",
       "      <th>RETURN ON INVESTED CAPITAL</th>\n",
       "      <th>P/E - RATIO</th>\n",
       "      <th>TOTAL DEBT % COMMON EQUITY</th>\n",
       "    </tr>\n",
       "    <tr>\n",
       "      <th>NAME</th>\n",
       "      <th></th>\n",
       "      <th></th>\n",
       "      <th></th>\n",
       "      <th></th>\n",
       "      <th></th>\n",
       "      <th></th>\n",
       "    </tr>\n",
       "  </thead>\n",
       "  <tbody>\n",
       "    <tr>\n",
       "      <th>APPLE</th>\n",
       "      <td>0.71</td>\n",
       "      <td>28.01</td>\n",
       "      <td>55.92</td>\n",
       "      <td>27.65</td>\n",
       "      <td>35.4</td>\n",
       "      <td>119.40</td>\n",
       "    </tr>\n",
       "    <tr>\n",
       "      <th>SAUDI ARABIAN OIL</th>\n",
       "      <td>1.06</td>\n",
       "      <td>43.46</td>\n",
       "      <td>40.14</td>\n",
       "      <td>24.89</td>\n",
       "      <td>36.5</td>\n",
       "      <td>61.56</td>\n",
       "    </tr>\n",
       "    <tr>\n",
       "      <th>MICROSOFT</th>\n",
       "      <td>1.06</td>\n",
       "      <td>43.46</td>\n",
       "      <td>40.14</td>\n",
       "      <td>24.89</td>\n",
       "      <td>36.5</td>\n",
       "      <td>61.56</td>\n",
       "    </tr>\n",
       "    <tr>\n",
       "      <th>AMAZON.COM</th>\n",
       "      <td>NaN</td>\n",
       "      <td>NaN</td>\n",
       "      <td>NaN</td>\n",
       "      <td>NaN</td>\n",
       "      <td>NaN</td>\n",
       "      <td>NaN</td>\n",
       "    </tr>\n",
       "    <tr>\n",
       "      <th>ALIBABA GROUP HOLDING ADR 1:8</th>\n",
       "      <td>NaN</td>\n",
       "      <td>NaN</td>\n",
       "      <td>NaN</td>\n",
       "      <td>NaN</td>\n",
       "      <td>NaN</td>\n",
       "      <td>NaN</td>\n",
       "    </tr>\n",
       "    <tr>\n",
       "      <th>FACEBOOK CLASS A</th>\n",
       "      <td>0.71</td>\n",
       "      <td>28.01</td>\n",
       "      <td>55.92</td>\n",
       "      <td>27.65</td>\n",
       "      <td>35.4</td>\n",
       "      <td>119.40</td>\n",
       "    </tr>\n",
       "    <tr>\n",
       "      <th>TENCENT HOLDINGS</th>\n",
       "      <td>1.06</td>\n",
       "      <td>43.46</td>\n",
       "      <td>40.14</td>\n",
       "      <td>24.89</td>\n",
       "      <td>36.5</td>\n",
       "      <td>61.56</td>\n",
       "    </tr>\n",
       "    <tr>\n",
       "      <th>ALPHABET A</th>\n",
       "      <td>NaN</td>\n",
       "      <td>NaN</td>\n",
       "      <td>NaN</td>\n",
       "      <td>NaN</td>\n",
       "      <td>NaN</td>\n",
       "      <td>NaN</td>\n",
       "    </tr>\n",
       "    <tr>\n",
       "      <th>TESLA</th>\n",
       "      <td>0.00</td>\n",
       "      <td>11.21</td>\n",
       "      <td>-14.94</td>\n",
       "      <td>-1.61</td>\n",
       "      <td>1036.3</td>\n",
       "      <td>202.77</td>\n",
       "    </tr>\n",
       "    <tr>\n",
       "      <th>WALMART</th>\n",
       "      <td>0.00</td>\n",
       "      <td>11.21</td>\n",
       "      <td>-14.94</td>\n",
       "      <td>-1.61</td>\n",
       "      <td>1036.3</td>\n",
       "      <td>202.77</td>\n",
       "    </tr>\n",
       "    <tr>\n",
       "      <th>JOHNSON &amp; JOHNSON</th>\n",
       "      <td>0.71</td>\n",
       "      <td>28.01</td>\n",
       "      <td>55.92</td>\n",
       "      <td>27.65</td>\n",
       "      <td>35.4</td>\n",
       "      <td>119.40</td>\n",
       "    </tr>\n",
       "    <tr>\n",
       "      <th>TAIWAN SEMICON.MNFG.</th>\n",
       "      <td>1.06</td>\n",
       "      <td>43.46</td>\n",
       "      <td>40.14</td>\n",
       "      <td>24.89</td>\n",
       "      <td>36.5</td>\n",
       "      <td>61.56</td>\n",
       "    </tr>\n",
       "    <tr>\n",
       "      <th>NESTLE 'N'</th>\n",
       "      <td>1.06</td>\n",
       "      <td>43.46</td>\n",
       "      <td>40.14</td>\n",
       "      <td>24.89</td>\n",
       "      <td>36.5</td>\n",
       "      <td>61.56</td>\n",
       "    </tr>\n",
       "  </tbody>\n",
       "</table>\n",
       "</div>"
      ],
      "text/plain": [
       "                               DIVIDEND YIELD  CASH FLOW/SALES  \\\n",
       "NAME                                                             \n",
       "APPLE                                    0.71            28.01   \n",
       "SAUDI ARABIAN OIL                        1.06            43.46   \n",
       "MICROSOFT                                1.06            43.46   \n",
       "AMAZON.COM                                NaN              NaN   \n",
       "ALIBABA GROUP HOLDING ADR 1:8             NaN              NaN   \n",
       "FACEBOOK CLASS A                         0.71            28.01   \n",
       "TENCENT HOLDINGS                         1.06            43.46   \n",
       "ALPHABET A                                NaN              NaN   \n",
       "TESLA                                    0.00            11.21   \n",
       "WALMART                                  0.00            11.21   \n",
       "JOHNSON & JOHNSON                        0.71            28.01   \n",
       "TAIWAN SEMICON.MNFG.                     1.06            43.46   \n",
       "NESTLE 'N'                               1.06            43.46   \n",
       "\n",
       "                               RETURN ON EQUITY - TOTAL (%)  \\\n",
       "NAME                                                          \n",
       "APPLE                                                 55.92   \n",
       "SAUDI ARABIAN OIL                                     40.14   \n",
       "MICROSOFT                                             40.14   \n",
       "AMAZON.COM                                              NaN   \n",
       "ALIBABA GROUP HOLDING ADR 1:8                           NaN   \n",
       "FACEBOOK CLASS A                                      55.92   \n",
       "TENCENT HOLDINGS                                      40.14   \n",
       "ALPHABET A                                              NaN   \n",
       "TESLA                                                -14.94   \n",
       "WALMART                                              -14.94   \n",
       "JOHNSON & JOHNSON                                     55.92   \n",
       "TAIWAN SEMICON.MNFG.                                  40.14   \n",
       "NESTLE 'N'                                            40.14   \n",
       "\n",
       "                               RETURN ON INVESTED CAPITAL  P/E - RATIO  \\\n",
       "NAME                                                                     \n",
       "APPLE                                               27.65         35.4   \n",
       "SAUDI ARABIAN OIL                                   24.89         36.5   \n",
       "MICROSOFT                                           24.89         36.5   \n",
       "AMAZON.COM                                            NaN          NaN   \n",
       "ALIBABA GROUP HOLDING ADR 1:8                         NaN          NaN   \n",
       "FACEBOOK CLASS A                                    27.65         35.4   \n",
       "TENCENT HOLDINGS                                    24.89         36.5   \n",
       "ALPHABET A                                            NaN          NaN   \n",
       "TESLA                                               -1.61       1036.3   \n",
       "WALMART                                             -1.61       1036.3   \n",
       "JOHNSON & JOHNSON                                   27.65         35.4   \n",
       "TAIWAN SEMICON.MNFG.                                24.89         36.5   \n",
       "NESTLE 'N'                                          24.89         36.5   \n",
       "\n",
       "                               TOTAL DEBT % COMMON EQUITY  \n",
       "NAME                                                       \n",
       "APPLE                                              119.40  \n",
       "SAUDI ARABIAN OIL                                   61.56  \n",
       "MICROSOFT                                           61.56  \n",
       "AMAZON.COM                                            NaN  \n",
       "ALIBABA GROUP HOLDING ADR 1:8                         NaN  \n",
       "FACEBOOK CLASS A                                   119.40  \n",
       "TENCENT HOLDINGS                                    61.56  \n",
       "ALPHABET A                                            NaN  \n",
       "TESLA                                              202.77  \n",
       "WALMART                                            202.77  \n",
       "JOHNSON & JOHNSON                                  119.40  \n",
       "TAIWAN SEMICON.MNFG.                                61.56  \n",
       "NESTLE 'N'                                          61.56  "
      ]
     },
     "execution_count": 13,
     "metadata": {},
     "output_type": "execute_result"
    }
   ],
   "source": [
    "new_df.reindex(big_companies_df.index,method = 'ffill')"
   ]
  },
  {
   "cell_type": "markdown",
   "metadata": {},
   "source": [
    "It is easy to drop values by index values from a series/dataframe using **drop()**. By default, Pandas uses index. Defining **axis=1**, you can drop columns. Another option is to drop both using **index** and **columns**"
   ]
  },
  {
   "cell_type": "code",
   "execution_count": 14,
   "metadata": {},
   "outputs": [
    {
     "data": {
      "text/html": [
       "<div>\n",
       "<style scoped>\n",
       "    .dataframe tbody tr th:only-of-type {\n",
       "        vertical-align: middle;\n",
       "    }\n",
       "\n",
       "    .dataframe tbody tr th {\n",
       "        vertical-align: top;\n",
       "    }\n",
       "\n",
       "    .dataframe thead th {\n",
       "        text-align: right;\n",
       "    }\n",
       "</style>\n",
       "<table border=\"1\" class=\"dataframe\">\n",
       "  <thead>\n",
       "    <tr style=\"text-align: right;\">\n",
       "      <th></th>\n",
       "      <th>DIVIDEND YIELD</th>\n",
       "      <th>CASH FLOW/SALES</th>\n",
       "      <th>RETURN ON EQUITY - TOTAL (%)</th>\n",
       "      <th>RETURN ON INVESTED CAPITAL</th>\n",
       "      <th>P/E - RATIO</th>\n",
       "      <th>TOTAL DEBT % COMMON EQUITY</th>\n",
       "    </tr>\n",
       "    <tr>\n",
       "      <th>NAME</th>\n",
       "      <th></th>\n",
       "      <th></th>\n",
       "      <th></th>\n",
       "      <th></th>\n",
       "      <th></th>\n",
       "      <th></th>\n",
       "    </tr>\n",
       "  </thead>\n",
       "  <tbody>\n",
       "    <tr>\n",
       "      <th>SAUDI ARABIAN OIL</th>\n",
       "      <td>0.21</td>\n",
       "      <td>31.73</td>\n",
       "      <td>32.25</td>\n",
       "      <td>28.34</td>\n",
       "      <td>29.5</td>\n",
       "      <td>16.96</td>\n",
       "    </tr>\n",
       "    <tr>\n",
       "      <th>MICROSOFT</th>\n",
       "      <td>1.06</td>\n",
       "      <td>43.46</td>\n",
       "      <td>40.14</td>\n",
       "      <td>24.89</td>\n",
       "      <td>36.5</td>\n",
       "      <td>61.56</td>\n",
       "    </tr>\n",
       "    <tr>\n",
       "      <th>AMAZON.COM</th>\n",
       "      <td>0.00</td>\n",
       "      <td>14.60</td>\n",
       "      <td>21.95</td>\n",
       "      <td>12.97</td>\n",
       "      <td>121.1</td>\n",
       "      <td>83.31</td>\n",
       "    </tr>\n",
       "    <tr>\n",
       "      <th>ALIBABA GROUP HOLDING ADR 1:8</th>\n",
       "      <td>0.00</td>\n",
       "      <td>31.23</td>\n",
       "      <td>23.77</td>\n",
       "      <td>17.39</td>\n",
       "      <td>31.0</td>\n",
       "      <td>16.60</td>\n",
       "    </tr>\n",
       "    <tr>\n",
       "      <th>FACEBOOK CLASS A</th>\n",
       "      <td>0.00</td>\n",
       "      <td>41.11</td>\n",
       "      <td>19.96</td>\n",
       "      <td>19.94</td>\n",
       "      <td>32.0</td>\n",
       "      <td>0.47</td>\n",
       "    </tr>\n",
       "    <tr>\n",
       "      <th>TENCENT HOLDINGS</th>\n",
       "      <td>0.23</td>\n",
       "      <td>35.55</td>\n",
       "      <td>24.68</td>\n",
       "      <td>15.92</td>\n",
       "      <td>42.6</td>\n",
       "      <td>53.74</td>\n",
       "    </tr>\n",
       "    <tr>\n",
       "      <th>ALPHABET A</th>\n",
       "      <td>0.00</td>\n",
       "      <td>33.18</td>\n",
       "      <td>18.12</td>\n",
       "      <td>17.76</td>\n",
       "      <td>33.2</td>\n",
       "      <td>2.26</td>\n",
       "    </tr>\n",
       "    <tr>\n",
       "      <th>TESLA</th>\n",
       "      <td>0.00</td>\n",
       "      <td>11.21</td>\n",
       "      <td>-14.94</td>\n",
       "      <td>-1.61</td>\n",
       "      <td>1036.3</td>\n",
       "      <td>202.77</td>\n",
       "    </tr>\n",
       "    <tr>\n",
       "      <th>WALMART</th>\n",
       "      <td>1.54</td>\n",
       "      <td>4.88</td>\n",
       "      <td>20.22</td>\n",
       "      <td>12.55</td>\n",
       "      <td>26.6</td>\n",
       "      <td>72.95</td>\n",
       "    </tr>\n",
       "    <tr>\n",
       "      <th>JOHNSON &amp; JOHNSON</th>\n",
       "      <td>2.71</td>\n",
       "      <td>23.83</td>\n",
       "      <td>25.36</td>\n",
       "      <td>17.38</td>\n",
       "      <td>26.7</td>\n",
       "      <td>46.57</td>\n",
       "    </tr>\n",
       "    <tr>\n",
       "      <th>TAIWAN SEMICON.MNFG.</th>\n",
       "      <td>2.31</td>\n",
       "      <td>57.91</td>\n",
       "      <td>20.94</td>\n",
       "      <td>18.96</td>\n",
       "      <td>24.7</td>\n",
       "      <td>11.89</td>\n",
       "    </tr>\n",
       "    <tr>\n",
       "      <th>NESTLE 'N'</th>\n",
       "      <td>2.47</td>\n",
       "      <td>16.85</td>\n",
       "      <td>23.05</td>\n",
       "      <td>14.21</td>\n",
       "      <td>23.3</td>\n",
       "      <td>71.42</td>\n",
       "    </tr>\n",
       "  </tbody>\n",
       "</table>\n",
       "</div>"
      ],
      "text/plain": [
       "                               DIVIDEND YIELD  CASH FLOW/SALES  \\\n",
       "NAME                                                             \n",
       "SAUDI ARABIAN OIL                        0.21            31.73   \n",
       "MICROSOFT                                1.06            43.46   \n",
       "AMAZON.COM                               0.00            14.60   \n",
       "ALIBABA GROUP HOLDING ADR 1:8            0.00            31.23   \n",
       "FACEBOOK CLASS A                         0.00            41.11   \n",
       "TENCENT HOLDINGS                         0.23            35.55   \n",
       "ALPHABET A                               0.00            33.18   \n",
       "TESLA                                    0.00            11.21   \n",
       "WALMART                                  1.54             4.88   \n",
       "JOHNSON & JOHNSON                        2.71            23.83   \n",
       "TAIWAN SEMICON.MNFG.                     2.31            57.91   \n",
       "NESTLE 'N'                               2.47            16.85   \n",
       "\n",
       "                               RETURN ON EQUITY - TOTAL (%)  \\\n",
       "NAME                                                          \n",
       "SAUDI ARABIAN OIL                                     32.25   \n",
       "MICROSOFT                                             40.14   \n",
       "AMAZON.COM                                            21.95   \n",
       "ALIBABA GROUP HOLDING ADR 1:8                         23.77   \n",
       "FACEBOOK CLASS A                                      19.96   \n",
       "TENCENT HOLDINGS                                      24.68   \n",
       "ALPHABET A                                            18.12   \n",
       "TESLA                                                -14.94   \n",
       "WALMART                                               20.22   \n",
       "JOHNSON & JOHNSON                                     25.36   \n",
       "TAIWAN SEMICON.MNFG.                                  20.94   \n",
       "NESTLE 'N'                                            23.05   \n",
       "\n",
       "                               RETURN ON INVESTED CAPITAL  P/E - RATIO  \\\n",
       "NAME                                                                     \n",
       "SAUDI ARABIAN OIL                                   28.34         29.5   \n",
       "MICROSOFT                                           24.89         36.5   \n",
       "AMAZON.COM                                          12.97        121.1   \n",
       "ALIBABA GROUP HOLDING ADR 1:8                       17.39         31.0   \n",
       "FACEBOOK CLASS A                                    19.94         32.0   \n",
       "TENCENT HOLDINGS                                    15.92         42.6   \n",
       "ALPHABET A                                          17.76         33.2   \n",
       "TESLA                                               -1.61       1036.3   \n",
       "WALMART                                             12.55         26.6   \n",
       "JOHNSON & JOHNSON                                   17.38         26.7   \n",
       "TAIWAN SEMICON.MNFG.                                18.96         24.7   \n",
       "NESTLE 'N'                                          14.21         23.3   \n",
       "\n",
       "                               TOTAL DEBT % COMMON EQUITY  \n",
       "NAME                                                       \n",
       "SAUDI ARABIAN OIL                                   16.96  \n",
       "MICROSOFT                                           61.56  \n",
       "AMAZON.COM                                          83.31  \n",
       "ALIBABA GROUP HOLDING ADR 1:8                       16.60  \n",
       "FACEBOOK CLASS A                                     0.47  \n",
       "TENCENT HOLDINGS                                    53.74  \n",
       "ALPHABET A                                           2.26  \n",
       "TESLA                                              202.77  \n",
       "WALMART                                             72.95  \n",
       "JOHNSON & JOHNSON                                   46.57  \n",
       "TAIWAN SEMICON.MNFG.                                11.89  \n",
       "NESTLE 'N'                                          71.42  "
      ]
     },
     "execution_count": 14,
     "metadata": {},
     "output_type": "execute_result"
    }
   ],
   "source": [
    "big_companies_df.drop('APPLE')"
   ]
  },
  {
   "cell_type": "code",
   "execution_count": 103,
   "metadata": {},
   "outputs": [
    {
     "data": {
      "text/html": [
       "<div>\n",
       "<style scoped>\n",
       "    .dataframe tbody tr th:only-of-type {\n",
       "        vertical-align: middle;\n",
       "    }\n",
       "\n",
       "    .dataframe tbody tr th {\n",
       "        vertical-align: top;\n",
       "    }\n",
       "\n",
       "    .dataframe thead th {\n",
       "        text-align: right;\n",
       "    }\n",
       "</style>\n",
       "<table border=\"1\" class=\"dataframe\">\n",
       "  <thead>\n",
       "    <tr style=\"text-align: right;\">\n",
       "      <th></th>\n",
       "      <th>CASH FLOW/SALES</th>\n",
       "      <th>RETURN ON EQUITY - TOTAL (%)</th>\n",
       "      <th>RETURN ON INVESTED CAPITAL</th>\n",
       "      <th>P/E - RATIO</th>\n",
       "      <th>TOTAL DEBT % COMMON EQUITY</th>\n",
       "    </tr>\n",
       "    <tr>\n",
       "      <th>NAME</th>\n",
       "      <th></th>\n",
       "      <th></th>\n",
       "      <th></th>\n",
       "      <th></th>\n",
       "      <th></th>\n",
       "    </tr>\n",
       "  </thead>\n",
       "  <tbody>\n",
       "    <tr>\n",
       "      <th>APPLE</th>\n",
       "      <td>28.01</td>\n",
       "      <td>55.92</td>\n",
       "      <td>27.65</td>\n",
       "      <td>35.4</td>\n",
       "      <td>119.40</td>\n",
       "    </tr>\n",
       "    <tr>\n",
       "      <th>SAUDI ARABIAN OIL</th>\n",
       "      <td>31.73</td>\n",
       "      <td>32.25</td>\n",
       "      <td>28.34</td>\n",
       "      <td>29.5</td>\n",
       "      <td>16.96</td>\n",
       "    </tr>\n",
       "    <tr>\n",
       "      <th>MICROSOFT</th>\n",
       "      <td>43.46</td>\n",
       "      <td>40.14</td>\n",
       "      <td>24.89</td>\n",
       "      <td>36.5</td>\n",
       "      <td>61.56</td>\n",
       "    </tr>\n",
       "    <tr>\n",
       "      <th>AMAZON.COM</th>\n",
       "      <td>14.60</td>\n",
       "      <td>21.95</td>\n",
       "      <td>12.97</td>\n",
       "      <td>121.1</td>\n",
       "      <td>83.31</td>\n",
       "    </tr>\n",
       "    <tr>\n",
       "      <th>ALIBABA GROUP HOLDING ADR 1:8</th>\n",
       "      <td>31.23</td>\n",
       "      <td>23.77</td>\n",
       "      <td>17.39</td>\n",
       "      <td>31.0</td>\n",
       "      <td>16.60</td>\n",
       "    </tr>\n",
       "    <tr>\n",
       "      <th>FACEBOOK CLASS A</th>\n",
       "      <td>41.11</td>\n",
       "      <td>19.96</td>\n",
       "      <td>19.94</td>\n",
       "      <td>32.0</td>\n",
       "      <td>0.47</td>\n",
       "    </tr>\n",
       "    <tr>\n",
       "      <th>TENCENT HOLDINGS</th>\n",
       "      <td>35.55</td>\n",
       "      <td>24.68</td>\n",
       "      <td>15.92</td>\n",
       "      <td>42.6</td>\n",
       "      <td>53.74</td>\n",
       "    </tr>\n",
       "    <tr>\n",
       "      <th>ALPHABET A</th>\n",
       "      <td>33.18</td>\n",
       "      <td>18.12</td>\n",
       "      <td>17.76</td>\n",
       "      <td>33.2</td>\n",
       "      <td>2.26</td>\n",
       "    </tr>\n",
       "    <tr>\n",
       "      <th>TESLA</th>\n",
       "      <td>11.21</td>\n",
       "      <td>-14.94</td>\n",
       "      <td>-1.61</td>\n",
       "      <td>1036.3</td>\n",
       "      <td>202.77</td>\n",
       "    </tr>\n",
       "    <tr>\n",
       "      <th>WALMART</th>\n",
       "      <td>4.88</td>\n",
       "      <td>20.22</td>\n",
       "      <td>12.55</td>\n",
       "      <td>26.6</td>\n",
       "      <td>72.95</td>\n",
       "    </tr>\n",
       "    <tr>\n",
       "      <th>JOHNSON &amp; JOHNSON</th>\n",
       "      <td>23.83</td>\n",
       "      <td>25.36</td>\n",
       "      <td>17.38</td>\n",
       "      <td>26.7</td>\n",
       "      <td>46.57</td>\n",
       "    </tr>\n",
       "    <tr>\n",
       "      <th>TAIWAN SEMICON.MNFG.</th>\n",
       "      <td>57.91</td>\n",
       "      <td>20.94</td>\n",
       "      <td>18.96</td>\n",
       "      <td>24.7</td>\n",
       "      <td>11.89</td>\n",
       "    </tr>\n",
       "    <tr>\n",
       "      <th>NESTLE 'N'</th>\n",
       "      <td>16.85</td>\n",
       "      <td>23.05</td>\n",
       "      <td>14.21</td>\n",
       "      <td>23.3</td>\n",
       "      <td>71.42</td>\n",
       "    </tr>\n",
       "  </tbody>\n",
       "</table>\n",
       "</div>"
      ],
      "text/plain": [
       "                               CASH FLOW/SALES  RETURN ON EQUITY - TOTAL (%)  \\\n",
       "NAME                                                                           \n",
       "APPLE                                    28.01                         55.92   \n",
       "SAUDI ARABIAN OIL                        31.73                         32.25   \n",
       "MICROSOFT                                43.46                         40.14   \n",
       "AMAZON.COM                               14.60                         21.95   \n",
       "ALIBABA GROUP HOLDING ADR 1:8            31.23                         23.77   \n",
       "FACEBOOK CLASS A                         41.11                         19.96   \n",
       "TENCENT HOLDINGS                         35.55                         24.68   \n",
       "ALPHABET A                               33.18                         18.12   \n",
       "TESLA                                    11.21                        -14.94   \n",
       "WALMART                                   4.88                         20.22   \n",
       "JOHNSON & JOHNSON                        23.83                         25.36   \n",
       "TAIWAN SEMICON.MNFG.                     57.91                         20.94   \n",
       "NESTLE 'N'                               16.85                         23.05   \n",
       "\n",
       "                               RETURN ON INVESTED CAPITAL  P/E - RATIO  \\\n",
       "NAME                                                                     \n",
       "APPLE                                               27.65         35.4   \n",
       "SAUDI ARABIAN OIL                                   28.34         29.5   \n",
       "MICROSOFT                                           24.89         36.5   \n",
       "AMAZON.COM                                          12.97        121.1   \n",
       "ALIBABA GROUP HOLDING ADR 1:8                       17.39         31.0   \n",
       "FACEBOOK CLASS A                                    19.94         32.0   \n",
       "TENCENT HOLDINGS                                    15.92         42.6   \n",
       "ALPHABET A                                          17.76         33.2   \n",
       "TESLA                                               -1.61       1036.3   \n",
       "WALMART                                             12.55         26.6   \n",
       "JOHNSON & JOHNSON                                   17.38         26.7   \n",
       "TAIWAN SEMICON.MNFG.                                18.96         24.7   \n",
       "NESTLE 'N'                                          14.21         23.3   \n",
       "\n",
       "                               TOTAL DEBT % COMMON EQUITY  \n",
       "NAME                                                       \n",
       "APPLE                                              119.40  \n",
       "SAUDI ARABIAN OIL                                   16.96  \n",
       "MICROSOFT                                           61.56  \n",
       "AMAZON.COM                                          83.31  \n",
       "ALIBABA GROUP HOLDING ADR 1:8                       16.60  \n",
       "FACEBOOK CLASS A                                     0.47  \n",
       "TENCENT HOLDINGS                                    53.74  \n",
       "ALPHABET A                                           2.26  \n",
       "TESLA                                              202.77  \n",
       "WALMART                                             72.95  \n",
       "JOHNSON & JOHNSON                                   46.57  \n",
       "TAIWAN SEMICON.MNFG.                                11.89  \n",
       "NESTLE 'N'                                          71.42  "
      ]
     },
     "execution_count": 103,
     "metadata": {},
     "output_type": "execute_result"
    }
   ],
   "source": [
    "big_companies_df.drop('DIVIDEND YIELD',axis=1)"
   ]
  },
  {
   "cell_type": "code",
   "execution_count": 104,
   "metadata": {},
   "outputs": [
    {
     "data": {
      "text/html": [
       "<div>\n",
       "<style scoped>\n",
       "    .dataframe tbody tr th:only-of-type {\n",
       "        vertical-align: middle;\n",
       "    }\n",
       "\n",
       "    .dataframe tbody tr th {\n",
       "        vertical-align: top;\n",
       "    }\n",
       "\n",
       "    .dataframe thead th {\n",
       "        text-align: right;\n",
       "    }\n",
       "</style>\n",
       "<table border=\"1\" class=\"dataframe\">\n",
       "  <thead>\n",
       "    <tr style=\"text-align: right;\">\n",
       "      <th></th>\n",
       "      <th>CASH FLOW/SALES</th>\n",
       "      <th>RETURN ON EQUITY - TOTAL (%)</th>\n",
       "      <th>RETURN ON INVESTED CAPITAL</th>\n",
       "      <th>TOTAL DEBT % COMMON EQUITY</th>\n",
       "    </tr>\n",
       "    <tr>\n",
       "      <th>NAME</th>\n",
       "      <th></th>\n",
       "      <th></th>\n",
       "      <th></th>\n",
       "      <th></th>\n",
       "    </tr>\n",
       "  </thead>\n",
       "  <tbody>\n",
       "    <tr>\n",
       "      <th>SAUDI ARABIAN OIL</th>\n",
       "      <td>31.73</td>\n",
       "      <td>32.25</td>\n",
       "      <td>28.34</td>\n",
       "      <td>16.96</td>\n",
       "    </tr>\n",
       "    <tr>\n",
       "      <th>MICROSOFT</th>\n",
       "      <td>43.46</td>\n",
       "      <td>40.14</td>\n",
       "      <td>24.89</td>\n",
       "      <td>61.56</td>\n",
       "    </tr>\n",
       "    <tr>\n",
       "      <th>AMAZON.COM</th>\n",
       "      <td>14.60</td>\n",
       "      <td>21.95</td>\n",
       "      <td>12.97</td>\n",
       "      <td>83.31</td>\n",
       "    </tr>\n",
       "    <tr>\n",
       "      <th>ALIBABA GROUP HOLDING ADR 1:8</th>\n",
       "      <td>31.23</td>\n",
       "      <td>23.77</td>\n",
       "      <td>17.39</td>\n",
       "      <td>16.60</td>\n",
       "    </tr>\n",
       "    <tr>\n",
       "      <th>FACEBOOK CLASS A</th>\n",
       "      <td>41.11</td>\n",
       "      <td>19.96</td>\n",
       "      <td>19.94</td>\n",
       "      <td>0.47</td>\n",
       "    </tr>\n",
       "    <tr>\n",
       "      <th>TENCENT HOLDINGS</th>\n",
       "      <td>35.55</td>\n",
       "      <td>24.68</td>\n",
       "      <td>15.92</td>\n",
       "      <td>53.74</td>\n",
       "    </tr>\n",
       "    <tr>\n",
       "      <th>ALPHABET A</th>\n",
       "      <td>33.18</td>\n",
       "      <td>18.12</td>\n",
       "      <td>17.76</td>\n",
       "      <td>2.26</td>\n",
       "    </tr>\n",
       "    <tr>\n",
       "      <th>WALMART</th>\n",
       "      <td>4.88</td>\n",
       "      <td>20.22</td>\n",
       "      <td>12.55</td>\n",
       "      <td>72.95</td>\n",
       "    </tr>\n",
       "    <tr>\n",
       "      <th>JOHNSON &amp; JOHNSON</th>\n",
       "      <td>23.83</td>\n",
       "      <td>25.36</td>\n",
       "      <td>17.38</td>\n",
       "      <td>46.57</td>\n",
       "    </tr>\n",
       "    <tr>\n",
       "      <th>TAIWAN SEMICON.MNFG.</th>\n",
       "      <td>57.91</td>\n",
       "      <td>20.94</td>\n",
       "      <td>18.96</td>\n",
       "      <td>11.89</td>\n",
       "    </tr>\n",
       "    <tr>\n",
       "      <th>NESTLE 'N'</th>\n",
       "      <td>16.85</td>\n",
       "      <td>23.05</td>\n",
       "      <td>14.21</td>\n",
       "      <td>71.42</td>\n",
       "    </tr>\n",
       "  </tbody>\n",
       "</table>\n",
       "</div>"
      ],
      "text/plain": [
       "                               CASH FLOW/SALES  RETURN ON EQUITY - TOTAL (%)  \\\n",
       "NAME                                                                           \n",
       "SAUDI ARABIAN OIL                        31.73                         32.25   \n",
       "MICROSOFT                                43.46                         40.14   \n",
       "AMAZON.COM                               14.60                         21.95   \n",
       "ALIBABA GROUP HOLDING ADR 1:8            31.23                         23.77   \n",
       "FACEBOOK CLASS A                         41.11                         19.96   \n",
       "TENCENT HOLDINGS                         35.55                         24.68   \n",
       "ALPHABET A                               33.18                         18.12   \n",
       "WALMART                                   4.88                         20.22   \n",
       "JOHNSON & JOHNSON                        23.83                         25.36   \n",
       "TAIWAN SEMICON.MNFG.                     57.91                         20.94   \n",
       "NESTLE 'N'                               16.85                         23.05   \n",
       "\n",
       "                               RETURN ON INVESTED CAPITAL  \\\n",
       "NAME                                                        \n",
       "SAUDI ARABIAN OIL                                   28.34   \n",
       "MICROSOFT                                           24.89   \n",
       "AMAZON.COM                                          12.97   \n",
       "ALIBABA GROUP HOLDING ADR 1:8                       17.39   \n",
       "FACEBOOK CLASS A                                    19.94   \n",
       "TENCENT HOLDINGS                                    15.92   \n",
       "ALPHABET A                                          17.76   \n",
       "WALMART                                             12.55   \n",
       "JOHNSON & JOHNSON                                   17.38   \n",
       "TAIWAN SEMICON.MNFG.                                18.96   \n",
       "NESTLE 'N'                                          14.21   \n",
       "\n",
       "                               TOTAL DEBT % COMMON EQUITY  \n",
       "NAME                                                       \n",
       "SAUDI ARABIAN OIL                                   16.96  \n",
       "MICROSOFT                                           61.56  \n",
       "AMAZON.COM                                          83.31  \n",
       "ALIBABA GROUP HOLDING ADR 1:8                       16.60  \n",
       "FACEBOOK CLASS A                                     0.47  \n",
       "TENCENT HOLDINGS                                    53.74  \n",
       "ALPHABET A                                           2.26  \n",
       "WALMART                                             72.95  \n",
       "JOHNSON & JOHNSON                                   46.57  \n",
       "TAIWAN SEMICON.MNFG.                                11.89  \n",
       "NESTLE 'N'                                          71.42  "
      ]
     },
     "execution_count": 104,
     "metadata": {},
     "output_type": "execute_result"
    }
   ],
   "source": [
    "big_companies_df.drop(index=['APPLE','TESLA'],columns=['DIVIDEND YIELD','P/E - RATIO'])"
   ]
  },
  {
   "cell_type": "markdown",
   "metadata": {},
   "source": [
    "An important thing to notice is that most of the Pandas methods are non-destructive. In the previous operations, we have made many manipulations to the big_companies_df dataframe. However, it is still the same."
   ]
  },
  {
   "cell_type": "code",
   "execution_count": 105,
   "metadata": {},
   "outputs": [
    {
     "data": {
      "text/html": [
       "<div>\n",
       "<style scoped>\n",
       "    .dataframe tbody tr th:only-of-type {\n",
       "        vertical-align: middle;\n",
       "    }\n",
       "\n",
       "    .dataframe tbody tr th {\n",
       "        vertical-align: top;\n",
       "    }\n",
       "\n",
       "    .dataframe thead th {\n",
       "        text-align: right;\n",
       "    }\n",
       "</style>\n",
       "<table border=\"1\" class=\"dataframe\">\n",
       "  <thead>\n",
       "    <tr style=\"text-align: right;\">\n",
       "      <th></th>\n",
       "      <th>DIVIDEND YIELD</th>\n",
       "      <th>CASH FLOW/SALES</th>\n",
       "      <th>RETURN ON EQUITY - TOTAL (%)</th>\n",
       "      <th>RETURN ON INVESTED CAPITAL</th>\n",
       "      <th>P/E - RATIO</th>\n",
       "      <th>TOTAL DEBT % COMMON EQUITY</th>\n",
       "    </tr>\n",
       "    <tr>\n",
       "      <th>NAME</th>\n",
       "      <th></th>\n",
       "      <th></th>\n",
       "      <th></th>\n",
       "      <th></th>\n",
       "      <th></th>\n",
       "      <th></th>\n",
       "    </tr>\n",
       "  </thead>\n",
       "  <tbody>\n",
       "    <tr>\n",
       "      <th>APPLE</th>\n",
       "      <td>0.71</td>\n",
       "      <td>28.01</td>\n",
       "      <td>55.92</td>\n",
       "      <td>27.65</td>\n",
       "      <td>35.4</td>\n",
       "      <td>119.40</td>\n",
       "    </tr>\n",
       "    <tr>\n",
       "      <th>SAUDI ARABIAN OIL</th>\n",
       "      <td>0.21</td>\n",
       "      <td>31.73</td>\n",
       "      <td>32.25</td>\n",
       "      <td>28.34</td>\n",
       "      <td>29.5</td>\n",
       "      <td>16.96</td>\n",
       "    </tr>\n",
       "    <tr>\n",
       "      <th>MICROSOFT</th>\n",
       "      <td>1.06</td>\n",
       "      <td>43.46</td>\n",
       "      <td>40.14</td>\n",
       "      <td>24.89</td>\n",
       "      <td>36.5</td>\n",
       "      <td>61.56</td>\n",
       "    </tr>\n",
       "    <tr>\n",
       "      <th>AMAZON.COM</th>\n",
       "      <td>0.00</td>\n",
       "      <td>14.60</td>\n",
       "      <td>21.95</td>\n",
       "      <td>12.97</td>\n",
       "      <td>121.1</td>\n",
       "      <td>83.31</td>\n",
       "    </tr>\n",
       "    <tr>\n",
       "      <th>ALIBABA GROUP HOLDING ADR 1:8</th>\n",
       "      <td>0.00</td>\n",
       "      <td>31.23</td>\n",
       "      <td>23.77</td>\n",
       "      <td>17.39</td>\n",
       "      <td>31.0</td>\n",
       "      <td>16.60</td>\n",
       "    </tr>\n",
       "    <tr>\n",
       "      <th>FACEBOOK CLASS A</th>\n",
       "      <td>0.00</td>\n",
       "      <td>41.11</td>\n",
       "      <td>19.96</td>\n",
       "      <td>19.94</td>\n",
       "      <td>32.0</td>\n",
       "      <td>0.47</td>\n",
       "    </tr>\n",
       "    <tr>\n",
       "      <th>TENCENT HOLDINGS</th>\n",
       "      <td>0.23</td>\n",
       "      <td>35.55</td>\n",
       "      <td>24.68</td>\n",
       "      <td>15.92</td>\n",
       "      <td>42.6</td>\n",
       "      <td>53.74</td>\n",
       "    </tr>\n",
       "    <tr>\n",
       "      <th>ALPHABET A</th>\n",
       "      <td>0.00</td>\n",
       "      <td>33.18</td>\n",
       "      <td>18.12</td>\n",
       "      <td>17.76</td>\n",
       "      <td>33.2</td>\n",
       "      <td>2.26</td>\n",
       "    </tr>\n",
       "    <tr>\n",
       "      <th>TESLA</th>\n",
       "      <td>0.00</td>\n",
       "      <td>11.21</td>\n",
       "      <td>-14.94</td>\n",
       "      <td>-1.61</td>\n",
       "      <td>1036.3</td>\n",
       "      <td>202.77</td>\n",
       "    </tr>\n",
       "    <tr>\n",
       "      <th>WALMART</th>\n",
       "      <td>1.54</td>\n",
       "      <td>4.88</td>\n",
       "      <td>20.22</td>\n",
       "      <td>12.55</td>\n",
       "      <td>26.6</td>\n",
       "      <td>72.95</td>\n",
       "    </tr>\n",
       "    <tr>\n",
       "      <th>JOHNSON &amp; JOHNSON</th>\n",
       "      <td>2.71</td>\n",
       "      <td>23.83</td>\n",
       "      <td>25.36</td>\n",
       "      <td>17.38</td>\n",
       "      <td>26.7</td>\n",
       "      <td>46.57</td>\n",
       "    </tr>\n",
       "    <tr>\n",
       "      <th>TAIWAN SEMICON.MNFG.</th>\n",
       "      <td>2.31</td>\n",
       "      <td>57.91</td>\n",
       "      <td>20.94</td>\n",
       "      <td>18.96</td>\n",
       "      <td>24.7</td>\n",
       "      <td>11.89</td>\n",
       "    </tr>\n",
       "    <tr>\n",
       "      <th>NESTLE 'N'</th>\n",
       "      <td>2.47</td>\n",
       "      <td>16.85</td>\n",
       "      <td>23.05</td>\n",
       "      <td>14.21</td>\n",
       "      <td>23.3</td>\n",
       "      <td>71.42</td>\n",
       "    </tr>\n",
       "  </tbody>\n",
       "</table>\n",
       "</div>"
      ],
      "text/plain": [
       "                               DIVIDEND YIELD  CASH FLOW/SALES  \\\n",
       "NAME                                                             \n",
       "APPLE                                    0.71            28.01   \n",
       "SAUDI ARABIAN OIL                        0.21            31.73   \n",
       "MICROSOFT                                1.06            43.46   \n",
       "AMAZON.COM                               0.00            14.60   \n",
       "ALIBABA GROUP HOLDING ADR 1:8            0.00            31.23   \n",
       "FACEBOOK CLASS A                         0.00            41.11   \n",
       "TENCENT HOLDINGS                         0.23            35.55   \n",
       "ALPHABET A                               0.00            33.18   \n",
       "TESLA                                    0.00            11.21   \n",
       "WALMART                                  1.54             4.88   \n",
       "JOHNSON & JOHNSON                        2.71            23.83   \n",
       "TAIWAN SEMICON.MNFG.                     2.31            57.91   \n",
       "NESTLE 'N'                               2.47            16.85   \n",
       "\n",
       "                               RETURN ON EQUITY - TOTAL (%)  \\\n",
       "NAME                                                          \n",
       "APPLE                                                 55.92   \n",
       "SAUDI ARABIAN OIL                                     32.25   \n",
       "MICROSOFT                                             40.14   \n",
       "AMAZON.COM                                            21.95   \n",
       "ALIBABA GROUP HOLDING ADR 1:8                         23.77   \n",
       "FACEBOOK CLASS A                                      19.96   \n",
       "TENCENT HOLDINGS                                      24.68   \n",
       "ALPHABET A                                            18.12   \n",
       "TESLA                                                -14.94   \n",
       "WALMART                                               20.22   \n",
       "JOHNSON & JOHNSON                                     25.36   \n",
       "TAIWAN SEMICON.MNFG.                                  20.94   \n",
       "NESTLE 'N'                                            23.05   \n",
       "\n",
       "                               RETURN ON INVESTED CAPITAL  P/E - RATIO  \\\n",
       "NAME                                                                     \n",
       "APPLE                                               27.65         35.4   \n",
       "SAUDI ARABIAN OIL                                   28.34         29.5   \n",
       "MICROSOFT                                           24.89         36.5   \n",
       "AMAZON.COM                                          12.97        121.1   \n",
       "ALIBABA GROUP HOLDING ADR 1:8                       17.39         31.0   \n",
       "FACEBOOK CLASS A                                    19.94         32.0   \n",
       "TENCENT HOLDINGS                                    15.92         42.6   \n",
       "ALPHABET A                                          17.76         33.2   \n",
       "TESLA                                               -1.61       1036.3   \n",
       "WALMART                                             12.55         26.6   \n",
       "JOHNSON & JOHNSON                                   17.38         26.7   \n",
       "TAIWAN SEMICON.MNFG.                                18.96         24.7   \n",
       "NESTLE 'N'                                          14.21         23.3   \n",
       "\n",
       "                               TOTAL DEBT % COMMON EQUITY  \n",
       "NAME                                                       \n",
       "APPLE                                              119.40  \n",
       "SAUDI ARABIAN OIL                                   16.96  \n",
       "MICROSOFT                                           61.56  \n",
       "AMAZON.COM                                          83.31  \n",
       "ALIBABA GROUP HOLDING ADR 1:8                       16.60  \n",
       "FACEBOOK CLASS A                                     0.47  \n",
       "TENCENT HOLDINGS                                    53.74  \n",
       "ALPHABET A                                           2.26  \n",
       "TESLA                                              202.77  \n",
       "WALMART                                             72.95  \n",
       "JOHNSON & JOHNSON                                   46.57  \n",
       "TAIWAN SEMICON.MNFG.                                11.89  \n",
       "NESTLE 'N'                                          71.42  "
      ]
     },
     "execution_count": 105,
     "metadata": {},
     "output_type": "execute_result"
    }
   ],
   "source": [
    "big_companies_df"
   ]
  },
  {
   "cell_type": "markdown",
   "metadata": {},
   "source": [
    "Pandas makes almost all manipulations so that the manipulated dataframe is returned as a new object. If you want to change the original dataframe, almost all the methods have **inplace=True** for that."
   ]
  },
  {
   "cell_type": "markdown",
   "metadata": {},
   "source": [
    "Indexing, selecting values and slicing Pandas dataframes is very similar to other Python objects. One important difference is that when using labels for slicing, the last label is inclusive."
   ]
  },
  {
   "cell_type": "code",
   "execution_count": 107,
   "metadata": {},
   "outputs": [
    {
     "data": {
      "text/html": [
       "<div>\n",
       "<style scoped>\n",
       "    .dataframe tbody tr th:only-of-type {\n",
       "        vertical-align: middle;\n",
       "    }\n",
       "\n",
       "    .dataframe tbody tr th {\n",
       "        vertical-align: top;\n",
       "    }\n",
       "\n",
       "    .dataframe thead th {\n",
       "        text-align: right;\n",
       "    }\n",
       "</style>\n",
       "<table border=\"1\" class=\"dataframe\">\n",
       "  <thead>\n",
       "    <tr style=\"text-align: right;\">\n",
       "      <th></th>\n",
       "      <th>DIVIDEND YIELD</th>\n",
       "      <th>CASH FLOW/SALES</th>\n",
       "      <th>RETURN ON EQUITY - TOTAL (%)</th>\n",
       "      <th>RETURN ON INVESTED CAPITAL</th>\n",
       "      <th>P/E - RATIO</th>\n",
       "      <th>TOTAL DEBT % COMMON EQUITY</th>\n",
       "    </tr>\n",
       "    <tr>\n",
       "      <th>NAME</th>\n",
       "      <th></th>\n",
       "      <th></th>\n",
       "      <th></th>\n",
       "      <th></th>\n",
       "      <th></th>\n",
       "      <th></th>\n",
       "    </tr>\n",
       "  </thead>\n",
       "  <tbody>\n",
       "    <tr>\n",
       "      <th>MICROSOFT</th>\n",
       "      <td>1.06</td>\n",
       "      <td>43.46</td>\n",
       "      <td>40.14</td>\n",
       "      <td>24.89</td>\n",
       "      <td>36.5</td>\n",
       "      <td>61.56</td>\n",
       "    </tr>\n",
       "    <tr>\n",
       "      <th>AMAZON.COM</th>\n",
       "      <td>0.00</td>\n",
       "      <td>14.60</td>\n",
       "      <td>21.95</td>\n",
       "      <td>12.97</td>\n",
       "      <td>121.1</td>\n",
       "      <td>83.31</td>\n",
       "    </tr>\n",
       "    <tr>\n",
       "      <th>ALIBABA GROUP HOLDING ADR 1:8</th>\n",
       "      <td>0.00</td>\n",
       "      <td>31.23</td>\n",
       "      <td>23.77</td>\n",
       "      <td>17.39</td>\n",
       "      <td>31.0</td>\n",
       "      <td>16.60</td>\n",
       "    </tr>\n",
       "    <tr>\n",
       "      <th>FACEBOOK CLASS A</th>\n",
       "      <td>0.00</td>\n",
       "      <td>41.11</td>\n",
       "      <td>19.96</td>\n",
       "      <td>19.94</td>\n",
       "      <td>32.0</td>\n",
       "      <td>0.47</td>\n",
       "    </tr>\n",
       "    <tr>\n",
       "      <th>TENCENT HOLDINGS</th>\n",
       "      <td>0.23</td>\n",
       "      <td>35.55</td>\n",
       "      <td>24.68</td>\n",
       "      <td>15.92</td>\n",
       "      <td>42.6</td>\n",
       "      <td>53.74</td>\n",
       "    </tr>\n",
       "    <tr>\n",
       "      <th>ALPHABET A</th>\n",
       "      <td>0.00</td>\n",
       "      <td>33.18</td>\n",
       "      <td>18.12</td>\n",
       "      <td>17.76</td>\n",
       "      <td>33.2</td>\n",
       "      <td>2.26</td>\n",
       "    </tr>\n",
       "    <tr>\n",
       "      <th>TESLA</th>\n",
       "      <td>0.00</td>\n",
       "      <td>11.21</td>\n",
       "      <td>-14.94</td>\n",
       "      <td>-1.61</td>\n",
       "      <td>1036.3</td>\n",
       "      <td>202.77</td>\n",
       "    </tr>\n",
       "  </tbody>\n",
       "</table>\n",
       "</div>"
      ],
      "text/plain": [
       "                               DIVIDEND YIELD  CASH FLOW/SALES  \\\n",
       "NAME                                                             \n",
       "MICROSOFT                                1.06            43.46   \n",
       "AMAZON.COM                               0.00            14.60   \n",
       "ALIBABA GROUP HOLDING ADR 1:8            0.00            31.23   \n",
       "FACEBOOK CLASS A                         0.00            41.11   \n",
       "TENCENT HOLDINGS                         0.23            35.55   \n",
       "ALPHABET A                               0.00            33.18   \n",
       "TESLA                                    0.00            11.21   \n",
       "\n",
       "                               RETURN ON EQUITY - TOTAL (%)  \\\n",
       "NAME                                                          \n",
       "MICROSOFT                                             40.14   \n",
       "AMAZON.COM                                            21.95   \n",
       "ALIBABA GROUP HOLDING ADR 1:8                         23.77   \n",
       "FACEBOOK CLASS A                                      19.96   \n",
       "TENCENT HOLDINGS                                      24.68   \n",
       "ALPHABET A                                            18.12   \n",
       "TESLA                                                -14.94   \n",
       "\n",
       "                               RETURN ON INVESTED CAPITAL  P/E - RATIO  \\\n",
       "NAME                                                                     \n",
       "MICROSOFT                                           24.89         36.5   \n",
       "AMAZON.COM                                          12.97        121.1   \n",
       "ALIBABA GROUP HOLDING ADR 1:8                       17.39         31.0   \n",
       "FACEBOOK CLASS A                                    19.94         32.0   \n",
       "TENCENT HOLDINGS                                    15.92         42.6   \n",
       "ALPHABET A                                          17.76         33.2   \n",
       "TESLA                                               -1.61       1036.3   \n",
       "\n",
       "                               TOTAL DEBT % COMMON EQUITY  \n",
       "NAME                                                       \n",
       "MICROSOFT                                           61.56  \n",
       "AMAZON.COM                                          83.31  \n",
       "ALIBABA GROUP HOLDING ADR 1:8                       16.60  \n",
       "FACEBOOK CLASS A                                     0.47  \n",
       "TENCENT HOLDINGS                                    53.74  \n",
       "ALPHABET A                                           2.26  \n",
       "TESLA                                              202.77  "
      ]
     },
     "execution_count": 107,
     "metadata": {},
     "output_type": "execute_result"
    }
   ],
   "source": [
    "big_companies_df['MICROSOFT':'TESLA']"
   ]
  },
  {
   "cell_type": "markdown",
   "metadata": {},
   "source": [
    "You can also pick up columns using double brackets, put the slicing is not possible."
   ]
  },
  {
   "cell_type": "code",
   "execution_count": 109,
   "metadata": {},
   "outputs": [
    {
     "data": {
      "text/html": [
       "<div>\n",
       "<style scoped>\n",
       "    .dataframe tbody tr th:only-of-type {\n",
       "        vertical-align: middle;\n",
       "    }\n",
       "\n",
       "    .dataframe tbody tr th {\n",
       "        vertical-align: top;\n",
       "    }\n",
       "\n",
       "    .dataframe thead th {\n",
       "        text-align: right;\n",
       "    }\n",
       "</style>\n",
       "<table border=\"1\" class=\"dataframe\">\n",
       "  <thead>\n",
       "    <tr style=\"text-align: right;\">\n",
       "      <th></th>\n",
       "      <th>DIVIDEND YIELD</th>\n",
       "      <th>CASH FLOW/SALES</th>\n",
       "    </tr>\n",
       "    <tr>\n",
       "      <th>NAME</th>\n",
       "      <th></th>\n",
       "      <th></th>\n",
       "    </tr>\n",
       "  </thead>\n",
       "  <tbody>\n",
       "    <tr>\n",
       "      <th>APPLE</th>\n",
       "      <td>0.71</td>\n",
       "      <td>28.01</td>\n",
       "    </tr>\n",
       "    <tr>\n",
       "      <th>SAUDI ARABIAN OIL</th>\n",
       "      <td>0.21</td>\n",
       "      <td>31.73</td>\n",
       "    </tr>\n",
       "    <tr>\n",
       "      <th>MICROSOFT</th>\n",
       "      <td>1.06</td>\n",
       "      <td>43.46</td>\n",
       "    </tr>\n",
       "    <tr>\n",
       "      <th>AMAZON.COM</th>\n",
       "      <td>0.00</td>\n",
       "      <td>14.60</td>\n",
       "    </tr>\n",
       "    <tr>\n",
       "      <th>ALIBABA GROUP HOLDING ADR 1:8</th>\n",
       "      <td>0.00</td>\n",
       "      <td>31.23</td>\n",
       "    </tr>\n",
       "    <tr>\n",
       "      <th>FACEBOOK CLASS A</th>\n",
       "      <td>0.00</td>\n",
       "      <td>41.11</td>\n",
       "    </tr>\n",
       "    <tr>\n",
       "      <th>TENCENT HOLDINGS</th>\n",
       "      <td>0.23</td>\n",
       "      <td>35.55</td>\n",
       "    </tr>\n",
       "    <tr>\n",
       "      <th>ALPHABET A</th>\n",
       "      <td>0.00</td>\n",
       "      <td>33.18</td>\n",
       "    </tr>\n",
       "    <tr>\n",
       "      <th>TESLA</th>\n",
       "      <td>0.00</td>\n",
       "      <td>11.21</td>\n",
       "    </tr>\n",
       "    <tr>\n",
       "      <th>WALMART</th>\n",
       "      <td>1.54</td>\n",
       "      <td>4.88</td>\n",
       "    </tr>\n",
       "    <tr>\n",
       "      <th>JOHNSON &amp; JOHNSON</th>\n",
       "      <td>2.71</td>\n",
       "      <td>23.83</td>\n",
       "    </tr>\n",
       "    <tr>\n",
       "      <th>TAIWAN SEMICON.MNFG.</th>\n",
       "      <td>2.31</td>\n",
       "      <td>57.91</td>\n",
       "    </tr>\n",
       "    <tr>\n",
       "      <th>NESTLE 'N'</th>\n",
       "      <td>2.47</td>\n",
       "      <td>16.85</td>\n",
       "    </tr>\n",
       "  </tbody>\n",
       "</table>\n",
       "</div>"
      ],
      "text/plain": [
       "                               DIVIDEND YIELD  CASH FLOW/SALES\n",
       "NAME                                                          \n",
       "APPLE                                    0.71            28.01\n",
       "SAUDI ARABIAN OIL                        0.21            31.73\n",
       "MICROSOFT                                1.06            43.46\n",
       "AMAZON.COM                               0.00            14.60\n",
       "ALIBABA GROUP HOLDING ADR 1:8            0.00            31.23\n",
       "FACEBOOK CLASS A                         0.00            41.11\n",
       "TENCENT HOLDINGS                         0.23            35.55\n",
       "ALPHABET A                               0.00            33.18\n",
       "TESLA                                    0.00            11.21\n",
       "WALMART                                  1.54             4.88\n",
       "JOHNSON & JOHNSON                        2.71            23.83\n",
       "TAIWAN SEMICON.MNFG.                     2.31            57.91\n",
       "NESTLE 'N'                               2.47            16.85"
      ]
     },
     "execution_count": 109,
     "metadata": {},
     "output_type": "execute_result"
    }
   ],
   "source": [
    "big_companies_df[['DIVIDEND YIELD','CASH FLOW/SALES']]"
   ]
  },
  {
   "cell_type": "markdown",
   "metadata": {},
   "source": [
    "You can also pick up values using booleans."
   ]
  },
  {
   "cell_type": "code",
   "execution_count": 110,
   "metadata": {},
   "outputs": [
    {
     "data": {
      "text/html": [
       "<div>\n",
       "<style scoped>\n",
       "    .dataframe tbody tr th:only-of-type {\n",
       "        vertical-align: middle;\n",
       "    }\n",
       "\n",
       "    .dataframe tbody tr th {\n",
       "        vertical-align: top;\n",
       "    }\n",
       "\n",
       "    .dataframe thead th {\n",
       "        text-align: right;\n",
       "    }\n",
       "</style>\n",
       "<table border=\"1\" class=\"dataframe\">\n",
       "  <thead>\n",
       "    <tr style=\"text-align: right;\">\n",
       "      <th></th>\n",
       "      <th>DIVIDEND YIELD</th>\n",
       "      <th>CASH FLOW/SALES</th>\n",
       "      <th>RETURN ON EQUITY - TOTAL (%)</th>\n",
       "      <th>RETURN ON INVESTED CAPITAL</th>\n",
       "      <th>P/E - RATIO</th>\n",
       "      <th>TOTAL DEBT % COMMON EQUITY</th>\n",
       "    </tr>\n",
       "    <tr>\n",
       "      <th>NAME</th>\n",
       "      <th></th>\n",
       "      <th></th>\n",
       "      <th></th>\n",
       "      <th></th>\n",
       "      <th></th>\n",
       "      <th></th>\n",
       "    </tr>\n",
       "  </thead>\n",
       "  <tbody>\n",
       "    <tr>\n",
       "      <th>AMAZON.COM</th>\n",
       "      <td>0.00</td>\n",
       "      <td>14.60</td>\n",
       "      <td>21.95</td>\n",
       "      <td>12.97</td>\n",
       "      <td>121.1</td>\n",
       "      <td>83.31</td>\n",
       "    </tr>\n",
       "    <tr>\n",
       "      <th>TENCENT HOLDINGS</th>\n",
       "      <td>0.23</td>\n",
       "      <td>35.55</td>\n",
       "      <td>24.68</td>\n",
       "      <td>15.92</td>\n",
       "      <td>42.6</td>\n",
       "      <td>53.74</td>\n",
       "    </tr>\n",
       "    <tr>\n",
       "      <th>TESLA</th>\n",
       "      <td>0.00</td>\n",
       "      <td>11.21</td>\n",
       "      <td>-14.94</td>\n",
       "      <td>-1.61</td>\n",
       "      <td>1036.3</td>\n",
       "      <td>202.77</td>\n",
       "    </tr>\n",
       "  </tbody>\n",
       "</table>\n",
       "</div>"
      ],
      "text/plain": [
       "                  DIVIDEND YIELD  CASH FLOW/SALES  \\\n",
       "NAME                                                \n",
       "AMAZON.COM                  0.00            14.60   \n",
       "TENCENT HOLDINGS            0.23            35.55   \n",
       "TESLA                       0.00            11.21   \n",
       "\n",
       "                  RETURN ON EQUITY - TOTAL (%)  RETURN ON INVESTED CAPITAL  \\\n",
       "NAME                                                                         \n",
       "AMAZON.COM                               21.95                       12.97   \n",
       "TENCENT HOLDINGS                         24.68                       15.92   \n",
       "TESLA                                   -14.94                       -1.61   \n",
       "\n",
       "                  P/E - RATIO  TOTAL DEBT % COMMON EQUITY  \n",
       "NAME                                                       \n",
       "AMAZON.COM              121.1                       83.31  \n",
       "TENCENT HOLDINGS         42.6                       53.74  \n",
       "TESLA                  1036.3                      202.77  "
      ]
     },
     "execution_count": 110,
     "metadata": {},
     "output_type": "execute_result"
    }
   ],
   "source": [
    "big_companies_df[big_companies_df['P/E - RATIO'] > 40]"
   ]
  },
  {
   "cell_type": "markdown",
   "metadata": {},
   "source": [
    "You can build a boolean dataframe easily. In the following, we check if a value in the dataframe is larger than 10."
   ]
  },
  {
   "cell_type": "code",
   "execution_count": 111,
   "metadata": {},
   "outputs": [
    {
     "data": {
      "text/html": [
       "<div>\n",
       "<style scoped>\n",
       "    .dataframe tbody tr th:only-of-type {\n",
       "        vertical-align: middle;\n",
       "    }\n",
       "\n",
       "    .dataframe tbody tr th {\n",
       "        vertical-align: top;\n",
       "    }\n",
       "\n",
       "    .dataframe thead th {\n",
       "        text-align: right;\n",
       "    }\n",
       "</style>\n",
       "<table border=\"1\" class=\"dataframe\">\n",
       "  <thead>\n",
       "    <tr style=\"text-align: right;\">\n",
       "      <th></th>\n",
       "      <th>DIVIDEND YIELD</th>\n",
       "      <th>CASH FLOW/SALES</th>\n",
       "      <th>RETURN ON EQUITY - TOTAL (%)</th>\n",
       "      <th>RETURN ON INVESTED CAPITAL</th>\n",
       "      <th>P/E - RATIO</th>\n",
       "      <th>TOTAL DEBT % COMMON EQUITY</th>\n",
       "    </tr>\n",
       "    <tr>\n",
       "      <th>NAME</th>\n",
       "      <th></th>\n",
       "      <th></th>\n",
       "      <th></th>\n",
       "      <th></th>\n",
       "      <th></th>\n",
       "      <th></th>\n",
       "    </tr>\n",
       "  </thead>\n",
       "  <tbody>\n",
       "    <tr>\n",
       "      <th>APPLE</th>\n",
       "      <td>False</td>\n",
       "      <td>True</td>\n",
       "      <td>True</td>\n",
       "      <td>True</td>\n",
       "      <td>True</td>\n",
       "      <td>True</td>\n",
       "    </tr>\n",
       "    <tr>\n",
       "      <th>SAUDI ARABIAN OIL</th>\n",
       "      <td>False</td>\n",
       "      <td>True</td>\n",
       "      <td>True</td>\n",
       "      <td>True</td>\n",
       "      <td>True</td>\n",
       "      <td>True</td>\n",
       "    </tr>\n",
       "    <tr>\n",
       "      <th>MICROSOFT</th>\n",
       "      <td>False</td>\n",
       "      <td>True</td>\n",
       "      <td>True</td>\n",
       "      <td>True</td>\n",
       "      <td>True</td>\n",
       "      <td>True</td>\n",
       "    </tr>\n",
       "    <tr>\n",
       "      <th>AMAZON.COM</th>\n",
       "      <td>False</td>\n",
       "      <td>True</td>\n",
       "      <td>True</td>\n",
       "      <td>True</td>\n",
       "      <td>True</td>\n",
       "      <td>True</td>\n",
       "    </tr>\n",
       "    <tr>\n",
       "      <th>ALIBABA GROUP HOLDING ADR 1:8</th>\n",
       "      <td>False</td>\n",
       "      <td>True</td>\n",
       "      <td>True</td>\n",
       "      <td>True</td>\n",
       "      <td>True</td>\n",
       "      <td>True</td>\n",
       "    </tr>\n",
       "    <tr>\n",
       "      <th>FACEBOOK CLASS A</th>\n",
       "      <td>False</td>\n",
       "      <td>True</td>\n",
       "      <td>True</td>\n",
       "      <td>True</td>\n",
       "      <td>True</td>\n",
       "      <td>False</td>\n",
       "    </tr>\n",
       "    <tr>\n",
       "      <th>TENCENT HOLDINGS</th>\n",
       "      <td>False</td>\n",
       "      <td>True</td>\n",
       "      <td>True</td>\n",
       "      <td>True</td>\n",
       "      <td>True</td>\n",
       "      <td>True</td>\n",
       "    </tr>\n",
       "    <tr>\n",
       "      <th>ALPHABET A</th>\n",
       "      <td>False</td>\n",
       "      <td>True</td>\n",
       "      <td>True</td>\n",
       "      <td>True</td>\n",
       "      <td>True</td>\n",
       "      <td>False</td>\n",
       "    </tr>\n",
       "    <tr>\n",
       "      <th>TESLA</th>\n",
       "      <td>False</td>\n",
       "      <td>True</td>\n",
       "      <td>False</td>\n",
       "      <td>False</td>\n",
       "      <td>True</td>\n",
       "      <td>True</td>\n",
       "    </tr>\n",
       "    <tr>\n",
       "      <th>WALMART</th>\n",
       "      <td>False</td>\n",
       "      <td>False</td>\n",
       "      <td>True</td>\n",
       "      <td>True</td>\n",
       "      <td>True</td>\n",
       "      <td>True</td>\n",
       "    </tr>\n",
       "    <tr>\n",
       "      <th>JOHNSON &amp; JOHNSON</th>\n",
       "      <td>False</td>\n",
       "      <td>True</td>\n",
       "      <td>True</td>\n",
       "      <td>True</td>\n",
       "      <td>True</td>\n",
       "      <td>True</td>\n",
       "    </tr>\n",
       "    <tr>\n",
       "      <th>TAIWAN SEMICON.MNFG.</th>\n",
       "      <td>False</td>\n",
       "      <td>True</td>\n",
       "      <td>True</td>\n",
       "      <td>True</td>\n",
       "      <td>True</td>\n",
       "      <td>True</td>\n",
       "    </tr>\n",
       "    <tr>\n",
       "      <th>NESTLE 'N'</th>\n",
       "      <td>False</td>\n",
       "      <td>True</td>\n",
       "      <td>True</td>\n",
       "      <td>True</td>\n",
       "      <td>True</td>\n",
       "      <td>True</td>\n",
       "    </tr>\n",
       "  </tbody>\n",
       "</table>\n",
       "</div>"
      ],
      "text/plain": [
       "                               DIVIDEND YIELD  CASH FLOW/SALES  \\\n",
       "NAME                                                             \n",
       "APPLE                                   False             True   \n",
       "SAUDI ARABIAN OIL                       False             True   \n",
       "MICROSOFT                               False             True   \n",
       "AMAZON.COM                              False             True   \n",
       "ALIBABA GROUP HOLDING ADR 1:8           False             True   \n",
       "FACEBOOK CLASS A                        False             True   \n",
       "TENCENT HOLDINGS                        False             True   \n",
       "ALPHABET A                              False             True   \n",
       "TESLA                                   False             True   \n",
       "WALMART                                 False            False   \n",
       "JOHNSON & JOHNSON                       False             True   \n",
       "TAIWAN SEMICON.MNFG.                    False             True   \n",
       "NESTLE 'N'                              False             True   \n",
       "\n",
       "                               RETURN ON EQUITY - TOTAL (%)  \\\n",
       "NAME                                                          \n",
       "APPLE                                                  True   \n",
       "SAUDI ARABIAN OIL                                      True   \n",
       "MICROSOFT                                              True   \n",
       "AMAZON.COM                                             True   \n",
       "ALIBABA GROUP HOLDING ADR 1:8                          True   \n",
       "FACEBOOK CLASS A                                       True   \n",
       "TENCENT HOLDINGS                                       True   \n",
       "ALPHABET A                                             True   \n",
       "TESLA                                                 False   \n",
       "WALMART                                                True   \n",
       "JOHNSON & JOHNSON                                      True   \n",
       "TAIWAN SEMICON.MNFG.                                   True   \n",
       "NESTLE 'N'                                             True   \n",
       "\n",
       "                               RETURN ON INVESTED CAPITAL  P/E - RATIO  \\\n",
       "NAME                                                                     \n",
       "APPLE                                                True         True   \n",
       "SAUDI ARABIAN OIL                                    True         True   \n",
       "MICROSOFT                                            True         True   \n",
       "AMAZON.COM                                           True         True   \n",
       "ALIBABA GROUP HOLDING ADR 1:8                        True         True   \n",
       "FACEBOOK CLASS A                                     True         True   \n",
       "TENCENT HOLDINGS                                     True         True   \n",
       "ALPHABET A                                           True         True   \n",
       "TESLA                                               False         True   \n",
       "WALMART                                              True         True   \n",
       "JOHNSON & JOHNSON                                    True         True   \n",
       "TAIWAN SEMICON.MNFG.                                 True         True   \n",
       "NESTLE 'N'                                           True         True   \n",
       "\n",
       "                               TOTAL DEBT % COMMON EQUITY  \n",
       "NAME                                                       \n",
       "APPLE                                                True  \n",
       "SAUDI ARABIAN OIL                                    True  \n",
       "MICROSOFT                                            True  \n",
       "AMAZON.COM                                           True  \n",
       "ALIBABA GROUP HOLDING ADR 1:8                        True  \n",
       "FACEBOOK CLASS A                                    False  \n",
       "TENCENT HOLDINGS                                     True  \n",
       "ALPHABET A                                          False  \n",
       "TESLA                                                True  \n",
       "WALMART                                              True  \n",
       "JOHNSON & JOHNSON                                    True  \n",
       "TAIWAN SEMICON.MNFG.                                 True  \n",
       "NESTLE 'N'                                           True  "
      ]
     },
     "execution_count": 111,
     "metadata": {},
     "output_type": "execute_result"
    }
   ],
   "source": [
    "big_companies_df > 10"
   ]
  },
  {
   "cell_type": "markdown",
   "metadata": {},
   "source": [
    "To make the indexing more clear, Pandas has operators **loc** and **iloc** that can be used to select the rows and columns from a dataframe using Numpy-like notation. **loc** works with labels and **iloc** with integer positions."
   ]
  },
  {
   "cell_type": "code",
   "execution_count": 112,
   "metadata": {},
   "outputs": [
    {
     "data": {
      "text/html": [
       "<div>\n",
       "<style scoped>\n",
       "    .dataframe tbody tr th:only-of-type {\n",
       "        vertical-align: middle;\n",
       "    }\n",
       "\n",
       "    .dataframe tbody tr th {\n",
       "        vertical-align: top;\n",
       "    }\n",
       "\n",
       "    .dataframe thead th {\n",
       "        text-align: right;\n",
       "    }\n",
       "</style>\n",
       "<table border=\"1\" class=\"dataframe\">\n",
       "  <thead>\n",
       "    <tr style=\"text-align: right;\">\n",
       "      <th></th>\n",
       "      <th>DIVIDEND YIELD</th>\n",
       "      <th>CASH FLOW/SALES</th>\n",
       "      <th>RETURN ON EQUITY - TOTAL (%)</th>\n",
       "      <th>RETURN ON INVESTED CAPITAL</th>\n",
       "      <th>P/E - RATIO</th>\n",
       "      <th>TOTAL DEBT % COMMON EQUITY</th>\n",
       "    </tr>\n",
       "    <tr>\n",
       "      <th>NAME</th>\n",
       "      <th></th>\n",
       "      <th></th>\n",
       "      <th></th>\n",
       "      <th></th>\n",
       "      <th></th>\n",
       "      <th></th>\n",
       "    </tr>\n",
       "  </thead>\n",
       "  <tbody>\n",
       "    <tr>\n",
       "      <th>APPLE</th>\n",
       "      <td>0.71</td>\n",
       "      <td>28.01</td>\n",
       "      <td>55.92</td>\n",
       "      <td>27.65</td>\n",
       "      <td>35.4</td>\n",
       "      <td>119.40</td>\n",
       "    </tr>\n",
       "    <tr>\n",
       "      <th>SAUDI ARABIAN OIL</th>\n",
       "      <td>0.21</td>\n",
       "      <td>31.73</td>\n",
       "      <td>32.25</td>\n",
       "      <td>28.34</td>\n",
       "      <td>29.5</td>\n",
       "      <td>16.96</td>\n",
       "    </tr>\n",
       "    <tr>\n",
       "      <th>MICROSOFT</th>\n",
       "      <td>1.06</td>\n",
       "      <td>43.46</td>\n",
       "      <td>40.14</td>\n",
       "      <td>24.89</td>\n",
       "      <td>36.5</td>\n",
       "      <td>61.56</td>\n",
       "    </tr>\n",
       "    <tr>\n",
       "      <th>AMAZON.COM</th>\n",
       "      <td>0.00</td>\n",
       "      <td>14.60</td>\n",
       "      <td>21.95</td>\n",
       "      <td>12.97</td>\n",
       "      <td>121.1</td>\n",
       "      <td>83.31</td>\n",
       "    </tr>\n",
       "    <tr>\n",
       "      <th>ALIBABA GROUP HOLDING ADR 1:8</th>\n",
       "      <td>0.00</td>\n",
       "      <td>31.23</td>\n",
       "      <td>23.77</td>\n",
       "      <td>17.39</td>\n",
       "      <td>31.0</td>\n",
       "      <td>16.60</td>\n",
       "    </tr>\n",
       "    <tr>\n",
       "      <th>FACEBOOK CLASS A</th>\n",
       "      <td>0.00</td>\n",
       "      <td>41.11</td>\n",
       "      <td>19.96</td>\n",
       "      <td>19.94</td>\n",
       "      <td>32.0</td>\n",
       "      <td>0.47</td>\n",
       "    </tr>\n",
       "    <tr>\n",
       "      <th>TENCENT HOLDINGS</th>\n",
       "      <td>0.23</td>\n",
       "      <td>35.55</td>\n",
       "      <td>24.68</td>\n",
       "      <td>15.92</td>\n",
       "      <td>42.6</td>\n",
       "      <td>53.74</td>\n",
       "    </tr>\n",
       "    <tr>\n",
       "      <th>ALPHABET A</th>\n",
       "      <td>0.00</td>\n",
       "      <td>33.18</td>\n",
       "      <td>18.12</td>\n",
       "      <td>17.76</td>\n",
       "      <td>33.2</td>\n",
       "      <td>2.26</td>\n",
       "    </tr>\n",
       "    <tr>\n",
       "      <th>TESLA</th>\n",
       "      <td>0.00</td>\n",
       "      <td>11.21</td>\n",
       "      <td>-14.94</td>\n",
       "      <td>-1.61</td>\n",
       "      <td>1036.3</td>\n",
       "      <td>202.77</td>\n",
       "    </tr>\n",
       "    <tr>\n",
       "      <th>WALMART</th>\n",
       "      <td>1.54</td>\n",
       "      <td>4.88</td>\n",
       "      <td>20.22</td>\n",
       "      <td>12.55</td>\n",
       "      <td>26.6</td>\n",
       "      <td>72.95</td>\n",
       "    </tr>\n",
       "    <tr>\n",
       "      <th>JOHNSON &amp; JOHNSON</th>\n",
       "      <td>2.71</td>\n",
       "      <td>23.83</td>\n",
       "      <td>25.36</td>\n",
       "      <td>17.38</td>\n",
       "      <td>26.7</td>\n",
       "      <td>46.57</td>\n",
       "    </tr>\n",
       "    <tr>\n",
       "      <th>TAIWAN SEMICON.MNFG.</th>\n",
       "      <td>2.31</td>\n",
       "      <td>57.91</td>\n",
       "      <td>20.94</td>\n",
       "      <td>18.96</td>\n",
       "      <td>24.7</td>\n",
       "      <td>11.89</td>\n",
       "    </tr>\n",
       "    <tr>\n",
       "      <th>NESTLE 'N'</th>\n",
       "      <td>2.47</td>\n",
       "      <td>16.85</td>\n",
       "      <td>23.05</td>\n",
       "      <td>14.21</td>\n",
       "      <td>23.3</td>\n",
       "      <td>71.42</td>\n",
       "    </tr>\n",
       "  </tbody>\n",
       "</table>\n",
       "</div>"
      ],
      "text/plain": [
       "                               DIVIDEND YIELD  CASH FLOW/SALES  \\\n",
       "NAME                                                             \n",
       "APPLE                                    0.71            28.01   \n",
       "SAUDI ARABIAN OIL                        0.21            31.73   \n",
       "MICROSOFT                                1.06            43.46   \n",
       "AMAZON.COM                               0.00            14.60   \n",
       "ALIBABA GROUP HOLDING ADR 1:8            0.00            31.23   \n",
       "FACEBOOK CLASS A                         0.00            41.11   \n",
       "TENCENT HOLDINGS                         0.23            35.55   \n",
       "ALPHABET A                               0.00            33.18   \n",
       "TESLA                                    0.00            11.21   \n",
       "WALMART                                  1.54             4.88   \n",
       "JOHNSON & JOHNSON                        2.71            23.83   \n",
       "TAIWAN SEMICON.MNFG.                     2.31            57.91   \n",
       "NESTLE 'N'                               2.47            16.85   \n",
       "\n",
       "                               RETURN ON EQUITY - TOTAL (%)  \\\n",
       "NAME                                                          \n",
       "APPLE                                                 55.92   \n",
       "SAUDI ARABIAN OIL                                     32.25   \n",
       "MICROSOFT                                             40.14   \n",
       "AMAZON.COM                                            21.95   \n",
       "ALIBABA GROUP HOLDING ADR 1:8                         23.77   \n",
       "FACEBOOK CLASS A                                      19.96   \n",
       "TENCENT HOLDINGS                                      24.68   \n",
       "ALPHABET A                                            18.12   \n",
       "TESLA                                                -14.94   \n",
       "WALMART                                               20.22   \n",
       "JOHNSON & JOHNSON                                     25.36   \n",
       "TAIWAN SEMICON.MNFG.                                  20.94   \n",
       "NESTLE 'N'                                            23.05   \n",
       "\n",
       "                               RETURN ON INVESTED CAPITAL  P/E - RATIO  \\\n",
       "NAME                                                                     \n",
       "APPLE                                               27.65         35.4   \n",
       "SAUDI ARABIAN OIL                                   28.34         29.5   \n",
       "MICROSOFT                                           24.89         36.5   \n",
       "AMAZON.COM                                          12.97        121.1   \n",
       "ALIBABA GROUP HOLDING ADR 1:8                       17.39         31.0   \n",
       "FACEBOOK CLASS A                                    19.94         32.0   \n",
       "TENCENT HOLDINGS                                    15.92         42.6   \n",
       "ALPHABET A                                          17.76         33.2   \n",
       "TESLA                                               -1.61       1036.3   \n",
       "WALMART                                             12.55         26.6   \n",
       "JOHNSON & JOHNSON                                   17.38         26.7   \n",
       "TAIWAN SEMICON.MNFG.                                18.96         24.7   \n",
       "NESTLE 'N'                                          14.21         23.3   \n",
       "\n",
       "                               TOTAL DEBT % COMMON EQUITY  \n",
       "NAME                                                       \n",
       "APPLE                                              119.40  \n",
       "SAUDI ARABIAN OIL                                   16.96  \n",
       "MICROSOFT                                           61.56  \n",
       "AMAZON.COM                                          83.31  \n",
       "ALIBABA GROUP HOLDING ADR 1:8                       16.60  \n",
       "FACEBOOK CLASS A                                     0.47  \n",
       "TENCENT HOLDINGS                                    53.74  \n",
       "ALPHABET A                                           2.26  \n",
       "TESLA                                              202.77  \n",
       "WALMART                                             72.95  \n",
       "JOHNSON & JOHNSON                                   46.57  \n",
       "TAIWAN SEMICON.MNFG.                                11.89  \n",
       "NESTLE 'N'                                          71.42  "
      ]
     },
     "execution_count": 112,
     "metadata": {},
     "output_type": "execute_result"
    }
   ],
   "source": [
    "big_companies_df"
   ]
  },
  {
   "cell_type": "markdown",
   "metadata": {},
   "source": [
    "Notice that with **loc** we can use slicing also with columns."
   ]
  },
  {
   "cell_type": "code",
   "execution_count": 117,
   "metadata": {},
   "outputs": [
    {
     "data": {
      "text/html": [
       "<div>\n",
       "<style scoped>\n",
       "    .dataframe tbody tr th:only-of-type {\n",
       "        vertical-align: middle;\n",
       "    }\n",
       "\n",
       "    .dataframe tbody tr th {\n",
       "        vertical-align: top;\n",
       "    }\n",
       "\n",
       "    .dataframe thead th {\n",
       "        text-align: right;\n",
       "    }\n",
       "</style>\n",
       "<table border=\"1\" class=\"dataframe\">\n",
       "  <thead>\n",
       "    <tr style=\"text-align: right;\">\n",
       "      <th></th>\n",
       "      <th>DIVIDEND YIELD</th>\n",
       "      <th>CASH FLOW/SALES</th>\n",
       "      <th>RETURN ON EQUITY - TOTAL (%)</th>\n",
       "      <th>RETURN ON INVESTED CAPITAL</th>\n",
       "      <th>P/E - RATIO</th>\n",
       "    </tr>\n",
       "    <tr>\n",
       "      <th>NAME</th>\n",
       "      <th></th>\n",
       "      <th></th>\n",
       "      <th></th>\n",
       "      <th></th>\n",
       "      <th></th>\n",
       "    </tr>\n",
       "  </thead>\n",
       "  <tbody>\n",
       "    <tr>\n",
       "      <th>TENCENT HOLDINGS</th>\n",
       "      <td>0.23</td>\n",
       "      <td>35.55</td>\n",
       "      <td>24.68</td>\n",
       "      <td>15.92</td>\n",
       "      <td>42.6</td>\n",
       "    </tr>\n",
       "    <tr>\n",
       "      <th>ALPHABET A</th>\n",
       "      <td>0.00</td>\n",
       "      <td>33.18</td>\n",
       "      <td>18.12</td>\n",
       "      <td>17.76</td>\n",
       "      <td>33.2</td>\n",
       "    </tr>\n",
       "    <tr>\n",
       "      <th>TESLA</th>\n",
       "      <td>0.00</td>\n",
       "      <td>11.21</td>\n",
       "      <td>-14.94</td>\n",
       "      <td>-1.61</td>\n",
       "      <td>1036.3</td>\n",
       "    </tr>\n",
       "    <tr>\n",
       "      <th>WALMART</th>\n",
       "      <td>1.54</td>\n",
       "      <td>4.88</td>\n",
       "      <td>20.22</td>\n",
       "      <td>12.55</td>\n",
       "      <td>26.6</td>\n",
       "    </tr>\n",
       "    <tr>\n",
       "      <th>JOHNSON &amp; JOHNSON</th>\n",
       "      <td>2.71</td>\n",
       "      <td>23.83</td>\n",
       "      <td>25.36</td>\n",
       "      <td>17.38</td>\n",
       "      <td>26.7</td>\n",
       "    </tr>\n",
       "    <tr>\n",
       "      <th>TAIWAN SEMICON.MNFG.</th>\n",
       "      <td>2.31</td>\n",
       "      <td>57.91</td>\n",
       "      <td>20.94</td>\n",
       "      <td>18.96</td>\n",
       "      <td>24.7</td>\n",
       "    </tr>\n",
       "  </tbody>\n",
       "</table>\n",
       "</div>"
      ],
      "text/plain": [
       "                      DIVIDEND YIELD  CASH FLOW/SALES  \\\n",
       "NAME                                                    \n",
       "TENCENT HOLDINGS                0.23            35.55   \n",
       "ALPHABET A                      0.00            33.18   \n",
       "TESLA                           0.00            11.21   \n",
       "WALMART                         1.54             4.88   \n",
       "JOHNSON & JOHNSON               2.71            23.83   \n",
       "TAIWAN SEMICON.MNFG.            2.31            57.91   \n",
       "\n",
       "                      RETURN ON EQUITY - TOTAL (%)  \\\n",
       "NAME                                                 \n",
       "TENCENT HOLDINGS                             24.68   \n",
       "ALPHABET A                                   18.12   \n",
       "TESLA                                       -14.94   \n",
       "WALMART                                      20.22   \n",
       "JOHNSON & JOHNSON                            25.36   \n",
       "TAIWAN SEMICON.MNFG.                         20.94   \n",
       "\n",
       "                      RETURN ON INVESTED CAPITAL  P/E - RATIO  \n",
       "NAME                                                           \n",
       "TENCENT HOLDINGS                           15.92         42.6  \n",
       "ALPHABET A                                 17.76         33.2  \n",
       "TESLA                                      -1.61       1036.3  \n",
       "WALMART                                    12.55         26.6  \n",
       "JOHNSON & JOHNSON                          17.38         26.7  \n",
       "TAIWAN SEMICON.MNFG.                       18.96         24.7  "
      ]
     },
     "execution_count": 117,
     "metadata": {},
     "output_type": "execute_result"
    }
   ],
   "source": [
    "big_companies_df.loc['TENCENT HOLDINGS':'TAIWAN SEMICON.MNFG.','DIVIDEND YIELD':'P/E - RATIO']"
   ]
  },
  {
   "cell_type": "code",
   "execution_count": 121,
   "metadata": {},
   "outputs": [
    {
     "data": {
      "text/html": [
       "<div>\n",
       "<style scoped>\n",
       "    .dataframe tbody tr th:only-of-type {\n",
       "        vertical-align: middle;\n",
       "    }\n",
       "\n",
       "    .dataframe tbody tr th {\n",
       "        vertical-align: top;\n",
       "    }\n",
       "\n",
       "    .dataframe thead th {\n",
       "        text-align: right;\n",
       "    }\n",
       "</style>\n",
       "<table border=\"1\" class=\"dataframe\">\n",
       "  <thead>\n",
       "    <tr style=\"text-align: right;\">\n",
       "      <th></th>\n",
       "      <th>DIVIDEND YIELD</th>\n",
       "      <th>CASH FLOW/SALES</th>\n",
       "      <th>RETURN ON EQUITY - TOTAL (%)</th>\n",
       "      <th>RETURN ON INVESTED CAPITAL</th>\n",
       "      <th>P/E - RATIO</th>\n",
       "    </tr>\n",
       "    <tr>\n",
       "      <th>NAME</th>\n",
       "      <th></th>\n",
       "      <th></th>\n",
       "      <th></th>\n",
       "      <th></th>\n",
       "      <th></th>\n",
       "    </tr>\n",
       "  </thead>\n",
       "  <tbody>\n",
       "    <tr>\n",
       "      <th>TENCENT HOLDINGS</th>\n",
       "      <td>0.23</td>\n",
       "      <td>35.55</td>\n",
       "      <td>24.68</td>\n",
       "      <td>15.92</td>\n",
       "      <td>42.6</td>\n",
       "    </tr>\n",
       "    <tr>\n",
       "      <th>ALPHABET A</th>\n",
       "      <td>0.00</td>\n",
       "      <td>33.18</td>\n",
       "      <td>18.12</td>\n",
       "      <td>17.76</td>\n",
       "      <td>33.2</td>\n",
       "    </tr>\n",
       "    <tr>\n",
       "      <th>TESLA</th>\n",
       "      <td>0.00</td>\n",
       "      <td>11.21</td>\n",
       "      <td>-14.94</td>\n",
       "      <td>-1.61</td>\n",
       "      <td>1036.3</td>\n",
       "    </tr>\n",
       "    <tr>\n",
       "      <th>WALMART</th>\n",
       "      <td>1.54</td>\n",
       "      <td>4.88</td>\n",
       "      <td>20.22</td>\n",
       "      <td>12.55</td>\n",
       "      <td>26.6</td>\n",
       "    </tr>\n",
       "    <tr>\n",
       "      <th>JOHNSON &amp; JOHNSON</th>\n",
       "      <td>2.71</td>\n",
       "      <td>23.83</td>\n",
       "      <td>25.36</td>\n",
       "      <td>17.38</td>\n",
       "      <td>26.7</td>\n",
       "    </tr>\n",
       "    <tr>\n",
       "      <th>TAIWAN SEMICON.MNFG.</th>\n",
       "      <td>2.31</td>\n",
       "      <td>57.91</td>\n",
       "      <td>20.94</td>\n",
       "      <td>18.96</td>\n",
       "      <td>24.7</td>\n",
       "    </tr>\n",
       "  </tbody>\n",
       "</table>\n",
       "</div>"
      ],
      "text/plain": [
       "                      DIVIDEND YIELD  CASH FLOW/SALES  \\\n",
       "NAME                                                    \n",
       "TENCENT HOLDINGS                0.23            35.55   \n",
       "ALPHABET A                      0.00            33.18   \n",
       "TESLA                           0.00            11.21   \n",
       "WALMART                         1.54             4.88   \n",
       "JOHNSON & JOHNSON               2.71            23.83   \n",
       "TAIWAN SEMICON.MNFG.            2.31            57.91   \n",
       "\n",
       "                      RETURN ON EQUITY - TOTAL (%)  \\\n",
       "NAME                                                 \n",
       "TENCENT HOLDINGS                             24.68   \n",
       "ALPHABET A                                   18.12   \n",
       "TESLA                                       -14.94   \n",
       "WALMART                                      20.22   \n",
       "JOHNSON & JOHNSON                            25.36   \n",
       "TAIWAN SEMICON.MNFG.                         20.94   \n",
       "\n",
       "                      RETURN ON INVESTED CAPITAL  P/E - RATIO  \n",
       "NAME                                                           \n",
       "TENCENT HOLDINGS                           15.92         42.6  \n",
       "ALPHABET A                                 17.76         33.2  \n",
       "TESLA                                      -1.61       1036.3  \n",
       "WALMART                                    12.55         26.6  \n",
       "JOHNSON & JOHNSON                          17.38         26.7  \n",
       "TAIWAN SEMICON.MNFG.                       18.96         24.7  "
      ]
     },
     "execution_count": 121,
     "metadata": {},
     "output_type": "execute_result"
    }
   ],
   "source": [
    "big_companies_df.iloc[6:12,0:5]"
   ]
  },
  {
   "cell_type": "markdown",
   "metadata": {},
   "source": [
    "When adding dataframes, any index-column pairs that are missing from either dataframe, will be replaced with NaN-values. Let's look an example. We create two dataframes with partial data. Both are missing one (different) row and one column."
   ]
  },
  {
   "cell_type": "code",
   "execution_count": 122,
   "metadata": {},
   "outputs": [],
   "source": [
    "partial_data_df = big_companies_df.drop(index='APPLE',columns='DIVIDEND YIELD')"
   ]
  },
  {
   "cell_type": "code",
   "execution_count": 123,
   "metadata": {},
   "outputs": [
    {
     "data": {
      "text/html": [
       "<div>\n",
       "<style scoped>\n",
       "    .dataframe tbody tr th:only-of-type {\n",
       "        vertical-align: middle;\n",
       "    }\n",
       "\n",
       "    .dataframe tbody tr th {\n",
       "        vertical-align: top;\n",
       "    }\n",
       "\n",
       "    .dataframe thead th {\n",
       "        text-align: right;\n",
       "    }\n",
       "</style>\n",
       "<table border=\"1\" class=\"dataframe\">\n",
       "  <thead>\n",
       "    <tr style=\"text-align: right;\">\n",
       "      <th></th>\n",
       "      <th>CASH FLOW/SALES</th>\n",
       "      <th>RETURN ON EQUITY - TOTAL (%)</th>\n",
       "      <th>RETURN ON INVESTED CAPITAL</th>\n",
       "      <th>P/E - RATIO</th>\n",
       "      <th>TOTAL DEBT % COMMON EQUITY</th>\n",
       "    </tr>\n",
       "    <tr>\n",
       "      <th>NAME</th>\n",
       "      <th></th>\n",
       "      <th></th>\n",
       "      <th></th>\n",
       "      <th></th>\n",
       "      <th></th>\n",
       "    </tr>\n",
       "  </thead>\n",
       "  <tbody>\n",
       "    <tr>\n",
       "      <th>SAUDI ARABIAN OIL</th>\n",
       "      <td>31.73</td>\n",
       "      <td>32.25</td>\n",
       "      <td>28.34</td>\n",
       "      <td>29.5</td>\n",
       "      <td>16.96</td>\n",
       "    </tr>\n",
       "    <tr>\n",
       "      <th>MICROSOFT</th>\n",
       "      <td>43.46</td>\n",
       "      <td>40.14</td>\n",
       "      <td>24.89</td>\n",
       "      <td>36.5</td>\n",
       "      <td>61.56</td>\n",
       "    </tr>\n",
       "    <tr>\n",
       "      <th>AMAZON.COM</th>\n",
       "      <td>14.60</td>\n",
       "      <td>21.95</td>\n",
       "      <td>12.97</td>\n",
       "      <td>121.1</td>\n",
       "      <td>83.31</td>\n",
       "    </tr>\n",
       "    <tr>\n",
       "      <th>ALIBABA GROUP HOLDING ADR 1:8</th>\n",
       "      <td>31.23</td>\n",
       "      <td>23.77</td>\n",
       "      <td>17.39</td>\n",
       "      <td>31.0</td>\n",
       "      <td>16.60</td>\n",
       "    </tr>\n",
       "    <tr>\n",
       "      <th>FACEBOOK CLASS A</th>\n",
       "      <td>41.11</td>\n",
       "      <td>19.96</td>\n",
       "      <td>19.94</td>\n",
       "      <td>32.0</td>\n",
       "      <td>0.47</td>\n",
       "    </tr>\n",
       "    <tr>\n",
       "      <th>TENCENT HOLDINGS</th>\n",
       "      <td>35.55</td>\n",
       "      <td>24.68</td>\n",
       "      <td>15.92</td>\n",
       "      <td>42.6</td>\n",
       "      <td>53.74</td>\n",
       "    </tr>\n",
       "    <tr>\n",
       "      <th>ALPHABET A</th>\n",
       "      <td>33.18</td>\n",
       "      <td>18.12</td>\n",
       "      <td>17.76</td>\n",
       "      <td>33.2</td>\n",
       "      <td>2.26</td>\n",
       "    </tr>\n",
       "    <tr>\n",
       "      <th>TESLA</th>\n",
       "      <td>11.21</td>\n",
       "      <td>-14.94</td>\n",
       "      <td>-1.61</td>\n",
       "      <td>1036.3</td>\n",
       "      <td>202.77</td>\n",
       "    </tr>\n",
       "    <tr>\n",
       "      <th>WALMART</th>\n",
       "      <td>4.88</td>\n",
       "      <td>20.22</td>\n",
       "      <td>12.55</td>\n",
       "      <td>26.6</td>\n",
       "      <td>72.95</td>\n",
       "    </tr>\n",
       "    <tr>\n",
       "      <th>JOHNSON &amp; JOHNSON</th>\n",
       "      <td>23.83</td>\n",
       "      <td>25.36</td>\n",
       "      <td>17.38</td>\n",
       "      <td>26.7</td>\n",
       "      <td>46.57</td>\n",
       "    </tr>\n",
       "    <tr>\n",
       "      <th>TAIWAN SEMICON.MNFG.</th>\n",
       "      <td>57.91</td>\n",
       "      <td>20.94</td>\n",
       "      <td>18.96</td>\n",
       "      <td>24.7</td>\n",
       "      <td>11.89</td>\n",
       "    </tr>\n",
       "    <tr>\n",
       "      <th>NESTLE 'N'</th>\n",
       "      <td>16.85</td>\n",
       "      <td>23.05</td>\n",
       "      <td>14.21</td>\n",
       "      <td>23.3</td>\n",
       "      <td>71.42</td>\n",
       "    </tr>\n",
       "  </tbody>\n",
       "</table>\n",
       "</div>"
      ],
      "text/plain": [
       "                               CASH FLOW/SALES  RETURN ON EQUITY - TOTAL (%)  \\\n",
       "NAME                                                                           \n",
       "SAUDI ARABIAN OIL                        31.73                         32.25   \n",
       "MICROSOFT                                43.46                         40.14   \n",
       "AMAZON.COM                               14.60                         21.95   \n",
       "ALIBABA GROUP HOLDING ADR 1:8            31.23                         23.77   \n",
       "FACEBOOK CLASS A                         41.11                         19.96   \n",
       "TENCENT HOLDINGS                         35.55                         24.68   \n",
       "ALPHABET A                               33.18                         18.12   \n",
       "TESLA                                    11.21                        -14.94   \n",
       "WALMART                                   4.88                         20.22   \n",
       "JOHNSON & JOHNSON                        23.83                         25.36   \n",
       "TAIWAN SEMICON.MNFG.                     57.91                         20.94   \n",
       "NESTLE 'N'                               16.85                         23.05   \n",
       "\n",
       "                               RETURN ON INVESTED CAPITAL  P/E - RATIO  \\\n",
       "NAME                                                                     \n",
       "SAUDI ARABIAN OIL                                   28.34         29.5   \n",
       "MICROSOFT                                           24.89         36.5   \n",
       "AMAZON.COM                                          12.97        121.1   \n",
       "ALIBABA GROUP HOLDING ADR 1:8                       17.39         31.0   \n",
       "FACEBOOK CLASS A                                    19.94         32.0   \n",
       "TENCENT HOLDINGS                                    15.92         42.6   \n",
       "ALPHABET A                                          17.76         33.2   \n",
       "TESLA                                               -1.61       1036.3   \n",
       "WALMART                                             12.55         26.6   \n",
       "JOHNSON & JOHNSON                                   17.38         26.7   \n",
       "TAIWAN SEMICON.MNFG.                                18.96         24.7   \n",
       "NESTLE 'N'                                          14.21         23.3   \n",
       "\n",
       "                               TOTAL DEBT % COMMON EQUITY  \n",
       "NAME                                                       \n",
       "SAUDI ARABIAN OIL                                   16.96  \n",
       "MICROSOFT                                           61.56  \n",
       "AMAZON.COM                                          83.31  \n",
       "ALIBABA GROUP HOLDING ADR 1:8                       16.60  \n",
       "FACEBOOK CLASS A                                     0.47  \n",
       "TENCENT HOLDINGS                                    53.74  \n",
       "ALPHABET A                                           2.26  \n",
       "TESLA                                              202.77  \n",
       "WALMART                                             72.95  \n",
       "JOHNSON & JOHNSON                                   46.57  \n",
       "TAIWAN SEMICON.MNFG.                                11.89  \n",
       "NESTLE 'N'                                          71.42  "
      ]
     },
     "execution_count": 123,
     "metadata": {},
     "output_type": "execute_result"
    }
   ],
   "source": [
    "partial_data_df"
   ]
  },
  {
   "cell_type": "code",
   "execution_count": 124,
   "metadata": {},
   "outputs": [],
   "source": [
    "partial_data2_df = big_companies_df.drop(index='TESLA',columns='CASH FLOW/SALES')"
   ]
  },
  {
   "cell_type": "code",
   "execution_count": 125,
   "metadata": {},
   "outputs": [
    {
     "data": {
      "text/html": [
       "<div>\n",
       "<style scoped>\n",
       "    .dataframe tbody tr th:only-of-type {\n",
       "        vertical-align: middle;\n",
       "    }\n",
       "\n",
       "    .dataframe tbody tr th {\n",
       "        vertical-align: top;\n",
       "    }\n",
       "\n",
       "    .dataframe thead th {\n",
       "        text-align: right;\n",
       "    }\n",
       "</style>\n",
       "<table border=\"1\" class=\"dataframe\">\n",
       "  <thead>\n",
       "    <tr style=\"text-align: right;\">\n",
       "      <th></th>\n",
       "      <th>DIVIDEND YIELD</th>\n",
       "      <th>RETURN ON EQUITY - TOTAL (%)</th>\n",
       "      <th>RETURN ON INVESTED CAPITAL</th>\n",
       "      <th>P/E - RATIO</th>\n",
       "      <th>TOTAL DEBT % COMMON EQUITY</th>\n",
       "    </tr>\n",
       "    <tr>\n",
       "      <th>NAME</th>\n",
       "      <th></th>\n",
       "      <th></th>\n",
       "      <th></th>\n",
       "      <th></th>\n",
       "      <th></th>\n",
       "    </tr>\n",
       "  </thead>\n",
       "  <tbody>\n",
       "    <tr>\n",
       "      <th>APPLE</th>\n",
       "      <td>0.71</td>\n",
       "      <td>55.92</td>\n",
       "      <td>27.65</td>\n",
       "      <td>35.4</td>\n",
       "      <td>119.40</td>\n",
       "    </tr>\n",
       "    <tr>\n",
       "      <th>SAUDI ARABIAN OIL</th>\n",
       "      <td>0.21</td>\n",
       "      <td>32.25</td>\n",
       "      <td>28.34</td>\n",
       "      <td>29.5</td>\n",
       "      <td>16.96</td>\n",
       "    </tr>\n",
       "    <tr>\n",
       "      <th>MICROSOFT</th>\n",
       "      <td>1.06</td>\n",
       "      <td>40.14</td>\n",
       "      <td>24.89</td>\n",
       "      <td>36.5</td>\n",
       "      <td>61.56</td>\n",
       "    </tr>\n",
       "    <tr>\n",
       "      <th>AMAZON.COM</th>\n",
       "      <td>0.00</td>\n",
       "      <td>21.95</td>\n",
       "      <td>12.97</td>\n",
       "      <td>121.1</td>\n",
       "      <td>83.31</td>\n",
       "    </tr>\n",
       "    <tr>\n",
       "      <th>ALIBABA GROUP HOLDING ADR 1:8</th>\n",
       "      <td>0.00</td>\n",
       "      <td>23.77</td>\n",
       "      <td>17.39</td>\n",
       "      <td>31.0</td>\n",
       "      <td>16.60</td>\n",
       "    </tr>\n",
       "    <tr>\n",
       "      <th>FACEBOOK CLASS A</th>\n",
       "      <td>0.00</td>\n",
       "      <td>19.96</td>\n",
       "      <td>19.94</td>\n",
       "      <td>32.0</td>\n",
       "      <td>0.47</td>\n",
       "    </tr>\n",
       "    <tr>\n",
       "      <th>TENCENT HOLDINGS</th>\n",
       "      <td>0.23</td>\n",
       "      <td>24.68</td>\n",
       "      <td>15.92</td>\n",
       "      <td>42.6</td>\n",
       "      <td>53.74</td>\n",
       "    </tr>\n",
       "    <tr>\n",
       "      <th>ALPHABET A</th>\n",
       "      <td>0.00</td>\n",
       "      <td>18.12</td>\n",
       "      <td>17.76</td>\n",
       "      <td>33.2</td>\n",
       "      <td>2.26</td>\n",
       "    </tr>\n",
       "    <tr>\n",
       "      <th>WALMART</th>\n",
       "      <td>1.54</td>\n",
       "      <td>20.22</td>\n",
       "      <td>12.55</td>\n",
       "      <td>26.6</td>\n",
       "      <td>72.95</td>\n",
       "    </tr>\n",
       "    <tr>\n",
       "      <th>JOHNSON &amp; JOHNSON</th>\n",
       "      <td>2.71</td>\n",
       "      <td>25.36</td>\n",
       "      <td>17.38</td>\n",
       "      <td>26.7</td>\n",
       "      <td>46.57</td>\n",
       "    </tr>\n",
       "    <tr>\n",
       "      <th>TAIWAN SEMICON.MNFG.</th>\n",
       "      <td>2.31</td>\n",
       "      <td>20.94</td>\n",
       "      <td>18.96</td>\n",
       "      <td>24.7</td>\n",
       "      <td>11.89</td>\n",
       "    </tr>\n",
       "    <tr>\n",
       "      <th>NESTLE 'N'</th>\n",
       "      <td>2.47</td>\n",
       "      <td>23.05</td>\n",
       "      <td>14.21</td>\n",
       "      <td>23.3</td>\n",
       "      <td>71.42</td>\n",
       "    </tr>\n",
       "  </tbody>\n",
       "</table>\n",
       "</div>"
      ],
      "text/plain": [
       "                               DIVIDEND YIELD  RETURN ON EQUITY - TOTAL (%)  \\\n",
       "NAME                                                                          \n",
       "APPLE                                    0.71                         55.92   \n",
       "SAUDI ARABIAN OIL                        0.21                         32.25   \n",
       "MICROSOFT                                1.06                         40.14   \n",
       "AMAZON.COM                               0.00                         21.95   \n",
       "ALIBABA GROUP HOLDING ADR 1:8            0.00                         23.77   \n",
       "FACEBOOK CLASS A                         0.00                         19.96   \n",
       "TENCENT HOLDINGS                         0.23                         24.68   \n",
       "ALPHABET A                               0.00                         18.12   \n",
       "WALMART                                  1.54                         20.22   \n",
       "JOHNSON & JOHNSON                        2.71                         25.36   \n",
       "TAIWAN SEMICON.MNFG.                     2.31                         20.94   \n",
       "NESTLE 'N'                               2.47                         23.05   \n",
       "\n",
       "                               RETURN ON INVESTED CAPITAL  P/E - RATIO  \\\n",
       "NAME                                                                     \n",
       "APPLE                                               27.65         35.4   \n",
       "SAUDI ARABIAN OIL                                   28.34         29.5   \n",
       "MICROSOFT                                           24.89         36.5   \n",
       "AMAZON.COM                                          12.97        121.1   \n",
       "ALIBABA GROUP HOLDING ADR 1:8                       17.39         31.0   \n",
       "FACEBOOK CLASS A                                    19.94         32.0   \n",
       "TENCENT HOLDINGS                                    15.92         42.6   \n",
       "ALPHABET A                                          17.76         33.2   \n",
       "WALMART                                             12.55         26.6   \n",
       "JOHNSON & JOHNSON                                   17.38         26.7   \n",
       "TAIWAN SEMICON.MNFG.                                18.96         24.7   \n",
       "NESTLE 'N'                                          14.21         23.3   \n",
       "\n",
       "                               TOTAL DEBT % COMMON EQUITY  \n",
       "NAME                                                       \n",
       "APPLE                                              119.40  \n",
       "SAUDI ARABIAN OIL                                   16.96  \n",
       "MICROSOFT                                           61.56  \n",
       "AMAZON.COM                                          83.31  \n",
       "ALIBABA GROUP HOLDING ADR 1:8                       16.60  \n",
       "FACEBOOK CLASS A                                     0.47  \n",
       "TENCENT HOLDINGS                                    53.74  \n",
       "ALPHABET A                                           2.26  \n",
       "WALMART                                             72.95  \n",
       "JOHNSON & JOHNSON                                   46.57  \n",
       "TAIWAN SEMICON.MNFG.                                11.89  \n",
       "NESTLE 'N'                                          71.42  "
      ]
     },
     "execution_count": 125,
     "metadata": {},
     "output_type": "execute_result"
    }
   ],
   "source": [
    "partial_data2_df"
   ]
  },
  {
   "cell_type": "markdown",
   "metadata": {},
   "source": [
    "Those cells that are found in both dataframes have their values summed. If a specific cell is only in one of the dataframes, a NaN value is inserted to that location in the resulting dataframe."
   ]
  },
  {
   "cell_type": "code",
   "execution_count": 126,
   "metadata": {},
   "outputs": [
    {
     "data": {
      "text/html": [
       "<div>\n",
       "<style scoped>\n",
       "    .dataframe tbody tr th:only-of-type {\n",
       "        vertical-align: middle;\n",
       "    }\n",
       "\n",
       "    .dataframe tbody tr th {\n",
       "        vertical-align: top;\n",
       "    }\n",
       "\n",
       "    .dataframe thead th {\n",
       "        text-align: right;\n",
       "    }\n",
       "</style>\n",
       "<table border=\"1\" class=\"dataframe\">\n",
       "  <thead>\n",
       "    <tr style=\"text-align: right;\">\n",
       "      <th></th>\n",
       "      <th>CASH FLOW/SALES</th>\n",
       "      <th>DIVIDEND YIELD</th>\n",
       "      <th>P/E - RATIO</th>\n",
       "      <th>RETURN ON EQUITY - TOTAL (%)</th>\n",
       "      <th>RETURN ON INVESTED CAPITAL</th>\n",
       "      <th>TOTAL DEBT % COMMON EQUITY</th>\n",
       "    </tr>\n",
       "    <tr>\n",
       "      <th>NAME</th>\n",
       "      <th></th>\n",
       "      <th></th>\n",
       "      <th></th>\n",
       "      <th></th>\n",
       "      <th></th>\n",
       "      <th></th>\n",
       "    </tr>\n",
       "  </thead>\n",
       "  <tbody>\n",
       "    <tr>\n",
       "      <th>ALIBABA GROUP HOLDING ADR 1:8</th>\n",
       "      <td>NaN</td>\n",
       "      <td>NaN</td>\n",
       "      <td>62.0</td>\n",
       "      <td>47.54</td>\n",
       "      <td>34.78</td>\n",
       "      <td>33.20</td>\n",
       "    </tr>\n",
       "    <tr>\n",
       "      <th>ALPHABET A</th>\n",
       "      <td>NaN</td>\n",
       "      <td>NaN</td>\n",
       "      <td>66.4</td>\n",
       "      <td>36.24</td>\n",
       "      <td>35.52</td>\n",
       "      <td>4.52</td>\n",
       "    </tr>\n",
       "    <tr>\n",
       "      <th>AMAZON.COM</th>\n",
       "      <td>NaN</td>\n",
       "      <td>NaN</td>\n",
       "      <td>242.2</td>\n",
       "      <td>43.90</td>\n",
       "      <td>25.94</td>\n",
       "      <td>166.62</td>\n",
       "    </tr>\n",
       "    <tr>\n",
       "      <th>APPLE</th>\n",
       "      <td>NaN</td>\n",
       "      <td>NaN</td>\n",
       "      <td>NaN</td>\n",
       "      <td>NaN</td>\n",
       "      <td>NaN</td>\n",
       "      <td>NaN</td>\n",
       "    </tr>\n",
       "    <tr>\n",
       "      <th>FACEBOOK CLASS A</th>\n",
       "      <td>NaN</td>\n",
       "      <td>NaN</td>\n",
       "      <td>64.0</td>\n",
       "      <td>39.92</td>\n",
       "      <td>39.88</td>\n",
       "      <td>0.94</td>\n",
       "    </tr>\n",
       "    <tr>\n",
       "      <th>JOHNSON &amp; JOHNSON</th>\n",
       "      <td>NaN</td>\n",
       "      <td>NaN</td>\n",
       "      <td>53.4</td>\n",
       "      <td>50.72</td>\n",
       "      <td>34.76</td>\n",
       "      <td>93.14</td>\n",
       "    </tr>\n",
       "    <tr>\n",
       "      <th>MICROSOFT</th>\n",
       "      <td>NaN</td>\n",
       "      <td>NaN</td>\n",
       "      <td>73.0</td>\n",
       "      <td>80.28</td>\n",
       "      <td>49.78</td>\n",
       "      <td>123.12</td>\n",
       "    </tr>\n",
       "    <tr>\n",
       "      <th>NESTLE 'N'</th>\n",
       "      <td>NaN</td>\n",
       "      <td>NaN</td>\n",
       "      <td>46.6</td>\n",
       "      <td>46.10</td>\n",
       "      <td>28.42</td>\n",
       "      <td>142.84</td>\n",
       "    </tr>\n",
       "    <tr>\n",
       "      <th>SAUDI ARABIAN OIL</th>\n",
       "      <td>NaN</td>\n",
       "      <td>NaN</td>\n",
       "      <td>59.0</td>\n",
       "      <td>64.50</td>\n",
       "      <td>56.68</td>\n",
       "      <td>33.92</td>\n",
       "    </tr>\n",
       "    <tr>\n",
       "      <th>TAIWAN SEMICON.MNFG.</th>\n",
       "      <td>NaN</td>\n",
       "      <td>NaN</td>\n",
       "      <td>49.4</td>\n",
       "      <td>41.88</td>\n",
       "      <td>37.92</td>\n",
       "      <td>23.78</td>\n",
       "    </tr>\n",
       "    <tr>\n",
       "      <th>TENCENT HOLDINGS</th>\n",
       "      <td>NaN</td>\n",
       "      <td>NaN</td>\n",
       "      <td>85.2</td>\n",
       "      <td>49.36</td>\n",
       "      <td>31.84</td>\n",
       "      <td>107.48</td>\n",
       "    </tr>\n",
       "    <tr>\n",
       "      <th>TESLA</th>\n",
       "      <td>NaN</td>\n",
       "      <td>NaN</td>\n",
       "      <td>NaN</td>\n",
       "      <td>NaN</td>\n",
       "      <td>NaN</td>\n",
       "      <td>NaN</td>\n",
       "    </tr>\n",
       "    <tr>\n",
       "      <th>WALMART</th>\n",
       "      <td>NaN</td>\n",
       "      <td>NaN</td>\n",
       "      <td>53.2</td>\n",
       "      <td>40.44</td>\n",
       "      <td>25.10</td>\n",
       "      <td>145.90</td>\n",
       "    </tr>\n",
       "  </tbody>\n",
       "</table>\n",
       "</div>"
      ],
      "text/plain": [
       "                               CASH FLOW/SALES  DIVIDEND YIELD  P/E - RATIO  \\\n",
       "NAME                                                                          \n",
       "ALIBABA GROUP HOLDING ADR 1:8              NaN             NaN         62.0   \n",
       "ALPHABET A                                 NaN             NaN         66.4   \n",
       "AMAZON.COM                                 NaN             NaN        242.2   \n",
       "APPLE                                      NaN             NaN          NaN   \n",
       "FACEBOOK CLASS A                           NaN             NaN         64.0   \n",
       "JOHNSON & JOHNSON                          NaN             NaN         53.4   \n",
       "MICROSOFT                                  NaN             NaN         73.0   \n",
       "NESTLE 'N'                                 NaN             NaN         46.6   \n",
       "SAUDI ARABIAN OIL                          NaN             NaN         59.0   \n",
       "TAIWAN SEMICON.MNFG.                       NaN             NaN         49.4   \n",
       "TENCENT HOLDINGS                           NaN             NaN         85.2   \n",
       "TESLA                                      NaN             NaN          NaN   \n",
       "WALMART                                    NaN             NaN         53.2   \n",
       "\n",
       "                               RETURN ON EQUITY - TOTAL (%)  \\\n",
       "NAME                                                          \n",
       "ALIBABA GROUP HOLDING ADR 1:8                         47.54   \n",
       "ALPHABET A                                            36.24   \n",
       "AMAZON.COM                                            43.90   \n",
       "APPLE                                                   NaN   \n",
       "FACEBOOK CLASS A                                      39.92   \n",
       "JOHNSON & JOHNSON                                     50.72   \n",
       "MICROSOFT                                             80.28   \n",
       "NESTLE 'N'                                            46.10   \n",
       "SAUDI ARABIAN OIL                                     64.50   \n",
       "TAIWAN SEMICON.MNFG.                                  41.88   \n",
       "TENCENT HOLDINGS                                      49.36   \n",
       "TESLA                                                   NaN   \n",
       "WALMART                                               40.44   \n",
       "\n",
       "                               RETURN ON INVESTED CAPITAL  \\\n",
       "NAME                                                        \n",
       "ALIBABA GROUP HOLDING ADR 1:8                       34.78   \n",
       "ALPHABET A                                          35.52   \n",
       "AMAZON.COM                                          25.94   \n",
       "APPLE                                                 NaN   \n",
       "FACEBOOK CLASS A                                    39.88   \n",
       "JOHNSON & JOHNSON                                   34.76   \n",
       "MICROSOFT                                           49.78   \n",
       "NESTLE 'N'                                          28.42   \n",
       "SAUDI ARABIAN OIL                                   56.68   \n",
       "TAIWAN SEMICON.MNFG.                                37.92   \n",
       "TENCENT HOLDINGS                                    31.84   \n",
       "TESLA                                                 NaN   \n",
       "WALMART                                             25.10   \n",
       "\n",
       "                               TOTAL DEBT % COMMON EQUITY  \n",
       "NAME                                                       \n",
       "ALIBABA GROUP HOLDING ADR 1:8                       33.20  \n",
       "ALPHABET A                                           4.52  \n",
       "AMAZON.COM                                         166.62  \n",
       "APPLE                                                 NaN  \n",
       "FACEBOOK CLASS A                                     0.94  \n",
       "JOHNSON & JOHNSON                                   93.14  \n",
       "MICROSOFT                                          123.12  \n",
       "NESTLE 'N'                                         142.84  \n",
       "SAUDI ARABIAN OIL                                   33.92  \n",
       "TAIWAN SEMICON.MNFG.                                23.78  \n",
       "TENCENT HOLDINGS                                   107.48  \n",
       "TESLA                                                 NaN  \n",
       "WALMART                                            145.90  "
      ]
     },
     "execution_count": 126,
     "metadata": {},
     "output_type": "execute_result"
    }
   ],
   "source": [
    "partial_data_df + partial_data2_df"
   ]
  },
  {
   "cell_type": "markdown",
   "metadata": {},
   "source": [
    "If you want to have some other than NaN values to these locations, you can use the **add()** method with the **fill_value** parameter. This will  replace the missing values with a specified value. Notice how **APPLE** **CASH FLOW/SALES** and **TESLA**/**DIVIDEND YIELD** still have missing values. This is because they are missing from **both** partial dataframes."
   ]
  },
  {
   "cell_type": "code",
   "execution_count": 127,
   "metadata": {},
   "outputs": [
    {
     "data": {
      "text/html": [
       "<div>\n",
       "<style scoped>\n",
       "    .dataframe tbody tr th:only-of-type {\n",
       "        vertical-align: middle;\n",
       "    }\n",
       "\n",
       "    .dataframe tbody tr th {\n",
       "        vertical-align: top;\n",
       "    }\n",
       "\n",
       "    .dataframe thead th {\n",
       "        text-align: right;\n",
       "    }\n",
       "</style>\n",
       "<table border=\"1\" class=\"dataframe\">\n",
       "  <thead>\n",
       "    <tr style=\"text-align: right;\">\n",
       "      <th></th>\n",
       "      <th>CASH FLOW/SALES</th>\n",
       "      <th>DIVIDEND YIELD</th>\n",
       "      <th>P/E - RATIO</th>\n",
       "      <th>RETURN ON EQUITY - TOTAL (%)</th>\n",
       "      <th>RETURN ON INVESTED CAPITAL</th>\n",
       "      <th>TOTAL DEBT % COMMON EQUITY</th>\n",
       "    </tr>\n",
       "    <tr>\n",
       "      <th>NAME</th>\n",
       "      <th></th>\n",
       "      <th></th>\n",
       "      <th></th>\n",
       "      <th></th>\n",
       "      <th></th>\n",
       "      <th></th>\n",
       "    </tr>\n",
       "  </thead>\n",
       "  <tbody>\n",
       "    <tr>\n",
       "      <th>ALIBABA GROUP HOLDING ADR 1:8</th>\n",
       "      <td>31.23</td>\n",
       "      <td>0.00</td>\n",
       "      <td>62.0</td>\n",
       "      <td>47.54</td>\n",
       "      <td>34.78</td>\n",
       "      <td>33.20</td>\n",
       "    </tr>\n",
       "    <tr>\n",
       "      <th>ALPHABET A</th>\n",
       "      <td>33.18</td>\n",
       "      <td>0.00</td>\n",
       "      <td>66.4</td>\n",
       "      <td>36.24</td>\n",
       "      <td>35.52</td>\n",
       "      <td>4.52</td>\n",
       "    </tr>\n",
       "    <tr>\n",
       "      <th>AMAZON.COM</th>\n",
       "      <td>14.60</td>\n",
       "      <td>0.00</td>\n",
       "      <td>242.2</td>\n",
       "      <td>43.90</td>\n",
       "      <td>25.94</td>\n",
       "      <td>166.62</td>\n",
       "    </tr>\n",
       "    <tr>\n",
       "      <th>APPLE</th>\n",
       "      <td>NaN</td>\n",
       "      <td>0.71</td>\n",
       "      <td>35.4</td>\n",
       "      <td>55.92</td>\n",
       "      <td>27.65</td>\n",
       "      <td>119.40</td>\n",
       "    </tr>\n",
       "    <tr>\n",
       "      <th>FACEBOOK CLASS A</th>\n",
       "      <td>41.11</td>\n",
       "      <td>0.00</td>\n",
       "      <td>64.0</td>\n",
       "      <td>39.92</td>\n",
       "      <td>39.88</td>\n",
       "      <td>0.94</td>\n",
       "    </tr>\n",
       "    <tr>\n",
       "      <th>JOHNSON &amp; JOHNSON</th>\n",
       "      <td>23.83</td>\n",
       "      <td>2.71</td>\n",
       "      <td>53.4</td>\n",
       "      <td>50.72</td>\n",
       "      <td>34.76</td>\n",
       "      <td>93.14</td>\n",
       "    </tr>\n",
       "    <tr>\n",
       "      <th>MICROSOFT</th>\n",
       "      <td>43.46</td>\n",
       "      <td>1.06</td>\n",
       "      <td>73.0</td>\n",
       "      <td>80.28</td>\n",
       "      <td>49.78</td>\n",
       "      <td>123.12</td>\n",
       "    </tr>\n",
       "    <tr>\n",
       "      <th>NESTLE 'N'</th>\n",
       "      <td>16.85</td>\n",
       "      <td>2.47</td>\n",
       "      <td>46.6</td>\n",
       "      <td>46.10</td>\n",
       "      <td>28.42</td>\n",
       "      <td>142.84</td>\n",
       "    </tr>\n",
       "    <tr>\n",
       "      <th>SAUDI ARABIAN OIL</th>\n",
       "      <td>31.73</td>\n",
       "      <td>0.21</td>\n",
       "      <td>59.0</td>\n",
       "      <td>64.50</td>\n",
       "      <td>56.68</td>\n",
       "      <td>33.92</td>\n",
       "    </tr>\n",
       "    <tr>\n",
       "      <th>TAIWAN SEMICON.MNFG.</th>\n",
       "      <td>57.91</td>\n",
       "      <td>2.31</td>\n",
       "      <td>49.4</td>\n",
       "      <td>41.88</td>\n",
       "      <td>37.92</td>\n",
       "      <td>23.78</td>\n",
       "    </tr>\n",
       "    <tr>\n",
       "      <th>TENCENT HOLDINGS</th>\n",
       "      <td>35.55</td>\n",
       "      <td>0.23</td>\n",
       "      <td>85.2</td>\n",
       "      <td>49.36</td>\n",
       "      <td>31.84</td>\n",
       "      <td>107.48</td>\n",
       "    </tr>\n",
       "    <tr>\n",
       "      <th>TESLA</th>\n",
       "      <td>11.21</td>\n",
       "      <td>NaN</td>\n",
       "      <td>1036.3</td>\n",
       "      <td>-14.94</td>\n",
       "      <td>-1.61</td>\n",
       "      <td>202.77</td>\n",
       "    </tr>\n",
       "    <tr>\n",
       "      <th>WALMART</th>\n",
       "      <td>4.88</td>\n",
       "      <td>1.54</td>\n",
       "      <td>53.2</td>\n",
       "      <td>40.44</td>\n",
       "      <td>25.10</td>\n",
       "      <td>145.90</td>\n",
       "    </tr>\n",
       "  </tbody>\n",
       "</table>\n",
       "</div>"
      ],
      "text/plain": [
       "                               CASH FLOW/SALES  DIVIDEND YIELD  P/E - RATIO  \\\n",
       "NAME                                                                          \n",
       "ALIBABA GROUP HOLDING ADR 1:8            31.23            0.00         62.0   \n",
       "ALPHABET A                               33.18            0.00         66.4   \n",
       "AMAZON.COM                               14.60            0.00        242.2   \n",
       "APPLE                                      NaN            0.71         35.4   \n",
       "FACEBOOK CLASS A                         41.11            0.00         64.0   \n",
       "JOHNSON & JOHNSON                        23.83            2.71         53.4   \n",
       "MICROSOFT                                43.46            1.06         73.0   \n",
       "NESTLE 'N'                               16.85            2.47         46.6   \n",
       "SAUDI ARABIAN OIL                        31.73            0.21         59.0   \n",
       "TAIWAN SEMICON.MNFG.                     57.91            2.31         49.4   \n",
       "TENCENT HOLDINGS                         35.55            0.23         85.2   \n",
       "TESLA                                    11.21             NaN       1036.3   \n",
       "WALMART                                   4.88            1.54         53.2   \n",
       "\n",
       "                               RETURN ON EQUITY - TOTAL (%)  \\\n",
       "NAME                                                          \n",
       "ALIBABA GROUP HOLDING ADR 1:8                         47.54   \n",
       "ALPHABET A                                            36.24   \n",
       "AMAZON.COM                                            43.90   \n",
       "APPLE                                                 55.92   \n",
       "FACEBOOK CLASS A                                      39.92   \n",
       "JOHNSON & JOHNSON                                     50.72   \n",
       "MICROSOFT                                             80.28   \n",
       "NESTLE 'N'                                            46.10   \n",
       "SAUDI ARABIAN OIL                                     64.50   \n",
       "TAIWAN SEMICON.MNFG.                                  41.88   \n",
       "TENCENT HOLDINGS                                      49.36   \n",
       "TESLA                                                -14.94   \n",
       "WALMART                                               40.44   \n",
       "\n",
       "                               RETURN ON INVESTED CAPITAL  \\\n",
       "NAME                                                        \n",
       "ALIBABA GROUP HOLDING ADR 1:8                       34.78   \n",
       "ALPHABET A                                          35.52   \n",
       "AMAZON.COM                                          25.94   \n",
       "APPLE                                               27.65   \n",
       "FACEBOOK CLASS A                                    39.88   \n",
       "JOHNSON & JOHNSON                                   34.76   \n",
       "MICROSOFT                                           49.78   \n",
       "NESTLE 'N'                                          28.42   \n",
       "SAUDI ARABIAN OIL                                   56.68   \n",
       "TAIWAN SEMICON.MNFG.                                37.92   \n",
       "TENCENT HOLDINGS                                    31.84   \n",
       "TESLA                                               -1.61   \n",
       "WALMART                                             25.10   \n",
       "\n",
       "                               TOTAL DEBT % COMMON EQUITY  \n",
       "NAME                                                       \n",
       "ALIBABA GROUP HOLDING ADR 1:8                       33.20  \n",
       "ALPHABET A                                           4.52  \n",
       "AMAZON.COM                                         166.62  \n",
       "APPLE                                              119.40  \n",
       "FACEBOOK CLASS A                                     0.94  \n",
       "JOHNSON & JOHNSON                                   93.14  \n",
       "MICROSOFT                                          123.12  \n",
       "NESTLE 'N'                                         142.84  \n",
       "SAUDI ARABIAN OIL                                   33.92  \n",
       "TAIWAN SEMICON.MNFG.                                23.78  \n",
       "TENCENT HOLDINGS                                   107.48  \n",
       "TESLA                                              202.77  \n",
       "WALMART                                            145.90  "
      ]
     },
     "execution_count": 127,
     "metadata": {},
     "output_type": "execute_result"
    }
   ],
   "source": [
    "partial_data_df.add(partial_data2_df,fill_value=0)"
   ]
  },
  {
   "cell_type": "markdown",
   "metadata": {},
   "source": [
    "You can also do arithmetic operations between a dataframe and a Pandas series. One thing to note is that these operations use **broadcasting** like Numpy arrays. Broadcasting is a very important concept in ML. You can read more about it here. [numpy.org/doc/stable/user/basics.broadcasting.html](https://numpy.org/doc/stable/user/basics.broadcasting.html)"
   ]
  },
  {
   "cell_type": "markdown",
   "metadata": {},
   "source": [
    "In its simplest, broadcasting means that if we are subtracting a Series from a Dataframe, the Series is subtracted from every row (or column) of the dataframe."
   ]
  },
  {
   "cell_type": "markdown",
   "metadata": {},
   "source": [
    "In the following, we subtract the values of **TESLA** from every row of our dataframe."
   ]
  },
  {
   "cell_type": "code",
   "execution_count": 134,
   "metadata": {},
   "outputs": [],
   "source": [
    "sample_series = big_companies_df.loc['TESLA']"
   ]
  },
  {
   "cell_type": "code",
   "execution_count": 136,
   "metadata": {},
   "outputs": [
    {
     "data": {
      "text/plain": [
       "DIVIDEND YIELD                     0.00\n",
       "CASH FLOW/SALES                   11.21\n",
       "RETURN ON EQUITY - TOTAL (%)     -14.94\n",
       "RETURN ON INVESTED CAPITAL        -1.61\n",
       "P/E - RATIO                     1036.30\n",
       "TOTAL DEBT % COMMON EQUITY       202.77\n",
       "Name: TESLA, dtype: float64"
      ]
     },
     "execution_count": 136,
     "metadata": {},
     "output_type": "execute_result"
    }
   ],
   "source": [
    "sample_series"
   ]
  },
  {
   "cell_type": "markdown",
   "metadata": {},
   "source": [
    "The index of the series is matched with the columns of the dataframe."
   ]
  },
  {
   "cell_type": "code",
   "execution_count": 135,
   "metadata": {},
   "outputs": [
    {
     "data": {
      "text/html": [
       "<div>\n",
       "<style scoped>\n",
       "    .dataframe tbody tr th:only-of-type {\n",
       "        vertical-align: middle;\n",
       "    }\n",
       "\n",
       "    .dataframe tbody tr th {\n",
       "        vertical-align: top;\n",
       "    }\n",
       "\n",
       "    .dataframe thead th {\n",
       "        text-align: right;\n",
       "    }\n",
       "</style>\n",
       "<table border=\"1\" class=\"dataframe\">\n",
       "  <thead>\n",
       "    <tr style=\"text-align: right;\">\n",
       "      <th></th>\n",
       "      <th>DIVIDEND YIELD</th>\n",
       "      <th>CASH FLOW/SALES</th>\n",
       "      <th>RETURN ON EQUITY - TOTAL (%)</th>\n",
       "      <th>RETURN ON INVESTED CAPITAL</th>\n",
       "      <th>P/E - RATIO</th>\n",
       "      <th>TOTAL DEBT % COMMON EQUITY</th>\n",
       "    </tr>\n",
       "    <tr>\n",
       "      <th>NAME</th>\n",
       "      <th></th>\n",
       "      <th></th>\n",
       "      <th></th>\n",
       "      <th></th>\n",
       "      <th></th>\n",
       "      <th></th>\n",
       "    </tr>\n",
       "  </thead>\n",
       "  <tbody>\n",
       "    <tr>\n",
       "      <th>APPLE</th>\n",
       "      <td>0.71</td>\n",
       "      <td>16.80</td>\n",
       "      <td>70.86</td>\n",
       "      <td>29.26</td>\n",
       "      <td>-1000.9</td>\n",
       "      <td>-83.37</td>\n",
       "    </tr>\n",
       "    <tr>\n",
       "      <th>SAUDI ARABIAN OIL</th>\n",
       "      <td>0.21</td>\n",
       "      <td>20.52</td>\n",
       "      <td>47.19</td>\n",
       "      <td>29.95</td>\n",
       "      <td>-1006.8</td>\n",
       "      <td>-185.81</td>\n",
       "    </tr>\n",
       "    <tr>\n",
       "      <th>MICROSOFT</th>\n",
       "      <td>1.06</td>\n",
       "      <td>32.25</td>\n",
       "      <td>55.08</td>\n",
       "      <td>26.50</td>\n",
       "      <td>-999.8</td>\n",
       "      <td>-141.21</td>\n",
       "    </tr>\n",
       "    <tr>\n",
       "      <th>AMAZON.COM</th>\n",
       "      <td>0.00</td>\n",
       "      <td>3.39</td>\n",
       "      <td>36.89</td>\n",
       "      <td>14.58</td>\n",
       "      <td>-915.2</td>\n",
       "      <td>-119.46</td>\n",
       "    </tr>\n",
       "    <tr>\n",
       "      <th>ALIBABA GROUP HOLDING ADR 1:8</th>\n",
       "      <td>0.00</td>\n",
       "      <td>20.02</td>\n",
       "      <td>38.71</td>\n",
       "      <td>19.00</td>\n",
       "      <td>-1005.3</td>\n",
       "      <td>-186.17</td>\n",
       "    </tr>\n",
       "    <tr>\n",
       "      <th>FACEBOOK CLASS A</th>\n",
       "      <td>0.00</td>\n",
       "      <td>29.90</td>\n",
       "      <td>34.90</td>\n",
       "      <td>21.55</td>\n",
       "      <td>-1004.3</td>\n",
       "      <td>-202.30</td>\n",
       "    </tr>\n",
       "    <tr>\n",
       "      <th>TENCENT HOLDINGS</th>\n",
       "      <td>0.23</td>\n",
       "      <td>24.34</td>\n",
       "      <td>39.62</td>\n",
       "      <td>17.53</td>\n",
       "      <td>-993.7</td>\n",
       "      <td>-149.03</td>\n",
       "    </tr>\n",
       "    <tr>\n",
       "      <th>ALPHABET A</th>\n",
       "      <td>0.00</td>\n",
       "      <td>21.97</td>\n",
       "      <td>33.06</td>\n",
       "      <td>19.37</td>\n",
       "      <td>-1003.1</td>\n",
       "      <td>-200.51</td>\n",
       "    </tr>\n",
       "    <tr>\n",
       "      <th>TESLA</th>\n",
       "      <td>0.00</td>\n",
       "      <td>0.00</td>\n",
       "      <td>0.00</td>\n",
       "      <td>0.00</td>\n",
       "      <td>0.0</td>\n",
       "      <td>0.00</td>\n",
       "    </tr>\n",
       "    <tr>\n",
       "      <th>WALMART</th>\n",
       "      <td>1.54</td>\n",
       "      <td>-6.33</td>\n",
       "      <td>35.16</td>\n",
       "      <td>14.16</td>\n",
       "      <td>-1009.7</td>\n",
       "      <td>-129.82</td>\n",
       "    </tr>\n",
       "    <tr>\n",
       "      <th>JOHNSON &amp; JOHNSON</th>\n",
       "      <td>2.71</td>\n",
       "      <td>12.62</td>\n",
       "      <td>40.30</td>\n",
       "      <td>18.99</td>\n",
       "      <td>-1009.6</td>\n",
       "      <td>-156.20</td>\n",
       "    </tr>\n",
       "    <tr>\n",
       "      <th>TAIWAN SEMICON.MNFG.</th>\n",
       "      <td>2.31</td>\n",
       "      <td>46.70</td>\n",
       "      <td>35.88</td>\n",
       "      <td>20.57</td>\n",
       "      <td>-1011.6</td>\n",
       "      <td>-190.88</td>\n",
       "    </tr>\n",
       "    <tr>\n",
       "      <th>NESTLE 'N'</th>\n",
       "      <td>2.47</td>\n",
       "      <td>5.64</td>\n",
       "      <td>37.99</td>\n",
       "      <td>15.82</td>\n",
       "      <td>-1013.0</td>\n",
       "      <td>-131.35</td>\n",
       "    </tr>\n",
       "  </tbody>\n",
       "</table>\n",
       "</div>"
      ],
      "text/plain": [
       "                               DIVIDEND YIELD  CASH FLOW/SALES  \\\n",
       "NAME                                                             \n",
       "APPLE                                    0.71            16.80   \n",
       "SAUDI ARABIAN OIL                        0.21            20.52   \n",
       "MICROSOFT                                1.06            32.25   \n",
       "AMAZON.COM                               0.00             3.39   \n",
       "ALIBABA GROUP HOLDING ADR 1:8            0.00            20.02   \n",
       "FACEBOOK CLASS A                         0.00            29.90   \n",
       "TENCENT HOLDINGS                         0.23            24.34   \n",
       "ALPHABET A                               0.00            21.97   \n",
       "TESLA                                    0.00             0.00   \n",
       "WALMART                                  1.54            -6.33   \n",
       "JOHNSON & JOHNSON                        2.71            12.62   \n",
       "TAIWAN SEMICON.MNFG.                     2.31            46.70   \n",
       "NESTLE 'N'                               2.47             5.64   \n",
       "\n",
       "                               RETURN ON EQUITY - TOTAL (%)  \\\n",
       "NAME                                                          \n",
       "APPLE                                                 70.86   \n",
       "SAUDI ARABIAN OIL                                     47.19   \n",
       "MICROSOFT                                             55.08   \n",
       "AMAZON.COM                                            36.89   \n",
       "ALIBABA GROUP HOLDING ADR 1:8                         38.71   \n",
       "FACEBOOK CLASS A                                      34.90   \n",
       "TENCENT HOLDINGS                                      39.62   \n",
       "ALPHABET A                                            33.06   \n",
       "TESLA                                                  0.00   \n",
       "WALMART                                               35.16   \n",
       "JOHNSON & JOHNSON                                     40.30   \n",
       "TAIWAN SEMICON.MNFG.                                  35.88   \n",
       "NESTLE 'N'                                            37.99   \n",
       "\n",
       "                               RETURN ON INVESTED CAPITAL  P/E - RATIO  \\\n",
       "NAME                                                                     \n",
       "APPLE                                               29.26      -1000.9   \n",
       "SAUDI ARABIAN OIL                                   29.95      -1006.8   \n",
       "MICROSOFT                                           26.50       -999.8   \n",
       "AMAZON.COM                                          14.58       -915.2   \n",
       "ALIBABA GROUP HOLDING ADR 1:8                       19.00      -1005.3   \n",
       "FACEBOOK CLASS A                                    21.55      -1004.3   \n",
       "TENCENT HOLDINGS                                    17.53       -993.7   \n",
       "ALPHABET A                                          19.37      -1003.1   \n",
       "TESLA                                                0.00          0.0   \n",
       "WALMART                                             14.16      -1009.7   \n",
       "JOHNSON & JOHNSON                                   18.99      -1009.6   \n",
       "TAIWAN SEMICON.MNFG.                                20.57      -1011.6   \n",
       "NESTLE 'N'                                          15.82      -1013.0   \n",
       "\n",
       "                               TOTAL DEBT % COMMON EQUITY  \n",
       "NAME                                                       \n",
       "APPLE                                              -83.37  \n",
       "SAUDI ARABIAN OIL                                 -185.81  \n",
       "MICROSOFT                                         -141.21  \n",
       "AMAZON.COM                                        -119.46  \n",
       "ALIBABA GROUP HOLDING ADR 1:8                     -186.17  \n",
       "FACEBOOK CLASS A                                  -202.30  \n",
       "TENCENT HOLDINGS                                  -149.03  \n",
       "ALPHABET A                                        -200.51  \n",
       "TESLA                                                0.00  \n",
       "WALMART                                           -129.82  \n",
       "JOHNSON & JOHNSON                                 -156.20  \n",
       "TAIWAN SEMICON.MNFG.                              -190.88  \n",
       "NESTLE 'N'                                        -131.35  "
      ]
     },
     "execution_count": 135,
     "metadata": {},
     "output_type": "execute_result"
    }
   ],
   "source": [
    "big_companies_df-sample_series"
   ]
  },
  {
   "cell_type": "markdown",
   "metadata": {},
   "source": [
    "If the index/columns do not match, the resulting dataframe is a union."
   ]
  },
  {
   "cell_type": "code",
   "execution_count": 147,
   "metadata": {},
   "outputs": [],
   "source": [
    "sample_series = sample_series.append(pd.Series(1,index=['extra row']))"
   ]
  },
  {
   "cell_type": "code",
   "execution_count": 148,
   "metadata": {},
   "outputs": [
    {
     "data": {
      "text/html": [
       "<div>\n",
       "<style scoped>\n",
       "    .dataframe tbody tr th:only-of-type {\n",
       "        vertical-align: middle;\n",
       "    }\n",
       "\n",
       "    .dataframe tbody tr th {\n",
       "        vertical-align: top;\n",
       "    }\n",
       "\n",
       "    .dataframe thead th {\n",
       "        text-align: right;\n",
       "    }\n",
       "</style>\n",
       "<table border=\"1\" class=\"dataframe\">\n",
       "  <thead>\n",
       "    <tr style=\"text-align: right;\">\n",
       "      <th></th>\n",
       "      <th>CASH FLOW/SALES</th>\n",
       "      <th>DIVIDEND YIELD</th>\n",
       "      <th>P/E - RATIO</th>\n",
       "      <th>RETURN ON EQUITY - TOTAL (%)</th>\n",
       "      <th>RETURN ON INVESTED CAPITAL</th>\n",
       "      <th>TOTAL DEBT % COMMON EQUITY</th>\n",
       "      <th>extra row</th>\n",
       "    </tr>\n",
       "    <tr>\n",
       "      <th>NAME</th>\n",
       "      <th></th>\n",
       "      <th></th>\n",
       "      <th></th>\n",
       "      <th></th>\n",
       "      <th></th>\n",
       "      <th></th>\n",
       "      <th></th>\n",
       "    </tr>\n",
       "  </thead>\n",
       "  <tbody>\n",
       "    <tr>\n",
       "      <th>APPLE</th>\n",
       "      <td>16.80</td>\n",
       "      <td>0.71</td>\n",
       "      <td>-1000.9</td>\n",
       "      <td>70.86</td>\n",
       "      <td>29.26</td>\n",
       "      <td>-83.37</td>\n",
       "      <td>NaN</td>\n",
       "    </tr>\n",
       "    <tr>\n",
       "      <th>SAUDI ARABIAN OIL</th>\n",
       "      <td>20.52</td>\n",
       "      <td>0.21</td>\n",
       "      <td>-1006.8</td>\n",
       "      <td>47.19</td>\n",
       "      <td>29.95</td>\n",
       "      <td>-185.81</td>\n",
       "      <td>NaN</td>\n",
       "    </tr>\n",
       "    <tr>\n",
       "      <th>MICROSOFT</th>\n",
       "      <td>32.25</td>\n",
       "      <td>1.06</td>\n",
       "      <td>-999.8</td>\n",
       "      <td>55.08</td>\n",
       "      <td>26.50</td>\n",
       "      <td>-141.21</td>\n",
       "      <td>NaN</td>\n",
       "    </tr>\n",
       "    <tr>\n",
       "      <th>AMAZON.COM</th>\n",
       "      <td>3.39</td>\n",
       "      <td>0.00</td>\n",
       "      <td>-915.2</td>\n",
       "      <td>36.89</td>\n",
       "      <td>14.58</td>\n",
       "      <td>-119.46</td>\n",
       "      <td>NaN</td>\n",
       "    </tr>\n",
       "    <tr>\n",
       "      <th>ALIBABA GROUP HOLDING ADR 1:8</th>\n",
       "      <td>20.02</td>\n",
       "      <td>0.00</td>\n",
       "      <td>-1005.3</td>\n",
       "      <td>38.71</td>\n",
       "      <td>19.00</td>\n",
       "      <td>-186.17</td>\n",
       "      <td>NaN</td>\n",
       "    </tr>\n",
       "    <tr>\n",
       "      <th>FACEBOOK CLASS A</th>\n",
       "      <td>29.90</td>\n",
       "      <td>0.00</td>\n",
       "      <td>-1004.3</td>\n",
       "      <td>34.90</td>\n",
       "      <td>21.55</td>\n",
       "      <td>-202.30</td>\n",
       "      <td>NaN</td>\n",
       "    </tr>\n",
       "    <tr>\n",
       "      <th>TENCENT HOLDINGS</th>\n",
       "      <td>24.34</td>\n",
       "      <td>0.23</td>\n",
       "      <td>-993.7</td>\n",
       "      <td>39.62</td>\n",
       "      <td>17.53</td>\n",
       "      <td>-149.03</td>\n",
       "      <td>NaN</td>\n",
       "    </tr>\n",
       "    <tr>\n",
       "      <th>ALPHABET A</th>\n",
       "      <td>21.97</td>\n",
       "      <td>0.00</td>\n",
       "      <td>-1003.1</td>\n",
       "      <td>33.06</td>\n",
       "      <td>19.37</td>\n",
       "      <td>-200.51</td>\n",
       "      <td>NaN</td>\n",
       "    </tr>\n",
       "    <tr>\n",
       "      <th>TESLA</th>\n",
       "      <td>0.00</td>\n",
       "      <td>0.00</td>\n",
       "      <td>0.0</td>\n",
       "      <td>0.00</td>\n",
       "      <td>0.00</td>\n",
       "      <td>0.00</td>\n",
       "      <td>NaN</td>\n",
       "    </tr>\n",
       "    <tr>\n",
       "      <th>WALMART</th>\n",
       "      <td>-6.33</td>\n",
       "      <td>1.54</td>\n",
       "      <td>-1009.7</td>\n",
       "      <td>35.16</td>\n",
       "      <td>14.16</td>\n",
       "      <td>-129.82</td>\n",
       "      <td>NaN</td>\n",
       "    </tr>\n",
       "    <tr>\n",
       "      <th>JOHNSON &amp; JOHNSON</th>\n",
       "      <td>12.62</td>\n",
       "      <td>2.71</td>\n",
       "      <td>-1009.6</td>\n",
       "      <td>40.30</td>\n",
       "      <td>18.99</td>\n",
       "      <td>-156.20</td>\n",
       "      <td>NaN</td>\n",
       "    </tr>\n",
       "    <tr>\n",
       "      <th>TAIWAN SEMICON.MNFG.</th>\n",
       "      <td>46.70</td>\n",
       "      <td>2.31</td>\n",
       "      <td>-1011.6</td>\n",
       "      <td>35.88</td>\n",
       "      <td>20.57</td>\n",
       "      <td>-190.88</td>\n",
       "      <td>NaN</td>\n",
       "    </tr>\n",
       "    <tr>\n",
       "      <th>NESTLE 'N'</th>\n",
       "      <td>5.64</td>\n",
       "      <td>2.47</td>\n",
       "      <td>-1013.0</td>\n",
       "      <td>37.99</td>\n",
       "      <td>15.82</td>\n",
       "      <td>-131.35</td>\n",
       "      <td>NaN</td>\n",
       "    </tr>\n",
       "  </tbody>\n",
       "</table>\n",
       "</div>"
      ],
      "text/plain": [
       "                               CASH FLOW/SALES  DIVIDEND YIELD  P/E - RATIO  \\\n",
       "NAME                                                                          \n",
       "APPLE                                    16.80            0.71      -1000.9   \n",
       "SAUDI ARABIAN OIL                        20.52            0.21      -1006.8   \n",
       "MICROSOFT                                32.25            1.06       -999.8   \n",
       "AMAZON.COM                                3.39            0.00       -915.2   \n",
       "ALIBABA GROUP HOLDING ADR 1:8            20.02            0.00      -1005.3   \n",
       "FACEBOOK CLASS A                         29.90            0.00      -1004.3   \n",
       "TENCENT HOLDINGS                         24.34            0.23       -993.7   \n",
       "ALPHABET A                               21.97            0.00      -1003.1   \n",
       "TESLA                                     0.00            0.00          0.0   \n",
       "WALMART                                  -6.33            1.54      -1009.7   \n",
       "JOHNSON & JOHNSON                        12.62            2.71      -1009.6   \n",
       "TAIWAN SEMICON.MNFG.                     46.70            2.31      -1011.6   \n",
       "NESTLE 'N'                                5.64            2.47      -1013.0   \n",
       "\n",
       "                               RETURN ON EQUITY - TOTAL (%)  \\\n",
       "NAME                                                          \n",
       "APPLE                                                 70.86   \n",
       "SAUDI ARABIAN OIL                                     47.19   \n",
       "MICROSOFT                                             55.08   \n",
       "AMAZON.COM                                            36.89   \n",
       "ALIBABA GROUP HOLDING ADR 1:8                         38.71   \n",
       "FACEBOOK CLASS A                                      34.90   \n",
       "TENCENT HOLDINGS                                      39.62   \n",
       "ALPHABET A                                            33.06   \n",
       "TESLA                                                  0.00   \n",
       "WALMART                                               35.16   \n",
       "JOHNSON & JOHNSON                                     40.30   \n",
       "TAIWAN SEMICON.MNFG.                                  35.88   \n",
       "NESTLE 'N'                                            37.99   \n",
       "\n",
       "                               RETURN ON INVESTED CAPITAL  \\\n",
       "NAME                                                        \n",
       "APPLE                                               29.26   \n",
       "SAUDI ARABIAN OIL                                   29.95   \n",
       "MICROSOFT                                           26.50   \n",
       "AMAZON.COM                                          14.58   \n",
       "ALIBABA GROUP HOLDING ADR 1:8                       19.00   \n",
       "FACEBOOK CLASS A                                    21.55   \n",
       "TENCENT HOLDINGS                                    17.53   \n",
       "ALPHABET A                                          19.37   \n",
       "TESLA                                                0.00   \n",
       "WALMART                                             14.16   \n",
       "JOHNSON & JOHNSON                                   18.99   \n",
       "TAIWAN SEMICON.MNFG.                                20.57   \n",
       "NESTLE 'N'                                          15.82   \n",
       "\n",
       "                               TOTAL DEBT % COMMON EQUITY  extra row  \n",
       "NAME                                                                  \n",
       "APPLE                                              -83.37        NaN  \n",
       "SAUDI ARABIAN OIL                                 -185.81        NaN  \n",
       "MICROSOFT                                         -141.21        NaN  \n",
       "AMAZON.COM                                        -119.46        NaN  \n",
       "ALIBABA GROUP HOLDING ADR 1:8                     -186.17        NaN  \n",
       "FACEBOOK CLASS A                                  -202.30        NaN  \n",
       "TENCENT HOLDINGS                                  -149.03        NaN  \n",
       "ALPHABET A                                        -200.51        NaN  \n",
       "TESLA                                                0.00        NaN  \n",
       "WALMART                                           -129.82        NaN  \n",
       "JOHNSON & JOHNSON                                 -156.20        NaN  \n",
       "TAIWAN SEMICON.MNFG.                              -190.88        NaN  \n",
       "NESTLE 'N'                                        -131.35        NaN  "
      ]
     },
     "execution_count": 148,
     "metadata": {},
     "output_type": "execute_result"
    }
   ],
   "source": [
    "big_companies_df-sample_series"
   ]
  },
  {
   "cell_type": "markdown",
   "metadata": {},
   "source": [
    "Basically all the Numpy's element-wise array methods work with Pandas objects."
   ]
  },
  {
   "cell_type": "markdown",
   "metadata": {},
   "source": [
    "Tesla looks a little bit better now (no negative returns). :)"
   ]
  },
  {
   "cell_type": "code",
   "execution_count": 155,
   "metadata": {},
   "outputs": [
    {
     "data": {
      "text/html": [
       "<div>\n",
       "<style scoped>\n",
       "    .dataframe tbody tr th:only-of-type {\n",
       "        vertical-align: middle;\n",
       "    }\n",
       "\n",
       "    .dataframe tbody tr th {\n",
       "        vertical-align: top;\n",
       "    }\n",
       "\n",
       "    .dataframe thead th {\n",
       "        text-align: right;\n",
       "    }\n",
       "</style>\n",
       "<table border=\"1\" class=\"dataframe\">\n",
       "  <thead>\n",
       "    <tr style=\"text-align: right;\">\n",
       "      <th></th>\n",
       "      <th>DIVIDEND YIELD</th>\n",
       "      <th>CASH FLOW/SALES</th>\n",
       "      <th>RETURN ON EQUITY - TOTAL (%)</th>\n",
       "      <th>RETURN ON INVESTED CAPITAL</th>\n",
       "      <th>P/E - RATIO</th>\n",
       "      <th>TOTAL DEBT % COMMON EQUITY</th>\n",
       "    </tr>\n",
       "    <tr>\n",
       "      <th>NAME</th>\n",
       "      <th></th>\n",
       "      <th></th>\n",
       "      <th></th>\n",
       "      <th></th>\n",
       "      <th></th>\n",
       "      <th></th>\n",
       "    </tr>\n",
       "  </thead>\n",
       "  <tbody>\n",
       "    <tr>\n",
       "      <th>APPLE</th>\n",
       "      <td>0.71</td>\n",
       "      <td>28.01</td>\n",
       "      <td>55.92</td>\n",
       "      <td>27.65</td>\n",
       "      <td>35.4</td>\n",
       "      <td>119.40</td>\n",
       "    </tr>\n",
       "    <tr>\n",
       "      <th>SAUDI ARABIAN OIL</th>\n",
       "      <td>0.21</td>\n",
       "      <td>31.73</td>\n",
       "      <td>32.25</td>\n",
       "      <td>28.34</td>\n",
       "      <td>29.5</td>\n",
       "      <td>16.96</td>\n",
       "    </tr>\n",
       "    <tr>\n",
       "      <th>MICROSOFT</th>\n",
       "      <td>1.06</td>\n",
       "      <td>43.46</td>\n",
       "      <td>40.14</td>\n",
       "      <td>24.89</td>\n",
       "      <td>36.5</td>\n",
       "      <td>61.56</td>\n",
       "    </tr>\n",
       "    <tr>\n",
       "      <th>AMAZON.COM</th>\n",
       "      <td>0.00</td>\n",
       "      <td>14.60</td>\n",
       "      <td>21.95</td>\n",
       "      <td>12.97</td>\n",
       "      <td>121.1</td>\n",
       "      <td>83.31</td>\n",
       "    </tr>\n",
       "    <tr>\n",
       "      <th>ALIBABA GROUP HOLDING ADR 1:8</th>\n",
       "      <td>0.00</td>\n",
       "      <td>31.23</td>\n",
       "      <td>23.77</td>\n",
       "      <td>17.39</td>\n",
       "      <td>31.0</td>\n",
       "      <td>16.60</td>\n",
       "    </tr>\n",
       "    <tr>\n",
       "      <th>FACEBOOK CLASS A</th>\n",
       "      <td>0.00</td>\n",
       "      <td>41.11</td>\n",
       "      <td>19.96</td>\n",
       "      <td>19.94</td>\n",
       "      <td>32.0</td>\n",
       "      <td>0.47</td>\n",
       "    </tr>\n",
       "    <tr>\n",
       "      <th>TENCENT HOLDINGS</th>\n",
       "      <td>0.23</td>\n",
       "      <td>35.55</td>\n",
       "      <td>24.68</td>\n",
       "      <td>15.92</td>\n",
       "      <td>42.6</td>\n",
       "      <td>53.74</td>\n",
       "    </tr>\n",
       "    <tr>\n",
       "      <th>ALPHABET A</th>\n",
       "      <td>0.00</td>\n",
       "      <td>33.18</td>\n",
       "      <td>18.12</td>\n",
       "      <td>17.76</td>\n",
       "      <td>33.2</td>\n",
       "      <td>2.26</td>\n",
       "    </tr>\n",
       "    <tr>\n",
       "      <th>TESLA</th>\n",
       "      <td>0.00</td>\n",
       "      <td>11.21</td>\n",
       "      <td>14.94</td>\n",
       "      <td>1.61</td>\n",
       "      <td>1036.3</td>\n",
       "      <td>202.77</td>\n",
       "    </tr>\n",
       "    <tr>\n",
       "      <th>WALMART</th>\n",
       "      <td>1.54</td>\n",
       "      <td>4.88</td>\n",
       "      <td>20.22</td>\n",
       "      <td>12.55</td>\n",
       "      <td>26.6</td>\n",
       "      <td>72.95</td>\n",
       "    </tr>\n",
       "    <tr>\n",
       "      <th>JOHNSON &amp; JOHNSON</th>\n",
       "      <td>2.71</td>\n",
       "      <td>23.83</td>\n",
       "      <td>25.36</td>\n",
       "      <td>17.38</td>\n",
       "      <td>26.7</td>\n",
       "      <td>46.57</td>\n",
       "    </tr>\n",
       "    <tr>\n",
       "      <th>TAIWAN SEMICON.MNFG.</th>\n",
       "      <td>2.31</td>\n",
       "      <td>57.91</td>\n",
       "      <td>20.94</td>\n",
       "      <td>18.96</td>\n",
       "      <td>24.7</td>\n",
       "      <td>11.89</td>\n",
       "    </tr>\n",
       "    <tr>\n",
       "      <th>NESTLE 'N'</th>\n",
       "      <td>2.47</td>\n",
       "      <td>16.85</td>\n",
       "      <td>23.05</td>\n",
       "      <td>14.21</td>\n",
       "      <td>23.3</td>\n",
       "      <td>71.42</td>\n",
       "    </tr>\n",
       "  </tbody>\n",
       "</table>\n",
       "</div>"
      ],
      "text/plain": [
       "                               DIVIDEND YIELD  CASH FLOW/SALES  \\\n",
       "NAME                                                             \n",
       "APPLE                                    0.71            28.01   \n",
       "SAUDI ARABIAN OIL                        0.21            31.73   \n",
       "MICROSOFT                                1.06            43.46   \n",
       "AMAZON.COM                               0.00            14.60   \n",
       "ALIBABA GROUP HOLDING ADR 1:8            0.00            31.23   \n",
       "FACEBOOK CLASS A                         0.00            41.11   \n",
       "TENCENT HOLDINGS                         0.23            35.55   \n",
       "ALPHABET A                               0.00            33.18   \n",
       "TESLA                                    0.00            11.21   \n",
       "WALMART                                  1.54             4.88   \n",
       "JOHNSON & JOHNSON                        2.71            23.83   \n",
       "TAIWAN SEMICON.MNFG.                     2.31            57.91   \n",
       "NESTLE 'N'                               2.47            16.85   \n",
       "\n",
       "                               RETURN ON EQUITY - TOTAL (%)  \\\n",
       "NAME                                                          \n",
       "APPLE                                                 55.92   \n",
       "SAUDI ARABIAN OIL                                     32.25   \n",
       "MICROSOFT                                             40.14   \n",
       "AMAZON.COM                                            21.95   \n",
       "ALIBABA GROUP HOLDING ADR 1:8                         23.77   \n",
       "FACEBOOK CLASS A                                      19.96   \n",
       "TENCENT HOLDINGS                                      24.68   \n",
       "ALPHABET A                                            18.12   \n",
       "TESLA                                                 14.94   \n",
       "WALMART                                               20.22   \n",
       "JOHNSON & JOHNSON                                     25.36   \n",
       "TAIWAN SEMICON.MNFG.                                  20.94   \n",
       "NESTLE 'N'                                            23.05   \n",
       "\n",
       "                               RETURN ON INVESTED CAPITAL  P/E - RATIO  \\\n",
       "NAME                                                                     \n",
       "APPLE                                               27.65         35.4   \n",
       "SAUDI ARABIAN OIL                                   28.34         29.5   \n",
       "MICROSOFT                                           24.89         36.5   \n",
       "AMAZON.COM                                          12.97        121.1   \n",
       "ALIBABA GROUP HOLDING ADR 1:8                       17.39         31.0   \n",
       "FACEBOOK CLASS A                                    19.94         32.0   \n",
       "TENCENT HOLDINGS                                    15.92         42.6   \n",
       "ALPHABET A                                          17.76         33.2   \n",
       "TESLA                                                1.61       1036.3   \n",
       "WALMART                                             12.55         26.6   \n",
       "JOHNSON & JOHNSON                                   17.38         26.7   \n",
       "TAIWAN SEMICON.MNFG.                                18.96         24.7   \n",
       "NESTLE 'N'                                          14.21         23.3   \n",
       "\n",
       "                               TOTAL DEBT % COMMON EQUITY  \n",
       "NAME                                                       \n",
       "APPLE                                              119.40  \n",
       "SAUDI ARABIAN OIL                                   16.96  \n",
       "MICROSOFT                                           61.56  \n",
       "AMAZON.COM                                          83.31  \n",
       "ALIBABA GROUP HOLDING ADR 1:8                       16.60  \n",
       "FACEBOOK CLASS A                                     0.47  \n",
       "TENCENT HOLDINGS                                    53.74  \n",
       "ALPHABET A                                           2.26  \n",
       "TESLA                                              202.77  \n",
       "WALMART                                             72.95  \n",
       "JOHNSON & JOHNSON                                   46.57  \n",
       "TAIWAN SEMICON.MNFG.                                11.89  \n",
       "NESTLE 'N'                                          71.42  "
      ]
     },
     "execution_count": 155,
     "metadata": {},
     "output_type": "execute_result"
    }
   ],
   "source": [
    "np.abs(big_companies_df)"
   ]
  },
  {
   "cell_type": "markdown",
   "metadata": {},
   "source": [
    "If you want to apply a function to rows or columns of a dataframe, you can use **apply**. "
   ]
  },
  {
   "cell_type": "code",
   "execution_count": 156,
   "metadata": {},
   "outputs": [],
   "source": [
    "differ = lambda x:np.max(x)-np.min(x)"
   ]
  },
  {
   "cell_type": "markdown",
   "metadata": {},
   "source": [
    "**differ** calculates the difference between the maximum and minimum of each column."
   ]
  },
  {
   "cell_type": "code",
   "execution_count": 158,
   "metadata": {},
   "outputs": [
    {
     "data": {
      "text/plain": [
       "DIVIDEND YIELD                     2.71\n",
       "CASH FLOW/SALES                   53.03\n",
       "RETURN ON EQUITY - TOTAL (%)      70.86\n",
       "RETURN ON INVESTED CAPITAL        29.95\n",
       "P/E - RATIO                     1013.00\n",
       "TOTAL DEBT % COMMON EQUITY       202.30\n",
       "dtype: float64"
      ]
     },
     "execution_count": 158,
     "metadata": {},
     "output_type": "execute_result"
    }
   ],
   "source": [
    "big_companies_df.apply(differ)"
   ]
  },
  {
   "cell_type": "markdown",
   "metadata": {},
   "source": [
    "We can also do this row-wise."
   ]
  },
  {
   "cell_type": "code",
   "execution_count": 159,
   "metadata": {},
   "outputs": [
    {
     "data": {
      "text/plain": [
       "NAME\n",
       "APPLE                             118.69\n",
       "SAUDI ARABIAN OIL                  32.04\n",
       "MICROSOFT                          60.50\n",
       "AMAZON.COM                        121.10\n",
       "ALIBABA GROUP HOLDING ADR 1:8      31.23\n",
       "FACEBOOK CLASS A                   41.11\n",
       "TENCENT HOLDINGS                   53.51\n",
       "ALPHABET A                         33.20\n",
       "TESLA                            1051.24\n",
       "WALMART                            71.41\n",
       "JOHNSON & JOHNSON                  43.86\n",
       "TAIWAN SEMICON.MNFG.               55.60\n",
       "NESTLE 'N'                         68.95\n",
       "dtype: float64"
      ]
     },
     "execution_count": 159,
     "metadata": {},
     "output_type": "execute_result"
    }
   ],
   "source": [
    "big_companies_df.apply(differ,axis=1)"
   ]
  },
  {
   "cell_type": "markdown",
   "metadata": {},
   "source": [
    "For element-wise manipulations, you can use **applymap()**."
   ]
  },
  {
   "cell_type": "code",
   "execution_count": 160,
   "metadata": {},
   "outputs": [
    {
     "data": {
      "text/html": [
       "<div>\n",
       "<style scoped>\n",
       "    .dataframe tbody tr th:only-of-type {\n",
       "        vertical-align: middle;\n",
       "    }\n",
       "\n",
       "    .dataframe tbody tr th {\n",
       "        vertical-align: top;\n",
       "    }\n",
       "\n",
       "    .dataframe thead th {\n",
       "        text-align: right;\n",
       "    }\n",
       "</style>\n",
       "<table border=\"1\" class=\"dataframe\">\n",
       "  <thead>\n",
       "    <tr style=\"text-align: right;\">\n",
       "      <th></th>\n",
       "      <th>DIVIDEND YIELD</th>\n",
       "      <th>CASH FLOW/SALES</th>\n",
       "      <th>RETURN ON EQUITY - TOTAL (%)</th>\n",
       "      <th>RETURN ON INVESTED CAPITAL</th>\n",
       "      <th>P/E - RATIO</th>\n",
       "      <th>TOTAL DEBT % COMMON EQUITY</th>\n",
       "    </tr>\n",
       "    <tr>\n",
       "      <th>NAME</th>\n",
       "      <th></th>\n",
       "      <th></th>\n",
       "      <th></th>\n",
       "      <th></th>\n",
       "      <th></th>\n",
       "      <th></th>\n",
       "    </tr>\n",
       "  </thead>\n",
       "  <tbody>\n",
       "    <tr>\n",
       "      <th>APPLE</th>\n",
       "      <td>-0.71</td>\n",
       "      <td>-28.01</td>\n",
       "      <td>-55.92</td>\n",
       "      <td>-27.65</td>\n",
       "      <td>-35.4</td>\n",
       "      <td>-119.40</td>\n",
       "    </tr>\n",
       "    <tr>\n",
       "      <th>SAUDI ARABIAN OIL</th>\n",
       "      <td>-0.21</td>\n",
       "      <td>-31.73</td>\n",
       "      <td>-32.25</td>\n",
       "      <td>-28.34</td>\n",
       "      <td>-29.5</td>\n",
       "      <td>-16.96</td>\n",
       "    </tr>\n",
       "    <tr>\n",
       "      <th>MICROSOFT</th>\n",
       "      <td>-1.06</td>\n",
       "      <td>-43.46</td>\n",
       "      <td>-40.14</td>\n",
       "      <td>-24.89</td>\n",
       "      <td>-36.5</td>\n",
       "      <td>-61.56</td>\n",
       "    </tr>\n",
       "    <tr>\n",
       "      <th>AMAZON.COM</th>\n",
       "      <td>-0.00</td>\n",
       "      <td>-14.60</td>\n",
       "      <td>-21.95</td>\n",
       "      <td>-12.97</td>\n",
       "      <td>-121.1</td>\n",
       "      <td>-83.31</td>\n",
       "    </tr>\n",
       "    <tr>\n",
       "      <th>ALIBABA GROUP HOLDING ADR 1:8</th>\n",
       "      <td>-0.00</td>\n",
       "      <td>-31.23</td>\n",
       "      <td>-23.77</td>\n",
       "      <td>-17.39</td>\n",
       "      <td>-31.0</td>\n",
       "      <td>-16.60</td>\n",
       "    </tr>\n",
       "    <tr>\n",
       "      <th>FACEBOOK CLASS A</th>\n",
       "      <td>-0.00</td>\n",
       "      <td>-41.11</td>\n",
       "      <td>-19.96</td>\n",
       "      <td>-19.94</td>\n",
       "      <td>-32.0</td>\n",
       "      <td>-0.47</td>\n",
       "    </tr>\n",
       "    <tr>\n",
       "      <th>TENCENT HOLDINGS</th>\n",
       "      <td>-0.23</td>\n",
       "      <td>-35.55</td>\n",
       "      <td>-24.68</td>\n",
       "      <td>-15.92</td>\n",
       "      <td>-42.6</td>\n",
       "      <td>-53.74</td>\n",
       "    </tr>\n",
       "    <tr>\n",
       "      <th>ALPHABET A</th>\n",
       "      <td>-0.00</td>\n",
       "      <td>-33.18</td>\n",
       "      <td>-18.12</td>\n",
       "      <td>-17.76</td>\n",
       "      <td>-33.2</td>\n",
       "      <td>-2.26</td>\n",
       "    </tr>\n",
       "    <tr>\n",
       "      <th>TESLA</th>\n",
       "      <td>-0.00</td>\n",
       "      <td>-11.21</td>\n",
       "      <td>14.94</td>\n",
       "      <td>1.61</td>\n",
       "      <td>-1036.3</td>\n",
       "      <td>-202.77</td>\n",
       "    </tr>\n",
       "    <tr>\n",
       "      <th>WALMART</th>\n",
       "      <td>-1.54</td>\n",
       "      <td>-4.88</td>\n",
       "      <td>-20.22</td>\n",
       "      <td>-12.55</td>\n",
       "      <td>-26.6</td>\n",
       "      <td>-72.95</td>\n",
       "    </tr>\n",
       "    <tr>\n",
       "      <th>JOHNSON &amp; JOHNSON</th>\n",
       "      <td>-2.71</td>\n",
       "      <td>-23.83</td>\n",
       "      <td>-25.36</td>\n",
       "      <td>-17.38</td>\n",
       "      <td>-26.7</td>\n",
       "      <td>-46.57</td>\n",
       "    </tr>\n",
       "    <tr>\n",
       "      <th>TAIWAN SEMICON.MNFG.</th>\n",
       "      <td>-2.31</td>\n",
       "      <td>-57.91</td>\n",
       "      <td>-20.94</td>\n",
       "      <td>-18.96</td>\n",
       "      <td>-24.7</td>\n",
       "      <td>-11.89</td>\n",
       "    </tr>\n",
       "    <tr>\n",
       "      <th>NESTLE 'N'</th>\n",
       "      <td>-2.47</td>\n",
       "      <td>-16.85</td>\n",
       "      <td>-23.05</td>\n",
       "      <td>-14.21</td>\n",
       "      <td>-23.3</td>\n",
       "      <td>-71.42</td>\n",
       "    </tr>\n",
       "  </tbody>\n",
       "</table>\n",
       "</div>"
      ],
      "text/plain": [
       "                               DIVIDEND YIELD  CASH FLOW/SALES  \\\n",
       "NAME                                                             \n",
       "APPLE                                   -0.71           -28.01   \n",
       "SAUDI ARABIAN OIL                       -0.21           -31.73   \n",
       "MICROSOFT                               -1.06           -43.46   \n",
       "AMAZON.COM                              -0.00           -14.60   \n",
       "ALIBABA GROUP HOLDING ADR 1:8           -0.00           -31.23   \n",
       "FACEBOOK CLASS A                        -0.00           -41.11   \n",
       "TENCENT HOLDINGS                        -0.23           -35.55   \n",
       "ALPHABET A                              -0.00           -33.18   \n",
       "TESLA                                   -0.00           -11.21   \n",
       "WALMART                                 -1.54            -4.88   \n",
       "JOHNSON & JOHNSON                       -2.71           -23.83   \n",
       "TAIWAN SEMICON.MNFG.                    -2.31           -57.91   \n",
       "NESTLE 'N'                              -2.47           -16.85   \n",
       "\n",
       "                               RETURN ON EQUITY - TOTAL (%)  \\\n",
       "NAME                                                          \n",
       "APPLE                                                -55.92   \n",
       "SAUDI ARABIAN OIL                                    -32.25   \n",
       "MICROSOFT                                            -40.14   \n",
       "AMAZON.COM                                           -21.95   \n",
       "ALIBABA GROUP HOLDING ADR 1:8                        -23.77   \n",
       "FACEBOOK CLASS A                                     -19.96   \n",
       "TENCENT HOLDINGS                                     -24.68   \n",
       "ALPHABET A                                           -18.12   \n",
       "TESLA                                                 14.94   \n",
       "WALMART                                              -20.22   \n",
       "JOHNSON & JOHNSON                                    -25.36   \n",
       "TAIWAN SEMICON.MNFG.                                 -20.94   \n",
       "NESTLE 'N'                                           -23.05   \n",
       "\n",
       "                               RETURN ON INVESTED CAPITAL  P/E - RATIO  \\\n",
       "NAME                                                                     \n",
       "APPLE                                              -27.65        -35.4   \n",
       "SAUDI ARABIAN OIL                                  -28.34        -29.5   \n",
       "MICROSOFT                                          -24.89        -36.5   \n",
       "AMAZON.COM                                         -12.97       -121.1   \n",
       "ALIBABA GROUP HOLDING ADR 1:8                      -17.39        -31.0   \n",
       "FACEBOOK CLASS A                                   -19.94        -32.0   \n",
       "TENCENT HOLDINGS                                   -15.92        -42.6   \n",
       "ALPHABET A                                         -17.76        -33.2   \n",
       "TESLA                                                1.61      -1036.3   \n",
       "WALMART                                            -12.55        -26.6   \n",
       "JOHNSON & JOHNSON                                  -17.38        -26.7   \n",
       "TAIWAN SEMICON.MNFG.                               -18.96        -24.7   \n",
       "NESTLE 'N'                                         -14.21        -23.3   \n",
       "\n",
       "                               TOTAL DEBT % COMMON EQUITY  \n",
       "NAME                                                       \n",
       "APPLE                                             -119.40  \n",
       "SAUDI ARABIAN OIL                                  -16.96  \n",
       "MICROSOFT                                          -61.56  \n",
       "AMAZON.COM                                         -83.31  \n",
       "ALIBABA GROUP HOLDING ADR 1:8                      -16.60  \n",
       "FACEBOOK CLASS A                                    -0.47  \n",
       "TENCENT HOLDINGS                                   -53.74  \n",
       "ALPHABET A                                          -2.26  \n",
       "TESLA                                             -202.77  \n",
       "WALMART                                            -72.95  \n",
       "JOHNSON & JOHNSON                                  -46.57  \n",
       "TAIWAN SEMICON.MNFG.                               -11.89  \n",
       "NESTLE 'N'                                         -71.42  "
      ]
     },
     "execution_count": 160,
     "metadata": {},
     "output_type": "execute_result"
    }
   ],
   "source": [
    "big_companies_df.applymap(lambda x: -x)"
   ]
  },
  {
   "cell_type": "markdown",
   "metadata": {},
   "source": [
    "**sort_index** can be used for sorting."
   ]
  },
  {
   "cell_type": "code",
   "execution_count": 161,
   "metadata": {},
   "outputs": [
    {
     "data": {
      "text/html": [
       "<div>\n",
       "<style scoped>\n",
       "    .dataframe tbody tr th:only-of-type {\n",
       "        vertical-align: middle;\n",
       "    }\n",
       "\n",
       "    .dataframe tbody tr th {\n",
       "        vertical-align: top;\n",
       "    }\n",
       "\n",
       "    .dataframe thead th {\n",
       "        text-align: right;\n",
       "    }\n",
       "</style>\n",
       "<table border=\"1\" class=\"dataframe\">\n",
       "  <thead>\n",
       "    <tr style=\"text-align: right;\">\n",
       "      <th></th>\n",
       "      <th>DIVIDEND YIELD</th>\n",
       "      <th>CASH FLOW/SALES</th>\n",
       "      <th>RETURN ON EQUITY - TOTAL (%)</th>\n",
       "      <th>RETURN ON INVESTED CAPITAL</th>\n",
       "      <th>P/E - RATIO</th>\n",
       "      <th>TOTAL DEBT % COMMON EQUITY</th>\n",
       "    </tr>\n",
       "    <tr>\n",
       "      <th>NAME</th>\n",
       "      <th></th>\n",
       "      <th></th>\n",
       "      <th></th>\n",
       "      <th></th>\n",
       "      <th></th>\n",
       "      <th></th>\n",
       "    </tr>\n",
       "  </thead>\n",
       "  <tbody>\n",
       "    <tr>\n",
       "      <th>ALIBABA GROUP HOLDING ADR 1:8</th>\n",
       "      <td>0.00</td>\n",
       "      <td>31.23</td>\n",
       "      <td>23.77</td>\n",
       "      <td>17.39</td>\n",
       "      <td>31.0</td>\n",
       "      <td>16.60</td>\n",
       "    </tr>\n",
       "    <tr>\n",
       "      <th>ALPHABET A</th>\n",
       "      <td>0.00</td>\n",
       "      <td>33.18</td>\n",
       "      <td>18.12</td>\n",
       "      <td>17.76</td>\n",
       "      <td>33.2</td>\n",
       "      <td>2.26</td>\n",
       "    </tr>\n",
       "    <tr>\n",
       "      <th>AMAZON.COM</th>\n",
       "      <td>0.00</td>\n",
       "      <td>14.60</td>\n",
       "      <td>21.95</td>\n",
       "      <td>12.97</td>\n",
       "      <td>121.1</td>\n",
       "      <td>83.31</td>\n",
       "    </tr>\n",
       "    <tr>\n",
       "      <th>APPLE</th>\n",
       "      <td>0.71</td>\n",
       "      <td>28.01</td>\n",
       "      <td>55.92</td>\n",
       "      <td>27.65</td>\n",
       "      <td>35.4</td>\n",
       "      <td>119.40</td>\n",
       "    </tr>\n",
       "    <tr>\n",
       "      <th>FACEBOOK CLASS A</th>\n",
       "      <td>0.00</td>\n",
       "      <td>41.11</td>\n",
       "      <td>19.96</td>\n",
       "      <td>19.94</td>\n",
       "      <td>32.0</td>\n",
       "      <td>0.47</td>\n",
       "    </tr>\n",
       "    <tr>\n",
       "      <th>JOHNSON &amp; JOHNSON</th>\n",
       "      <td>2.71</td>\n",
       "      <td>23.83</td>\n",
       "      <td>25.36</td>\n",
       "      <td>17.38</td>\n",
       "      <td>26.7</td>\n",
       "      <td>46.57</td>\n",
       "    </tr>\n",
       "    <tr>\n",
       "      <th>MICROSOFT</th>\n",
       "      <td>1.06</td>\n",
       "      <td>43.46</td>\n",
       "      <td>40.14</td>\n",
       "      <td>24.89</td>\n",
       "      <td>36.5</td>\n",
       "      <td>61.56</td>\n",
       "    </tr>\n",
       "    <tr>\n",
       "      <th>NESTLE 'N'</th>\n",
       "      <td>2.47</td>\n",
       "      <td>16.85</td>\n",
       "      <td>23.05</td>\n",
       "      <td>14.21</td>\n",
       "      <td>23.3</td>\n",
       "      <td>71.42</td>\n",
       "    </tr>\n",
       "    <tr>\n",
       "      <th>SAUDI ARABIAN OIL</th>\n",
       "      <td>0.21</td>\n",
       "      <td>31.73</td>\n",
       "      <td>32.25</td>\n",
       "      <td>28.34</td>\n",
       "      <td>29.5</td>\n",
       "      <td>16.96</td>\n",
       "    </tr>\n",
       "    <tr>\n",
       "      <th>TAIWAN SEMICON.MNFG.</th>\n",
       "      <td>2.31</td>\n",
       "      <td>57.91</td>\n",
       "      <td>20.94</td>\n",
       "      <td>18.96</td>\n",
       "      <td>24.7</td>\n",
       "      <td>11.89</td>\n",
       "    </tr>\n",
       "    <tr>\n",
       "      <th>TENCENT HOLDINGS</th>\n",
       "      <td>0.23</td>\n",
       "      <td>35.55</td>\n",
       "      <td>24.68</td>\n",
       "      <td>15.92</td>\n",
       "      <td>42.6</td>\n",
       "      <td>53.74</td>\n",
       "    </tr>\n",
       "    <tr>\n",
       "      <th>TESLA</th>\n",
       "      <td>0.00</td>\n",
       "      <td>11.21</td>\n",
       "      <td>-14.94</td>\n",
       "      <td>-1.61</td>\n",
       "      <td>1036.3</td>\n",
       "      <td>202.77</td>\n",
       "    </tr>\n",
       "    <tr>\n",
       "      <th>WALMART</th>\n",
       "      <td>1.54</td>\n",
       "      <td>4.88</td>\n",
       "      <td>20.22</td>\n",
       "      <td>12.55</td>\n",
       "      <td>26.6</td>\n",
       "      <td>72.95</td>\n",
       "    </tr>\n",
       "  </tbody>\n",
       "</table>\n",
       "</div>"
      ],
      "text/plain": [
       "                               DIVIDEND YIELD  CASH FLOW/SALES  \\\n",
       "NAME                                                             \n",
       "ALIBABA GROUP HOLDING ADR 1:8            0.00            31.23   \n",
       "ALPHABET A                               0.00            33.18   \n",
       "AMAZON.COM                               0.00            14.60   \n",
       "APPLE                                    0.71            28.01   \n",
       "FACEBOOK CLASS A                         0.00            41.11   \n",
       "JOHNSON & JOHNSON                        2.71            23.83   \n",
       "MICROSOFT                                1.06            43.46   \n",
       "NESTLE 'N'                               2.47            16.85   \n",
       "SAUDI ARABIAN OIL                        0.21            31.73   \n",
       "TAIWAN SEMICON.MNFG.                     2.31            57.91   \n",
       "TENCENT HOLDINGS                         0.23            35.55   \n",
       "TESLA                                    0.00            11.21   \n",
       "WALMART                                  1.54             4.88   \n",
       "\n",
       "                               RETURN ON EQUITY - TOTAL (%)  \\\n",
       "NAME                                                          \n",
       "ALIBABA GROUP HOLDING ADR 1:8                         23.77   \n",
       "ALPHABET A                                            18.12   \n",
       "AMAZON.COM                                            21.95   \n",
       "APPLE                                                 55.92   \n",
       "FACEBOOK CLASS A                                      19.96   \n",
       "JOHNSON & JOHNSON                                     25.36   \n",
       "MICROSOFT                                             40.14   \n",
       "NESTLE 'N'                                            23.05   \n",
       "SAUDI ARABIAN OIL                                     32.25   \n",
       "TAIWAN SEMICON.MNFG.                                  20.94   \n",
       "TENCENT HOLDINGS                                      24.68   \n",
       "TESLA                                                -14.94   \n",
       "WALMART                                               20.22   \n",
       "\n",
       "                               RETURN ON INVESTED CAPITAL  P/E - RATIO  \\\n",
       "NAME                                                                     \n",
       "ALIBABA GROUP HOLDING ADR 1:8                       17.39         31.0   \n",
       "ALPHABET A                                          17.76         33.2   \n",
       "AMAZON.COM                                          12.97        121.1   \n",
       "APPLE                                               27.65         35.4   \n",
       "FACEBOOK CLASS A                                    19.94         32.0   \n",
       "JOHNSON & JOHNSON                                   17.38         26.7   \n",
       "MICROSOFT                                           24.89         36.5   \n",
       "NESTLE 'N'                                          14.21         23.3   \n",
       "SAUDI ARABIAN OIL                                   28.34         29.5   \n",
       "TAIWAN SEMICON.MNFG.                                18.96         24.7   \n",
       "TENCENT HOLDINGS                                    15.92         42.6   \n",
       "TESLA                                               -1.61       1036.3   \n",
       "WALMART                                             12.55         26.6   \n",
       "\n",
       "                               TOTAL DEBT % COMMON EQUITY  \n",
       "NAME                                                       \n",
       "ALIBABA GROUP HOLDING ADR 1:8                       16.60  \n",
       "ALPHABET A                                           2.26  \n",
       "AMAZON.COM                                          83.31  \n",
       "APPLE                                              119.40  \n",
       "FACEBOOK CLASS A                                     0.47  \n",
       "JOHNSON & JOHNSON                                   46.57  \n",
       "MICROSOFT                                           61.56  \n",
       "NESTLE 'N'                                          71.42  \n",
       "SAUDI ARABIAN OIL                                   16.96  \n",
       "TAIWAN SEMICON.MNFG.                                11.89  \n",
       "TENCENT HOLDINGS                                    53.74  \n",
       "TESLA                                              202.77  \n",
       "WALMART                                             72.95  "
      ]
     },
     "execution_count": 161,
     "metadata": {},
     "output_type": "execute_result"
    }
   ],
   "source": [
    "big_companies_df.sort_index()"
   ]
  },
  {
   "cell_type": "code",
   "execution_count": 162,
   "metadata": {},
   "outputs": [
    {
     "data": {
      "text/html": [
       "<div>\n",
       "<style scoped>\n",
       "    .dataframe tbody tr th:only-of-type {\n",
       "        vertical-align: middle;\n",
       "    }\n",
       "\n",
       "    .dataframe tbody tr th {\n",
       "        vertical-align: top;\n",
       "    }\n",
       "\n",
       "    .dataframe thead th {\n",
       "        text-align: right;\n",
       "    }\n",
       "</style>\n",
       "<table border=\"1\" class=\"dataframe\">\n",
       "  <thead>\n",
       "    <tr style=\"text-align: right;\">\n",
       "      <th></th>\n",
       "      <th>CASH FLOW/SALES</th>\n",
       "      <th>DIVIDEND YIELD</th>\n",
       "      <th>P/E - RATIO</th>\n",
       "      <th>RETURN ON EQUITY - TOTAL (%)</th>\n",
       "      <th>RETURN ON INVESTED CAPITAL</th>\n",
       "      <th>TOTAL DEBT % COMMON EQUITY</th>\n",
       "    </tr>\n",
       "    <tr>\n",
       "      <th>NAME</th>\n",
       "      <th></th>\n",
       "      <th></th>\n",
       "      <th></th>\n",
       "      <th></th>\n",
       "      <th></th>\n",
       "      <th></th>\n",
       "    </tr>\n",
       "  </thead>\n",
       "  <tbody>\n",
       "    <tr>\n",
       "      <th>APPLE</th>\n",
       "      <td>28.01</td>\n",
       "      <td>0.71</td>\n",
       "      <td>35.4</td>\n",
       "      <td>55.92</td>\n",
       "      <td>27.65</td>\n",
       "      <td>119.40</td>\n",
       "    </tr>\n",
       "    <tr>\n",
       "      <th>SAUDI ARABIAN OIL</th>\n",
       "      <td>31.73</td>\n",
       "      <td>0.21</td>\n",
       "      <td>29.5</td>\n",
       "      <td>32.25</td>\n",
       "      <td>28.34</td>\n",
       "      <td>16.96</td>\n",
       "    </tr>\n",
       "    <tr>\n",
       "      <th>MICROSOFT</th>\n",
       "      <td>43.46</td>\n",
       "      <td>1.06</td>\n",
       "      <td>36.5</td>\n",
       "      <td>40.14</td>\n",
       "      <td>24.89</td>\n",
       "      <td>61.56</td>\n",
       "    </tr>\n",
       "    <tr>\n",
       "      <th>AMAZON.COM</th>\n",
       "      <td>14.60</td>\n",
       "      <td>0.00</td>\n",
       "      <td>121.1</td>\n",
       "      <td>21.95</td>\n",
       "      <td>12.97</td>\n",
       "      <td>83.31</td>\n",
       "    </tr>\n",
       "    <tr>\n",
       "      <th>ALIBABA GROUP HOLDING ADR 1:8</th>\n",
       "      <td>31.23</td>\n",
       "      <td>0.00</td>\n",
       "      <td>31.0</td>\n",
       "      <td>23.77</td>\n",
       "      <td>17.39</td>\n",
       "      <td>16.60</td>\n",
       "    </tr>\n",
       "    <tr>\n",
       "      <th>FACEBOOK CLASS A</th>\n",
       "      <td>41.11</td>\n",
       "      <td>0.00</td>\n",
       "      <td>32.0</td>\n",
       "      <td>19.96</td>\n",
       "      <td>19.94</td>\n",
       "      <td>0.47</td>\n",
       "    </tr>\n",
       "    <tr>\n",
       "      <th>TENCENT HOLDINGS</th>\n",
       "      <td>35.55</td>\n",
       "      <td>0.23</td>\n",
       "      <td>42.6</td>\n",
       "      <td>24.68</td>\n",
       "      <td>15.92</td>\n",
       "      <td>53.74</td>\n",
       "    </tr>\n",
       "    <tr>\n",
       "      <th>ALPHABET A</th>\n",
       "      <td>33.18</td>\n",
       "      <td>0.00</td>\n",
       "      <td>33.2</td>\n",
       "      <td>18.12</td>\n",
       "      <td>17.76</td>\n",
       "      <td>2.26</td>\n",
       "    </tr>\n",
       "    <tr>\n",
       "      <th>TESLA</th>\n",
       "      <td>11.21</td>\n",
       "      <td>0.00</td>\n",
       "      <td>1036.3</td>\n",
       "      <td>-14.94</td>\n",
       "      <td>-1.61</td>\n",
       "      <td>202.77</td>\n",
       "    </tr>\n",
       "    <tr>\n",
       "      <th>WALMART</th>\n",
       "      <td>4.88</td>\n",
       "      <td>1.54</td>\n",
       "      <td>26.6</td>\n",
       "      <td>20.22</td>\n",
       "      <td>12.55</td>\n",
       "      <td>72.95</td>\n",
       "    </tr>\n",
       "    <tr>\n",
       "      <th>JOHNSON &amp; JOHNSON</th>\n",
       "      <td>23.83</td>\n",
       "      <td>2.71</td>\n",
       "      <td>26.7</td>\n",
       "      <td>25.36</td>\n",
       "      <td>17.38</td>\n",
       "      <td>46.57</td>\n",
       "    </tr>\n",
       "    <tr>\n",
       "      <th>TAIWAN SEMICON.MNFG.</th>\n",
       "      <td>57.91</td>\n",
       "      <td>2.31</td>\n",
       "      <td>24.7</td>\n",
       "      <td>20.94</td>\n",
       "      <td>18.96</td>\n",
       "      <td>11.89</td>\n",
       "    </tr>\n",
       "    <tr>\n",
       "      <th>NESTLE 'N'</th>\n",
       "      <td>16.85</td>\n",
       "      <td>2.47</td>\n",
       "      <td>23.3</td>\n",
       "      <td>23.05</td>\n",
       "      <td>14.21</td>\n",
       "      <td>71.42</td>\n",
       "    </tr>\n",
       "  </tbody>\n",
       "</table>\n",
       "</div>"
      ],
      "text/plain": [
       "                               CASH FLOW/SALES  DIVIDEND YIELD  P/E - RATIO  \\\n",
       "NAME                                                                          \n",
       "APPLE                                    28.01            0.71         35.4   \n",
       "SAUDI ARABIAN OIL                        31.73            0.21         29.5   \n",
       "MICROSOFT                                43.46            1.06         36.5   \n",
       "AMAZON.COM                               14.60            0.00        121.1   \n",
       "ALIBABA GROUP HOLDING ADR 1:8            31.23            0.00         31.0   \n",
       "FACEBOOK CLASS A                         41.11            0.00         32.0   \n",
       "TENCENT HOLDINGS                         35.55            0.23         42.6   \n",
       "ALPHABET A                               33.18            0.00         33.2   \n",
       "TESLA                                    11.21            0.00       1036.3   \n",
       "WALMART                                   4.88            1.54         26.6   \n",
       "JOHNSON & JOHNSON                        23.83            2.71         26.7   \n",
       "TAIWAN SEMICON.MNFG.                     57.91            2.31         24.7   \n",
       "NESTLE 'N'                               16.85            2.47         23.3   \n",
       "\n",
       "                               RETURN ON EQUITY - TOTAL (%)  \\\n",
       "NAME                                                          \n",
       "APPLE                                                 55.92   \n",
       "SAUDI ARABIAN OIL                                     32.25   \n",
       "MICROSOFT                                             40.14   \n",
       "AMAZON.COM                                            21.95   \n",
       "ALIBABA GROUP HOLDING ADR 1:8                         23.77   \n",
       "FACEBOOK CLASS A                                      19.96   \n",
       "TENCENT HOLDINGS                                      24.68   \n",
       "ALPHABET A                                            18.12   \n",
       "TESLA                                                -14.94   \n",
       "WALMART                                               20.22   \n",
       "JOHNSON & JOHNSON                                     25.36   \n",
       "TAIWAN SEMICON.MNFG.                                  20.94   \n",
       "NESTLE 'N'                                            23.05   \n",
       "\n",
       "                               RETURN ON INVESTED CAPITAL  \\\n",
       "NAME                                                        \n",
       "APPLE                                               27.65   \n",
       "SAUDI ARABIAN OIL                                   28.34   \n",
       "MICROSOFT                                           24.89   \n",
       "AMAZON.COM                                          12.97   \n",
       "ALIBABA GROUP HOLDING ADR 1:8                       17.39   \n",
       "FACEBOOK CLASS A                                    19.94   \n",
       "TENCENT HOLDINGS                                    15.92   \n",
       "ALPHABET A                                          17.76   \n",
       "TESLA                                               -1.61   \n",
       "WALMART                                             12.55   \n",
       "JOHNSON & JOHNSON                                   17.38   \n",
       "TAIWAN SEMICON.MNFG.                                18.96   \n",
       "NESTLE 'N'                                          14.21   \n",
       "\n",
       "                               TOTAL DEBT % COMMON EQUITY  \n",
       "NAME                                                       \n",
       "APPLE                                              119.40  \n",
       "SAUDI ARABIAN OIL                                   16.96  \n",
       "MICROSOFT                                           61.56  \n",
       "AMAZON.COM                                          83.31  \n",
       "ALIBABA GROUP HOLDING ADR 1:8                       16.60  \n",
       "FACEBOOK CLASS A                                     0.47  \n",
       "TENCENT HOLDINGS                                    53.74  \n",
       "ALPHABET A                                           2.26  \n",
       "TESLA                                              202.77  \n",
       "WALMART                                             72.95  \n",
       "JOHNSON & JOHNSON                                   46.57  \n",
       "TAIWAN SEMICON.MNFG.                                11.89  \n",
       "NESTLE 'N'                                          71.42  "
      ]
     },
     "execution_count": 162,
     "metadata": {},
     "output_type": "execute_result"
    }
   ],
   "source": [
    "big_companies_df.sort_index(axis=1)"
   ]
  },
  {
   "cell_type": "markdown",
   "metadata": {},
   "source": [
    "If you want sort by values, you can use **sort_values()**"
   ]
  },
  {
   "cell_type": "code",
   "execution_count": 165,
   "metadata": {},
   "outputs": [
    {
     "data": {
      "text/html": [
       "<div>\n",
       "<style scoped>\n",
       "    .dataframe tbody tr th:only-of-type {\n",
       "        vertical-align: middle;\n",
       "    }\n",
       "\n",
       "    .dataframe tbody tr th {\n",
       "        vertical-align: top;\n",
       "    }\n",
       "\n",
       "    .dataframe thead th {\n",
       "        text-align: right;\n",
       "    }\n",
       "</style>\n",
       "<table border=\"1\" class=\"dataframe\">\n",
       "  <thead>\n",
       "    <tr style=\"text-align: right;\">\n",
       "      <th></th>\n",
       "      <th>DIVIDEND YIELD</th>\n",
       "      <th>CASH FLOW/SALES</th>\n",
       "      <th>RETURN ON EQUITY - TOTAL (%)</th>\n",
       "      <th>RETURN ON INVESTED CAPITAL</th>\n",
       "      <th>P/E - RATIO</th>\n",
       "      <th>TOTAL DEBT % COMMON EQUITY</th>\n",
       "    </tr>\n",
       "    <tr>\n",
       "      <th>NAME</th>\n",
       "      <th></th>\n",
       "      <th></th>\n",
       "      <th></th>\n",
       "      <th></th>\n",
       "      <th></th>\n",
       "      <th></th>\n",
       "    </tr>\n",
       "  </thead>\n",
       "  <tbody>\n",
       "    <tr>\n",
       "      <th>TESLA</th>\n",
       "      <td>0.00</td>\n",
       "      <td>11.21</td>\n",
       "      <td>-14.94</td>\n",
       "      <td>-1.61</td>\n",
       "      <td>1036.3</td>\n",
       "      <td>202.77</td>\n",
       "    </tr>\n",
       "    <tr>\n",
       "      <th>AMAZON.COM</th>\n",
       "      <td>0.00</td>\n",
       "      <td>14.60</td>\n",
       "      <td>21.95</td>\n",
       "      <td>12.97</td>\n",
       "      <td>121.1</td>\n",
       "      <td>83.31</td>\n",
       "    </tr>\n",
       "    <tr>\n",
       "      <th>TENCENT HOLDINGS</th>\n",
       "      <td>0.23</td>\n",
       "      <td>35.55</td>\n",
       "      <td>24.68</td>\n",
       "      <td>15.92</td>\n",
       "      <td>42.6</td>\n",
       "      <td>53.74</td>\n",
       "    </tr>\n",
       "    <tr>\n",
       "      <th>MICROSOFT</th>\n",
       "      <td>1.06</td>\n",
       "      <td>43.46</td>\n",
       "      <td>40.14</td>\n",
       "      <td>24.89</td>\n",
       "      <td>36.5</td>\n",
       "      <td>61.56</td>\n",
       "    </tr>\n",
       "    <tr>\n",
       "      <th>APPLE</th>\n",
       "      <td>0.71</td>\n",
       "      <td>28.01</td>\n",
       "      <td>55.92</td>\n",
       "      <td>27.65</td>\n",
       "      <td>35.4</td>\n",
       "      <td>119.40</td>\n",
       "    </tr>\n",
       "    <tr>\n",
       "      <th>ALPHABET A</th>\n",
       "      <td>0.00</td>\n",
       "      <td>33.18</td>\n",
       "      <td>18.12</td>\n",
       "      <td>17.76</td>\n",
       "      <td>33.2</td>\n",
       "      <td>2.26</td>\n",
       "    </tr>\n",
       "    <tr>\n",
       "      <th>FACEBOOK CLASS A</th>\n",
       "      <td>0.00</td>\n",
       "      <td>41.11</td>\n",
       "      <td>19.96</td>\n",
       "      <td>19.94</td>\n",
       "      <td>32.0</td>\n",
       "      <td>0.47</td>\n",
       "    </tr>\n",
       "    <tr>\n",
       "      <th>ALIBABA GROUP HOLDING ADR 1:8</th>\n",
       "      <td>0.00</td>\n",
       "      <td>31.23</td>\n",
       "      <td>23.77</td>\n",
       "      <td>17.39</td>\n",
       "      <td>31.0</td>\n",
       "      <td>16.60</td>\n",
       "    </tr>\n",
       "    <tr>\n",
       "      <th>SAUDI ARABIAN OIL</th>\n",
       "      <td>0.21</td>\n",
       "      <td>31.73</td>\n",
       "      <td>32.25</td>\n",
       "      <td>28.34</td>\n",
       "      <td>29.5</td>\n",
       "      <td>16.96</td>\n",
       "    </tr>\n",
       "    <tr>\n",
       "      <th>JOHNSON &amp; JOHNSON</th>\n",
       "      <td>2.71</td>\n",
       "      <td>23.83</td>\n",
       "      <td>25.36</td>\n",
       "      <td>17.38</td>\n",
       "      <td>26.7</td>\n",
       "      <td>46.57</td>\n",
       "    </tr>\n",
       "    <tr>\n",
       "      <th>WALMART</th>\n",
       "      <td>1.54</td>\n",
       "      <td>4.88</td>\n",
       "      <td>20.22</td>\n",
       "      <td>12.55</td>\n",
       "      <td>26.6</td>\n",
       "      <td>72.95</td>\n",
       "    </tr>\n",
       "    <tr>\n",
       "      <th>TAIWAN SEMICON.MNFG.</th>\n",
       "      <td>2.31</td>\n",
       "      <td>57.91</td>\n",
       "      <td>20.94</td>\n",
       "      <td>18.96</td>\n",
       "      <td>24.7</td>\n",
       "      <td>11.89</td>\n",
       "    </tr>\n",
       "    <tr>\n",
       "      <th>NESTLE 'N'</th>\n",
       "      <td>2.47</td>\n",
       "      <td>16.85</td>\n",
       "      <td>23.05</td>\n",
       "      <td>14.21</td>\n",
       "      <td>23.3</td>\n",
       "      <td>71.42</td>\n",
       "    </tr>\n",
       "  </tbody>\n",
       "</table>\n",
       "</div>"
      ],
      "text/plain": [
       "                               DIVIDEND YIELD  CASH FLOW/SALES  \\\n",
       "NAME                                                             \n",
       "TESLA                                    0.00            11.21   \n",
       "AMAZON.COM                               0.00            14.60   \n",
       "TENCENT HOLDINGS                         0.23            35.55   \n",
       "MICROSOFT                                1.06            43.46   \n",
       "APPLE                                    0.71            28.01   \n",
       "ALPHABET A                               0.00            33.18   \n",
       "FACEBOOK CLASS A                         0.00            41.11   \n",
       "ALIBABA GROUP HOLDING ADR 1:8            0.00            31.23   \n",
       "SAUDI ARABIAN OIL                        0.21            31.73   \n",
       "JOHNSON & JOHNSON                        2.71            23.83   \n",
       "WALMART                                  1.54             4.88   \n",
       "TAIWAN SEMICON.MNFG.                     2.31            57.91   \n",
       "NESTLE 'N'                               2.47            16.85   \n",
       "\n",
       "                               RETURN ON EQUITY - TOTAL (%)  \\\n",
       "NAME                                                          \n",
       "TESLA                                                -14.94   \n",
       "AMAZON.COM                                            21.95   \n",
       "TENCENT HOLDINGS                                      24.68   \n",
       "MICROSOFT                                             40.14   \n",
       "APPLE                                                 55.92   \n",
       "ALPHABET A                                            18.12   \n",
       "FACEBOOK CLASS A                                      19.96   \n",
       "ALIBABA GROUP HOLDING ADR 1:8                         23.77   \n",
       "SAUDI ARABIAN OIL                                     32.25   \n",
       "JOHNSON & JOHNSON                                     25.36   \n",
       "WALMART                                               20.22   \n",
       "TAIWAN SEMICON.MNFG.                                  20.94   \n",
       "NESTLE 'N'                                            23.05   \n",
       "\n",
       "                               RETURN ON INVESTED CAPITAL  P/E - RATIO  \\\n",
       "NAME                                                                     \n",
       "TESLA                                               -1.61       1036.3   \n",
       "AMAZON.COM                                          12.97        121.1   \n",
       "TENCENT HOLDINGS                                    15.92         42.6   \n",
       "MICROSOFT                                           24.89         36.5   \n",
       "APPLE                                               27.65         35.4   \n",
       "ALPHABET A                                          17.76         33.2   \n",
       "FACEBOOK CLASS A                                    19.94         32.0   \n",
       "ALIBABA GROUP HOLDING ADR 1:8                       17.39         31.0   \n",
       "SAUDI ARABIAN OIL                                   28.34         29.5   \n",
       "JOHNSON & JOHNSON                                   17.38         26.7   \n",
       "WALMART                                             12.55         26.6   \n",
       "TAIWAN SEMICON.MNFG.                                18.96         24.7   \n",
       "NESTLE 'N'                                          14.21         23.3   \n",
       "\n",
       "                               TOTAL DEBT % COMMON EQUITY  \n",
       "NAME                                                       \n",
       "TESLA                                              202.77  \n",
       "AMAZON.COM                                          83.31  \n",
       "TENCENT HOLDINGS                                    53.74  \n",
       "MICROSOFT                                           61.56  \n",
       "APPLE                                              119.40  \n",
       "ALPHABET A                                           2.26  \n",
       "FACEBOOK CLASS A                                     0.47  \n",
       "ALIBABA GROUP HOLDING ADR 1:8                       16.60  \n",
       "SAUDI ARABIAN OIL                                   16.96  \n",
       "JOHNSON & JOHNSON                                   46.57  \n",
       "WALMART                                             72.95  \n",
       "TAIWAN SEMICON.MNFG.                                11.89  \n",
       "NESTLE 'N'                                          71.42  "
      ]
     },
     "execution_count": 165,
     "metadata": {},
     "output_type": "execute_result"
    }
   ],
   "source": [
    "big_companies_df.sort_values(by = 'P/E - RATIO',ascending=False)"
   ]
  },
  {
   "cell_type": "markdown",
   "metadata": {},
   "source": [
    "You can use many colums when sorting by values."
   ]
  },
  {
   "cell_type": "code",
   "execution_count": 168,
   "metadata": {},
   "outputs": [
    {
     "data": {
      "text/html": [
       "<div>\n",
       "<style scoped>\n",
       "    .dataframe tbody tr th:only-of-type {\n",
       "        vertical-align: middle;\n",
       "    }\n",
       "\n",
       "    .dataframe tbody tr th {\n",
       "        vertical-align: top;\n",
       "    }\n",
       "\n",
       "    .dataframe thead th {\n",
       "        text-align: right;\n",
       "    }\n",
       "</style>\n",
       "<table border=\"1\" class=\"dataframe\">\n",
       "  <thead>\n",
       "    <tr style=\"text-align: right;\">\n",
       "      <th></th>\n",
       "      <th>DIVIDEND YIELD</th>\n",
       "      <th>CASH FLOW/SALES</th>\n",
       "      <th>RETURN ON EQUITY - TOTAL (%)</th>\n",
       "      <th>RETURN ON INVESTED CAPITAL</th>\n",
       "      <th>P/E - RATIO</th>\n",
       "      <th>TOTAL DEBT % COMMON EQUITY</th>\n",
       "    </tr>\n",
       "    <tr>\n",
       "      <th>NAME</th>\n",
       "      <th></th>\n",
       "      <th></th>\n",
       "      <th></th>\n",
       "      <th></th>\n",
       "      <th></th>\n",
       "      <th></th>\n",
       "    </tr>\n",
       "  </thead>\n",
       "  <tbody>\n",
       "    <tr>\n",
       "      <th>TESLA</th>\n",
       "      <td>0.00</td>\n",
       "      <td>11.21</td>\n",
       "      <td>-14.94</td>\n",
       "      <td>-1.61</td>\n",
       "      <td>1036.3</td>\n",
       "      <td>202.77</td>\n",
       "    </tr>\n",
       "    <tr>\n",
       "      <th>AMAZON.COM</th>\n",
       "      <td>0.00</td>\n",
       "      <td>14.60</td>\n",
       "      <td>21.95</td>\n",
       "      <td>12.97</td>\n",
       "      <td>121.1</td>\n",
       "      <td>83.31</td>\n",
       "    </tr>\n",
       "    <tr>\n",
       "      <th>ALPHABET A</th>\n",
       "      <td>0.00</td>\n",
       "      <td>33.18</td>\n",
       "      <td>18.12</td>\n",
       "      <td>17.76</td>\n",
       "      <td>33.2</td>\n",
       "      <td>2.26</td>\n",
       "    </tr>\n",
       "    <tr>\n",
       "      <th>FACEBOOK CLASS A</th>\n",
       "      <td>0.00</td>\n",
       "      <td>41.11</td>\n",
       "      <td>19.96</td>\n",
       "      <td>19.94</td>\n",
       "      <td>32.0</td>\n",
       "      <td>0.47</td>\n",
       "    </tr>\n",
       "    <tr>\n",
       "      <th>ALIBABA GROUP HOLDING ADR 1:8</th>\n",
       "      <td>0.00</td>\n",
       "      <td>31.23</td>\n",
       "      <td>23.77</td>\n",
       "      <td>17.39</td>\n",
       "      <td>31.0</td>\n",
       "      <td>16.60</td>\n",
       "    </tr>\n",
       "    <tr>\n",
       "      <th>SAUDI ARABIAN OIL</th>\n",
       "      <td>0.21</td>\n",
       "      <td>31.73</td>\n",
       "      <td>32.25</td>\n",
       "      <td>28.34</td>\n",
       "      <td>29.5</td>\n",
       "      <td>16.96</td>\n",
       "    </tr>\n",
       "    <tr>\n",
       "      <th>TENCENT HOLDINGS</th>\n",
       "      <td>0.23</td>\n",
       "      <td>35.55</td>\n",
       "      <td>24.68</td>\n",
       "      <td>15.92</td>\n",
       "      <td>42.6</td>\n",
       "      <td>53.74</td>\n",
       "    </tr>\n",
       "    <tr>\n",
       "      <th>APPLE</th>\n",
       "      <td>0.71</td>\n",
       "      <td>28.01</td>\n",
       "      <td>55.92</td>\n",
       "      <td>27.65</td>\n",
       "      <td>35.4</td>\n",
       "      <td>119.40</td>\n",
       "    </tr>\n",
       "    <tr>\n",
       "      <th>MICROSOFT</th>\n",
       "      <td>1.06</td>\n",
       "      <td>43.46</td>\n",
       "      <td>40.14</td>\n",
       "      <td>24.89</td>\n",
       "      <td>36.5</td>\n",
       "      <td>61.56</td>\n",
       "    </tr>\n",
       "    <tr>\n",
       "      <th>WALMART</th>\n",
       "      <td>1.54</td>\n",
       "      <td>4.88</td>\n",
       "      <td>20.22</td>\n",
       "      <td>12.55</td>\n",
       "      <td>26.6</td>\n",
       "      <td>72.95</td>\n",
       "    </tr>\n",
       "    <tr>\n",
       "      <th>TAIWAN SEMICON.MNFG.</th>\n",
       "      <td>2.31</td>\n",
       "      <td>57.91</td>\n",
       "      <td>20.94</td>\n",
       "      <td>18.96</td>\n",
       "      <td>24.7</td>\n",
       "      <td>11.89</td>\n",
       "    </tr>\n",
       "    <tr>\n",
       "      <th>NESTLE 'N'</th>\n",
       "      <td>2.47</td>\n",
       "      <td>16.85</td>\n",
       "      <td>23.05</td>\n",
       "      <td>14.21</td>\n",
       "      <td>23.3</td>\n",
       "      <td>71.42</td>\n",
       "    </tr>\n",
       "    <tr>\n",
       "      <th>JOHNSON &amp; JOHNSON</th>\n",
       "      <td>2.71</td>\n",
       "      <td>23.83</td>\n",
       "      <td>25.36</td>\n",
       "      <td>17.38</td>\n",
       "      <td>26.7</td>\n",
       "      <td>46.57</td>\n",
       "    </tr>\n",
       "  </tbody>\n",
       "</table>\n",
       "</div>"
      ],
      "text/plain": [
       "                               DIVIDEND YIELD  CASH FLOW/SALES  \\\n",
       "NAME                                                             \n",
       "TESLA                                    0.00            11.21   \n",
       "AMAZON.COM                               0.00            14.60   \n",
       "ALPHABET A                               0.00            33.18   \n",
       "FACEBOOK CLASS A                         0.00            41.11   \n",
       "ALIBABA GROUP HOLDING ADR 1:8            0.00            31.23   \n",
       "SAUDI ARABIAN OIL                        0.21            31.73   \n",
       "TENCENT HOLDINGS                         0.23            35.55   \n",
       "APPLE                                    0.71            28.01   \n",
       "MICROSOFT                                1.06            43.46   \n",
       "WALMART                                  1.54             4.88   \n",
       "TAIWAN SEMICON.MNFG.                     2.31            57.91   \n",
       "NESTLE 'N'                               2.47            16.85   \n",
       "JOHNSON & JOHNSON                        2.71            23.83   \n",
       "\n",
       "                               RETURN ON EQUITY - TOTAL (%)  \\\n",
       "NAME                                                          \n",
       "TESLA                                                -14.94   \n",
       "AMAZON.COM                                            21.95   \n",
       "ALPHABET A                                            18.12   \n",
       "FACEBOOK CLASS A                                      19.96   \n",
       "ALIBABA GROUP HOLDING ADR 1:8                         23.77   \n",
       "SAUDI ARABIAN OIL                                     32.25   \n",
       "TENCENT HOLDINGS                                      24.68   \n",
       "APPLE                                                 55.92   \n",
       "MICROSOFT                                             40.14   \n",
       "WALMART                                               20.22   \n",
       "TAIWAN SEMICON.MNFG.                                  20.94   \n",
       "NESTLE 'N'                                            23.05   \n",
       "JOHNSON & JOHNSON                                     25.36   \n",
       "\n",
       "                               RETURN ON INVESTED CAPITAL  P/E - RATIO  \\\n",
       "NAME                                                                     \n",
       "TESLA                                               -1.61       1036.3   \n",
       "AMAZON.COM                                          12.97        121.1   \n",
       "ALPHABET A                                          17.76         33.2   \n",
       "FACEBOOK CLASS A                                    19.94         32.0   \n",
       "ALIBABA GROUP HOLDING ADR 1:8                       17.39         31.0   \n",
       "SAUDI ARABIAN OIL                                   28.34         29.5   \n",
       "TENCENT HOLDINGS                                    15.92         42.6   \n",
       "APPLE                                               27.65         35.4   \n",
       "MICROSOFT                                           24.89         36.5   \n",
       "WALMART                                             12.55         26.6   \n",
       "TAIWAN SEMICON.MNFG.                                18.96         24.7   \n",
       "NESTLE 'N'                                          14.21         23.3   \n",
       "JOHNSON & JOHNSON                                   17.38         26.7   \n",
       "\n",
       "                               TOTAL DEBT % COMMON EQUITY  \n",
       "NAME                                                       \n",
       "TESLA                                              202.77  \n",
       "AMAZON.COM                                          83.31  \n",
       "ALPHABET A                                           2.26  \n",
       "FACEBOOK CLASS A                                     0.47  \n",
       "ALIBABA GROUP HOLDING ADR 1:8                       16.60  \n",
       "SAUDI ARABIAN OIL                                   16.96  \n",
       "TENCENT HOLDINGS                                    53.74  \n",
       "APPLE                                              119.40  \n",
       "MICROSOFT                                           61.56  \n",
       "WALMART                                             72.95  \n",
       "TAIWAN SEMICON.MNFG.                                11.89  \n",
       "NESTLE 'N'                                          71.42  \n",
       "JOHNSON & JOHNSON                                   46.57  "
      ]
     },
     "execution_count": 168,
     "metadata": {},
     "output_type": "execute_result"
    }
   ],
   "source": [
    "big_companies_df.sort_values(by = ['DIVIDEND YIELD','P/E - RATIO'],ascending=[True,False])"
   ]
  }
 ],
 "metadata": {
  "kernelspec": {
   "display_name": "Python 3",
   "language": "python",
   "name": "python3"
  },
  "language_info": {
   "codemirror_mode": {
    "name": "ipython",
    "version": 3
   },
   "file_extension": ".py",
   "mimetype": "text/x-python",
   "name": "python",
   "nbconvert_exporter": "python",
   "pygments_lexer": "ipython3",
   "version": "3.8.5"
  }
 },
 "nbformat": 4,
 "nbformat_minor": 4
}
