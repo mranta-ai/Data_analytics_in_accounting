{
 "cells": [
  {
   "cell_type": "markdown",
   "id": "nutritional-recording",
   "metadata": {},
   "source": [
    "## Transformers examples"
   ]
  },
  {
   "cell_type": "code",
   "execution_count": 1,
   "id": "copyrighted-choir",
   "metadata": {},
   "outputs": [],
   "source": [
    "import torch"
   ]
  },
  {
   "cell_type": "code",
   "execution_count": 2,
   "id": "foster-pricing",
   "metadata": {},
   "outputs": [],
   "source": [
    "from transformers import pipeline"
   ]
  },
  {
   "cell_type": "code",
   "execution_count": 3,
   "id": "similar-madness",
   "metadata": {},
   "outputs": [],
   "source": [
    "summarizer =  pipeline('summarization')"
   ]
  },
  {
   "cell_type": "code",
   "execution_count": 4,
   "id": "owned-administrator",
   "metadata": {},
   "outputs": [],
   "source": [
    "import os"
   ]
  },
  {
   "cell_type": "code",
   "execution_count": 5,
   "id": "banner-greece",
   "metadata": {},
   "outputs": [],
   "source": [
    "path = 'D:/Data/Reasonable_10K'"
   ]
  },
  {
   "cell_type": "code",
   "execution_count": 6,
   "id": "later-governor",
   "metadata": {},
   "outputs": [],
   "source": [
    "files = os.listdir(path)"
   ]
  },
  {
   "cell_type": "code",
   "execution_count": 7,
   "id": "present-gender",
   "metadata": {},
   "outputs": [],
   "source": [
    "text = open(os.path.join(path,files[0])).read()[8824:9567]"
   ]
  },
  {
   "cell_type": "code",
   "execution_count": 8,
   "id": "sufficient-running",
   "metadata": {},
   "outputs": [
    {
     "data": {
      "text/plain": [
       "'Synovis Life Technologies, Inc. is a diversified medical device\\n    company engaged in developing, manufacturing, marketing and\\n    selling products for the surgical and interventional treatment\\n    of disease. Our business is conducted in two operating segments,\\n    the surgical business and the interventional business, with\\n    segmentation based upon the similarities of the underlying\\n    business operations, products and markets of each.\\n\\nOur surgical business develops, manufactures, markets and sells\\n    implantable biomaterial products, devices for microsurgery and\\n    surgical tools, all designed to reduce risk\\n     and/or \\n    facilitate critical surgeries, leading to better patient\\n    outcomes\\n     and/or  lower\\n    costs.\\n'"
      ]
     },
     "execution_count": 8,
     "metadata": {},
     "output_type": "execute_result"
    }
   ],
   "source": [
    "text"
   ]
  },
  {
   "cell_type": "code",
   "execution_count": 9,
   "id": "middle-vector",
   "metadata": {},
   "outputs": [
    {
     "data": {
      "text/plain": [
       "[{'summary_text': ' Synovis Life Technologies, Inc. is a diversified medical device company engaged in developing, manufacturing, marketing and selling products for the surgical and interventional treatment of disease . Our surgical business develops, manufactures, markets and sells implantable biomaterial products, devices for microsurgery and surgical tools .'}]"
      ]
     },
     "execution_count": 9,
     "metadata": {},
     "output_type": "execute_result"
    }
   ],
   "source": [
    "summarizer(text,max_length=75)"
   ]
  },
  {
   "cell_type": "code",
   "execution_count": 10,
   "id": "wicked-protest",
   "metadata": {},
   "outputs": [
    {
     "name": "stderr",
     "output_type": "stream",
     "text": [
      "Some weights of GPT2Model were not initialized from the model checkpoint at gpt2 and are newly initialized: ['h.0.attn.masked_bias', 'h.1.attn.masked_bias', 'h.2.attn.masked_bias', 'h.3.attn.masked_bias', 'h.4.attn.masked_bias', 'h.5.attn.masked_bias', 'h.6.attn.masked_bias', 'h.7.attn.masked_bias', 'h.8.attn.masked_bias', 'h.9.attn.masked_bias', 'h.10.attn.masked_bias', 'h.11.attn.masked_bias']\n",
      "You should probably TRAIN this model on a down-stream task to be able to use it for predictions and inference.\n"
     ]
    }
   ],
   "source": [
    "text_gen = pipeline('text-generation')"
   ]
  },
  {
   "cell_type": "code",
   "execution_count": 11,
   "id": "minus-compiler",
   "metadata": {},
   "outputs": [
    {
     "name": "stderr",
     "output_type": "stream",
     "text": [
      "Setting `pad_token_id` to `eos_token_id`:50256 for open-end generation.\n"
     ]
    },
    {
     "data": {
      "text/plain": [
       "[{'generated_text': 'The yearly profit was paid out in part to the local community, and in part to an army of loyalists who, in the year 1942, won nearly four million gold rings.\"\\n\\nThe war had been a \"tongue in cheek\"'}]"
      ]
     },
     "execution_count": 11,
     "metadata": {},
     "output_type": "execute_result"
    }
   ],
   "source": [
    "text_gen('The yearly profit was')"
   ]
  },
  {
   "cell_type": "code",
   "execution_count": 12,
   "id": "administrative-campaign",
   "metadata": {},
   "outputs": [
    {
     "name": "stderr",
     "output_type": "stream",
     "text": [
      "Setting `pad_token_id` to `eos_token_id`:50256 for open-end generation.\n"
     ]
    },
    {
     "data": {
      "text/plain": [
       "[{'generated_text': 'Mickey Mouse is a friend of mine and I always take this to the house. There is a big room there for my son and his friends. When we do an event with friends we do a lot of work for them. The room is so'}]"
      ]
     },
     "execution_count": 12,
     "metadata": {},
     "output_type": "execute_result"
    }
   ],
   "source": [
    "text_gen('Mickey Mouse is a friend of')"
   ]
  },
  {
   "cell_type": "code",
   "execution_count": 13,
   "id": "considered-authentication",
   "metadata": {},
   "outputs": [],
   "source": [
    "ner = pipeline('ner',model='dslim/bert-base-NER')"
   ]
  },
  {
   "cell_type": "code",
   "execution_count": 14,
   "id": "legitimate-buddy",
   "metadata": {},
   "outputs": [
    {
     "data": {
      "text/plain": [
       "[{'word': 'Mickey',\n",
       "  'score': 0.9994354248046875,\n",
       "  'entity': 'B-PER',\n",
       "  'index': 1,\n",
       "  'start': 0,\n",
       "  'end': 6},\n",
       " {'word': 'Mouse',\n",
       "  'score': 0.9812304377555847,\n",
       "  'entity': 'I-PER',\n",
       "  'index': 2,\n",
       "  'start': 7,\n",
       "  'end': 12},\n",
       " {'word': 'California',\n",
       "  'score': 0.9996417164802551,\n",
       "  'entity': 'B-LOC',\n",
       "  'index': 16,\n",
       "  'start': 65,\n",
       "  'end': 75}]"
      ]
     },
     "execution_count": 14,
     "metadata": {},
     "output_type": "execute_result"
    }
   ],
   "source": [
    "ner('Mickey Mouse is a friend of mine since he was eight. He lives in California.')"
   ]
  },
  {
   "cell_type": "code",
   "execution_count": 15,
   "id": "joint-oliver",
   "metadata": {},
   "outputs": [],
   "source": [
    "questions = pipeline('question-answering')"
   ]
  },
  {
   "cell_type": "code",
   "execution_count": 16,
   "id": "opened-civilian",
   "metadata": {},
   "outputs": [],
   "source": [
    "context = \"\"\"Synovis Life Technologies, Inc. is a diversified medical device company engaged in developing, manufacturing, marketing and\n",
    "selling products for the surgical and interventional treatment of disease. Our business is conducted in two operating segments,\n",
    "the surgical business and the interventional business, with segmentation based upon the similarities of the underlying\n",
    "business operations, products and markets of each. Our surgical business develops, manufactures, markets and sells \n",
    "implantable biomaterial products, devices for microsurgery and surgical tools, all designed to reduce risk and/or\n",
    "facilitate critical surgeries, leading to better patient outcomes and/or lower costs.\"\"\""
   ]
  },
  {
   "cell_type": "code",
   "execution_count": 17,
   "id": "forward-oklahoma",
   "metadata": {},
   "outputs": [
    {
     "data": {
      "text/plain": [
       "{'score': 0.08829150348901749,\n",
       " 'start': 487,\n",
       " 'end': 519,\n",
       " 'answer': 'implantable biomaterial products'}"
      ]
     },
     "execution_count": 17,
     "metadata": {},
     "output_type": "execute_result"
    }
   ],
   "source": [
    "questions(question = 'What Synovis develops?',context=context)"
   ]
  },
  {
   "cell_type": "code",
   "execution_count": 18,
   "id": "prescribed-barrier",
   "metadata": {},
   "outputs": [
    {
     "name": "stderr",
     "output_type": "stream",
     "text": [
      "Some weights of RobertaForMaskedLM were not initialized from the model checkpoint at distilroberta-base and are newly initialized: ['lm_head.decoder.bias']\n",
      "You should probably TRAIN this model on a down-stream task to be able to use it for predictions and inference.\n"
     ]
    }
   ],
   "source": [
    "mask = pipeline(\"fill-mask\")"
   ]
  },
  {
   "cell_type": "code",
   "execution_count": 19,
   "id": "similar-rabbit",
   "metadata": {},
   "outputs": [
    {
     "data": {
      "text/plain": [
       "[{'sequence': '<s>Tesla produces batteries for the US market.</s>',\n",
       "  'score': 0.2810230851173401,\n",
       "  'token': 10535,\n",
       "  'token_str': 'Ġbatteries'},\n",
       " {'sequence': '<s>Tesla produces cars for the US market.</s>',\n",
       "  'score': 0.12935157120227814,\n",
       "  'token': 1677,\n",
       "  'token_str': 'Ġcars'},\n",
       " {'sequence': '<s>Tesla produces EVs for the US market.</s>',\n",
       "  'score': 0.10034559667110443,\n",
       "  'token': 34857,\n",
       "  'token_str': 'ĠEVs'},\n",
       " {'sequence': '<s>Tesla produces vehicles for the US market.</s>',\n",
       "  'score': 0.049529068171978,\n",
       "  'token': 1734,\n",
       "  'token_str': 'Ġvehicles'},\n",
       " {'sequence': '<s>Tesla produces rockets for the US market.</s>',\n",
       "  'score': 0.021711379289627075,\n",
       "  'token': 19367,\n",
       "  'token_str': 'Ġrockets'}]"
      ]
     },
     "execution_count": 19,
     "metadata": {},
     "output_type": "execute_result"
    }
   ],
   "source": [
    "mask(f'Tesla produces {mask.tokenizer.mask_token} for the US market.')"
   ]
  },
  {
   "cell_type": "code",
   "execution_count": 20,
   "id": "occasional-camel",
   "metadata": {},
   "outputs": [
    {
     "data": {
      "text/plain": [
       "[{'sequence': '<s>Mickey Mouse likes to fart while walking in a park.</s>',\n",
       "  'score': 0.08874308317899704,\n",
       "  'token': 36762,\n",
       "  'token_str': 'Ġfart'},\n",
       " {'sequence': '<s>Mickey Mouse likes to smile while walking in a park.</s>',\n",
       "  'score': 0.061683233827352524,\n",
       "  'token': 6675,\n",
       "  'token_str': 'Ġsmile'},\n",
       " {'sequence': '<s>Mickey Mouse likes to dance while walking in a park.</s>',\n",
       "  'score': 0.05867791920900345,\n",
       "  'token': 3836,\n",
       "  'token_str': 'Ġdance'},\n",
       " {'sequence': '<s>Mickey Mouse likes to poop while walking in a park.</s>',\n",
       "  'score': 0.051350075751543045,\n",
       "  'token': 36733,\n",
       "  'token_str': 'Ġpoop'},\n",
       " {'sequence': '<s>Mickey Mouse likes to duck while walking in a park.</s>',\n",
       "  'score': 0.04298650845885277,\n",
       "  'token': 15223,\n",
       "  'token_str': 'Ġduck'}]"
      ]
     },
     "execution_count": 20,
     "metadata": {},
     "output_type": "execute_result"
    }
   ],
   "source": [
    "mask(f'Mickey Mouse likes to {mask.tokenizer.mask_token} while walking in a park.')"
   ]
  },
  {
   "cell_type": "code",
   "execution_count": null,
   "id": "unknown-county",
   "metadata": {},
   "outputs": [],
   "source": []
  }
 ],
 "metadata": {
  "kernelspec": {
   "display_name": "Python 3",
   "language": "python",
   "name": "python3"
  },
  "language_info": {
   "codemirror_mode": {
    "name": "ipython",
    "version": 3
   },
   "file_extension": ".py",
   "mimetype": "text/x-python",
   "name": "python",
   "nbconvert_exporter": "python",
   "pygments_lexer": "ipython3",
   "version": "3.8.7"
  }
 },
 "nbformat": 4,
 "nbformat_minor": 5
}
