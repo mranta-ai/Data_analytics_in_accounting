{
 "cells": [
  {
   "cell_type": "markdown",
   "metadata": {},
   "source": [
    "## Example for structured data"
   ]
  },
  {
   "cell_type": "code",
   "execution_count": 1,
   "metadata": {},
   "outputs": [],
   "source": [
    "import xgboost\n",
    "import os\n",
    "import pandas as pd\n",
    "import matplotlib.pyplot as plt"
   ]
  },
  {
   "cell_type": "code",
   "execution_count": 2,
   "metadata": {},
   "outputs": [
    {
     "ename": "FileNotFoundError",
     "evalue": "[WinError 3] Määritettyä polkua ei löydy: 'C:/Users/mikko/OneDrive - University of Vaasa/Data\\\\TobinQ_Board/'",
     "output_type": "error",
     "traceback": [
      "\u001b[1;31m---------------------------------------------------------------------------\u001b[0m",
      "\u001b[1;31mFileNotFoundError\u001b[0m                         Traceback (most recent call last)",
      "\u001b[1;32m<ipython-input-2-b50f657ca806>\u001b[0m in \u001b[0;36m<module>\u001b[1;34m\u001b[0m\n\u001b[0;32m      1\u001b[0m \u001b[1;31m#path = \"C:/Users/mran/OneDrive - University of Vaasa/Data\\TobinQ_Board/\"\u001b[0m\u001b[1;33m\u001b[0m\u001b[1;33m\u001b[0m\u001b[1;33m\u001b[0m\u001b[0m\n\u001b[0;32m      2\u001b[0m \u001b[0mpath\u001b[0m \u001b[1;33m=\u001b[0m \u001b[1;34m\"C:/Users/mikko/OneDrive - University of Vaasa/Data\\TobinQ_Board/\"\u001b[0m\u001b[1;33m\u001b[0m\u001b[1;33m\u001b[0m\u001b[0m\n\u001b[1;32m----> 3\u001b[1;33m \u001b[0mos\u001b[0m\u001b[1;33m.\u001b[0m\u001b[0mchdir\u001b[0m\u001b[1;33m(\u001b[0m\u001b[0mpath\u001b[0m\u001b[1;33m)\u001b[0m\u001b[1;33m\u001b[0m\u001b[1;33m\u001b[0m\u001b[0m\n\u001b[0m",
      "\u001b[1;31mFileNotFoundError\u001b[0m: [WinError 3] Määritettyä polkua ei löydy: 'C:/Users/mikko/OneDrive - University of Vaasa/Data\\\\TobinQ_Board/'"
     ]
    }
   ],
   "source": [
    "#path = \"C:/Users/mran/OneDrive - University of Vaasa/Data\\TobinQ_Board/\"\n",
    "path = \"C:/Users/mikko/OneDrive - University of Vaasa/Data\\TobinQ_Board/\"\n",
    "os.chdir(path)"
   ]
  },
  {
   "cell_type": "code",
   "execution_count": null,
   "metadata": {},
   "outputs": [],
   "source": [
    "errors_df = pd.read_csv(\"AbnormalQ.csv\",delimiter=\";\")"
   ]
  },
  {
   "cell_type": "code",
   "execution_count": null,
   "metadata": {},
   "outputs": [],
   "source": [
    "errors_df"
   ]
  },
  {
   "cell_type": "code",
   "execution_count": 4,
   "metadata": {},
   "outputs": [],
   "source": [
    "y_df = errors_df['ABN_TOBIN_PANEL']\n",
    "y_df = y_df.fillna(y_df.mean())"
   ]
  },
  {
   "cell_type": "code",
   "execution_count": 5,
   "metadata": {},
   "outputs": [],
   "source": [
    "x_df = errors_df[['BOARD_GENDER_DIVERSITY_P',\n",
    "       'BOARD_MEETING_ATTENDANCE', 'BOARD_MEMBER_AFFILIATION',\n",
    "       'BOARD_MEMBER_COMPENSATIO', 'BOARD_SIZE', 'BOARD_SPECIFIC_SKILLS_PE',\n",
    "       'CEO_BOARD_MEMBER', 'CHAIRMAN_IS_EX_CEO', 'EXECUTIVE_MEMBERS_GENDER',\n",
    "       'INDEPENDENT_BOARD_MEMBER', 'NON_EXECUTIVE_BOARD_MEMB',\n",
    "       'NUMBER_OF_BOARD_MEETINGS', 'STRICTLY_INDEPENDENT_BOA',\n",
    "       'AVERAGE_BOARD_TENURE']]\n",
    "x_df = x_df.fillna(x_df.mean())"
   ]
  },
  {
   "cell_type": "code",
   "execution_count": 6,
   "metadata": {},
   "outputs": [
    {
     "name": "stderr",
     "output_type": "stream",
     "text": [
      "C:\\Users\\mran\\AppData\\Local\\Continuum\\anaconda3\\envs\\Boost\\lib\\site-packages\\xgboost\\core.py:587: FutureWarning: Series.base is deprecated and will be removed in a future version\n",
      "  if getattr(data, 'base', None) is not None and \\\n"
     ]
    }
   ],
   "source": [
    "dtrain = xgboost.DMatrix(x_df, label=y_df)"
   ]
  },
  {
   "cell_type": "code",
   "execution_count": 75,
   "metadata": {},
   "outputs": [],
   "source": [
    "#param = {'max_depth': 1, 'eta': 0.9}\n",
    "#param = {}\n",
    "param = {'max_depth': 5, 'eta': 0.1, 'subsample': 0.8, 'colsample_bytree': 0.8}"
   ]
  },
  {
   "cell_type": "code",
   "execution_count": 77,
   "metadata": {},
   "outputs": [],
   "source": [
    "## Cross-validation"
   ]
  },
  {
   "cell_type": "code",
   "execution_count": 78,
   "metadata": {},
   "outputs": [],
   "source": [
    "temp = xgboost.cv(param,dtrain,num_boost_round=400,nfold=5,seed=10)"
   ]
  },
  {
   "cell_type": "code",
   "execution_count": 80,
   "metadata": {},
   "outputs": [
    {
     "data": {
      "text/plain": [
       "[<matplotlib.lines.Line2D at 0x1c2d4860978>]"
      ]
     },
     "execution_count": 80,
     "metadata": {},
     "output_type": "execute_result"
    },
    {
     "data": {
      "image/png": "[encoded data removed]",
      "text/plain": [
       "<Figure size 432x288 with 1 Axes>"
      ]
     },
     "metadata": {
      "needs_background": "light"
     },
     "output_type": "display_data"
    }
   ],
   "source": [
    "plt.plot(temp['test-rmse-mean'][50:400])"
   ]
  },
  {
   "cell_type": "code",
   "execution_count": 29,
   "metadata": {},
   "outputs": [],
   "source": [
    "## 120 boosting rounds selected. Then the fine tuning of tree parameters.\n",
    "b_rounds = 150\n",
    "m_depth = 5\n",
    "eta = 0.1\n",
    "ssample = 0.8\n",
    "col_tree = 0.8\n",
    "m_child_w = 1\n",
    "gam = 0.0"
   ]
  },
  {
   "cell_type": "code",
   "execution_count": 12,
   "metadata": {},
   "outputs": [],
   "source": [
    "#from sklearn import cross_validation, metrics   #Additional scklearn functions\n",
    "from sklearn.model_selection import GridSearchCV   #Perforing grid search"
   ]
  },
  {
   "cell_type": "code",
   "execution_count": 13,
   "metadata": {},
   "outputs": [],
   "source": [
    "# Fine tune gamma"
   ]
  },
  {
   "cell_type": "code",
   "execution_count": 15,
   "metadata": {},
   "outputs": [],
   "source": [
    "#param_test3 = {'gamma':[i/10.0 for i in range(0,40)]}\n",
    "#super_param = {'gamma':[i/5.0 for i in range(0,11)],'min_child_weight':range(1,8,1),\n",
    "#               'subsample':[i/20.0 for i in range(15,20)],'colsample_bytree':[i/20.0 for i in range(15,20)]}"
   ]
  },
  {
   "cell_type": "code",
   "execution_count": 16,
   "metadata": {},
   "outputs": [],
   "source": [
    "#super_param"
   ]
  },
  {
   "cell_type": "code",
   "execution_count": 17,
   "metadata": {},
   "outputs": [],
   "source": [
    "#gsearch3 = GridSearchCV(estimator = xgboost.XGBRegressor(njobs = -1, learning_rate = eta, n_estimators=b_rounds, max_depth=m_depth,\n",
    "#     min_child_weight=m_child_w, gamma = gam, subsample=ssample, colsample_bytree=col_tree,objective='reg:squarederror',seed = 12),\n",
    "#            n_jobs = -1, param_grid = param_test3,iid=False, cv=5)\n",
    "#gsearch3 = GridSearchCV(estimator = xgboost.XGBRegressor(njobs = -1, learning_rate = eta, n_estimators=b_rounds, max_depth=m_depth,\n",
    "#     min_child_weight=m_child_w, gamma = gam, subsample=ssample, colsample_bytree=col_tree,objective='reg:squarederror',seed = 12),\n",
    "#            n_jobs = -1, param_grid = super_param,iid=False, cv=5)"
   ]
  },
  {
   "cell_type": "code",
   "execution_count": 18,
   "metadata": {},
   "outputs": [],
   "source": [
    "#gsearch3.fit(x_df,y_df)"
   ]
  },
  {
   "cell_type": "code",
   "execution_count": 19,
   "metadata": {},
   "outputs": [],
   "source": [
    "#gsearch3.best_params_"
   ]
  },
  {
   "cell_type": "code",
   "execution_count": 20,
   "metadata": {},
   "outputs": [],
   "source": [
    "#gsearch3.best_score_"
   ]
  },
  {
   "cell_type": "code",
   "execution_count": 22,
   "metadata": {},
   "outputs": [],
   "source": [
    "#gam = 2.0"
   ]
  },
  {
   "cell_type": "code",
   "execution_count": 23,
   "metadata": {},
   "outputs": [],
   "source": [
    "# Fine tune max_depth and min_child_weight"
   ]
  },
  {
   "cell_type": "code",
   "execution_count": 51,
   "metadata": {},
   "outputs": [],
   "source": [
    "#param_test1 = {'min_child_weight':range(1,9,1),'n_estimators':range(0,200,10)}\n",
    "#param_test1 = {'max_depth':range(1,5,1),'min_child_weight':range(1,9,1)}\n",
    "#param_test1 = {'max_depth':range(1,5,1)}\n",
    "param_test1 = {'n_estimators':range(0,200,10)}"
   ]
  },
  {
   "cell_type": "code",
   "execution_count": 60,
   "metadata": {},
   "outputs": [],
   "source": [
    "gsearch1 = GridSearchCV(estimator = xgboost.XGBRegressor(njobs = -1, learning_rate = eta, n_estimators=b_rounds, max_depth=m_depth,\n",
    "     min_child_weight=m_child_w, gamma = gam,subsample=ssample, colsample_bytree=col_tree,objective='reg:squarederror', seed = 10),\n",
    "        n_jobs = -1, param_grid = param_test1,iid=False, cv=5)"
   ]
  },
  {
   "cell_type": "code",
   "execution_count": 61,
   "metadata": {},
   "outputs": [
    {
     "data": {
      "text/plain": [
       "GridSearchCV(cv=5, error_score='raise-deprecating',\n",
       "             estimator=XGBRegressor(base_score=0.5, booster='gbtree',\n",
       "                                    colsample_bylevel=1, colsample_bynode=1,\n",
       "                                    colsample_bytree=0.8, gamma=0.0,\n",
       "                                    importance_type='gain', learning_rate=0.1,\n",
       "                                    max_delta_step=0, max_depth=5,\n",
       "                                    min_child_weight=1, missing=None,\n",
       "                                    n_estimators=150, n_jobs=1, njobs=-1,\n",
       "                                    nthread=None, objective='reg:squarederror',\n",
       "                                    random_state=0, reg_alpha=0, reg_lambda=1,\n",
       "                                    scale_pos_weight=1, seed=10, silent=None,\n",
       "                                    subsample=0.8, verbosity=1),\n",
       "             iid=False, n_jobs=-1,\n",
       "             param_grid={'n_estimators': range(0, 200, 10)},\n",
       "             pre_dispatch='2*n_jobs', refit=True, return_train_score=False,\n",
       "             scoring=None, verbose=0)"
      ]
     },
     "execution_count": 61,
     "metadata": {},
     "output_type": "execute_result"
    }
   ],
   "source": [
    "gsearch1.fit(x_df,y_df)"
   ]
  },
  {
   "cell_type": "code",
   "execution_count": 62,
   "metadata": {},
   "outputs": [
    {
     "data": {
      "text/plain": [
       "{'n_estimators': 40}"
      ]
     },
     "execution_count": 62,
     "metadata": {},
     "output_type": "execute_result"
    }
   ],
   "source": [
    "gsearch1.best_params_"
   ]
  },
  {
   "cell_type": "code",
   "execution_count": 63,
   "metadata": {},
   "outputs": [
    {
     "data": {
      "text/plain": [
       "-0.00024709331025318804"
      ]
     },
     "execution_count": 63,
     "metadata": {},
     "output_type": "execute_result"
    }
   ],
   "source": [
    "gsearch1.best_score_"
   ]
  },
  {
   "cell_type": "code",
   "execution_count": 33,
   "metadata": {},
   "outputs": [],
   "source": [
    "m_child_w = 1\n",
    "m_depth = 4"
   ]
  },
  {
   "cell_type": "code",
   "execution_count": 34,
   "metadata": {},
   "outputs": [],
   "source": [
    "# Subsample and col_sample_bytree"
   ]
  },
  {
   "cell_type": "code",
   "execution_count": 20,
   "metadata": {},
   "outputs": [],
   "source": [
    "param_test4 = {'subsample':[i/20.0 for i in range(15,20)],'colsample_bytree':[i/20.0 for i in range(15,20)]}"
   ]
  },
  {
   "cell_type": "code",
   "execution_count": 21,
   "metadata": {},
   "outputs": [
    {
     "data": {
      "text/plain": [
       "{'subsample': [0.75, 0.8, 0.85, 0.9, 0.95],\n",
       " 'colsample_bytree': [0.75, 0.8, 0.85, 0.9, 0.95]}"
      ]
     },
     "execution_count": 21,
     "metadata": {},
     "output_type": "execute_result"
    }
   ],
   "source": [
    "param_test4"
   ]
  },
  {
   "cell_type": "code",
   "execution_count": 36,
   "metadata": {},
   "outputs": [],
   "source": [
    "gsearch4 = GridSearchCV(estimator = xgboost.XGBRegressor(njobs = -1, learning_rate = eta, n_estimators=b_rounds, max_depth=m_depth,\n",
    "     min_child_weight=m_child_w, gamma = gam, subsample=ssample, colsample_bytree=col_tree,objective='reg:squarederror', seed = 12),\n",
    "            n_jobs = -1, param_grid = param_test4,iid=False, cv=10)"
   ]
  },
  {
   "cell_type": "code",
   "execution_count": 37,
   "metadata": {},
   "outputs": [
    {
     "data": {
      "text/plain": [
       "GridSearchCV(cv=10, error_score='raise-deprecating',\n",
       "             estimator=XGBRegressor(base_score=0.5, booster='gbtree',\n",
       "                                    colsample_bylevel=1, colsample_bynode=1,\n",
       "                                    colsample_bytree=0.8, gamma=2.0,\n",
       "                                    importance_type='gain', learning_rate=0.1,\n",
       "                                    max_delta_step=0, max_depth=4,\n",
       "                                    min_child_weight=1, missing=None,\n",
       "                                    n_estimators=200, n_jobs=1, njobs=-1,\n",
       "                                    nthread=None, objective='reg:squareder...\n",
       "                                    subsample=0.8, verbosity=1),\n",
       "             iid=False, n_jobs=-1,\n",
       "             param_grid={'colsample_bytree': [0.8, 0.81, 0.82, 0.83, 0.84, 0.85,\n",
       "                                              0.86, 0.87, 0.88, 0.89, 0.9, 0.91,\n",
       "                                              0.92, 0.93, 0.94, 0.95, 0.96,\n",
       "                                              0.97, 0.98, 0.99],\n",
       "                         'subsample': [0.8, 0.81, 0.82, 0.83, 0.84, 0.85, 0.86,\n",
       "                                       0.87, 0.88, 0.89, 0.9, 0.91, 0.92, 0.93,\n",
       "                                       0.94, 0.95, 0.96, 0.97, 0.98, 0.99]},\n",
       "             pre_dispatch='2*n_jobs', refit=True, return_train_score=False,\n",
       "             scoring=None, verbose=0)"
      ]
     },
     "execution_count": 37,
     "metadata": {},
     "output_type": "execute_result"
    }
   ],
   "source": [
    "gsearch4.fit(x_df,y_df)"
   ]
  },
  {
   "cell_type": "code",
   "execution_count": 38,
   "metadata": {},
   "outputs": [
    {
     "data": {
      "text/plain": [
       "{'colsample_bytree': 0.86, 'subsample': 0.81}"
      ]
     },
     "execution_count": 38,
     "metadata": {},
     "output_type": "execute_result"
    }
   ],
   "source": [
    "gsearch4.best_params_"
   ]
  },
  {
   "cell_type": "code",
   "execution_count": 39,
   "metadata": {},
   "outputs": [
    {
     "data": {
      "text/plain": [
       "0.014519596373679144"
      ]
     },
     "execution_count": 39,
     "metadata": {},
     "output_type": "execute_result"
    }
   ],
   "source": [
    "gsearch4.best_score_"
   ]
  },
  {
   "cell_type": "code",
   "execution_count": 40,
   "metadata": {},
   "outputs": [],
   "source": [
    "ssample = 0.81\n",
    "col_tree = 0.86"
   ]
  },
  {
   "cell_type": "code",
   "execution_count": 41,
   "metadata": {},
   "outputs": [],
   "source": [
    "# Again optimizing learning rate and boosting rounds"
   ]
  },
  {
   "cell_type": "code",
   "execution_count": 111,
   "metadata": {},
   "outputs": [],
   "source": [
    "b_rounds = 200\n",
    "m_depth = 6\n",
    "eta = 0.05\n",
    "ssample = 0.8\n",
    "col_tree = 0.8\n",
    "m_child_w = 6\n",
    "gam = 0"
   ]
  },
  {
   "cell_type": "code",
   "execution_count": 112,
   "metadata": {},
   "outputs": [],
   "source": [
    "param = {'max_depth': m_depth, 'eta': eta, 'subsample': ssample, 'colsample_bytree': col_tree, 'min_child_weight' : m_child_w, 'gamma' : gam}"
   ]
  },
  {
   "cell_type": "code",
   "execution_count": 115,
   "metadata": {},
   "outputs": [],
   "source": [
    "temp = xgboost.cv(param,dtrain,num_boost_round=1000,nfold=5,seed = 12)"
   ]
  },
  {
   "cell_type": "code",
   "execution_count": 118,
   "metadata": {},
   "outputs": [
    {
     "data": {
      "text/plain": [
       "[<matplotlib.lines.Line2D at 0x1c2de01fba8>]"
      ]
     },
     "execution_count": 118,
     "metadata": {},
     "output_type": "execute_result"
    },
    {
     "data": {
      "image/png": "[encoded data removed]",
      "text/plain": [
       "<Figure size 432x288 with 1 Axes>"
      ]
     },
     "metadata": {
      "needs_background": "light"
     },
     "output_type": "display_data"
    }
   ],
   "source": [
    "plt.plot(temp['test-rmse-mean'][200:600])"
   ]
  },
  {
   "cell_type": "code",
   "execution_count": null,
   "metadata": {},
   "outputs": [],
   "source": [
    "# BEST MODEL AT THE MOMENT\n",
    "#b_rounds = 400\n",
    "#m_depth = 6\n",
    "#eta = 0.05\n",
    "#ssample = 0.8\n",
    "#col_tree = 0.8\n",
    "#m_child_w = 6\n",
    "#gam = 0"
   ]
  },
  {
   "cell_type": "code",
   "execution_count": 119,
   "metadata": {},
   "outputs": [],
   "source": [
    "bst = xgboost.train(param,dtrain,num_boost_round=400)"
   ]
  },
  {
   "cell_type": "code",
   "execution_count": 207,
   "metadata": {},
   "outputs": [
    {
     "data": {
      "text/plain": [
       "<BarContainer object of 81 artists>"
      ]
     },
     "execution_count": 207,
     "metadata": {},
     "output_type": "execute_result"
    },
    {
     "data": {
      "image/png": "[encoded data removed]",
      "text/plain": [
       "<Figure size 1080x576 with 1 Axes>"
      ]
     },
     "metadata": {
      "needs_background": "light"
     },
     "output_type": "display_data"
    }
   ],
   "source": [
    "split_bars = bst.get_split_value_histogram(feature='BOARD_GENDER_DIVERSITY_P')\n",
    "plt.bar(split_bars['SplitValue'],split_bars['Count'])"
   ]
  },
  {
   "cell_type": "code",
   "execution_count": null,
   "metadata": {},
   "outputs": [],
   "source": []
  },
  {
   "cell_type": "code",
   "execution_count": null,
   "metadata": {},
   "outputs": [],
   "source": []
  }
 ],
 "metadata": {
  "kernelspec": {
   "display_name": "Python 3",
   "language": "python",
   "name": "python3"
  },
  "language_info": {
   "codemirror_mode": {
    "name": "ipython",
    "version": 3
   },
   "file_extension": ".py",
   "mimetype": "text/x-python",
   "name": "python",
   "nbconvert_exporter": "python",
   "pygments_lexer": "ipython3",
   "version": "3.8.7"
  }
 },
 "nbformat": 4,
 "nbformat_minor": 4
}
