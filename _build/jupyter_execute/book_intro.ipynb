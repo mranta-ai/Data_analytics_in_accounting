{
 "cells": [
  {
   "cell_type": "markdown",
   "metadata": {},
   "source": [
    "## Introduction to data analytics in accounting"
   ]
  },
  {
   "cell_type": "markdown",
   "metadata": {},
   "source": [
    "Welcome to read the book **Introduction to data analytics in accounting**. This is a work-in-progress and you are reading a very early draft version. The main goals of this book are to introduce you many ways how to use data analytics in accounting, and to teach you the basics of **Python**.\n",
    "\n",
    "The book starts with an introduction to the Python programming language. The following chapters will focus on topics such as data acquisition and processing, accounting databases, visualisations and statistics.\n",
    "\n",
    "The second part of this book will focus to machine learning methods that are useful in accounting. First, a collection of traditional ML methods, like regularised regression, random forests, support vector machines, etc. are introduced. Final chapters focus to more advanced topics, like deep learning and natural language processing.\n",
    "\n",
    "The book focuses on the practical implementation of data analytics methods . The material does not have a single equation in it. This does not mean that I underrate the importance of mathematical theory behind these methods. On the contrary, but the purpose of this course is to teach how to **do** data science. And, very often, you do not need the deep knowledge of the background theory to succeed in that.\n",
    "\n",
    "Hopefully, this book helps you to get started with Python programming so well that you can continue your journey by yourself. When you know the basics well enough, it is easy to learn more by searching for solutions from the Internet.\n",
    "\n",
    "Have a nice journey!\n",
    "\n",
    "-Mikko"
   ]
  },
  {
   "cell_type": "code",
   "execution_count": null,
   "metadata": {},
   "outputs": [],
   "source": []
  },
  {
   "cell_type": "markdown",
   "metadata": {},
   "source": [
    "\n",
    "```{toctree}\n",
    ":hidden:\n",
    ":titlesonly:\n",
    ":numbered: \n",
    ":caption: Basic data analytics in accounting\n",
    "\n",
    "0_installing_Python\n",
    "1_Intro_to_Python\n",
    "2_Pandas_basics\n",
    "3_Pandas_data_preprocessing\n",
    "4_Connecting_with_accounting_databases\n",
    "5_Visualisation_with_Python\n",
    "6_Basic_statistics_with_Python\n",
    "```\n",
    "\n",
    "\n",
    "```{toctree}\n",
    ":hidden:\n",
    ":titlesonly:\n",
    ":numbered: \n",
    ":caption: Machine learning in accounting\n",
    "\n",
    "7_Introduction_to_ML_in_accounting\n",
    "8_Decision_making_in_accounting\n",
    "9_Deep_learning_in_accounting\n",
    "10_NLP_in_accounting\n",
    "```\n"
   ]
  }
 ],
 "metadata": {
  "kernelspec": {
   "display_name": "Python 3",
   "language": "python",
   "name": "python3"
  },
  "language_info": {
   "codemirror_mode": {
    "name": "ipython",
    "version": 3
   },
   "file_extension": ".py",
   "mimetype": "text/x-python",
   "name": "python",
   "nbconvert_exporter": "python",
   "pygments_lexer": "ipython3",
   "version": "3.8.5"
  }
 },
 "nbformat": 4,
 "nbformat_minor": 4
}