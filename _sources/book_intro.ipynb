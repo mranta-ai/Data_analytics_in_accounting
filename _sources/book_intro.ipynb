{
 "cells": [
  {
   "cell_type": "markdown",
   "metadata": {},
   "source": [
    "## Introduction to data analytics in accounting"
   ]
  },
  {
   "cell_type": "markdown",
   "metadata": {},
   "source": [
    "Welcome to **Introduction to Data Analytics in Accounting**, a comprehensive guide designed to equip you, the future experts of the accounting and finance industries, with the essential skills needed in this data-driven age. Please note that this is an early draft, and I appreciate your engagement as I refine the material.\n",
    "\n",
    "**Objectives**\n",
    "The primary objectives of this book are twofold:\n",
    "1. To introduce you to a multitude of approaches for employing data analytics within the realm of accounting.\n",
    "2. To offer a hands-on introduction to Python, one of the most widely used programming languages for data analysis.\n",
    "\n",
    "**Structure**\n",
    "The book is structured into two main parts:\n",
    "\n",
    "Foundational Concepts: We kick off with an introduction to Python, followed by chapters that delve into data acquisition, data processing, accounting databases, visualizations, and statistical methods. The emphasis is on acquiring practical skills that are immediately applicable in professional settings.\n",
    "\n",
    "Advanced Methods: The second part of the book is devoted to machine learning techniques with high relevance to accounting. We'll start with conventional machine learning approaches like regularized regression, random forests, and support vector machines, before venturing into more advanced territories, including deep learning and natural language processing.\n",
    "\n",
    "**Pedagogical Approach**\n",
    "\n",
    "While this book focuses on practical implementation, it's worth mentioning that it consciously avoids the inclusion of mathematical equations. This absence is not a slight against the theoretical underpinnings of data analytics methods; rather, the focus is on enabling you to apply these techniques. Practical application often doesn't necessitate deep theoretical understanding, although a grasp of the basics is crucial for informed usage and troubleshooting. One of the overarching goals of this book is to make you sufficiently comfortable with Python and basic data analytics techniques so that you can further your own education. The world of data analytics is ever-evolving, and mastering the basics will empower you to keep pace with advancements by leveraging resources available on the Internet.\n",
    "\n",
    "**Your Journey Ahead**\n",
    "\n",
    "As you embark on this educational journey, I hope this book serves not just as a guide but also as a catalyst, inspiring you to explore and innovate in the multidisciplinary landscape that is accounting in the age of data analytics.\n",
    "\n",
    "Wishing you an enlightening journey ahead,\n",
    "\n",
    "-Mikko"
   ]
  },
  {
   "cell_type": "code",
   "execution_count": null,
   "metadata": {},
   "outputs": [],
   "source": []
  }
 ],
 "metadata": {
  "kernelspec": {
   "display_name": "Python 3",
   "language": "python",
   "name": "python3"
  },
  "language_info": {
   "codemirror_mode": {
    "name": "ipython",
    "version": 3
   },
   "file_extension": ".py",
   "mimetype": "text/x-python",
   "name": "python",
   "nbconvert_exporter": "python",
   "pygments_lexer": "ipython3",
   "version": "3.8.7"
  }
 },
 "nbformat": 4,
 "nbformat_minor": 4
}
