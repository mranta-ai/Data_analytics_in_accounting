{
 "cells": [
  {
   "cell_type": "markdown",
   "metadata": {},
   "source": [
    "## Introduction to data analytics in accounting\n",
    "---\n",
    "Mikko Ranta"
   ]
  },
  {
   "cell_type": "markdown",
   "metadata": {},
   "source": [
    "Hey there! Welcome to *Introduction to Data Analytics in Accounting*. First off, thanks for joining me on this journey. This book is still a work-in-progress—think of it as a rough draft that’s evolving—but it’s packed with practical insights to help you dive into the world of data analytics in accounting and get comfortable with Python.\n",
    "\n",
    "Here’s what you can expect:\n",
    "We’ll kick things off with an introduction to Python, so even if you’re starting from scratch, you’ll feel confident by the end of it. From there, we’ll dive into topics like data acquisition, processing, accounting databases, visualizations, and basic statistics. Don’t worry—it’s all about hands-on learning, so you’ll be doing as much as you’re reading.\n",
    "\n",
    "In the second half of the book, we’ll explore machine learning methods that are super useful in accounting. We’ll start with the classics—regularized regression, random forests, support vector machines—and then move on to more advanced stuff like deep learning and natural language processing.\n",
    "\n",
    "Now, here’s the thing: this book is all about practical implementation. You won’t find a single equation here. That’s not because I don’t value the math behind these methods (I totally do!), but because the goal is to get you doing data science. And honestly, you don’t always need to know the deep theory to make it work.\n",
    "\n",
    "By the time you’re done, I hope you’ll feel comfortable enough with Python and data analytics to keep exploring on your own. The internet is full of resources, and AI code helpers are always ready to lend a hand.\n",
    "\n",
    "So, grab a coffee (or your drink of choice), and let’s get started. Have fun, and enjoy the journey!\n",
    "\n",
    "-Mikko"
   ]
  },
  {
   "cell_type": "code",
   "execution_count": null,
   "metadata": {},
   "outputs": [],
   "source": []
  }
 ],
 "metadata": {
  "kernelspec": {
   "display_name": "Python 3 (ipykernel)",
   "language": "python",
   "name": "python3"
  },
  "language_info": {
   "codemirror_mode": {
    "name": "ipython",
    "version": 3
   },
   "file_extension": ".py",
   "mimetype": "text/x-python",
   "name": "python",
   "nbconvert_exporter": "python",
   "pygments_lexer": "ipython3",
   "version": "3.11.7"
  }
 },
 "nbformat": 4,
 "nbformat_minor": 4
}
