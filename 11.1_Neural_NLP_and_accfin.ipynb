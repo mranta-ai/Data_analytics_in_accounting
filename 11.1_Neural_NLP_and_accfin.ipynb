{
 "cells": [
  {
   "cell_type": "markdown",
   "id": "black-hours",
   "metadata": {},
   "source": [
    "## Neural NLP and accounting/finance"
   ]
  },
  {
   "cell_type": "code",
   "execution_count": 4,
   "id": "educational-texture",
   "metadata": {},
   "outputs": [],
   "source": [
    "import torch"
   ]
  },
  {
   "cell_type": "code",
   "execution_count": 5,
   "id": "fantastic-sigma",
   "metadata": {},
   "outputs": [
    {
     "data": {
      "text/plain": [
       "True"
      ]
     },
     "execution_count": 5,
     "metadata": {},
     "output_type": "execute_result"
    }
   ],
   "source": [
    "torch.cuda.is_available()"
   ]
  },
  {
   "cell_type": "code",
   "execution_count": 6,
   "id": "raising-mixture",
   "metadata": {},
   "outputs": [],
   "source": [
    "import transformers, os, re"
   ]
  },
  {
   "cell_type": "code",
   "execution_count": 7,
   "id": "painful-lawyer",
   "metadata": {},
   "outputs": [],
   "source": [
    "from pathlib import Path"
   ]
  },
  {
   "cell_type": "code",
   "execution_count": 8,
   "id": "formal-seafood",
   "metadata": {},
   "outputs": [],
   "source": [
    "from tokenizers import ByteLevelBPETokenizer"
   ]
  },
  {
   "cell_type": "code",
   "execution_count": 9,
   "id": "selected-michael",
   "metadata": {},
   "outputs": [],
   "source": [
    "#source_dir = \"D:/Data/Reasonable_10K/\""
   ]
  },
  {
   "cell_type": "code",
   "execution_count": 10,
   "id": "stretch-gross",
   "metadata": {},
   "outputs": [],
   "source": [
    "dest_dir = \"D:/Data/Reasonable_10K/reduced/\""
   ]
  },
  {
   "cell_type": "code",
   "execution_count": 11,
   "id": "statutory-sharp",
   "metadata": {},
   "outputs": [],
   "source": [
    "#files = os.listdir(source_dir)"
   ]
  },
  {
   "cell_type": "code",
   "execution_count": 12,
   "id": "annual-moisture",
   "metadata": {},
   "outputs": [],
   "source": [
    "#pattern = r'[0-9]'"
   ]
  },
  {
   "cell_type": "code",
   "execution_count": 13,
   "id": "copyrighted-ethics",
   "metadata": {},
   "outputs": [
    {
     "data": {
      "text/plain": [
       "\"for file in files:\\n    document = open(os.path.join(source_dir, file)).read().split('</Header>')[1]\\n    red_document = re.sub(pattern, '', document)\\n    open(os.path.join(dest_dir,file),mode='w').write(red_document)\""
      ]
     },
     "execution_count": 13,
     "metadata": {},
     "output_type": "execute_result"
    }
   ],
   "source": [
    "\"\"\"for file in files:\n",
    "    document = open(os.path.join(source_dir, file)).read().split('</Header>')[1]\n",
    "    red_document = re.sub(pattern, '', document)\n",
    "    open(os.path.join(dest_dir,file),mode='w').write(red_document)\"\"\""
   ]
  },
  {
   "cell_type": "code",
   "execution_count": 14,
   "id": "interpreted-article",
   "metadata": {},
   "outputs": [],
   "source": [
    "paths = [str(x) for x in Path(dest_dir).glob(\"**/*.txt\")]"
   ]
  },
  {
   "cell_type": "code",
   "execution_count": 15,
   "id": "elementary-country",
   "metadata": {},
   "outputs": [],
   "source": [
    "# Initialize a tokenizer\n",
    "tokenizer = ByteLevelBPETokenizer()"
   ]
  },
  {
   "cell_type": "code",
   "execution_count": 16,
   "id": "assured-south",
   "metadata": {},
   "outputs": [],
   "source": [
    "# Customize training\n",
    "tokenizer.train(files=paths, vocab_size=52_000, min_frequency=2, special_tokens=[\n",
    "    \"<s>\",\n",
    "    \"<pad>\",\n",
    "    \"</s>\",\n",
    "    \"<unk>\",\n",
    "    \"<mask>\",\n",
    "])"
   ]
  },
  {
   "cell_type": "code",
   "execution_count": 17,
   "id": "outstanding-nursery",
   "metadata": {},
   "outputs": [
    {
     "data": {
      "text/plain": [
       "['.\\\\AccBert_model-vocab.json', '.\\\\AccBert_model-merges.txt']"
      ]
     },
     "execution_count": 17,
     "metadata": {},
     "output_type": "execute_result"
    }
   ],
   "source": [
    "tokenizer.save_model(\".\",\"AccBert_model\")"
   ]
  },
  {
   "cell_type": "code",
   "execution_count": 19,
   "id": "cross-reggae",
   "metadata": {},
   "outputs": [],
   "source": [
    "from tokenizers.processors import BertProcessing"
   ]
  },
  {
   "cell_type": "code",
   "execution_count": 20,
   "id": "dangerous-tumor",
   "metadata": {},
   "outputs": [],
   "source": [
    "tokenizer = ByteLevelBPETokenizer(\n",
    "    \"AccBert_model-vocab.json\",\n",
    "    \"AccBert_model-merges.txt\",\n",
    ")\n"
   ]
  },
  {
   "cell_type": "code",
   "execution_count": 21,
   "id": "dynamic-hungary",
   "metadata": {},
   "outputs": [],
   "source": [
    "tokenizer._tokenizer.post_processor = BertProcessing(\n",
    "    (\"</s>\", tokenizer.token_to_id(\"</s>\")),\n",
    "    (\"<s>\", tokenizer.token_to_id(\"<s>\")),\n",
    ")"
   ]
  },
  {
   "cell_type": "code",
   "execution_count": 22,
   "id": "velvet-violation",
   "metadata": {},
   "outputs": [],
   "source": [
    "tokenizer.enable_truncation(max_length=512)"
   ]
  },
  {
   "cell_type": "code",
   "execution_count": 27,
   "id": "alone-costa",
   "metadata": {},
   "outputs": [
    {
     "name": "stdout",
     "output_type": "stream",
     "text": [
      "Encoding(num_tokens=6, attributes=[ids, type_ids, tokens, offsets, attention_mask, special_tokens_mask, overflowing])\n"
     ]
    }
   ],
   "source": [
    "print(tokenizer.encode(\"The annual profit was\"))"
   ]
  },
  {
   "cell_type": "code",
   "execution_count": 28,
   "id": "informational-earth",
   "metadata": {},
   "outputs": [
    {
     "data": {
      "text/plain": [
       "['<s>', 'The', 'Ġannual', 'Ġprofit', 'Ġwas', '</s>']"
      ]
     },
     "execution_count": 28,
     "metadata": {},
     "output_type": "execute_result"
    }
   ],
   "source": [
    "tokenizer.encode(\"The annual profit was\").tokens"
   ]
  },
  {
   "cell_type": "code",
   "execution_count": 30,
   "id": "extensive-think",
   "metadata": {},
   "outputs": [],
   "source": [
    "from torch.utils.data import Dataset"
   ]
  },
  {
   "cell_type": "code",
   "execution_count": 35,
   "id": "lonely-infrared",
   "metadata": {},
   "outputs": [],
   "source": [
    "class AccBertDataset(Dataset):\n",
    "    def __init__(self, evaluate: bool = False):\n",
    "        tokenizer = ByteLevelBPETokenizer(\n",
    "            \"AccBert_model-vocab.json\",\n",
    "            \"AccBert_model-merges.txt\",\n",
    "        )\n",
    "        tokenizer._tokenizer.post_processor = BertProcessing(\n",
    "            (\"</s>\", tokenizer.token_to_id(\"</s>\")),\n",
    "            (\"<s>\", tokenizer.token_to_id(\"<s>\")),\n",
    "        )\n",
    "        tokenizer.enable_truncation(max_length=512)\n",
    "\n",
    "        self.examples = []\n",
    "\n",
    "        src_files = Path(dest_dir).glob(\"**/*.txt\") if evaluate else Path(dest_dir).glob(\"**/*.txt\")\n",
    "        for src_file in src_files:\n",
    "            lines = src_file.read_text(encoding=\"utf-8\").splitlines()\n",
    "            self.examples += [x.ids for x in tokenizer.encode_batch(lines)]\n",
    "\n",
    "    def __len__(self):\n",
    "        return len(self.examples)\n",
    "\n",
    "    def __getitem__(self, i):\n",
    "        # We’ll pad at the batch level.\n",
    "        return torch.tensor(self.examples[i])"
   ]
  },
  {
   "cell_type": "code",
   "execution_count": 36,
   "id": "exact-comfort",
   "metadata": {},
   "outputs": [],
   "source": [
    "test = AccBertDataset()"
   ]
  },
  {
   "cell_type": "code",
   "execution_count": null,
   "id": "physical-trick",
   "metadata": {},
   "outputs": [],
   "source": [
    "test.examples"
   ]
  },
  {
   "cell_type": "code",
   "execution_count": null,
   "id": "scenic-graph",
   "metadata": {},
   "outputs": [],
   "source": []
  }
 ],
 "metadata": {
  "kernelspec": {
   "display_name": "Python 3",
   "language": "python",
   "name": "python3"
  },
  "language_info": {
   "codemirror_mode": {
    "name": "ipython",
    "version": 3
   },
   "file_extension": ".py",
   "mimetype": "text/x-python",
   "name": "python",
   "nbconvert_exporter": "python",
   "pygments_lexer": "ipython3",
   "version": "3.8.7"
  }
 },
 "nbformat": 4,
 "nbformat_minor": 5
}
