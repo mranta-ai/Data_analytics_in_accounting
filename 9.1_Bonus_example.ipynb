{
 "cells": [
  {
   "cell_type": "markdown",
   "id": "monthly-cholesterol",
   "metadata": {},
   "source": [
    "### Example - starting from scratch\n",
    "When we are doing real deep learning tasks, the analysed data is not neatly included in the libraries we are using for the analysis (like Keras Datasets). In these real tasks we need to collect the data by ourselves. Organising and preprocessing these real datasets to a suitable form for the analysis can be sometimes challenging.\n",
    "\n",
    "The purpose of this example is to introduce you to the (possible) steps needed, when you are preparing your data for a deep learning model."
   ]
  },
  {
   "cell_type": "markdown",
   "id": "authentic-solution",
   "metadata": {},
   "source": [
    "For this example, we need to load the data ourselves that is somewhat laborious. We use image classification data from [www.kaggle.com/c/dogs-vs-cats](https://www.kaggle.com/c/dogs-vs-cats). Kaggle organises ML-competitions, and in this competition, the task is to distinguish dogs from cats in images.\n",
    "\n",
    "![Pinto](./images/pinto.png)\n",
    "\n",
    "First, we load some libraries that are needed to manipulate the image files."
   ]
  },
  {
   "cell_type": "code",
   "execution_count": null,
   "id": "important-boating",
   "metadata": {},
   "outputs": [],
   "source": [
    "import os,shutil"
   ]
  },
  {
   "cell_type": "markdown",
   "id": "conceptual-worthy",
   "metadata": {},
   "source": [
    "I have the original training data in the \"original_data\" folder (under the work folder). You can download the original data from [www.kaggle.com/c/dogs-vs-cats](https://www.kaggle.com/c/dogs-vs-cats)."
   ]
  },
  {
   "cell_type": "code",
   "execution_count": null,
   "id": "pregnant-alarm",
   "metadata": {},
   "outputs": [],
   "source": [
    "files = os.listdir('./original_data')"
   ]
  },
  {
   "cell_type": "markdown",
   "id": "spectacular-energy",
   "metadata": {},
   "source": [
    "The total number of dog and cat images is 25 000."
   ]
  },
  {
   "cell_type": "code",
   "execution_count": null,
   "id": "operational-greenhouse",
   "metadata": {},
   "outputs": [],
   "source": [
    "len(files)"
   ]
  },
  {
   "cell_type": "markdown",
   "id": "looking-november",
   "metadata": {},
   "source": [
    "We do this training \"by-the-book\" by dividing the data to train, validation and test parts. The validation data is used to finetune the hyperparameters of a model. With separate validation data, we avoid using the hyperparameter optimisation wrongly to optimise the test data performance. Below is an example of a dataset-split that uses 3-fold cross-validation.\n",
    "![Validation](./images/Train-Test-Validation.png)"
   ]
  },
  {
   "cell_type": "markdown",
   "id": "amateur-clone",
   "metadata": {},
   "source": [
    "The following commands build different folders for the training, validation and test data."
   ]
  },
  {
   "cell_type": "code",
   "execution_count": null,
   "id": "resistant-outdoors",
   "metadata": {},
   "outputs": [],
   "source": [
    "os.mkdir('train')\n",
    "os.mkdir('validation')\n",
    "os.mkdir('test')"
   ]
  },
  {
   "cell_type": "markdown",
   "id": "painted-borough",
   "metadata": {},
   "source": [
    "Under the training, validation and test -folders we make separate folders for the dog and cat pictures. This makes it much easier to use Keras data-generation function as it can automatically collect observations of different classes from different folders. **os.path.join()** -function makes it easy to build directory structures. You add the \"parts\" of the directory structure, and it will add automatically slashes when needed."
   ]
  },
  {
   "cell_type": "code",
   "execution_count": null,
   "id": "enclosed-testimony",
   "metadata": {},
   "outputs": [],
   "source": [
    "# Get the current work directory\n",
    "base_dir = os.getcwd()"
   ]
  },
  {
   "cell_type": "code",
   "execution_count": null,
   "id": "potential-hybrid",
   "metadata": {},
   "outputs": [],
   "source": [
    "# Dogs\n",
    "os.mkdir(os.path.join(base_dir,'train','dogs'))\n",
    "os.mkdir(os.path.join(base_dir,'validation','dogs'))\n",
    "os.mkdir(os.path.join(base_dir,'test','dogs'))\n",
    "# Cats\n",
    "os.mkdir(os.path.join(base_dir,'train','cats'))\n",
    "os.mkdir(os.path.join(base_dir,'validation','cats'))\n",
    "os.mkdir(os.path.join(base_dir,'test','cats'))"
   ]
  },
  {
   "cell_type": "markdown",
   "id": "protective-heritage",
   "metadata": {},
   "source": [
    "Next, we copy the files to correct folders. We use only part of the data to speed up calculations: 3000 images for the training, 1000 images for the validation and 1000 images for the testing. The first command in each cell constructs a list of correct filenames. It uses Python's list comprehension, that is a great feature in Python.\n",
    "\n",
    "Let's analyse the first one (**fnames = ['dog.{}.jpg'.format(i) for i in range(1500)]**):\n",
    "\n",
    "When we put a for loop inside square brackets, Python will generate a list that has the \"rounds\" of a loop as values in the list.\n",
    "\n",
    "**'dog.{}.jpg'.format(i)** - This is the part that will be repeated in the list so that the curly brackets are replaced by the value of **i**.\n",
    "\n",
    "**for i in range(1500)** - This will tell what values are inserted in **i**. **range(1500)** just means values from 0 to 1500.\n",
    "\n",
    "More information about list comprehension can be found from https://docs.python.org/3/tutorial/datastructures.html (section 5.1.3)"
   ]
  },
  {
   "cell_type": "code",
   "execution_count": null,
   "id": "italian-requirement",
   "metadata": {},
   "outputs": [],
   "source": [
    "# Train dogs\n",
    "fnames = ['dog.{}.jpg'.format(i) for i in range(1500)]\n",
    "for file in fnames:\n",
    "    src = os.path.join(base_dir,'original_data',file)\n",
    "    dst = os.path.join(base_dir,'train','dogs',file)\n",
    "    shutil.copyfile(src,dst)"
   ]
  },
  {
   "cell_type": "code",
   "execution_count": null,
   "id": "conceptual-swiss",
   "metadata": {},
   "outputs": [],
   "source": [
    "# Validation dogs\n",
    "fnames = ['dog.{}.jpg'.format(i) for i in range(1500,2000)]\n",
    "for file in fnames:\n",
    "    src = os.path.join(base_dir,'original_data',file)\n",
    "    dst = os.path.join(base_dir,'validation','dogs',file)\n",
    "    shutil.copyfile(src,dst)"
   ]
  },
  {
   "cell_type": "code",
   "execution_count": null,
   "id": "regulated-fundamentals",
   "metadata": {},
   "outputs": [],
   "source": [
    "# Test dogs\n",
    "fnames = ['dog.{}.jpg'.format(i) for i in range(2000,2500)]\n",
    "for file in fnames:\n",
    "    src = os.path.join(base_dir,'original_data',file)\n",
    "    dst = os.path.join(base_dir,'test','dogs',file)\n",
    "    shutil.copyfile(src,dst)"
   ]
  },
  {
   "cell_type": "code",
   "execution_count": null,
   "id": "elegant-surrey",
   "metadata": {},
   "outputs": [],
   "source": [
    "# Train cats\n",
    "fnames = ['cat.{}.jpg'.format(i) for i in range(1500)]\n",
    "for file in fnames:\n",
    "    src = os.path.join(base_dir,'original_data',file)\n",
    "    dst = os.path.join(base_dir,'train','cats',file)\n",
    "    shutil.copyfile(src,dst)"
   ]
  },
  {
   "cell_type": "code",
   "execution_count": null,
   "id": "sized-rental",
   "metadata": {},
   "outputs": [],
   "source": [
    "# Validation cats\n",
    "fnames = ['cat.{}.jpg'.format(i) for i in range(1500,2000)]\n",
    "for file in fnames:\n",
    "    src = os.path.join(base_dir,'original_data',file)\n",
    "    dst = os.path.join(base_dir,'validation','cats',file)\n",
    "    shutil.copyfile(src,dst)"
   ]
  },
  {
   "cell_type": "code",
   "execution_count": null,
   "id": "revised-shannon",
   "metadata": {},
   "outputs": [],
   "source": [
    "# Test cats\n",
    "fnames = ['cat.{}.jpg'.format(i) for i in range(1500,2000)]\n",
    "for file in fnames:\n",
    "    src = os.path.join(base_dir,'original_data',file)\n",
    "    dst = os.path.join(base_dir,'test','cats',file)\n",
    "    shutil.copyfile(src,dst)"
   ]
  },
  {
   "cell_type": "markdown",
   "id": "palestinian-grenada",
   "metadata": {},
   "source": [
    "Next, we check that everything went as planned. The dog folders should have 1500,500 and 500 images and similarly to the cat folders."
   ]
  },
  {
   "cell_type": "code",
   "execution_count": null,
   "id": "fluid-emission",
   "metadata": {},
   "outputs": [],
   "source": [
    "# Check the dog directories\n",
    "print(len(os.listdir(os.path.join(base_dir,'train','dogs'))))\n",
    "print(len(os.listdir(os.path.join(base_dir,'validation','dogs'))))\n",
    "print(len(os.listdir(os.path.join(base_dir,'test','dogs'))))"
   ]
  },
  {
   "cell_type": "code",
   "execution_count": null,
   "id": "clear-aquarium",
   "metadata": {},
   "outputs": [],
   "source": [
    "# Check the cat directories\n",
    "print(len(os.listdir(os.path.join(base_dir,'train','cats'))))\n",
    "print(len(os.listdir(os.path.join(base_dir,'validation','cats'))))\n",
    "print(len(os.listdir(os.path.join(base_dir,'test','cats'))))"
   ]
  },
  {
   "cell_type": "markdown",
   "id": "sunset-graphic",
   "metadata": {},
   "source": [
    "#### Simple CNN model"
   ]
  },
  {
   "cell_type": "markdown",
   "id": "hollywood-clinic",
   "metadata": {},
   "source": [
    "As our preliminary model, we test a basic CNN model with four convolutional layers and four max-pooling layers followed by two dense layers with 12544 (flatten) and 512 neurons. The output layer has one neuron with a sigmoid activation function. So, the output is a prediction for one of the two classes.\n",
    "\n",
    "First, we need the **layers** and **models** -modules from Keras."
   ]
  },
  {
   "cell_type": "code",
   "execution_count": null,
   "id": "utility-polish",
   "metadata": {},
   "outputs": [],
   "source": [
    "from tensorflow.keras import layers\n",
    "from tensorflow.keras import models"
   ]
  },
  {
   "cell_type": "markdown",
   "id": "following-windsor",
   "metadata": {},
   "source": [
    "Next, we define a sequential model and add layers using the **add()**-function."
   ]
  },
  {
   "cell_type": "code",
   "execution_count": null,
   "id": "pointed-tobacco",
   "metadata": {},
   "outputs": [],
   "source": [
    "model = models.Sequential()"
   ]
  },
  {
   "cell_type": "markdown",
   "id": "reflected-scene",
   "metadata": {},
   "source": [
    "The input images to the network are 150x150 pixel RGB images. The size of the convolution-filter is 3x3, and the layer produces 32 feature maps. The ReLU activation function is the common choice with CNNs (and many other neural network types)."
   ]
  },
  {
   "cell_type": "code",
   "execution_count": null,
   "id": "spanish-iraqi",
   "metadata": {},
   "outputs": [],
   "source": [
    "model.add(layers.Conv2D(32, (3, 3), activation='relu',input_shape=(150, 150, 3)))"
   ]
  },
  {
   "cell_type": "markdown",
   "id": "under-driving",
   "metadata": {},
   "source": [
    "A max-pooling layer with a 2x2 window."
   ]
  },
  {
   "cell_type": "code",
   "execution_count": null,
   "id": "floating-western",
   "metadata": {},
   "outputs": [],
   "source": [
    "model.add(layers.MaxPooling2D((2, 2)))"
   ]
  },
  {
   "cell_type": "markdown",
   "id": "nonprofit-thriller",
   "metadata": {},
   "source": [
    "Notice how the number of feature maps is increasing."
   ]
  },
  {
   "cell_type": "code",
   "execution_count": null,
   "id": "complex-rider",
   "metadata": {},
   "outputs": [],
   "source": [
    "model.add(layers.Conv2D(64, (3, 3), activation='relu'))"
   ]
  },
  {
   "cell_type": "code",
   "execution_count": null,
   "id": "acting-assignment",
   "metadata": {},
   "outputs": [],
   "source": [
    "model.add(layers.MaxPooling2D((2, 2)))"
   ]
  },
  {
   "cell_type": "code",
   "execution_count": null,
   "id": "civilian-response",
   "metadata": {},
   "outputs": [],
   "source": [
    "model.add(layers.Conv2D(128, (3, 3), activation='relu'))"
   ]
  },
  {
   "cell_type": "code",
   "execution_count": null,
   "id": "eastern-present",
   "metadata": {},
   "outputs": [],
   "source": [
    "model.add(layers.MaxPooling2D((2, 2)))"
   ]
  },
  {
   "cell_type": "code",
   "execution_count": null,
   "id": "following-living",
   "metadata": {},
   "outputs": [],
   "source": [
    "model.add(layers.Conv2D(256, (3, 3), activation='relu'))"
   ]
  },
  {
   "cell_type": "code",
   "execution_count": null,
   "id": "severe-simulation",
   "metadata": {},
   "outputs": [],
   "source": [
    "model.add(layers.MaxPooling2D((2, 2)))"
   ]
  },
  {
   "cell_type": "code",
   "execution_count": null,
   "id": "exciting-cuisine",
   "metadata": {},
   "outputs": [],
   "source": [
    "model.add(layers.Flatten())"
   ]
  },
  {
   "cell_type": "code",
   "execution_count": null,
   "id": "asian-engine",
   "metadata": {},
   "outputs": [],
   "source": [
    "model.add(layers.Dense(512, activation='relu'))"
   ]
  },
  {
   "cell_type": "code",
   "execution_count": null,
   "id": "charged-specialist",
   "metadata": {},
   "outputs": [],
   "source": [
    "model.add(layers.Dense(1, activation='sigmoid'))"
   ]
  },
  {
   "cell_type": "markdown",
   "id": "confused-arcade",
   "metadata": {},
   "source": [
    "Overall, we have almost 7 million parameters in our model, which is way too much for a training set with 3000 images. The model will overfit as we will soon see from the results.\n",
    "![First_CNN](./images/nn.png)"
   ]
  },
  {
   "cell_type": "code",
   "execution_count": null,
   "id": "reverse-terrorism",
   "metadata": {},
   "outputs": [],
   "source": [
    "model.summary()"
   ]
  },
  {
   "cell_type": "code",
   "execution_count": null,
   "id": "sunrise-award",
   "metadata": {},
   "outputs": [],
   "source": [
    "from tensorflow.keras import optimizers"
   ]
  },
  {
   "cell_type": "markdown",
   "id": "specified-parcel",
   "metadata": {},
   "source": [
    "Next, we compile the model. Because we have now two classes, \"binary_crossentropy\" is the correct loss_function. There are many gradient descent optimisers available, but usually, RMSprop works very well. More information about RMSprop can be found here: https://keras.io/api/optimizers/rmsprop/.\n",
    "\n",
    "![grad_desc](./images/Gradient_descent.gif)\n",
    "\n",
    "We measure performance with the accuracy metric."
   ]
  },
  {
   "cell_type": "code",
   "execution_count": null,
   "id": "seeing-emerald",
   "metadata": {},
   "outputs": [],
   "source": [
    "model.compile(loss='binary_crossentropy',optimizer=optimizers.RMSprop(),metrics=['acc'])"
   ]
  },
  {
   "cell_type": "markdown",
   "id": "special-times",
   "metadata": {},
   "source": [
    "To get images from a folder to a CNN model can be a very tedious task. Luckily, Keras has functions that make our job much more straightforward.\n",
    "\n",
    "**ImageDataGenerator** is a Python generator that can be used to transform images from a folder to tensors that can be fed to a neural network model."
   ]
  },
  {
   "cell_type": "code",
   "execution_count": null,
   "id": "neural-broadcasting",
   "metadata": {},
   "outputs": [],
   "source": [
    "from tensorflow.keras.preprocessing.image import ImageDataGenerator"
   ]
  },
  {
   "cell_type": "markdown",
   "id": "inside-carpet",
   "metadata": {},
   "source": [
    "We scale the pixel values from 0-255 to 0-1. Remember: neural networks like small values."
   ]
  },
  {
   "cell_type": "code",
   "execution_count": null,
   "id": "banner-washington",
   "metadata": {},
   "outputs": [],
   "source": [
    "train_datagen = ImageDataGenerator(rescale=1./255)\n",
    "validation_datagen = ImageDataGenerator(rescale=1./255)"
   ]
  },
  {
   "cell_type": "markdown",
   "id": "rational-sampling",
   "metadata": {},
   "source": [
    "We change the size of the images to 150 x 150 and collect them in 25 batches. Basically, we feed (25,150,150,3)-tensors to the model. As you can see, the function automatically recognises two different classes. It is because we placed the cat and dog images to two different folders. We have to make separate generators for the training data and the validation data."
   ]
  },
  {
   "cell_type": "code",
   "execution_count": null,
   "id": "toxic-boost",
   "metadata": {},
   "outputs": [],
   "source": [
    "train_generator = train_datagen.flow_from_directory(os.path.join(base_dir,'train'),\n",
    "                                                    target_size=(150, 150),\n",
    "                                                    batch_size=25,\n",
    "                                                    class_mode='binary')"
   ]
  },
  {
   "cell_type": "code",
   "execution_count": null,
   "id": "aboriginal-exploration",
   "metadata": {},
   "outputs": [],
   "source": [
    "validation_generator = train_datagen.flow_from_directory(os.path.join(base_dir,'validation'),\n",
    "                                                    target_size=(150, 150),\n",
    "                                                    batch_size=25,\n",
    "                                                    class_mode='binary')"
   ]
  },
  {
   "cell_type": "markdown",
   "id": "bridal-yellow",
   "metadata": {},
   "source": [
    "We use a little bit longer training with 30 epochs. Instead of input data, we now give the generators to the model. Also, we separately define the validation generator and validation testing steps. With 25 image batches and 120 steps per epoch, we go through all the 3000 images. To **history**, we save the training progress details."
   ]
  },
  {
   "cell_type": "code",
   "execution_count": null,
   "id": "portuguese-excess",
   "metadata": {},
   "outputs": [],
   "source": [
    "history = model.fit(train_generator,\n",
    "                              steps_per_epoch=120,\n",
    "                              epochs=30,\n",
    "                              validation_data=validation_generator,\n",
    "                              validation_steps=40)"
   ]
  },
  {
   "cell_type": "markdown",
   "id": "looking-theta",
   "metadata": {},
   "source": [
    "Let's check how did it go. In a typical overfitting situation, training accuracy quickly rises to almost 1.0 and validation accuracy stalls to a much lower level. This is also the case here. The training accuracy is 0.984, and the validation accuracy is around 0.72.\n",
    "But still, not that bad! The model recognises cats and dogs correctly from the images 72 % of the time.\n",
    "\n",
    "![Overfitting](./images/Overfitting.svg)"
   ]
  },
  {
   "cell_type": "code",
   "execution_count": null,
   "id": "reported-wednesday",
   "metadata": {},
   "outputs": [],
   "source": [
    "import matplotlib.pyplot as plt # Load plotting libraries\n",
    "plt.style.use('bmh') # bmh-style is usually nice\n",
    "acc = history.history['acc']\n",
    "val_acc = history.history['val_acc']\n",
    "loss = history.history['loss']\n",
    "val_loss = history.history['val_loss']\n",
    "epochs = range(1, len(acc) + 1)\n",
    "plt.plot(epochs, acc, 'r--', label='Training accuracy')\n",
    "plt.plot(epochs, val_acc, 'b--', label='Validation accuracy')\n",
    "plt.legend() # Matplotlib will automatically position the legend in a best possible way.\n",
    "plt.figure() # This is needed to make two separate figures for loss and accuracy.\n",
    "plt.plot(epochs, loss, 'r--', label='Training loss')\n",
    "plt.plot(epochs, val_loss, 'b--', label='Validation loss')\n",
    "plt.legend()\n",
    "plt.show()"
   ]
  },
  {
   "cell_type": "markdown",
   "id": "metropolitan-premises",
   "metadata": {},
   "source": [
    "#### Augmentation and regularisation"
   ]
  },
  {
   "cell_type": "markdown",
   "id": "identified-mission",
   "metadata": {},
   "source": [
    "Let's try to improve our model. Augmentation is a common approach to \"increase\" the amount of data. The idea of augmentation is to transform images slightly every time they are fed to the model. Thus, we are trying to create new information to the model to train on. However, we are not truly creating new information. Nevertheless, augmentation has proven to be an efficient way to improve results.\n",
    "\n",
    "Image transformation can be implemented to the **ImageDataGenerator()**-function. There are many parameters that can be used to transform images. More information: [keras.io/api/preprocessing/image/](https://keras.io/api/preprocessing/image/)"
   ]
  },
  {
   "cell_type": "code",
   "execution_count": null,
   "id": "mature-dressing",
   "metadata": {},
   "outputs": [],
   "source": [
    "datagen = ImageDataGenerator(rotation_range=40,\n",
    "                             width_shift_range=0.2,\n",
    "                             height_shift_range=0.2,\n",
    "                             shear_range=0.2,\n",
    "                             zoom_range=0.2,\n",
    "                             horizontal_flip=True,\n",
    "                             fill_mode='nearest')"
   ]
  },
  {
   "cell_type": "markdown",
   "id": "steady-burden",
   "metadata": {},
   "source": [
    "Let's check what kind of images we are analysing."
   ]
  },
  {
   "cell_type": "code",
   "execution_count": null,
   "id": "occupied-collaboration",
   "metadata": {},
   "outputs": [],
   "source": [
    "# Image -module to view images\n",
    "from tensorflow.keras.preprocessing import image"
   ]
  },
  {
   "cell_type": "code",
   "execution_count": null,
   "id": "running-bundle",
   "metadata": {},
   "outputs": [],
   "source": [
    "# We pick the 16th image from the train/dogs -folder.\n",
    "img_path = os.path.join(base_dir,'train','dogs',os.listdir(os.path.join(base_dir,'train','dogs'))[16])"
   ]
  },
  {
   "cell_type": "code",
   "execution_count": null,
   "id": "tired-numbers",
   "metadata": {},
   "outputs": [],
   "source": [
    "sample_image = image.load_img(img_path, target_size=(150, 150))"
   ]
  },
  {
   "cell_type": "markdown",
   "id": "adolescent-government",
   "metadata": {},
   "source": [
    "Below is an example image from the original dataset. The sixteenth image in our list."
   ]
  },
  {
   "cell_type": "code",
   "execution_count": null,
   "id": "young-madagascar",
   "metadata": {},
   "outputs": [],
   "source": [
    "sample_image"
   ]
  },
  {
   "cell_type": "markdown",
   "id": "acceptable-playback",
   "metadata": {},
   "source": [
    "To use the Imagedatagenerator's **flow()**-function, we need to transform our image to a numpy-array."
   ]
  },
  {
   "cell_type": "code",
   "execution_count": null,
   "id": "increased-illness",
   "metadata": {},
   "outputs": [],
   "source": [
    "sample_image_np = image.img_to_array(sample_image)\n",
    "sample_image_np = sample_image_np.reshape((1,) + sample_image_np.shape)"
   ]
  },
  {
   "cell_type": "markdown",
   "id": "pharmaceutical-olympus",
   "metadata": {},
   "source": [
    "The following code transforms images using *ImageDataGenerator()* and plots eight examples. As you can see, they are slightly altered images that are very close to the original image."
   ]
  },
  {
   "cell_type": "code",
   "execution_count": null,
   "id": "universal-database",
   "metadata": {},
   "outputs": [],
   "source": [
    "fig, axs = plt.subplots(2,4,figsize=(14,6),squeeze=True)\n",
    "i=0\n",
    "for ax,transform in zip(axs.flat,datagen.flow(sample_image_np, batch_size=1)):\n",
    "    ax.imshow(image.array_to_img(transform[0]))\n",
    "    i+=1\n",
    "    if i%8==0:\n",
    "        break"
   ]
  },
  {
   "cell_type": "markdown",
   "id": "fiscal-amateur",
   "metadata": {},
   "source": [
    "Next, we define the model. Alongside augmentation, we add regularisation to the model with a dropout-layer. The Dropout layer randomly sets input units to 0 with a frequency of **rate** (0.5 below) at each step during training time, which helps prevent overfitting. Inputs not set to 0 are scaled up by 1/(1 - rate) such that the sum over all inputs is unchanged.\n",
    "\n",
    "We build our sequential model using **add()**-functions. The only difference, when compared to the previous model, is the dropout-layer after the flatten-layer (and the augmentation)."
   ]
  },
  {
   "cell_type": "code",
   "execution_count": null,
   "id": "certified-proportion",
   "metadata": {},
   "outputs": [],
   "source": [
    "model = models.Sequential()"
   ]
  },
  {
   "cell_type": "code",
   "execution_count": null,
   "id": "diverse-contrast",
   "metadata": {},
   "outputs": [],
   "source": [
    "model.add(layers.Conv2D(32, (3, 3), activation='relu',input_shape=(150, 150, 3)))\n",
    "model.add(layers.MaxPooling2D((2, 2)))\n",
    "model.add(layers.Conv2D(64, (3, 3), activation='relu'))\n",
    "model.add(layers.MaxPooling2D((2, 2)))\n",
    "model.add(layers.Conv2D(128, (3, 3), activation='relu'))\n",
    "model.add(layers.MaxPooling2D((2, 2)))\n",
    "model.add(layers.Conv2D(256, (3, 3), activation='relu'))\n",
    "model.add(layers.MaxPooling2D((2, 2)))\n",
    "model.add(layers.Flatten())\n",
    "model.add(layers.Dropout(0.5))\n",
    "model.add(layers.Dense(512, activation='relu'))\n",
    "model.add(layers.Dense(1, activation='sigmoid'))"
   ]
  },
  {
   "cell_type": "markdown",
   "id": "formed-pressing",
   "metadata": {},
   "source": [
    "The dropout layer does not change the number of parameters. It is exactly the same as in the previous model."
   ]
  },
  {
   "cell_type": "code",
   "execution_count": null,
   "id": "detailed-pastor",
   "metadata": {},
   "outputs": [],
   "source": [
    "model.summary()"
   ]
  },
  {
   "cell_type": "markdown",
   "id": "great-reminder",
   "metadata": {},
   "source": [
    "The compile-step is not changed."
   ]
  },
  {
   "cell_type": "code",
   "execution_count": null,
   "id": "simple-india",
   "metadata": {},
   "outputs": [],
   "source": [
    "model.compile(loss='binary_crossentropy',optimizer=optimizers.RMSprop(),metrics=['acc'])"
   ]
  },
  {
   "cell_type": "markdown",
   "id": "consistent-computer",
   "metadata": {},
   "source": [
    "We create the augmentation-enabled generators. Remember that the validation dataset should not be augmented!"
   ]
  },
  {
   "cell_type": "code",
   "execution_count": null,
   "id": "alert-annual",
   "metadata": {},
   "outputs": [],
   "source": [
    "train_datagen = ImageDataGenerator(rescale=1./255,\n",
    "                                   rotation_range=40,\n",
    "                                   width_shift_range=0.2,\n",
    "                                   height_shift_range=0.2,\n",
    "                                   shear_range=0.2,\n",
    "                                   zoom_range=0.2,\n",
    "                                   horizontal_flip=True)"
   ]
  },
  {
   "cell_type": "code",
   "execution_count": null,
   "id": "compound-wagon",
   "metadata": {},
   "outputs": [],
   "source": [
    "validation_datagen = ImageDataGenerator(rescale=1./255)"
   ]
  },
  {
   "cell_type": "markdown",
   "id": "alert-financing",
   "metadata": {},
   "source": [
    "The same dataset of 3000 training images and 1000 validation images."
   ]
  },
  {
   "cell_type": "code",
   "execution_count": null,
   "id": "industrial-charity",
   "metadata": {},
   "outputs": [],
   "source": [
    "train_generator = train_datagen.flow_from_directory(os.path.join(base_dir,'train'),\n",
    "                                                    target_size=(150, 150),\n",
    "                                                    batch_size=25,\n",
    "                                                    class_mode='binary')"
   ]
  },
  {
   "cell_type": "code",
   "execution_count": null,
   "id": "double-istanbul",
   "metadata": {},
   "outputs": [],
   "source": [
    "validation_generator = validation_datagen.flow_from_directory(os.path.join(base_dir,'validation'),\n",
    "                                                    target_size=(150, 150),\n",
    "                                                    batch_size=25,\n",
    "                                                    class_mode='binary')"
   ]
  },
  {
   "cell_type": "markdown",
   "id": "obvious-causing",
   "metadata": {},
   "source": [
    "Otherwise, the parameters to the **model.fit()** are the same as in the previous model, but we train the model a little bit longer. This is because regularisation slows down training."
   ]
  },
  {
   "cell_type": "code",
   "execution_count": null,
   "id": "stuck-bunny",
   "metadata": {},
   "outputs": [],
   "source": [
    "history = model.fit(train_generator,\n",
    "                              steps_per_epoch=120,\n",
    "                              epochs=50,\n",
    "                              validation_data=validation_generator,\n",
    "                              validation_steps=40)"
   ]
  },
  {
   "cell_type": "markdown",
   "id": "fluid-greensboro",
   "metadata": {},
   "source": [
    "As you can see from the following figure, overfitting has almost disappeared. The training and validation accuracy stay approximately at the same level through the training. The performance is also somewhat better. Now we achieve a validation accuracy of 0.77."
   ]
  },
  {
   "cell_type": "code",
   "execution_count": null,
   "id": "sorted-zealand",
   "metadata": {},
   "outputs": [],
   "source": [
    "plt.style.use('bmh')\n",
    "acc = history.history['acc']\n",
    "val_acc = history.history['val_acc']\n",
    "loss = history.history['loss']\n",
    "val_loss = history.history['val_loss']\n",
    "epochs = range(1, len(acc) + 1)\n",
    "plt.plot(epochs, acc, 'r--', label='Training acc')\n",
    "plt.plot(epochs, val_acc, 'b--', label='Validation acc')\n",
    "plt.legend()\n",
    "plt.figure()\n",
    "plt.plot(epochs, loss, 'r--', label='Training loss')\n",
    "plt.plot(epochs, val_loss, 'b--', label='Validation loss')\n",
    "plt.legend()\n",
    "plt.show()"
   ]
  },
  {
   "cell_type": "markdown",
   "id": "liked-project",
   "metadata": {},
   "source": [
    "#### Pre-trained model"
   ]
  },
  {
   "cell_type": "markdown",
   "id": "union-cinema",
   "metadata": {},
   "source": [
    "Next thing that we could try is to use a pre-trained model that has its parameters already optimised using some other dataset. Usually, CNNs related to computer vision are pre-trained using Imagenet data (http://www.image-net.org/). It is a vast collection of labelled images.\n",
    "\n",
    "We add our own layers after the pre-trained architecture. As our pre-trained model, we use VGG16\n",
    "\n",
    "![VGG16](./images/vgg.png)\n",
    "\n",
    "VGG16 is included in the **keras.applications** -module"
   ]
  },
  {
   "cell_type": "code",
   "execution_count": null,
   "id": "optical-johns",
   "metadata": {},
   "outputs": [],
   "source": [
    "from tensorflow.keras.applications import VGG16"
   ]
  },
  {
   "cell_type": "markdown",
   "id": "checked-conversation",
   "metadata": {},
   "source": [
    "When we load the VGG16 model, we need to set **weights=imagenet** to get pre-trained parameter weights. **include_top=False** removes the output layer with 1000 neurons. We want our output layer to have only one neuron (prediction for dog/cat)."
   ]
  },
  {
   "cell_type": "code",
   "execution_count": null,
   "id": "herbal-paint",
   "metadata": {},
   "outputs": [],
   "source": [
    "pretrained_base = VGG16(weights='imagenet',include_top=False,input_shape=(150, 150, 3))"
   ]
  },
  {
   "cell_type": "markdown",
   "id": "recreational-finish",
   "metadata": {},
   "source": [
    "VGG16 has 14.7 million parameters without the last layer. It also has two or three convolutional layers in a row. Our previous models were switching between a convolutional layer and a max-pooling layer."
   ]
  },
  {
   "cell_type": "code",
   "execution_count": null,
   "id": "fleet-black",
   "metadata": {},
   "outputs": [],
   "source": [
    "pretrained_base.summary()"
   ]
  },
  {
   "cell_type": "code",
   "execution_count": null,
   "id": "technological-collection",
   "metadata": {},
   "outputs": [],
   "source": [
    "model = models.Sequential()"
   ]
  },
  {
   "cell_type": "markdown",
   "id": "perceived-silver",
   "metadata": {},
   "source": [
    "When we construct the model, we add the pre-trained VGG16-base first. Then follows a 256-neuron Dense-layer and a one-neuron output layer."
   ]
  },
  {
   "cell_type": "code",
   "execution_count": null,
   "id": "dress-horizontal",
   "metadata": {},
   "outputs": [],
   "source": [
    "model.add(pretrained_base)\n",
    "model.add(layers.Flatten())\n",
    "model.add(layers.Dense(256, activation='relu'))\n",
    "model.add(layers.Dense(1, activation='sigmoid'))"
   ]
  },
  {
   "cell_type": "markdown",
   "id": "formed-contrast",
   "metadata": {},
   "source": [
    "Overall, our model has almost 17 million parameters. However, we will lock the pre-trained VGG16 base, which will decrease the number of trainable parameters significantly."
   ]
  },
  {
   "cell_type": "code",
   "execution_count": null,
   "id": "computational-transsexual",
   "metadata": {},
   "outputs": [],
   "source": [
    "model.summary()"
   ]
  },
  {
   "cell_type": "markdown",
   "id": "improving-plastic",
   "metadata": {},
   "source": [
    "We want to use the pretrained Imagenet-weights, so, we lock the weights of the VGG16 -part."
   ]
  },
  {
   "cell_type": "code",
   "execution_count": null,
   "id": "lightweight-police",
   "metadata": {},
   "outputs": [],
   "source": [
    "pretrained_base.trainable = False"
   ]
  },
  {
   "cell_type": "markdown",
   "id": "missing-floor",
   "metadata": {},
   "source": [
    "Now there is \"only\" two million trainable parameters."
   ]
  },
  {
   "cell_type": "code",
   "execution_count": null,
   "id": "adaptive-relative",
   "metadata": {},
   "outputs": [],
   "source": [
    "model.summary()"
   ]
  },
  {
   "cell_type": "markdown",
   "id": "northern-evanescence",
   "metadata": {},
   "source": [
    "Again, we use the augmentation of the training dataset."
   ]
  },
  {
   "cell_type": "code",
   "execution_count": null,
   "id": "unexpected-london",
   "metadata": {},
   "outputs": [],
   "source": [
    "train_datagen = ImageDataGenerator(rescale=1./255,\n",
    "                                   rotation_range=40,\n",
    "                                   width_shift_range=0.2,\n",
    "                                   height_shift_range=0.2,\n",
    "                                   shear_range=0.2,\n",
    "                                   zoom_range=0.2,\n",
    "                                   horizontal_flip=True)"
   ]
  },
  {
   "cell_type": "code",
   "execution_count": null,
   "id": "silent-apartment",
   "metadata": {},
   "outputs": [],
   "source": [
    "validation_datagen = ImageDataGenerator(rescale=1./255)"
   ]
  },
  {
   "cell_type": "code",
   "execution_count": null,
   "id": "foster-dayton",
   "metadata": {},
   "outputs": [],
   "source": [
    "train_generator = train_datagen.flow_from_directory(os.path.join(base_dir,'train'),\n",
    "                                                    target_size=(150, 150),\n",
    "                                                    batch_size=25,\n",
    "                                                    class_mode='binary')"
   ]
  },
  {
   "cell_type": "code",
   "execution_count": null,
   "id": "diagnostic-receiver",
   "metadata": {},
   "outputs": [],
   "source": [
    "validation_generator = validation_datagen.flow_from_directory(os.path.join(base_dir,'validation'),\n",
    "                                                    target_size=(150, 150),\n",
    "                                                    batch_size=25,\n",
    "                                                    class_mode='binary')"
   ]
  },
  {
   "cell_type": "markdown",
   "id": "designed-relation",
   "metadata": {},
   "source": [
    "Compile- and fit-steps do not have anything new."
   ]
  },
  {
   "cell_type": "code",
   "execution_count": null,
   "id": "incorporate-contribution",
   "metadata": {},
   "outputs": [],
   "source": [
    "model.compile(loss='binary_crossentropy',optimizer=optimizers.RMSprop(),metrics=['acc'])"
   ]
  },
  {
   "cell_type": "code",
   "execution_count": null,
   "id": "hungry-drunk",
   "metadata": {},
   "outputs": [],
   "source": [
    "history = model.fit(train_generator,\n",
    "                              steps_per_epoch=120,\n",
    "                              epochs=30,\n",
    "                              validation_data=validation_generator,\n",
    "                              validation_steps=40)"
   ]
  },
  {
   "cell_type": "markdown",
   "id": "conditional-hobby",
   "metadata": {},
   "source": [
    "As you can see from the plots below, there is a small overfitting issue. The difference between the training accuracy and the validation accuracy increases slowly. However, the performance is excellent! Now our model can separate dogs from cats correctly 85 % of the time."
   ]
  },
  {
   "cell_type": "code",
   "execution_count": null,
   "id": "removable-kitty",
   "metadata": {},
   "outputs": [],
   "source": [
    "plt.style.use('bmh')\n",
    "acc = history.history['acc']\n",
    "val_acc = history.history['val_acc']\n",
    "loss = history.history['loss']\n",
    "val_loss = history.history['val_loss']\n",
    "epochs = range(1, len(acc) + 1)\n",
    "plt.plot(epochs, acc, 'r--', label='Training acc')\n",
    "plt.plot(epochs, val_acc, 'b--', label='Validation acc')\n",
    "plt.legend()\n",
    "plt.figure()\n",
    "plt.plot(epochs, loss, 'r--', label='Training loss')\n",
    "plt.plot(epochs, val_loss, 'b--', label='Validation loss')\n",
    "plt.legend()\n",
    "plt.show()"
   ]
  },
  {
   "cell_type": "markdown",
   "id": "chief-fault",
   "metadata": {},
   "source": [
    "#### Fine tuning"
   ]
  },
  {
   "cell_type": "markdown",
   "id": "driving-curtis",
   "metadata": {},
   "source": [
    "There is still (at least) one thing that we can do to improve our model. We can finetune our pre-trained VGG16 model by opening part of its' weights. As our VGG16 is now optimised for Imagenet data, the weights have information about features that are useful for many different types of images. By opening the last few layers of the model, we allow it to finetune those weights to features that are useful in separating dogs from cats in images.\n",
    "\n",
    "First, we need to make our VGG16 model trainable again."
   ]
  },
  {
   "cell_type": "code",
   "execution_count": null,
   "id": "classical-roads",
   "metadata": {},
   "outputs": [],
   "source": [
    "pretrained_base.trainable = True"
   ]
  },
  {
   "cell_type": "markdown",
   "id": "valid-marsh",
   "metadata": {},
   "source": [
    "Here is the summary of the VGG16 model again."
   ]
  },
  {
   "cell_type": "code",
   "execution_count": null,
   "id": "stable-maintenance",
   "metadata": {},
   "outputs": [],
   "source": [
    "pretrained_base.summary()"
   ]
  },
  {
   "cell_type": "markdown",
   "id": "reasonable-player",
   "metadata": {},
   "source": [
    "Let' lock everything else, but leave the layers of **block5** to be finetuned by our dogs/cats images. The following code will go through the VGG16 structure, lock everything until 'block4_pool' and leave layers after that trainable."
   ]
  },
  {
   "cell_type": "code",
   "execution_count": null,
   "id": "naughty-olive",
   "metadata": {},
   "outputs": [],
   "source": [
    "set_trainable = False\n",
    "for layer in pretrained_base.layers:\n",
    "    if layer.name == 'block5_conv1':\n",
    "        set_trainable = True\n",
    "    if set_trainable:\n",
    "        layer.trainable = True\n",
    "    else:\n",
    "        layer.trainable = False"
   ]
  },
  {
   "cell_type": "markdown",
   "id": "defined-tissue",
   "metadata": {},
   "source": [
    "There are over 9 million trainable parameters, which can probably cause overfitting, but let's see."
   ]
  },
  {
   "cell_type": "code",
   "execution_count": null,
   "id": "future-disability",
   "metadata": {},
   "outputs": [],
   "source": [
    "model.summary()"
   ]
  },
  {
   "cell_type": "code",
   "execution_count": null,
   "id": "verbal-liability",
   "metadata": {},
   "outputs": [],
   "source": [
    "model.compile(loss='binary_crossentropy',optimizer=optimizers.RMSprop(),metrics=['acc'])"
   ]
  },
  {
   "cell_type": "code",
   "execution_count": null,
   "id": "induced-lottery",
   "metadata": {},
   "outputs": [],
   "source": [
    "history = model.fit(train_generator,\n",
    "                              steps_per_epoch=120,\n",
    "                              epochs=30,\n",
    "                              validation_data=validation_generator,\n",
    "                              validation_steps=40)"
   ]
  },
  {
   "cell_type": "markdown",
   "id": "proof-installation",
   "metadata": {},
   "source": [
    "As you can see, overfitting starts to be an issue again. But our validation performance is outstanding! The model is correct 90 % of the time."
   ]
  },
  {
   "cell_type": "code",
   "execution_count": null,
   "id": "binary-optics",
   "metadata": {},
   "outputs": [],
   "source": [
    "plt.style.use('bmh')\n",
    "acc = history.history['acc']\n",
    "val_acc = history.history['val_acc']\n",
    "loss = history.history['loss']\n",
    "val_loss = history.history['val_loss']\n",
    "epochs = range(1, len(acc) + 1)\n",
    "plt.plot(epochs, acc, 'r--', label='Training acc')\n",
    "plt.plot(epochs, val_acc, 'b--', label='Validation acc')\n",
    "plt.legend()\n",
    "plt.figure()\n",
    "plt.plot(epochs, loss, 'r--', label='Training loss')\n",
    "plt.plot(epochs, val_loss, 'b--', label='Validation loss')\n",
    "plt.legend()\n",
    "plt.show()"
   ]
  },
  {
   "cell_type": "markdown",
   "id": "loaded-startup",
   "metadata": {},
   "source": [
    "As the last step, let's check the model's performance with the test set."
   ]
  },
  {
   "cell_type": "code",
   "execution_count": null,
   "id": "pending-potato",
   "metadata": {},
   "outputs": [],
   "source": [
    "test_datagen = ImageDataGenerator(rescale=1./255)"
   ]
  },
  {
   "cell_type": "code",
   "execution_count": null,
   "id": "initial-postage",
   "metadata": {},
   "outputs": [],
   "source": [
    "test_generator = test_datagen.flow_from_directory(os.path.join(base_dir,'test'),\n",
    "                                                    target_size=(150, 150),\n",
    "                                                    batch_size=25,\n",
    "                                                    class_mode='binary')"
   ]
  },
  {
   "cell_type": "code",
   "execution_count": null,
   "id": "palestinian-british",
   "metadata": {},
   "outputs": [],
   "source": [
    "model.evaluate(test_generator)"
   ]
  },
  {
   "cell_type": "markdown",
   "id": "manufactured-refrigerator",
   "metadata": {},
   "source": [
    "Our model is correct 90 % of the time!\n",
    "\n",
    "![thumbs](./images/thumbs.jpeg)"
   ]
  },
  {
   "cell_type": "code",
   "execution_count": null,
   "id": "grand-jacob",
   "metadata": {},
   "outputs": [],
   "source": []
  }
 ],
 "metadata": {
  "kernelspec": {
   "display_name": "Python 3",
   "language": "python",
   "name": "python3"
  },
  "language_info": {
   "codemirror_mode": {
    "name": "ipython",
    "version": 3
   },
   "file_extension": ".py",
   "mimetype": "text/x-python",
   "name": "python",
   "nbconvert_exporter": "python",
   "pygments_lexer": "ipython3",
   "version": "3.8.7"
  }
 },
 "nbformat": 4,
 "nbformat_minor": 5
}
